{
  "cells": [
    {
      "cell_type": "markdown",
      "metadata": {
        "id": "view-in-github",
        "colab_type": "text"
      },
      "source": [
        "<a href=\"https://colab.research.google.com/github/AlinaOtr/data/blob/master/bookings_of_hotels.ipynb\" target=\"_parent\"><img src=\"https://colab.research.google.com/assets/colab-badge.svg\" alt=\"Open In Colab\"/></a>"
      ]
    },
    {
      "cell_type": "code",
      "execution_count": null,
      "id": "e8301a1b",
      "metadata": {
        "id": "e8301a1b"
      },
      "outputs": [],
      "source": [
        "import pandas as pd"
      ]
    },
    {
      "cell_type": "code",
      "execution_count": null,
      "id": "ede3474c",
      "metadata": {
        "id": "ede3474c"
      },
      "outputs": [],
      "source": [
        "df = pd.read_csv('https://stepik.org/media/attachments/lesson/360344/bookings.csv', sep = ';')"
      ]
    },
    {
      "cell_type": "code",
      "execution_count": null,
      "id": "2ae3c096",
      "metadata": {
        "id": "2ae3c096",
        "outputId": "9cf89067-701d-439d-e558-01c54f0a1813"
      },
      "outputs": [
        {
          "data": {
            "text/plain": [
              "(119390, 21)"
            ]
          },
          "execution_count": 4,
          "metadata": {},
          "output_type": "execute_result"
        }
      ],
      "source": [
        "df.shape"
      ]
    },
    {
      "cell_type": "code",
      "execution_count": null,
      "id": "8b818b9a",
      "metadata": {
        "id": "8b818b9a",
        "outputId": "6911c7f1-5bce-4aaf-8d13-da77ade7a408"
      },
      "outputs": [
        {
          "data": {
            "text/plain": [
              "object     10\n",
              "int64      10\n",
              "float64     1\n",
              "dtype: int64"
            ]
          },
          "execution_count": 4,
          "metadata": {},
          "output_type": "execute_result"
        }
      ],
      "source": [
        "df.dtypes.value_counts()"
      ]
    },
    {
      "cell_type": "code",
      "execution_count": null,
      "id": "02ac7df7",
      "metadata": {
        "id": "02ac7df7",
        "outputId": "94c89765-31c3-46ca-d015-6020953b723d"
      },
      "outputs": [
        {
          "data": {
            "text/html": [
              "<div>\n",
              "<style scoped>\n",
              "    .dataframe tbody tr th:only-of-type {\n",
              "        vertical-align: middle;\n",
              "    }\n",
              "\n",
              "    .dataframe tbody tr th {\n",
              "        vertical-align: top;\n",
              "    }\n",
              "\n",
              "    .dataframe thead th {\n",
              "        text-align: right;\n",
              "    }\n",
              "</style>\n",
              "<table border=\"1\" class=\"dataframe\">\n",
              "  <thead>\n",
              "    <tr style=\"text-align: right;\">\n",
              "      <th></th>\n",
              "      <th>Hotel</th>\n",
              "      <th>Is Canceled</th>\n",
              "      <th>Lead Time</th>\n",
              "      <th>arrival full date</th>\n",
              "      <th>Arrival Date Year</th>\n",
              "      <th>Arrival Date Month</th>\n",
              "      <th>Arrival Date Week Number</th>\n",
              "      <th>Arrival Date Day of Month</th>\n",
              "      <th>Stays in Weekend nights</th>\n",
              "      <th>Stays in week nights</th>\n",
              "      <th>...</th>\n",
              "      <th>Adults</th>\n",
              "      <th>Children</th>\n",
              "      <th>Babies</th>\n",
              "      <th>Meal</th>\n",
              "      <th>Country</th>\n",
              "      <th>Reserved Room Type</th>\n",
              "      <th>Assigned room type</th>\n",
              "      <th>customer type</th>\n",
              "      <th>Reservation Status</th>\n",
              "      <th>Reservation status_date</th>\n",
              "    </tr>\n",
              "  </thead>\n",
              "  <tbody>\n",
              "    <tr>\n",
              "      <th>0</th>\n",
              "      <td>Resort Hotel</td>\n",
              "      <td>0</td>\n",
              "      <td>342</td>\n",
              "      <td>2015-07-01</td>\n",
              "      <td>2015</td>\n",
              "      <td>July</td>\n",
              "      <td>27</td>\n",
              "      <td>1</td>\n",
              "      <td>0</td>\n",
              "      <td>0</td>\n",
              "      <td>...</td>\n",
              "      <td>2</td>\n",
              "      <td>0.0</td>\n",
              "      <td>0</td>\n",
              "      <td>BB</td>\n",
              "      <td>PRT</td>\n",
              "      <td>C</td>\n",
              "      <td>C</td>\n",
              "      <td>Transient</td>\n",
              "      <td>Check-Out</td>\n",
              "      <td>2015-07-01</td>\n",
              "    </tr>\n",
              "    <tr>\n",
              "      <th>1</th>\n",
              "      <td>Resort Hotel</td>\n",
              "      <td>0</td>\n",
              "      <td>737</td>\n",
              "      <td>2015-07-01</td>\n",
              "      <td>2015</td>\n",
              "      <td>July</td>\n",
              "      <td>27</td>\n",
              "      <td>1</td>\n",
              "      <td>0</td>\n",
              "      <td>0</td>\n",
              "      <td>...</td>\n",
              "      <td>2</td>\n",
              "      <td>0.0</td>\n",
              "      <td>0</td>\n",
              "      <td>BB</td>\n",
              "      <td>PRT</td>\n",
              "      <td>C</td>\n",
              "      <td>C</td>\n",
              "      <td>Transient</td>\n",
              "      <td>Check-Out</td>\n",
              "      <td>2015-07-01</td>\n",
              "    </tr>\n",
              "    <tr>\n",
              "      <th>2</th>\n",
              "      <td>Resort Hotel</td>\n",
              "      <td>0</td>\n",
              "      <td>7</td>\n",
              "      <td>2015-07-01</td>\n",
              "      <td>2015</td>\n",
              "      <td>July</td>\n",
              "      <td>27</td>\n",
              "      <td>1</td>\n",
              "      <td>0</td>\n",
              "      <td>1</td>\n",
              "      <td>...</td>\n",
              "      <td>1</td>\n",
              "      <td>0.0</td>\n",
              "      <td>0</td>\n",
              "      <td>BB</td>\n",
              "      <td>GBR</td>\n",
              "      <td>A</td>\n",
              "      <td>C</td>\n",
              "      <td>Transient</td>\n",
              "      <td>Check-Out</td>\n",
              "      <td>2015-07-02</td>\n",
              "    </tr>\n",
              "    <tr>\n",
              "      <th>3</th>\n",
              "      <td>Resort Hotel</td>\n",
              "      <td>0</td>\n",
              "      <td>13</td>\n",
              "      <td>2015-07-01</td>\n",
              "      <td>2015</td>\n",
              "      <td>July</td>\n",
              "      <td>27</td>\n",
              "      <td>1</td>\n",
              "      <td>0</td>\n",
              "      <td>1</td>\n",
              "      <td>...</td>\n",
              "      <td>1</td>\n",
              "      <td>0.0</td>\n",
              "      <td>0</td>\n",
              "      <td>BB</td>\n",
              "      <td>GBR</td>\n",
              "      <td>A</td>\n",
              "      <td>A</td>\n",
              "      <td>Transient</td>\n",
              "      <td>Check-Out</td>\n",
              "      <td>2015-07-02</td>\n",
              "    </tr>\n",
              "    <tr>\n",
              "      <th>4</th>\n",
              "      <td>Resort Hotel</td>\n",
              "      <td>0</td>\n",
              "      <td>14</td>\n",
              "      <td>2015-07-01</td>\n",
              "      <td>2015</td>\n",
              "      <td>July</td>\n",
              "      <td>27</td>\n",
              "      <td>1</td>\n",
              "      <td>0</td>\n",
              "      <td>2</td>\n",
              "      <td>...</td>\n",
              "      <td>2</td>\n",
              "      <td>0.0</td>\n",
              "      <td>0</td>\n",
              "      <td>BB</td>\n",
              "      <td>GBR</td>\n",
              "      <td>A</td>\n",
              "      <td>A</td>\n",
              "      <td>Transient</td>\n",
              "      <td>Check-Out</td>\n",
              "      <td>2015-07-03</td>\n",
              "    </tr>\n",
              "    <tr>\n",
              "      <th>5</th>\n",
              "      <td>Resort Hotel</td>\n",
              "      <td>0</td>\n",
              "      <td>14</td>\n",
              "      <td>2015-07-01</td>\n",
              "      <td>2015</td>\n",
              "      <td>July</td>\n",
              "      <td>27</td>\n",
              "      <td>1</td>\n",
              "      <td>0</td>\n",
              "      <td>2</td>\n",
              "      <td>...</td>\n",
              "      <td>2</td>\n",
              "      <td>0.0</td>\n",
              "      <td>0</td>\n",
              "      <td>BB</td>\n",
              "      <td>GBR</td>\n",
              "      <td>A</td>\n",
              "      <td>A</td>\n",
              "      <td>Transient</td>\n",
              "      <td>Check-Out</td>\n",
              "      <td>2015-07-03</td>\n",
              "    </tr>\n",
              "    <tr>\n",
              "      <th>6</th>\n",
              "      <td>Resort Hotel</td>\n",
              "      <td>0</td>\n",
              "      <td>0</td>\n",
              "      <td>2015-07-01</td>\n",
              "      <td>2015</td>\n",
              "      <td>July</td>\n",
              "      <td>27</td>\n",
              "      <td>1</td>\n",
              "      <td>0</td>\n",
              "      <td>2</td>\n",
              "      <td>...</td>\n",
              "      <td>2</td>\n",
              "      <td>0.0</td>\n",
              "      <td>0</td>\n",
              "      <td>BB</td>\n",
              "      <td>PRT</td>\n",
              "      <td>C</td>\n",
              "      <td>C</td>\n",
              "      <td>Transient</td>\n",
              "      <td>Check-Out</td>\n",
              "      <td>2015-07-03</td>\n",
              "    </tr>\n",
              "  </tbody>\n",
              "</table>\n",
              "<p>7 rows × 21 columns</p>\n",
              "</div>"
            ],
            "text/plain": [
              "          Hotel  Is Canceled  Lead Time arrival full date  Arrival Date Year  \\\n",
              "0  Resort Hotel            0        342        2015-07-01               2015   \n",
              "1  Resort Hotel            0        737        2015-07-01               2015   \n",
              "2  Resort Hotel            0          7        2015-07-01               2015   \n",
              "3  Resort Hotel            0         13        2015-07-01               2015   \n",
              "4  Resort Hotel            0         14        2015-07-01               2015   \n",
              "5  Resort Hotel            0         14        2015-07-01               2015   \n",
              "6  Resort Hotel            0          0        2015-07-01               2015   \n",
              "\n",
              "  Arrival Date Month  Arrival Date Week Number  Arrival Date Day of Month  \\\n",
              "0               July                        27                          1   \n",
              "1               July                        27                          1   \n",
              "2               July                        27                          1   \n",
              "3               July                        27                          1   \n",
              "4               July                        27                          1   \n",
              "5               July                        27                          1   \n",
              "6               July                        27                          1   \n",
              "\n",
              "   Stays in Weekend nights  Stays in week nights  ...  Adults  Children  \\\n",
              "0                        0                     0  ...       2       0.0   \n",
              "1                        0                     0  ...       2       0.0   \n",
              "2                        0                     1  ...       1       0.0   \n",
              "3                        0                     1  ...       1       0.0   \n",
              "4                        0                     2  ...       2       0.0   \n",
              "5                        0                     2  ...       2       0.0   \n",
              "6                        0                     2  ...       2       0.0   \n",
              "\n",
              "   Babies  Meal Country Reserved Room Type Assigned room type customer type  \\\n",
              "0       0    BB     PRT                  C                  C     Transient   \n",
              "1       0    BB     PRT                  C                  C     Transient   \n",
              "2       0    BB     GBR                  A                  C     Transient   \n",
              "3       0    BB     GBR                  A                  A     Transient   \n",
              "4       0    BB     GBR                  A                  A     Transient   \n",
              "5       0    BB     GBR                  A                  A     Transient   \n",
              "6       0    BB     PRT                  C                  C     Transient   \n",
              "\n",
              "  Reservation Status Reservation status_date  \n",
              "0          Check-Out              2015-07-01  \n",
              "1          Check-Out              2015-07-01  \n",
              "2          Check-Out              2015-07-02  \n",
              "3          Check-Out              2015-07-02  \n",
              "4          Check-Out              2015-07-03  \n",
              "5          Check-Out              2015-07-03  \n",
              "6          Check-Out              2015-07-03  \n",
              "\n",
              "[7 rows x 21 columns]"
            ]
          },
          "execution_count": 5,
          "metadata": {},
          "output_type": "execute_result"
        }
      ],
      "source": [
        "df.head(7)"
      ]
    },
    {
      "cell_type": "code",
      "execution_count": null,
      "id": "9c5348a6",
      "metadata": {
        "id": "9c5348a6",
        "outputId": "8cc52f9e-092e-4362-949d-73ddab81a536"
      },
      "outputs": [
        {
          "data": {
            "text/plain": [
              "Hotel                          0\n",
              "Is Canceled                    0\n",
              "Lead Time                      0\n",
              "arrival full date              0\n",
              "Arrival Date Year              0\n",
              "Arrival Date Month             0\n",
              "Arrival Date Week Number       0\n",
              "Arrival Date Day of Month      0\n",
              "Stays in Weekend nights        0\n",
              "Stays in week nights           0\n",
              "stays total nights             0\n",
              "Adults                         0\n",
              "Children                       4\n",
              "Babies                         0\n",
              "Meal                           0\n",
              "Country                      488\n",
              "Reserved Room Type             0\n",
              "Assigned room type             0\n",
              "customer type                  0\n",
              "Reservation Status             0\n",
              "Reservation status_date        0\n",
              "dtype: int64"
            ]
          },
          "execution_count": 6,
          "metadata": {},
          "output_type": "execute_result"
        }
      ],
      "source": [
        "df.isna().sum()"
      ]
    },
    {
      "cell_type": "code",
      "execution_count": null,
      "id": "fd51336b",
      "metadata": {
        "id": "fd51336b"
      },
      "outputs": [],
      "source": [
        "def rename_columns(name):\n",
        "    newname = name.lower().replace(' ', '_')\n",
        "    return newname"
      ]
    },
    {
      "cell_type": "code",
      "execution_count": null,
      "id": "2010d173",
      "metadata": {
        "id": "2010d173"
      },
      "outputs": [],
      "source": [
        "df = df.rename(columns = rename_columns)"
      ]
    },
    {
      "cell_type": "code",
      "execution_count": null,
      "id": "4edce5ed",
      "metadata": {
        "id": "4edce5ed",
        "outputId": "96304e73-8382-48dc-d640-41e647285214"
      },
      "outputs": [
        {
          "data": {
            "text/plain": [
              "Index(['hotel', 'is_canceled', 'lead_time', 'arrival_full_date',\n",
              "       'arrival_date_year', 'arrival_date_month', 'arrival_date_week_number',\n",
              "       'arrival_date_day_of_month', 'stays_in_weekend_nights',\n",
              "       'stays_in_week_nights', 'stays_total_nights', 'adults', 'children',\n",
              "       'babies', 'meal', 'country', 'reserved_room_type', 'assigned_room_type',\n",
              "       'customer_type', 'reservation_status', 'reservation_status_date'],\n",
              "      dtype='object')"
            ]
          },
          "execution_count": 9,
          "metadata": {},
          "output_type": "execute_result"
        }
      ],
      "source": [
        "df.columns"
      ]
    },
    {
      "cell_type": "markdown",
      "id": "e101a151",
      "metadata": {
        "id": "e101a151"
      },
      "source": [
        "Определим топ-5 стран, в которых совершили наибольшее число успешных бронирований"
      ]
    },
    {
      "cell_type": "code",
      "execution_count": null,
      "id": "a18fa42d",
      "metadata": {
        "id": "a18fa42d",
        "outputId": "369cf89b-8bfd-4b58-ffb7-dde77e822769"
      },
      "outputs": [
        {
          "data": {
            "text/plain": [
              "PRT    21071\n",
              "GBR     9676\n",
              "FRA     8481\n",
              "ESP     6391\n",
              "DEU     6069\n",
              "Name: country, dtype: int64"
            ]
          },
          "execution_count": 10,
          "metadata": {},
          "output_type": "execute_result"
        }
      ],
      "source": [
        "df.query('is_canceled == 0') \\\n",
        "    .country.value_counts() \\\n",
        "    .head()"
      ]
    },
    {
      "cell_type": "markdown",
      "id": "c5d50ca5",
      "metadata": {
        "id": "c5d50ca5"
      },
      "source": [
        "Определим, на сколько ночей в среднем остаются в разных типах отелей"
      ]
    },
    {
      "cell_type": "code",
      "execution_count": null,
      "id": "c475dcfe",
      "metadata": {
        "id": "c475dcfe",
        "outputId": "07b7376b-c10d-45a7-a0ce-ec33d07698d6"
      },
      "outputs": [
        {
          "data": {
            "text/html": [
              "<div>\n",
              "<style scoped>\n",
              "    .dataframe tbody tr th:only-of-type {\n",
              "        vertical-align: middle;\n",
              "    }\n",
              "\n",
              "    .dataframe tbody tr th {\n",
              "        vertical-align: top;\n",
              "    }\n",
              "\n",
              "    .dataframe thead th {\n",
              "        text-align: right;\n",
              "    }\n",
              "</style>\n",
              "<table border=\"1\" class=\"dataframe\">\n",
              "  <thead>\n",
              "    <tr style=\"text-align: right;\">\n",
              "      <th></th>\n",
              "      <th>hotel</th>\n",
              "      <th>stays_total_nights</th>\n",
              "    </tr>\n",
              "  </thead>\n",
              "  <tbody>\n",
              "    <tr>\n",
              "      <th>0</th>\n",
              "      <td>City Hotel</td>\n",
              "      <td>2.98</td>\n",
              "    </tr>\n",
              "    <tr>\n",
              "      <th>1</th>\n",
              "      <td>Resort Hotel</td>\n",
              "      <td>4.32</td>\n",
              "    </tr>\n",
              "  </tbody>\n",
              "</table>\n",
              "</div>"
            ],
            "text/plain": [
              "          hotel  stays_total_nights\n",
              "0    City Hotel                2.98\n",
              "1  Resort Hotel                4.32"
            ]
          },
          "execution_count": 11,
          "metadata": {},
          "output_type": "execute_result"
        }
      ],
      "source": [
        "df.groupby('hotel', as_index = False).agg({'stays_total_nights': 'mean'}).round(2)"
      ]
    },
    {
      "cell_type": "code",
      "execution_count": null,
      "id": "1c4f2553",
      "metadata": {
        "id": "1c4f2553",
        "outputId": "208305b2-deaa-4693-fb29-92ea4fbc4b8f"
      },
      "outputs": [
        {
          "data": {
            "text/plain": [
              "14917"
            ]
          },
          "execution_count": 12,
          "metadata": {},
          "output_type": "execute_result"
        }
      ],
      "source": [
        "df.query('assigned_room_type != reserved_room_type').shape[0]"
      ]
    },
    {
      "cell_type": "markdown",
      "id": "51d283ee",
      "metadata": {
        "id": "51d283ee"
      },
      "source": [
        "В датасете встретилось 14 917 наблюдений, когда тип номера, полученного клиентом, отличался от изначально забронированного:"
      ]
    },
    {
      "cell_type": "code",
      "execution_count": null,
      "id": "3a9b657e",
      "metadata": {
        "id": "3a9b657e",
        "outputId": "6b27b65d-e6df-41c8-a48c-684d05b00e2a"
      },
      "outputs": [
        {
          "data": {
            "text/plain": [
              "arrival_date_year  arrival_date_month\n",
              "2015               October               3225\n",
              "                   September             3020\n",
              "                   August                2291\n",
              "                   December              1947\n",
              "                   November              1854\n",
              "                   July                  1517\n",
              "2016               October               3689\n",
              "                   May                   3563\n",
              "                   September             3372\n",
              "                   April                 3367\n",
              "                   March                 3347\n",
              "                   August                3238\n",
              "                   June                  3196\n",
              "                   July                  3073\n",
              "                   November              2818\n",
              "                   February              2554\n",
              "                   December              2462\n",
              "                   January               1691\n",
              "2017               May                   3551\n",
              "                   July                  3329\n",
              "                   March                 3298\n",
              "                   June                  3208\n",
              "                   April                 3198\n",
              "                   August                3109\n",
              "                   February              2818\n",
              "                   January               2431\n",
              "Name: arrival_date_month, dtype: int64"
            ]
          },
          "execution_count": 13,
          "metadata": {},
          "output_type": "execute_result"
        }
      ],
      "source": [
        "df.query('is_canceled == 0') \\\n",
        "         .groupby('arrival_date_year') \\\n",
        "        .arrival_date_month.value_counts()"
      ]
    },
    {
      "cell_type": "markdown",
      "id": "531b79c4",
      "metadata": {
        "id": "531b79c4"
      },
      "source": [
        "Из полученных данных видно, что в 2015 и 2016 годах чаще всего оформляли бронирование на октябрь, а в 2017 - на май, при этом успешных бронирований на октябрь в 2017 году не было"
      ]
    },
    {
      "cell_type": "code",
      "execution_count": null,
      "id": "e09b4fef",
      "metadata": {
        "id": "e09b4fef",
        "outputId": "90840034-8f9c-4932-f18c-5f029593c1ba"
      },
      "outputs": [
        {
          "data": {
            "text/plain": [
              "arrival_date_year  arrival_date_month\n",
              "2015               September             1543\n",
              "                   October               1321\n",
              "                   August                1232\n",
              "                   July                   939\n",
              "                   December               668\n",
              "                   November               301\n",
              "2016               October               1947\n",
              "                   June                  1720\n",
              "                   September             1567\n",
              "                   April                 1539\n",
              "                   May                   1436\n",
              "                   November              1360\n",
              "                   August                1247\n",
              "                   March                 1108\n",
              "                   December              1072\n",
              "                   July                  1043\n",
              "                   February               930\n",
              "                   January                438\n",
              "2017               May                   2217\n",
              "                   April                 1926\n",
              "                   June                  1808\n",
              "                   July                  1324\n",
              "                   March                 1278\n",
              "                   August                1123\n",
              "                   January               1044\n",
              "                   February               971\n",
              "Name: arrival_date_month, dtype: int64"
            ]
          },
          "execution_count": 14,
          "metadata": {},
          "output_type": "execute_result"
        }
      ],
      "source": [
        "df.query('is_canceled == 1 and hotel == \"City Hotel\"'). \\\n",
        "    groupby('arrival_date_year'). \\\n",
        "    arrival_date_month.value_counts()"
      ]
    },
    {
      "cell_type": "markdown",
      "id": "797c9fa7",
      "metadata": {
        "id": "797c9fa7"
      },
      "source": [
        "Бронирования отеля типа City Hotel в 2015 году отменялись чаще всего в сентябре, в 2016 году - в октябре, а в 2017 году - в мае"
      ]
    },
    {
      "cell_type": "code",
      "execution_count": null,
      "id": "2575a07e",
      "metadata": {
        "id": "2575a07e",
        "outputId": "155172ca-26fa-41df-b0d0-b154f315d9a5"
      },
      "outputs": [
        {
          "data": {
            "text/plain": [
              "adults      1.86\n",
              "children    0.10\n",
              "babies      0.01\n",
              "dtype: float64"
            ]
          },
          "execution_count": 24,
          "metadata": {},
          "output_type": "execute_result"
        }
      ],
      "source": [
        "df[['adults', 'children', 'babies']].mean().round(2)"
      ]
    },
    {
      "cell_type": "code",
      "execution_count": null,
      "id": "4217744b",
      "metadata": {
        "id": "4217744b"
      },
      "outputs": [],
      "source": [
        "df['total_kids'] = df['children'] + df['babies']"
      ]
    },
    {
      "cell_type": "code",
      "execution_count": null,
      "id": "474d714b",
      "metadata": {
        "id": "474d714b",
        "outputId": "fde42ced-bdf7-4659-e61e-1eced17326ac"
      },
      "outputs": [
        {
          "data": {
            "text/html": [
              "<div>\n",
              "<style scoped>\n",
              "    .dataframe tbody tr th:only-of-type {\n",
              "        vertical-align: middle;\n",
              "    }\n",
              "\n",
              "    .dataframe tbody tr th {\n",
              "        vertical-align: top;\n",
              "    }\n",
              "\n",
              "    .dataframe thead th {\n",
              "        text-align: right;\n",
              "    }\n",
              "</style>\n",
              "<table border=\"1\" class=\"dataframe\">\n",
              "  <thead>\n",
              "    <tr style=\"text-align: right;\">\n",
              "      <th></th>\n",
              "      <th>hotel</th>\n",
              "      <th>total_kids</th>\n",
              "    </tr>\n",
              "  </thead>\n",
              "  <tbody>\n",
              "    <tr>\n",
              "      <th>0</th>\n",
              "      <td>City Hotel</td>\n",
              "      <td>0.10</td>\n",
              "    </tr>\n",
              "    <tr>\n",
              "      <th>1</th>\n",
              "      <td>Resort Hotel</td>\n",
              "      <td>0.14</td>\n",
              "    </tr>\n",
              "  </tbody>\n",
              "</table>\n",
              "</div>"
            ],
            "text/plain": [
              "          hotel  total_kids\n",
              "0    City Hotel        0.10\n",
              "1  Resort Hotel        0.14"
            ]
          },
          "execution_count": 29,
          "metadata": {},
          "output_type": "execute_result"
        }
      ],
      "source": [
        "df.groupby('hotel', as_index = False) \\\n",
        "    .agg({'total_kids': 'mean'}) \\\n",
        "    .round(decimals = 2)"
      ]
    },
    {
      "cell_type": "markdown",
      "id": "b8503aa2",
      "metadata": {
        "id": "b8503aa2"
      },
      "source": [
        "Отели типа Resort Hotel пользуются большей популярностью у клиентов с детьми"
      ]
    },
    {
      "cell_type": "code",
      "execution_count": null,
      "id": "65927313",
      "metadata": {
        "id": "65927313"
      },
      "outputs": [],
      "source": [
        "df['has_kids'] = df['total_kids'] > 0"
      ]
    },
    {
      "cell_type": "code",
      "execution_count": null,
      "id": "1d609e75",
      "metadata": {
        "id": "1d609e75",
        "outputId": "364e10f1-f94a-42c0-c21b-08b84059d4a1"
      },
      "outputs": [
        {
          "data": {
            "text/plain": [
              "34.92"
            ]
          },
          "execution_count": 22,
          "metadata": {},
          "output_type": "execute_result"
        }
      ],
      "source": [
        "round(df.query('is_canceled == 1 and has_kids == True').shape[0] / df.query('has_kids == True').shape[0] * 100, 2)"
      ]
    },
    {
      "cell_type": "markdown",
      "id": "49f96e94",
      "metadata": {
        "id": "49f96e94"
      },
      "source": [
        "34,92% клиентов с детьми отменяли бронирование"
      ]
    },
    {
      "cell_type": "code",
      "execution_count": null,
      "id": "4416055e",
      "metadata": {
        "id": "4416055e",
        "outputId": "920296cb-cad0-43cf-a0f7-d88d461c4cc1"
      },
      "outputs": [
        {
          "data": {
            "text/plain": [
              "37.22"
            ]
          },
          "execution_count": 23,
          "metadata": {},
          "output_type": "execute_result"
        }
      ],
      "source": [
        "round(df.query('is_canceled == 1 and has_kids == False').shape[0] / df.query('has_kids == False').shape[0] * 100, 2)"
      ]
    },
    {
      "cell_type": "markdown",
      "id": "5793f945",
      "metadata": {
        "id": "5793f945"
      },
      "source": [
        "37,22% клинетов без детей отменили бронирование"
      ]
    }
  ],
  "metadata": {
    "kernelspec": {
      "display_name": "Python 3 (ipykernel)",
      "language": "python",
      "name": "python3"
    },
    "language_info": {
      "codemirror_mode": {
        "name": "ipython",
        "version": 3
      },
      "file_extension": ".py",
      "mimetype": "text/x-python",
      "name": "python",
      "nbconvert_exporter": "python",
      "pygments_lexer": "ipython3",
      "version": "3.9.7"
    },
    "colab": {
      "name": "bookings_of_hotels.ipynb",
      "provenance": [],
      "include_colab_link": true
    }
  },
  "nbformat": 4,
  "nbformat_minor": 5
}