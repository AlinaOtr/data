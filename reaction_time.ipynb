{
  "nbformat": 4,
  "nbformat_minor": 0,
  "metadata": {
    "colab": {
      "name": "reaction_time.ipynb",
      "provenance": [],
      "collapsed_sections": [],
      "authorship_tag": "ABX9TyNCXichg020zxky8wvY88qn",
      "include_colab_link": true
    },
    "kernelspec": {
      "name": "python3",
      "display_name": "Python 3"
    },
    "language_info": {
      "name": "python"
    }
  },
  "cells": [
    {
      "cell_type": "markdown",
      "metadata": {
        "id": "view-in-github",
        "colab_type": "text"
      },
      "source": [
        "<a href=\"https://colab.research.google.com/github/AlinaOtr/data/blob/master/reaction_time.ipynb\" target=\"_parent\"><img src=\"https://colab.research.google.com/assets/colab-badge.svg\" alt=\"Open In Colab\"/></a>"
      ]
    },
    {
      "cell_type": "markdown",
      "source": [
        "# Задание\n",
        "Имеются данные по обработке заявок на консультацию телемаркетинга по заполнению анкеты за определенный период. У каждой заявки есть время её поступления, время взятия заявки оператором. В подразделении отслеживается показатель времени реакции по заявке (насколько быстро телемаркетинг перезванивает клиенту). Целевой уровень реакции – 5 минут.  \n",
        "Каково среднее время реакции для выбранного периода?  \n",
        "Как бы вы оценили выполнение показателя целевого времени реакции: выполняется или нет и почему?  \n",
        "Какое значение времени реакции лучше использовать для дальнейшего анализа и моделирования процессов подразделения?"
      ],
      "metadata": {
        "id": "DX_dpgkJKqfX"
      }
    },
    {
      "cell_type": "code",
      "execution_count": 17,
      "metadata": {
        "id": "Yq7xmqlTGQ1e"
      },
      "outputs": [],
      "source": [
        "import pandas as pd\n",
        "import datetime\n",
        "import seaborn as sns\n",
        "import matplotlib.pyplot as plt\n",
        "%matplotlib inline"
      ]
    },
    {
      "cell_type": "code",
      "source": [
        "url='https://drive.google.com/file/d/1IQNgSyexlJWkZ1DVci2v-zz0OmU21qaS/view?usp=sharing'\n",
        "url='https://drive.google.com/uc?id=' + url.split('/')[-2]\n",
        "df = pd.read_csv(url, sep = ';', encoding = 'Windows-1251')"
      ],
      "metadata": {
        "id": "Zj9LYoE3Zmj7"
      },
      "execution_count": 18,
      "outputs": []
    },
    {
      "cell_type": "code",
      "source": [
        "df.head()"
      ],
      "metadata": {
        "colab": {
          "base_uri": "https://localhost:8080/",
          "height": 206
        },
        "id": "3-cyyXqNZ5p4",
        "outputId": "9da96085-ac38-404a-b5ca-86f0eeb18531"
      },
      "execution_count": 19,
      "outputs": [
        {
          "output_type": "execute_result",
          "data": {
            "text/plain": [
              "         День       Поступление            Взятие\n",
              "0  01.12.2021  01.12.2021 10:07  01.12.2021 10:22\n",
              "1  01.12.2021  01.12.2021 12:19  01.12.2021 14:04\n",
              "2  01.12.2021   01.12.2021 8:50   01.12.2021 8:56\n",
              "3  01.12.2021  01.12.2021 10:34  01.12.2021 10:37\n",
              "4  01.12.2021   01.12.2021 9:32   01.12.2021 9:40"
            ],
            "text/html": [
              "\n",
              "  <div id=\"df-ed9208a4-5f4d-4cd0-b479-bd41fb3d6e84\">\n",
              "    <div class=\"colab-df-container\">\n",
              "      <div>\n",
              "<style scoped>\n",
              "    .dataframe tbody tr th:only-of-type {\n",
              "        vertical-align: middle;\n",
              "    }\n",
              "\n",
              "    .dataframe tbody tr th {\n",
              "        vertical-align: top;\n",
              "    }\n",
              "\n",
              "    .dataframe thead th {\n",
              "        text-align: right;\n",
              "    }\n",
              "</style>\n",
              "<table border=\"1\" class=\"dataframe\">\n",
              "  <thead>\n",
              "    <tr style=\"text-align: right;\">\n",
              "      <th></th>\n",
              "      <th>День</th>\n",
              "      <th>Поступление</th>\n",
              "      <th>Взятие</th>\n",
              "    </tr>\n",
              "  </thead>\n",
              "  <tbody>\n",
              "    <tr>\n",
              "      <th>0</th>\n",
              "      <td>01.12.2021</td>\n",
              "      <td>01.12.2021 10:07</td>\n",
              "      <td>01.12.2021 10:22</td>\n",
              "    </tr>\n",
              "    <tr>\n",
              "      <th>1</th>\n",
              "      <td>01.12.2021</td>\n",
              "      <td>01.12.2021 12:19</td>\n",
              "      <td>01.12.2021 14:04</td>\n",
              "    </tr>\n",
              "    <tr>\n",
              "      <th>2</th>\n",
              "      <td>01.12.2021</td>\n",
              "      <td>01.12.2021 8:50</td>\n",
              "      <td>01.12.2021 8:56</td>\n",
              "    </tr>\n",
              "    <tr>\n",
              "      <th>3</th>\n",
              "      <td>01.12.2021</td>\n",
              "      <td>01.12.2021 10:34</td>\n",
              "      <td>01.12.2021 10:37</td>\n",
              "    </tr>\n",
              "    <tr>\n",
              "      <th>4</th>\n",
              "      <td>01.12.2021</td>\n",
              "      <td>01.12.2021 9:32</td>\n",
              "      <td>01.12.2021 9:40</td>\n",
              "    </tr>\n",
              "  </tbody>\n",
              "</table>\n",
              "</div>\n",
              "      <button class=\"colab-df-convert\" onclick=\"convertToInteractive('df-ed9208a4-5f4d-4cd0-b479-bd41fb3d6e84')\"\n",
              "              title=\"Convert this dataframe to an interactive table.\"\n",
              "              style=\"display:none;\">\n",
              "        \n",
              "  <svg xmlns=\"http://www.w3.org/2000/svg\" height=\"24px\"viewBox=\"0 0 24 24\"\n",
              "       width=\"24px\">\n",
              "    <path d=\"M0 0h24v24H0V0z\" fill=\"none\"/>\n",
              "    <path d=\"M18.56 5.44l.94 2.06.94-2.06 2.06-.94-2.06-.94-.94-2.06-.94 2.06-2.06.94zm-11 1L8.5 8.5l.94-2.06 2.06-.94-2.06-.94L8.5 2.5l-.94 2.06-2.06.94zm10 10l.94 2.06.94-2.06 2.06-.94-2.06-.94-.94-2.06-.94 2.06-2.06.94z\"/><path d=\"M17.41 7.96l-1.37-1.37c-.4-.4-.92-.59-1.43-.59-.52 0-1.04.2-1.43.59L10.3 9.45l-7.72 7.72c-.78.78-.78 2.05 0 2.83L4 21.41c.39.39.9.59 1.41.59.51 0 1.02-.2 1.41-.59l7.78-7.78 2.81-2.81c.8-.78.8-2.07 0-2.86zM5.41 20L4 18.59l7.72-7.72 1.47 1.35L5.41 20z\"/>\n",
              "  </svg>\n",
              "      </button>\n",
              "      \n",
              "  <style>\n",
              "    .colab-df-container {\n",
              "      display:flex;\n",
              "      flex-wrap:wrap;\n",
              "      gap: 12px;\n",
              "    }\n",
              "\n",
              "    .colab-df-convert {\n",
              "      background-color: #E8F0FE;\n",
              "      border: none;\n",
              "      border-radius: 50%;\n",
              "      cursor: pointer;\n",
              "      display: none;\n",
              "      fill: #1967D2;\n",
              "      height: 32px;\n",
              "      padding: 0 0 0 0;\n",
              "      width: 32px;\n",
              "    }\n",
              "\n",
              "    .colab-df-convert:hover {\n",
              "      background-color: #E2EBFA;\n",
              "      box-shadow: 0px 1px 2px rgba(60, 64, 67, 0.3), 0px 1px 3px 1px rgba(60, 64, 67, 0.15);\n",
              "      fill: #174EA6;\n",
              "    }\n",
              "\n",
              "    [theme=dark] .colab-df-convert {\n",
              "      background-color: #3B4455;\n",
              "      fill: #D2E3FC;\n",
              "    }\n",
              "\n",
              "    [theme=dark] .colab-df-convert:hover {\n",
              "      background-color: #434B5C;\n",
              "      box-shadow: 0px 1px 3px 1px rgba(0, 0, 0, 0.15);\n",
              "      filter: drop-shadow(0px 1px 2px rgba(0, 0, 0, 0.3));\n",
              "      fill: #FFFFFF;\n",
              "    }\n",
              "  </style>\n",
              "\n",
              "      <script>\n",
              "        const buttonEl =\n",
              "          document.querySelector('#df-ed9208a4-5f4d-4cd0-b479-bd41fb3d6e84 button.colab-df-convert');\n",
              "        buttonEl.style.display =\n",
              "          google.colab.kernel.accessAllowed ? 'block' : 'none';\n",
              "\n",
              "        async function convertToInteractive(key) {\n",
              "          const element = document.querySelector('#df-ed9208a4-5f4d-4cd0-b479-bd41fb3d6e84');\n",
              "          const dataTable =\n",
              "            await google.colab.kernel.invokeFunction('convertToInteractive',\n",
              "                                                     [key], {});\n",
              "          if (!dataTable) return;\n",
              "\n",
              "          const docLinkHtml = 'Like what you see? Visit the ' +\n",
              "            '<a target=\"_blank\" href=https://colab.research.google.com/notebooks/data_table.ipynb>data table notebook</a>'\n",
              "            + ' to learn more about interactive tables.';\n",
              "          element.innerHTML = '';\n",
              "          dataTable['output_type'] = 'display_data';\n",
              "          await google.colab.output.renderOutput(dataTable, element);\n",
              "          const docLink = document.createElement('div');\n",
              "          docLink.innerHTML = docLinkHtml;\n",
              "          element.appendChild(docLink);\n",
              "        }\n",
              "      </script>\n",
              "    </div>\n",
              "  </div>\n",
              "  "
            ]
          },
          "metadata": {},
          "execution_count": 19
        }
      ]
    },
    {
      "cell_type": "code",
      "source": [
        "df.isna().sum()"
      ],
      "metadata": {
        "colab": {
          "base_uri": "https://localhost:8080/"
        },
        "id": "XUHhpxz2dnrx",
        "outputId": "d641493b-ce52-488d-d7c8-d15217dc3682"
      },
      "execution_count": 34,
      "outputs": [
        {
          "output_type": "execute_result",
          "data": {
            "text/plain": [
              "date               0\n",
              "time_receipt       0\n",
              "time_acceptance    0\n",
              "reaction           0\n",
              "dtype: int64"
            ]
          },
          "metadata": {},
          "execution_count": 34
        }
      ]
    },
    {
      "cell_type": "markdown",
      "source": [
        "Пропусков в таблице нет.  \n",
        "Переименую столбцы:"
      ],
      "metadata": {
        "id": "4D2Pm0zIgTFY"
      }
    },
    {
      "cell_type": "code",
      "source": [
        "new_names = ['date', 'time_receipt', 'time_acceptance']\n",
        "df.set_axis(new_names, axis = 'columns', inplace = True)"
      ],
      "metadata": {
        "id": "-wJj20Wfc6lP"
      },
      "execution_count": 21,
      "outputs": []
    },
    {
      "cell_type": "code",
      "source": [
        "df.duplicated().sum()"
      ],
      "metadata": {
        "colab": {
          "base_uri": "https://localhost:8080/"
        },
        "id": "vrUDLkwZObMt",
        "outputId": "cdc35428-b99f-4078-af76-858fda6cd896"
      },
      "execution_count": 22,
      "outputs": [
        {
          "output_type": "execute_result",
          "data": {
            "text/plain": [
              "0"
            ]
          },
          "metadata": {},
          "execution_count": 22
        }
      ]
    },
    {
      "cell_type": "markdown",
      "source": [
        "Дубликатов в таблице нет."
      ],
      "metadata": {
        "id": "S_O024S3gmdI"
      }
    },
    {
      "cell_type": "code",
      "source": [
        "def string_to_date(string):\n",
        "  return datetime.datetime.strptime(string, \"%d.%m.%Y %H:%M\")"
      ],
      "metadata": {
        "id": "6XMgb2dmqwB5"
      },
      "execution_count": 23,
      "outputs": []
    },
    {
      "cell_type": "code",
      "source": [
        "df.time_receipt = df.time_receipt.apply(string_to_date)"
      ],
      "metadata": {
        "id": "enhIII_29RTs"
      },
      "execution_count": 24,
      "outputs": []
    },
    {
      "cell_type": "code",
      "source": [
        "df.time_acceptance = df.time_acceptance.apply(string_to_date)"
      ],
      "metadata": {
        "id": "bXoKRr87-z_P"
      },
      "execution_count": 25,
      "outputs": []
    },
    {
      "cell_type": "code",
      "source": [
        "df['reaction'] = df.time_acceptance - df.time_receipt"
      ],
      "metadata": {
        "id": "ls_skts9gL2T"
      },
      "execution_count": 27,
      "outputs": []
    },
    {
      "cell_type": "code",
      "source": [
        "df['reaction_min'] = df.reaction.dt.total_seconds().div(60).astype(int)"
      ],
      "metadata": {
        "id": "rWzclvHUBlQ2"
      },
      "execution_count": 38,
      "outputs": []
    },
    {
      "cell_type": "code",
      "source": [
        "df.head()"
      ],
      "metadata": {
        "colab": {
          "base_uri": "https://localhost:8080/",
          "height": 206
        },
        "id": "vMBjUtL__Ky6",
        "outputId": "44ff2883-4f62-4476-99e6-eab185ba6f43"
      },
      "execution_count": 39,
      "outputs": [
        {
          "output_type": "execute_result",
          "data": {
            "text/plain": [
              "         date        time_receipt     time_acceptance        reaction  \\\n",
              "0  01.12.2021 2021-12-01 10:07:00 2021-12-01 10:22:00 0 days 00:15:00   \n",
              "1  01.12.2021 2021-12-01 12:19:00 2021-12-01 14:04:00 0 days 01:45:00   \n",
              "2  01.12.2021 2021-12-01 08:50:00 2021-12-01 08:56:00 0 days 00:06:00   \n",
              "3  01.12.2021 2021-12-01 10:34:00 2021-12-01 10:37:00 0 days 00:03:00   \n",
              "4  01.12.2021 2021-12-01 09:32:00 2021-12-01 09:40:00 0 days 00:08:00   \n",
              "\n",
              "   reaction_min  \n",
              "0            15  \n",
              "1           105  \n",
              "2             6  \n",
              "3             3  \n",
              "4             8  "
            ],
            "text/html": [
              "\n",
              "  <div id=\"df-3cd5c4c4-8cf1-4d33-9b3d-314089e5dba6\">\n",
              "    <div class=\"colab-df-container\">\n",
              "      <div>\n",
              "<style scoped>\n",
              "    .dataframe tbody tr th:only-of-type {\n",
              "        vertical-align: middle;\n",
              "    }\n",
              "\n",
              "    .dataframe tbody tr th {\n",
              "        vertical-align: top;\n",
              "    }\n",
              "\n",
              "    .dataframe thead th {\n",
              "        text-align: right;\n",
              "    }\n",
              "</style>\n",
              "<table border=\"1\" class=\"dataframe\">\n",
              "  <thead>\n",
              "    <tr style=\"text-align: right;\">\n",
              "      <th></th>\n",
              "      <th>date</th>\n",
              "      <th>time_receipt</th>\n",
              "      <th>time_acceptance</th>\n",
              "      <th>reaction</th>\n",
              "      <th>reaction_min</th>\n",
              "    </tr>\n",
              "  </thead>\n",
              "  <tbody>\n",
              "    <tr>\n",
              "      <th>0</th>\n",
              "      <td>01.12.2021</td>\n",
              "      <td>2021-12-01 10:07:00</td>\n",
              "      <td>2021-12-01 10:22:00</td>\n",
              "      <td>0 days 00:15:00</td>\n",
              "      <td>15</td>\n",
              "    </tr>\n",
              "    <tr>\n",
              "      <th>1</th>\n",
              "      <td>01.12.2021</td>\n",
              "      <td>2021-12-01 12:19:00</td>\n",
              "      <td>2021-12-01 14:04:00</td>\n",
              "      <td>0 days 01:45:00</td>\n",
              "      <td>105</td>\n",
              "    </tr>\n",
              "    <tr>\n",
              "      <th>2</th>\n",
              "      <td>01.12.2021</td>\n",
              "      <td>2021-12-01 08:50:00</td>\n",
              "      <td>2021-12-01 08:56:00</td>\n",
              "      <td>0 days 00:06:00</td>\n",
              "      <td>6</td>\n",
              "    </tr>\n",
              "    <tr>\n",
              "      <th>3</th>\n",
              "      <td>01.12.2021</td>\n",
              "      <td>2021-12-01 10:34:00</td>\n",
              "      <td>2021-12-01 10:37:00</td>\n",
              "      <td>0 days 00:03:00</td>\n",
              "      <td>3</td>\n",
              "    </tr>\n",
              "    <tr>\n",
              "      <th>4</th>\n",
              "      <td>01.12.2021</td>\n",
              "      <td>2021-12-01 09:32:00</td>\n",
              "      <td>2021-12-01 09:40:00</td>\n",
              "      <td>0 days 00:08:00</td>\n",
              "      <td>8</td>\n",
              "    </tr>\n",
              "  </tbody>\n",
              "</table>\n",
              "</div>\n",
              "      <button class=\"colab-df-convert\" onclick=\"convertToInteractive('df-3cd5c4c4-8cf1-4d33-9b3d-314089e5dba6')\"\n",
              "              title=\"Convert this dataframe to an interactive table.\"\n",
              "              style=\"display:none;\">\n",
              "        \n",
              "  <svg xmlns=\"http://www.w3.org/2000/svg\" height=\"24px\"viewBox=\"0 0 24 24\"\n",
              "       width=\"24px\">\n",
              "    <path d=\"M0 0h24v24H0V0z\" fill=\"none\"/>\n",
              "    <path d=\"M18.56 5.44l.94 2.06.94-2.06 2.06-.94-2.06-.94-.94-2.06-.94 2.06-2.06.94zm-11 1L8.5 8.5l.94-2.06 2.06-.94-2.06-.94L8.5 2.5l-.94 2.06-2.06.94zm10 10l.94 2.06.94-2.06 2.06-.94-2.06-.94-.94-2.06-.94 2.06-2.06.94z\"/><path d=\"M17.41 7.96l-1.37-1.37c-.4-.4-.92-.59-1.43-.59-.52 0-1.04.2-1.43.59L10.3 9.45l-7.72 7.72c-.78.78-.78 2.05 0 2.83L4 21.41c.39.39.9.59 1.41.59.51 0 1.02-.2 1.41-.59l7.78-7.78 2.81-2.81c.8-.78.8-2.07 0-2.86zM5.41 20L4 18.59l7.72-7.72 1.47 1.35L5.41 20z\"/>\n",
              "  </svg>\n",
              "      </button>\n",
              "      \n",
              "  <style>\n",
              "    .colab-df-container {\n",
              "      display:flex;\n",
              "      flex-wrap:wrap;\n",
              "      gap: 12px;\n",
              "    }\n",
              "\n",
              "    .colab-df-convert {\n",
              "      background-color: #E8F0FE;\n",
              "      border: none;\n",
              "      border-radius: 50%;\n",
              "      cursor: pointer;\n",
              "      display: none;\n",
              "      fill: #1967D2;\n",
              "      height: 32px;\n",
              "      padding: 0 0 0 0;\n",
              "      width: 32px;\n",
              "    }\n",
              "\n",
              "    .colab-df-convert:hover {\n",
              "      background-color: #E2EBFA;\n",
              "      box-shadow: 0px 1px 2px rgba(60, 64, 67, 0.3), 0px 1px 3px 1px rgba(60, 64, 67, 0.15);\n",
              "      fill: #174EA6;\n",
              "    }\n",
              "\n",
              "    [theme=dark] .colab-df-convert {\n",
              "      background-color: #3B4455;\n",
              "      fill: #D2E3FC;\n",
              "    }\n",
              "\n",
              "    [theme=dark] .colab-df-convert:hover {\n",
              "      background-color: #434B5C;\n",
              "      box-shadow: 0px 1px 3px 1px rgba(0, 0, 0, 0.15);\n",
              "      filter: drop-shadow(0px 1px 2px rgba(0, 0, 0, 0.3));\n",
              "      fill: #FFFFFF;\n",
              "    }\n",
              "  </style>\n",
              "\n",
              "      <script>\n",
              "        const buttonEl =\n",
              "          document.querySelector('#df-3cd5c4c4-8cf1-4d33-9b3d-314089e5dba6 button.colab-df-convert');\n",
              "        buttonEl.style.display =\n",
              "          google.colab.kernel.accessAllowed ? 'block' : 'none';\n",
              "\n",
              "        async function convertToInteractive(key) {\n",
              "          const element = document.querySelector('#df-3cd5c4c4-8cf1-4d33-9b3d-314089e5dba6');\n",
              "          const dataTable =\n",
              "            await google.colab.kernel.invokeFunction('convertToInteractive',\n",
              "                                                     [key], {});\n",
              "          if (!dataTable) return;\n",
              "\n",
              "          const docLinkHtml = 'Like what you see? Visit the ' +\n",
              "            '<a target=\"_blank\" href=https://colab.research.google.com/notebooks/data_table.ipynb>data table notebook</a>'\n",
              "            + ' to learn more about interactive tables.';\n",
              "          element.innerHTML = '';\n",
              "          dataTable['output_type'] = 'display_data';\n",
              "          await google.colab.output.renderOutput(dataTable, element);\n",
              "          const docLink = document.createElement('div');\n",
              "          docLink.innerHTML = docLinkHtml;\n",
              "          element.appendChild(docLink);\n",
              "        }\n",
              "      </script>\n",
              "    </div>\n",
              "  </div>\n",
              "  "
            ]
          },
          "metadata": {},
          "execution_count": 39
        }
      ]
    },
    {
      "cell_type": "code",
      "source": [
        "df.reaction_min.describe()"
      ],
      "metadata": {
        "colab": {
          "base_uri": "https://localhost:8080/"
        },
        "id": "_25X4N3ghb_8",
        "outputId": "4064bf00-e1a6-408c-a1e1-048a08536652"
      },
      "execution_count": 41,
      "outputs": [
        {
          "output_type": "execute_result",
          "data": {
            "text/plain": [
              "count      50.00000\n",
              "mean      141.80000\n",
              "std       566.19525\n",
              "min         0.00000\n",
              "25%         8.00000\n",
              "50%        18.00000\n",
              "75%        46.25000\n",
              "max      2889.00000\n",
              "Name: reaction_min, dtype: float64"
            ]
          },
          "metadata": {},
          "execution_count": 41
        }
      ]
    },
    {
      "cell_type": "code",
      "source": [
        "2889/60"
      ],
      "metadata": {
        "colab": {
          "base_uri": "https://localhost:8080/"
        },
        "id": "sQPKPY5tGAJN",
        "outputId": "c6ed9086-a3a4-46df-f58a-041532858577"
      },
      "execution_count": 45,
      "outputs": [
        {
          "output_type": "execute_result",
          "data": {
            "text/plain": [
              "48.15"
            ]
          },
          "metadata": {},
          "execution_count": 45
        }
      ]
    },
    {
      "cell_type": "markdown",
      "source": [
        "**Среднее время реакции составляет 141,8 минуты.** При этом медиана составляет всего 18 минут - виден перекос. Сразу бросается в глаза максимальное время реакции - 2889 минуты, что равняется 48,15 часам, а это более двух суток, что очень долго для обработки заявки (тем более что целевой уровень реакции 5 минут).Но судя по всему таких значений очень мало. **Нужно разобраться, что это за выбросы и из-за чего они появились в выборке?**"
      ],
      "metadata": {
        "id": "2eWOggfzFPNe"
      }
    },
    {
      "cell_type": "code",
      "source": [
        "sns.distplot(df.reaction_min, kde=False)"
      ],
      "metadata": {
        "colab": {
          "base_uri": "https://localhost:8080/",
          "height": 352
        },
        "id": "1f1ld1W8nYTa",
        "outputId": "50eb7d7e-bdfb-4738-9bb4-2ed871d5c034"
      },
      "execution_count": 40,
      "outputs": [
        {
          "output_type": "stream",
          "name": "stderr",
          "text": [
            "/usr/local/lib/python3.7/dist-packages/seaborn/distributions.py:2619: FutureWarning: `distplot` is a deprecated function and will be removed in a future version. Please adapt your code to use either `displot` (a figure-level function with similar flexibility) or `histplot` (an axes-level function for histograms).\n",
            "  warnings.warn(msg, FutureWarning)\n"
          ]
        },
        {
          "output_type": "execute_result",
          "data": {
            "text/plain": [
              "<matplotlib.axes._subplots.AxesSubplot at 0x7fa9f64300d0>"
            ]
          },
          "metadata": {},
          "execution_count": 40
        },
        {
          "output_type": "display_data",
          "data": {
            "text/plain": [
              "<Figure size 432x288 with 1 Axes>"
            ],
            "image/png": "[encoded data removed]"
          },
          "metadata": {
            "needs_background": "light"
          }
        }
      ]
    },
    {
      "cell_type": "code",
      "source": [
        "df.query('reaction_min > 120')"
      ],
      "metadata": {
        "colab": {
          "base_uri": "https://localhost:8080/",
          "height": 112
        },
        "id": "ut6MMOMAA-g8",
        "outputId": "bc2cd6c8-baeb-4325-9da1-98f8c3b7f6f3"
      },
      "execution_count": 48,
      "outputs": [
        {
          "output_type": "execute_result",
          "data": {
            "text/plain": [
              "          date        time_receipt     time_acceptance        reaction  \\\n",
              "25  01.12.2021 2021-12-01 10:00:00 2021-12-03 10:00:00 2 days 00:00:00   \n",
              "41  01.12.2021 2021-12-01 08:37:00 2021-12-03 08:46:00 2 days 00:09:00   \n",
              "\n",
              "    reaction_min  \n",
              "25          2880  \n",
              "41          2889  "
            ],
            "text/html": [
              "\n",
              "  <div id=\"df-38e6301f-a511-4549-9f87-1bbf6178d60f\">\n",
              "    <div class=\"colab-df-container\">\n",
              "      <div>\n",
              "<style scoped>\n",
              "    .dataframe tbody tr th:only-of-type {\n",
              "        vertical-align: middle;\n",
              "    }\n",
              "\n",
              "    .dataframe tbody tr th {\n",
              "        vertical-align: top;\n",
              "    }\n",
              "\n",
              "    .dataframe thead th {\n",
              "        text-align: right;\n",
              "    }\n",
              "</style>\n",
              "<table border=\"1\" class=\"dataframe\">\n",
              "  <thead>\n",
              "    <tr style=\"text-align: right;\">\n",
              "      <th></th>\n",
              "      <th>date</th>\n",
              "      <th>time_receipt</th>\n",
              "      <th>time_acceptance</th>\n",
              "      <th>reaction</th>\n",
              "      <th>reaction_min</th>\n",
              "    </tr>\n",
              "  </thead>\n",
              "  <tbody>\n",
              "    <tr>\n",
              "      <th>25</th>\n",
              "      <td>01.12.2021</td>\n",
              "      <td>2021-12-01 10:00:00</td>\n",
              "      <td>2021-12-03 10:00:00</td>\n",
              "      <td>2 days 00:00:00</td>\n",
              "      <td>2880</td>\n",
              "    </tr>\n",
              "    <tr>\n",
              "      <th>41</th>\n",
              "      <td>01.12.2021</td>\n",
              "      <td>2021-12-01 08:37:00</td>\n",
              "      <td>2021-12-03 08:46:00</td>\n",
              "      <td>2 days 00:09:00</td>\n",
              "      <td>2889</td>\n",
              "    </tr>\n",
              "  </tbody>\n",
              "</table>\n",
              "</div>\n",
              "      <button class=\"colab-df-convert\" onclick=\"convertToInteractive('df-38e6301f-a511-4549-9f87-1bbf6178d60f')\"\n",
              "              title=\"Convert this dataframe to an interactive table.\"\n",
              "              style=\"display:none;\">\n",
              "        \n",
              "  <svg xmlns=\"http://www.w3.org/2000/svg\" height=\"24px\"viewBox=\"0 0 24 24\"\n",
              "       width=\"24px\">\n",
              "    <path d=\"M0 0h24v24H0V0z\" fill=\"none\"/>\n",
              "    <path d=\"M18.56 5.44l.94 2.06.94-2.06 2.06-.94-2.06-.94-.94-2.06-.94 2.06-2.06.94zm-11 1L8.5 8.5l.94-2.06 2.06-.94-2.06-.94L8.5 2.5l-.94 2.06-2.06.94zm10 10l.94 2.06.94-2.06 2.06-.94-2.06-.94-.94-2.06-.94 2.06-2.06.94z\"/><path d=\"M17.41 7.96l-1.37-1.37c-.4-.4-.92-.59-1.43-.59-.52 0-1.04.2-1.43.59L10.3 9.45l-7.72 7.72c-.78.78-.78 2.05 0 2.83L4 21.41c.39.39.9.59 1.41.59.51 0 1.02-.2 1.41-.59l7.78-7.78 2.81-2.81c.8-.78.8-2.07 0-2.86zM5.41 20L4 18.59l7.72-7.72 1.47 1.35L5.41 20z\"/>\n",
              "  </svg>\n",
              "      </button>\n",
              "      \n",
              "  <style>\n",
              "    .colab-df-container {\n",
              "      display:flex;\n",
              "      flex-wrap:wrap;\n",
              "      gap: 12px;\n",
              "    }\n",
              "\n",
              "    .colab-df-convert {\n",
              "      background-color: #E8F0FE;\n",
              "      border: none;\n",
              "      border-radius: 50%;\n",
              "      cursor: pointer;\n",
              "      display: none;\n",
              "      fill: #1967D2;\n",
              "      height: 32px;\n",
              "      padding: 0 0 0 0;\n",
              "      width: 32px;\n",
              "    }\n",
              "\n",
              "    .colab-df-convert:hover {\n",
              "      background-color: #E2EBFA;\n",
              "      box-shadow: 0px 1px 2px rgba(60, 64, 67, 0.3), 0px 1px 3px 1px rgba(60, 64, 67, 0.15);\n",
              "      fill: #174EA6;\n",
              "    }\n",
              "\n",
              "    [theme=dark] .colab-df-convert {\n",
              "      background-color: #3B4455;\n",
              "      fill: #D2E3FC;\n",
              "    }\n",
              "\n",
              "    [theme=dark] .colab-df-convert:hover {\n",
              "      background-color: #434B5C;\n",
              "      box-shadow: 0px 1px 3px 1px rgba(0, 0, 0, 0.15);\n",
              "      filter: drop-shadow(0px 1px 2px rgba(0, 0, 0, 0.3));\n",
              "      fill: #FFFFFF;\n",
              "    }\n",
              "  </style>\n",
              "\n",
              "      <script>\n",
              "        const buttonEl =\n",
              "          document.querySelector('#df-38e6301f-a511-4549-9f87-1bbf6178d60f button.colab-df-convert');\n",
              "        buttonEl.style.display =\n",
              "          google.colab.kernel.accessAllowed ? 'block' : 'none';\n",
              "\n",
              "        async function convertToInteractive(key) {\n",
              "          const element = document.querySelector('#df-38e6301f-a511-4549-9f87-1bbf6178d60f');\n",
              "          const dataTable =\n",
              "            await google.colab.kernel.invokeFunction('convertToInteractive',\n",
              "                                                     [key], {});\n",
              "          if (!dataTable) return;\n",
              "\n",
              "          const docLinkHtml = 'Like what you see? Visit the ' +\n",
              "            '<a target=\"_blank\" href=https://colab.research.google.com/notebooks/data_table.ipynb>data table notebook</a>'\n",
              "            + ' to learn more about interactive tables.';\n",
              "          element.innerHTML = '';\n",
              "          dataTable['output_type'] = 'display_data';\n",
              "          await google.colab.output.renderOutput(dataTable, element);\n",
              "          const docLink = document.createElement('div');\n",
              "          docLink.innerHTML = docLinkHtml;\n",
              "          element.appendChild(docLink);\n",
              "        }\n",
              "      </script>\n",
              "    </div>\n",
              "  </div>\n",
              "  "
            ]
          },
          "metadata": {},
          "execution_count": 48
        }
      ]
    },
    {
      "cell_type": "markdown",
      "source": [
        "Предположу, что имеют место ошибки в дате взятия заявки: 3 декабря вместо 1 декабря. Можно либо выкинуть эти строки из выборки, либо исправить значения. Поскольку данных и так немного (50 строк), то исправлю и включу в выборку."
      ],
      "metadata": {
        "id": "WHf5ZODz_4jX"
      }
    },
    {
      "cell_type": "code",
      "source": [
        "60*24"
      ],
      "metadata": {
        "colab": {
          "base_uri": "https://localhost:8080/"
        },
        "id": "l5ossjVcI-yH",
        "outputId": "23ed8833-0bb6-4cbb-f925-ef962b84a3ff"
      },
      "execution_count": 61,
      "outputs": [
        {
          "output_type": "execute_result",
          "data": {
            "text/plain": [
              "1440"
            ]
          },
          "metadata": {},
          "execution_count": 61
        }
      ]
    },
    {
      "cell_type": "markdown",
      "source": [
        "В двух сутках 2880 минут"
      ],
      "metadata": {
        "id": "PTRz12DuJKii"
      }
    },
    {
      "cell_type": "code",
      "source": [
        "df['reaction_min_correct'] = df.reaction_min % 1440"
      ],
      "metadata": {
        "id": "dlLPZgWN_hbP"
      },
      "execution_count": 62,
      "outputs": []
    },
    {
      "cell_type": "code",
      "source": [
        "df.head()"
      ],
      "metadata": {
        "colab": {
          "base_uri": "https://localhost:8080/",
          "height": 206
        },
        "id": "IOQ9v7qbJfiU",
        "outputId": "adb2c39b-a5b1-43c6-d564-6884d4d213a1"
      },
      "execution_count": 64,
      "outputs": [
        {
          "output_type": "execute_result",
          "data": {
            "text/plain": [
              "         date        time_receipt     time_acceptance        reaction  \\\n",
              "0  01.12.2021 2021-12-01 10:07:00 2021-12-01 10:22:00 0 days 00:15:00   \n",
              "1  01.12.2021 2021-12-01 12:19:00 2021-12-01 14:04:00 0 days 01:45:00   \n",
              "2  01.12.2021 2021-12-01 08:50:00 2021-12-01 08:56:00 0 days 00:06:00   \n",
              "3  01.12.2021 2021-12-01 10:34:00 2021-12-01 10:37:00 0 days 00:03:00   \n",
              "4  01.12.2021 2021-12-01 09:32:00 2021-12-01 09:40:00 0 days 00:08:00   \n",
              "\n",
              "   reaction_min  reaction_min_correct  \n",
              "0            15                    15  \n",
              "1           105                   105  \n",
              "2             6                     6  \n",
              "3             3                     3  \n",
              "4             8                     8  "
            ],
            "text/html": [
              "\n",
              "  <div id=\"df-bec22f41-d1d1-442c-942c-b9269e7449a6\">\n",
              "    <div class=\"colab-df-container\">\n",
              "      <div>\n",
              "<style scoped>\n",
              "    .dataframe tbody tr th:only-of-type {\n",
              "        vertical-align: middle;\n",
              "    }\n",
              "\n",
              "    .dataframe tbody tr th {\n",
              "        vertical-align: top;\n",
              "    }\n",
              "\n",
              "    .dataframe thead th {\n",
              "        text-align: right;\n",
              "    }\n",
              "</style>\n",
              "<table border=\"1\" class=\"dataframe\">\n",
              "  <thead>\n",
              "    <tr style=\"text-align: right;\">\n",
              "      <th></th>\n",
              "      <th>date</th>\n",
              "      <th>time_receipt</th>\n",
              "      <th>time_acceptance</th>\n",
              "      <th>reaction</th>\n",
              "      <th>reaction_min</th>\n",
              "      <th>reaction_min_correct</th>\n",
              "    </tr>\n",
              "  </thead>\n",
              "  <tbody>\n",
              "    <tr>\n",
              "      <th>0</th>\n",
              "      <td>01.12.2021</td>\n",
              "      <td>2021-12-01 10:07:00</td>\n",
              "      <td>2021-12-01 10:22:00</td>\n",
              "      <td>0 days 00:15:00</td>\n",
              "      <td>15</td>\n",
              "      <td>15</td>\n",
              "    </tr>\n",
              "    <tr>\n",
              "      <th>1</th>\n",
              "      <td>01.12.2021</td>\n",
              "      <td>2021-12-01 12:19:00</td>\n",
              "      <td>2021-12-01 14:04:00</td>\n",
              "      <td>0 days 01:45:00</td>\n",
              "      <td>105</td>\n",
              "      <td>105</td>\n",
              "    </tr>\n",
              "    <tr>\n",
              "      <th>2</th>\n",
              "      <td>01.12.2021</td>\n",
              "      <td>2021-12-01 08:50:00</td>\n",
              "      <td>2021-12-01 08:56:00</td>\n",
              "      <td>0 days 00:06:00</td>\n",
              "      <td>6</td>\n",
              "      <td>6</td>\n",
              "    </tr>\n",
              "    <tr>\n",
              "      <th>3</th>\n",
              "      <td>01.12.2021</td>\n",
              "      <td>2021-12-01 10:34:00</td>\n",
              "      <td>2021-12-01 10:37:00</td>\n",
              "      <td>0 days 00:03:00</td>\n",
              "      <td>3</td>\n",
              "      <td>3</td>\n",
              "    </tr>\n",
              "    <tr>\n",
              "      <th>4</th>\n",
              "      <td>01.12.2021</td>\n",
              "      <td>2021-12-01 09:32:00</td>\n",
              "      <td>2021-12-01 09:40:00</td>\n",
              "      <td>0 days 00:08:00</td>\n",
              "      <td>8</td>\n",
              "      <td>8</td>\n",
              "    </tr>\n",
              "  </tbody>\n",
              "</table>\n",
              "</div>\n",
              "      <button class=\"colab-df-convert\" onclick=\"convertToInteractive('df-bec22f41-d1d1-442c-942c-b9269e7449a6')\"\n",
              "              title=\"Convert this dataframe to an interactive table.\"\n",
              "              style=\"display:none;\">\n",
              "        \n",
              "  <svg xmlns=\"http://www.w3.org/2000/svg\" height=\"24px\"viewBox=\"0 0 24 24\"\n",
              "       width=\"24px\">\n",
              "    <path d=\"M0 0h24v24H0V0z\" fill=\"none\"/>\n",
              "    <path d=\"M18.56 5.44l.94 2.06.94-2.06 2.06-.94-2.06-.94-.94-2.06-.94 2.06-2.06.94zm-11 1L8.5 8.5l.94-2.06 2.06-.94-2.06-.94L8.5 2.5l-.94 2.06-2.06.94zm10 10l.94 2.06.94-2.06 2.06-.94-2.06-.94-.94-2.06-.94 2.06-2.06.94z\"/><path d=\"M17.41 7.96l-1.37-1.37c-.4-.4-.92-.59-1.43-.59-.52 0-1.04.2-1.43.59L10.3 9.45l-7.72 7.72c-.78.78-.78 2.05 0 2.83L4 21.41c.39.39.9.59 1.41.59.51 0 1.02-.2 1.41-.59l7.78-7.78 2.81-2.81c.8-.78.8-2.07 0-2.86zM5.41 20L4 18.59l7.72-7.72 1.47 1.35L5.41 20z\"/>\n",
              "  </svg>\n",
              "      </button>\n",
              "      \n",
              "  <style>\n",
              "    .colab-df-container {\n",
              "      display:flex;\n",
              "      flex-wrap:wrap;\n",
              "      gap: 12px;\n",
              "    }\n",
              "\n",
              "    .colab-df-convert {\n",
              "      background-color: #E8F0FE;\n",
              "      border: none;\n",
              "      border-radius: 50%;\n",
              "      cursor: pointer;\n",
              "      display: none;\n",
              "      fill: #1967D2;\n",
              "      height: 32px;\n",
              "      padding: 0 0 0 0;\n",
              "      width: 32px;\n",
              "    }\n",
              "\n",
              "    .colab-df-convert:hover {\n",
              "      background-color: #E2EBFA;\n",
              "      box-shadow: 0px 1px 2px rgba(60, 64, 67, 0.3), 0px 1px 3px 1px rgba(60, 64, 67, 0.15);\n",
              "      fill: #174EA6;\n",
              "    }\n",
              "\n",
              "    [theme=dark] .colab-df-convert {\n",
              "      background-color: #3B4455;\n",
              "      fill: #D2E3FC;\n",
              "    }\n",
              "\n",
              "    [theme=dark] .colab-df-convert:hover {\n",
              "      background-color: #434B5C;\n",
              "      box-shadow: 0px 1px 3px 1px rgba(0, 0, 0, 0.15);\n",
              "      filter: drop-shadow(0px 1px 2px rgba(0, 0, 0, 0.3));\n",
              "      fill: #FFFFFF;\n",
              "    }\n",
              "  </style>\n",
              "\n",
              "      <script>\n",
              "        const buttonEl =\n",
              "          document.querySelector('#df-bec22f41-d1d1-442c-942c-b9269e7449a6 button.colab-df-convert');\n",
              "        buttonEl.style.display =\n",
              "          google.colab.kernel.accessAllowed ? 'block' : 'none';\n",
              "\n",
              "        async function convertToInteractive(key) {\n",
              "          const element = document.querySelector('#df-bec22f41-d1d1-442c-942c-b9269e7449a6');\n",
              "          const dataTable =\n",
              "            await google.colab.kernel.invokeFunction('convertToInteractive',\n",
              "                                                     [key], {});\n",
              "          if (!dataTable) return;\n",
              "\n",
              "          const docLinkHtml = 'Like what you see? Visit the ' +\n",
              "            '<a target=\"_blank\" href=https://colab.research.google.com/notebooks/data_table.ipynb>data table notebook</a>'\n",
              "            + ' to learn more about interactive tables.';\n",
              "          element.innerHTML = '';\n",
              "          dataTable['output_type'] = 'display_data';\n",
              "          await google.colab.output.renderOutput(dataTable, element);\n",
              "          const docLink = document.createElement('div');\n",
              "          docLink.innerHTML = docLinkHtml;\n",
              "          element.appendChild(docLink);\n",
              "        }\n",
              "      </script>\n",
              "    </div>\n",
              "  </div>\n",
              "  "
            ]
          },
          "metadata": {},
          "execution_count": 64
        }
      ]
    },
    {
      "cell_type": "code",
      "source": [
        "df.reaction_min_correct.describe()"
      ],
      "metadata": {
        "colab": {
          "base_uri": "https://localhost:8080/"
        },
        "id": "v9VTjVpoJhJr",
        "outputId": "564479d4-6129-4142-f66b-4cc947c961ba"
      },
      "execution_count": 55,
      "outputs": [
        {
          "output_type": "execute_result",
          "data": {
            "text/plain": [
              "count     50.000000\n",
              "mean      26.600000\n",
              "std       27.708394\n",
              "min        0.000000\n",
              "25%        7.250000\n",
              "50%       16.000000\n",
              "75%       37.750000\n",
              "max      105.000000\n",
              "Name: reaction_min_correct, dtype: float64"
            ]
          },
          "metadata": {},
          "execution_count": 55
        }
      ]
    },
    {
      "cell_type": "markdown",
      "source": [
        "Теперь **среднее время реакции составляет 26,6 минуты**. Это всё равно значительно больше 5 минут."
      ],
      "metadata": {
        "id": "s639m5nkJzUy"
      }
    },
    {
      "cell_type": "code",
      "source": [
        "sns.distplot(df.reaction_min_correct, kde=False)"
      ],
      "metadata": {
        "colab": {
          "base_uri": "https://localhost:8080/",
          "height": 355
        },
        "id": "Lc5GB2rCJuO2",
        "outputId": "65a39fa6-b1e4-4d97-b5cb-f16491d3ef18"
      },
      "execution_count": 56,
      "outputs": [
        {
          "output_type": "stream",
          "name": "stderr",
          "text": [
            "/usr/local/lib/python3.7/dist-packages/seaborn/distributions.py:2619: FutureWarning: `distplot` is a deprecated function and will be removed in a future version. Please adapt your code to use either `displot` (a figure-level function with similar flexibility) or `histplot` (an axes-level function for histograms).\n",
            "  warnings.warn(msg, FutureWarning)\n"
          ]
        },
        {
          "output_type": "execute_result",
          "data": {
            "text/plain": [
              "<matplotlib.axes._subplots.AxesSubplot at 0x7fa9f44b4150>"
            ]
          },
          "metadata": {},
          "execution_count": 56
        },
        {
          "output_type": "display_data",
          "data": {
            "text/plain": [
              "<Figure size 432x288 with 1 Axes>"
            ],
            "image/png": "[encoded data removed]"
          },
          "metadata": {
            "needs_background": "light"
          }
        }
      ]
    },
    {
      "cell_type": "markdown",
      "source": [
        "По данным видно, что **целевое время реакции (5 минут) не выполняется**. Половина заявок обрабатывается больше 16 минут, что примерно в 3 раза превышает заданное целевое значение. В некоторых случаях телемаркетинг перезванивает клиенту спустя час и более. Может это обеденное или вечернее время?"
      ],
      "metadata": {
        "id": "slpDNul1LLgK"
      }
    },
    {
      "cell_type": "code",
      "source": [
        "df.query('reaction_min_correct > 60')"
      ],
      "metadata": {
        "colab": {
          "base_uri": "https://localhost:8080/",
          "height": 300
        },
        "id": "zrwkJBu4KJnM",
        "outputId": "ffba78ae-e65d-4e38-f11b-5c51ee8e0ac8"
      },
      "execution_count": 57,
      "outputs": [
        {
          "output_type": "execute_result",
          "data": {
            "text/plain": [
              "          date        time_receipt     time_acceptance        reaction  \\\n",
              "1   01.12.2021 2021-12-01 12:19:00 2021-12-01 14:04:00 0 days 01:45:00   \n",
              "7   01.12.2021 2021-12-01 07:09:00 2021-12-01 08:25:00 0 days 01:16:00   \n",
              "16  01.12.2021 2021-12-01 12:44:00 2021-12-01 14:06:00 0 days 01:22:00   \n",
              "19  01.12.2021 2021-12-01 07:10:00 2021-12-01 08:26:00 0 days 01:16:00   \n",
              "23  01.12.2021 2021-12-01 10:34:00 2021-12-01 11:48:00 0 days 01:14:00   \n",
              "29  01.12.2021 2021-12-01 08:45:00 2021-12-01 09:54:00 0 days 01:09:00   \n",
              "30  01.12.2021 2021-12-01 05:26:00 2021-12-01 06:28:00 0 days 01:02:00   \n",
              "43  01.12.2021 2021-12-01 12:32:00 2021-12-01 13:59:00 0 days 01:27:00   \n",
              "\n",
              "    reaction_min  reaction_min_correct  \n",
              "1            105                   105  \n",
              "7             76                    76  \n",
              "16            82                    82  \n",
              "19            76                    76  \n",
              "23            74                    74  \n",
              "29            69                    69  \n",
              "30            62                    62  \n",
              "43            87                    87  "
            ],
            "text/html": [
              "\n",
              "  <div id=\"df-0031a32c-08ae-4be4-a459-d761207b0d20\">\n",
              "    <div class=\"colab-df-container\">\n",
              "      <div>\n",
              "<style scoped>\n",
              "    .dataframe tbody tr th:only-of-type {\n",
              "        vertical-align: middle;\n",
              "    }\n",
              "\n",
              "    .dataframe tbody tr th {\n",
              "        vertical-align: top;\n",
              "    }\n",
              "\n",
              "    .dataframe thead th {\n",
              "        text-align: right;\n",
              "    }\n",
              "</style>\n",
              "<table border=\"1\" class=\"dataframe\">\n",
              "  <thead>\n",
              "    <tr style=\"text-align: right;\">\n",
              "      <th></th>\n",
              "      <th>date</th>\n",
              "      <th>time_receipt</th>\n",
              "      <th>time_acceptance</th>\n",
              "      <th>reaction</th>\n",
              "      <th>reaction_min</th>\n",
              "      <th>reaction_min_correct</th>\n",
              "    </tr>\n",
              "  </thead>\n",
              "  <tbody>\n",
              "    <tr>\n",
              "      <th>1</th>\n",
              "      <td>01.12.2021</td>\n",
              "      <td>2021-12-01 12:19:00</td>\n",
              "      <td>2021-12-01 14:04:00</td>\n",
              "      <td>0 days 01:45:00</td>\n",
              "      <td>105</td>\n",
              "      <td>105</td>\n",
              "    </tr>\n",
              "    <tr>\n",
              "      <th>7</th>\n",
              "      <td>01.12.2021</td>\n",
              "      <td>2021-12-01 07:09:00</td>\n",
              "      <td>2021-12-01 08:25:00</td>\n",
              "      <td>0 days 01:16:00</td>\n",
              "      <td>76</td>\n",
              "      <td>76</td>\n",
              "    </tr>\n",
              "    <tr>\n",
              "      <th>16</th>\n",
              "      <td>01.12.2021</td>\n",
              "      <td>2021-12-01 12:44:00</td>\n",
              "      <td>2021-12-01 14:06:00</td>\n",
              "      <td>0 days 01:22:00</td>\n",
              "      <td>82</td>\n",
              "      <td>82</td>\n",
              "    </tr>\n",
              "    <tr>\n",
              "      <th>19</th>\n",
              "      <td>01.12.2021</td>\n",
              "      <td>2021-12-01 07:10:00</td>\n",
              "      <td>2021-12-01 08:26:00</td>\n",
              "      <td>0 days 01:16:00</td>\n",
              "      <td>76</td>\n",
              "      <td>76</td>\n",
              "    </tr>\n",
              "    <tr>\n",
              "      <th>23</th>\n",
              "      <td>01.12.2021</td>\n",
              "      <td>2021-12-01 10:34:00</td>\n",
              "      <td>2021-12-01 11:48:00</td>\n",
              "      <td>0 days 01:14:00</td>\n",
              "      <td>74</td>\n",
              "      <td>74</td>\n",
              "    </tr>\n",
              "    <tr>\n",
              "      <th>29</th>\n",
              "      <td>01.12.2021</td>\n",
              "      <td>2021-12-01 08:45:00</td>\n",
              "      <td>2021-12-01 09:54:00</td>\n",
              "      <td>0 days 01:09:00</td>\n",
              "      <td>69</td>\n",
              "      <td>69</td>\n",
              "    </tr>\n",
              "    <tr>\n",
              "      <th>30</th>\n",
              "      <td>01.12.2021</td>\n",
              "      <td>2021-12-01 05:26:00</td>\n",
              "      <td>2021-12-01 06:28:00</td>\n",
              "      <td>0 days 01:02:00</td>\n",
              "      <td>62</td>\n",
              "      <td>62</td>\n",
              "    </tr>\n",
              "    <tr>\n",
              "      <th>43</th>\n",
              "      <td>01.12.2021</td>\n",
              "      <td>2021-12-01 12:32:00</td>\n",
              "      <td>2021-12-01 13:59:00</td>\n",
              "      <td>0 days 01:27:00</td>\n",
              "      <td>87</td>\n",
              "      <td>87</td>\n",
              "    </tr>\n",
              "  </tbody>\n",
              "</table>\n",
              "</div>\n",
              "      <button class=\"colab-df-convert\" onclick=\"convertToInteractive('df-0031a32c-08ae-4be4-a459-d761207b0d20')\"\n",
              "              title=\"Convert this dataframe to an interactive table.\"\n",
              "              style=\"display:none;\">\n",
              "        \n",
              "  <svg xmlns=\"http://www.w3.org/2000/svg\" height=\"24px\"viewBox=\"0 0 24 24\"\n",
              "       width=\"24px\">\n",
              "    <path d=\"M0 0h24v24H0V0z\" fill=\"none\"/>\n",
              "    <path d=\"M18.56 5.44l.94 2.06.94-2.06 2.06-.94-2.06-.94-.94-2.06-.94 2.06-2.06.94zm-11 1L8.5 8.5l.94-2.06 2.06-.94-2.06-.94L8.5 2.5l-.94 2.06-2.06.94zm10 10l.94 2.06.94-2.06 2.06-.94-2.06-.94-.94-2.06-.94 2.06-2.06.94z\"/><path d=\"M17.41 7.96l-1.37-1.37c-.4-.4-.92-.59-1.43-.59-.52 0-1.04.2-1.43.59L10.3 9.45l-7.72 7.72c-.78.78-.78 2.05 0 2.83L4 21.41c.39.39.9.59 1.41.59.51 0 1.02-.2 1.41-.59l7.78-7.78 2.81-2.81c.8-.78.8-2.07 0-2.86zM5.41 20L4 18.59l7.72-7.72 1.47 1.35L5.41 20z\"/>\n",
              "  </svg>\n",
              "      </button>\n",
              "      \n",
              "  <style>\n",
              "    .colab-df-container {\n",
              "      display:flex;\n",
              "      flex-wrap:wrap;\n",
              "      gap: 12px;\n",
              "    }\n",
              "\n",
              "    .colab-df-convert {\n",
              "      background-color: #E8F0FE;\n",
              "      border: none;\n",
              "      border-radius: 50%;\n",
              "      cursor: pointer;\n",
              "      display: none;\n",
              "      fill: #1967D2;\n",
              "      height: 32px;\n",
              "      padding: 0 0 0 0;\n",
              "      width: 32px;\n",
              "    }\n",
              "\n",
              "    .colab-df-convert:hover {\n",
              "      background-color: #E2EBFA;\n",
              "      box-shadow: 0px 1px 2px rgba(60, 64, 67, 0.3), 0px 1px 3px 1px rgba(60, 64, 67, 0.15);\n",
              "      fill: #174EA6;\n",
              "    }\n",
              "\n",
              "    [theme=dark] .colab-df-convert {\n",
              "      background-color: #3B4455;\n",
              "      fill: #D2E3FC;\n",
              "    }\n",
              "\n",
              "    [theme=dark] .colab-df-convert:hover {\n",
              "      background-color: #434B5C;\n",
              "      box-shadow: 0px 1px 3px 1px rgba(0, 0, 0, 0.15);\n",
              "      filter: drop-shadow(0px 1px 2px rgba(0, 0, 0, 0.3));\n",
              "      fill: #FFFFFF;\n",
              "    }\n",
              "  </style>\n",
              "\n",
              "      <script>\n",
              "        const buttonEl =\n",
              "          document.querySelector('#df-0031a32c-08ae-4be4-a459-d761207b0d20 button.colab-df-convert');\n",
              "        buttonEl.style.display =\n",
              "          google.colab.kernel.accessAllowed ? 'block' : 'none';\n",
              "\n",
              "        async function convertToInteractive(key) {\n",
              "          const element = document.querySelector('#df-0031a32c-08ae-4be4-a459-d761207b0d20');\n",
              "          const dataTable =\n",
              "            await google.colab.kernel.invokeFunction('convertToInteractive',\n",
              "                                                     [key], {});\n",
              "          if (!dataTable) return;\n",
              "\n",
              "          const docLinkHtml = 'Like what you see? Visit the ' +\n",
              "            '<a target=\"_blank\" href=https://colab.research.google.com/notebooks/data_table.ipynb>data table notebook</a>'\n",
              "            + ' to learn more about interactive tables.';\n",
              "          element.innerHTML = '';\n",
              "          dataTable['output_type'] = 'display_data';\n",
              "          await google.colab.output.renderOutput(dataTable, element);\n",
              "          const docLink = document.createElement('div');\n",
              "          docLink.innerHTML = docLinkHtml;\n",
              "          element.appendChild(docLink);\n",
              "        }\n",
              "      </script>\n",
              "    </div>\n",
              "  </div>\n",
              "  "
            ]
          },
          "metadata": {},
          "execution_count": 57
        }
      ]
    },
    {
      "cell_type": "markdown",
      "source": [
        "Гипотеза не подтвердилась. В трёх случаях долго обрабатываемые заявки действительно приходили в обеденное время (с 12 до часу), но в список также попали утренние заявки. Кажется, с этими случаями нужно разобраться отдельно, выявить причину, понаблюдать за данными в следующие дни.  \n",
        "Пока для выбора нового целевого значения для дальнейшего анализа и моделирования процессов я предлагаю отобрать данные по заявкам. которые обрабатывались меньше часа, и посчитать среднее по ним."
      ],
      "metadata": {
        "id": "FzQAqVzeMgk8"
      }
    },
    {
      "cell_type": "code",
      "source": [
        "df.query('reaction_min_correct < 60').reaction_min_correct.mean()"
      ],
      "metadata": {
        "colab": {
          "base_uri": "https://localhost:8080/"
        },
        "id": "k7-xIW4KL4p0",
        "outputId": "10d9bc08-34d6-4210-d2bf-6065cb4a4f16"
      },
      "execution_count": 59,
      "outputs": [
        {
          "output_type": "execute_result",
          "data": {
            "text/plain": [
              "14.475"
            ]
          },
          "metadata": {},
          "execution_count": 59
        }
      ]
    },
    {
      "cell_type": "markdown",
      "source": [
        "**Новое целевое значение 15 минут.**"
      ],
      "metadata": {
        "id": "B01iBO_WNxM3"
      }
    },
    {
      "cell_type": "code",
      "source": [
        ""
      ],
      "metadata": {
        "id": "D2FLR47LPgPZ"
      },
      "execution_count": null,
      "outputs": []
    }
  ]
}