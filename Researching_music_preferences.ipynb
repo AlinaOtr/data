{
  "cells": [
    {
      "cell_type": "markdown",
      "metadata": {
        "id": "view-in-github",
        "colab_type": "text"
      },
      "source": [
        "<a href=\"https://colab.research.google.com/github/AlinaOtr/data/blob/master/Researching_music_preferences.ipynb\" target=\"_parent\"><img src=\"https://colab.research.google.com/assets/colab-badge.svg\" alt=\"Open In Colab\"/></a>"
      ]
    },
    {
      "cell_type": "markdown",
      "metadata": {
        "deletable": false,
        "editable": false,
        "id": "5UYxO1GdF6Wy",
        "tags": [
          "f6c88c58-a82b-4f28-8bd6-fd55c0017917"
        ]
      },
      "source": [
        "# Этап 1. Получение данных"
      ]
    },
    {
      "cell_type": "markdown",
      "metadata": {
        "deletable": false,
        "id": "iI4ITclJaFWh"
      },
      "source": [
        "**Постановка задачи:** определить, как музыка, которая звучит по дороге на работу в понедельник утром, отличается от той, что играет в среду или в конце рабочей недели? Сравнить, что и в каком режиме слушают жители Москвы и Петербурга."
      ]
    },
    {
      "cell_type": "markdown",
      "metadata": {
        "deletable": false,
        "id": "0skiEFxDZ0Tr"
      },
      "source": [
        "Изучу данные, предоставленные сервисом для проекта."
      ]
    },
    {
      "cell_type": "code",
      "source": [
        "from google.colab import drive\n",
        "drive.mount('/content/drive')"
      ],
      "metadata": {
        "colab": {
          "base_uri": "https://localhost:8080/"
        },
        "id": "GJjSgRZQ_vCW",
        "outputId": "57a8e77d-14bd-4672-db98-0eef166032b6"
      },
      "execution_count": null,
      "outputs": [
        {
          "output_type": "stream",
          "name": "stdout",
          "text": [
            "Mounted at /content/drive\n"
          ]
        }
      ]
    },
    {
      "cell_type": "code",
      "execution_count": null,
      "metadata": {
        "deletable": false,
        "id": "HirRov5vZ3MT"
      },
      "outputs": [],
      "source": [
        "import pandas as pd"
      ]
    },
    {
      "cell_type": "code",
      "execution_count": null,
      "metadata": {
        "deletable": false,
        "id": "NB6j931yS4hy"
      },
      "outputs": [],
      "source": [
        "df = pd.read_csv('/datasets/music_project.csv')"
      ]
    },
    {
      "cell_type": "code",
      "execution_count": null,
      "metadata": {
        "deletable": false,
        "id": "DY5i8tgXVDGj",
        "outputId": "b772b22d-6d46-4db5-86fd-614a5ef24898"
      },
      "outputs": [
        {
          "data": {
            "text/html": [
              "<div>\n",
              "<style scoped>\n",
              "    .dataframe tbody tr th:only-of-type {\n",
              "        vertical-align: middle;\n",
              "    }\n",
              "\n",
              "    .dataframe tbody tr th {\n",
              "        vertical-align: top;\n",
              "    }\n",
              "\n",
              "    .dataframe thead th {\n",
              "        text-align: right;\n",
              "    }\n",
              "</style>\n",
              "<table border=\"1\" class=\"dataframe\">\n",
              "  <thead>\n",
              "    <tr style=\"text-align: right;\">\n",
              "      <th></th>\n",
              "      <th>userID</th>\n",
              "      <th>Track</th>\n",
              "      <th>artist</th>\n",
              "      <th>genre</th>\n",
              "      <th>City</th>\n",
              "      <th>time</th>\n",
              "      <th>Day</th>\n",
              "    </tr>\n",
              "  </thead>\n",
              "  <tbody>\n",
              "    <tr>\n",
              "      <td>0</td>\n",
              "      <td>FFB692EC</td>\n",
              "      <td>Kamigata To Boots</td>\n",
              "      <td>The Mass Missile</td>\n",
              "      <td>rock</td>\n",
              "      <td>Saint-Petersburg</td>\n",
              "      <td>20:28:33</td>\n",
              "      <td>Wednesday</td>\n",
              "    </tr>\n",
              "    <tr>\n",
              "      <td>1</td>\n",
              "      <td>55204538</td>\n",
              "      <td>Delayed Because of Accident</td>\n",
              "      <td>Andreas Rönnberg</td>\n",
              "      <td>rock</td>\n",
              "      <td>Moscow</td>\n",
              "      <td>14:07:09</td>\n",
              "      <td>Friday</td>\n",
              "    </tr>\n",
              "    <tr>\n",
              "      <td>2</td>\n",
              "      <td>20EC38</td>\n",
              "      <td>Funiculì funiculà</td>\n",
              "      <td>Mario Lanza</td>\n",
              "      <td>pop</td>\n",
              "      <td>Saint-Petersburg</td>\n",
              "      <td>20:58:07</td>\n",
              "      <td>Wednesday</td>\n",
              "    </tr>\n",
              "    <tr>\n",
              "      <td>3</td>\n",
              "      <td>A3DD03C9</td>\n",
              "      <td>Dragons in the Sunset</td>\n",
              "      <td>Fire + Ice</td>\n",
              "      <td>folk</td>\n",
              "      <td>Saint-Petersburg</td>\n",
              "      <td>08:37:09</td>\n",
              "      <td>Monday</td>\n",
              "    </tr>\n",
              "    <tr>\n",
              "      <td>4</td>\n",
              "      <td>E2DC1FAE</td>\n",
              "      <td>Soul People</td>\n",
              "      <td>Space Echo</td>\n",
              "      <td>dance</td>\n",
              "      <td>Moscow</td>\n",
              "      <td>08:34:34</td>\n",
              "      <td>Monday</td>\n",
              "    </tr>\n",
              "    <tr>\n",
              "      <td>5</td>\n",
              "      <td>842029A1</td>\n",
              "      <td>Преданная</td>\n",
              "      <td>IMPERVTOR</td>\n",
              "      <td>rusrap</td>\n",
              "      <td>Saint-Petersburg</td>\n",
              "      <td>13:09:41</td>\n",
              "      <td>Friday</td>\n",
              "    </tr>\n",
              "    <tr>\n",
              "      <td>6</td>\n",
              "      <td>4CB90AA5</td>\n",
              "      <td>True</td>\n",
              "      <td>Roman Messer</td>\n",
              "      <td>dance</td>\n",
              "      <td>Moscow</td>\n",
              "      <td>13:00:07</td>\n",
              "      <td>Wednesday</td>\n",
              "    </tr>\n",
              "    <tr>\n",
              "      <td>7</td>\n",
              "      <td>F03E1C1F</td>\n",
              "      <td>Feeling This Way</td>\n",
              "      <td>Polina Griffith</td>\n",
              "      <td>dance</td>\n",
              "      <td>Moscow</td>\n",
              "      <td>20:47:49</td>\n",
              "      <td>Wednesday</td>\n",
              "    </tr>\n",
              "    <tr>\n",
              "      <td>8</td>\n",
              "      <td>8FA1D3BE</td>\n",
              "      <td>И вновь продолжается бой</td>\n",
              "      <td>NaN</td>\n",
              "      <td>ruspop</td>\n",
              "      <td>Moscow</td>\n",
              "      <td>09:17:40</td>\n",
              "      <td>Friday</td>\n",
              "    </tr>\n",
              "    <tr>\n",
              "      <td>9</td>\n",
              "      <td>E772D5C0</td>\n",
              "      <td>Pessimist</td>\n",
              "      <td>NaN</td>\n",
              "      <td>dance</td>\n",
              "      <td>Saint-Petersburg</td>\n",
              "      <td>21:20:49</td>\n",
              "      <td>Wednesday</td>\n",
              "    </tr>\n",
              "  </tbody>\n",
              "</table>\n",
              "</div>"
            ],
            "text/plain": [
              "     userID                        Track            artist   genre  \\\n",
              "0  FFB692EC            Kamigata To Boots  The Mass Missile    rock   \n",
              "1  55204538  Delayed Because of Accident  Andreas Rönnberg    rock   \n",
              "2    20EC38            Funiculì funiculà       Mario Lanza     pop   \n",
              "3  A3DD03C9        Dragons in the Sunset        Fire + Ice    folk   \n",
              "4  E2DC1FAE                  Soul People        Space Echo   dance   \n",
              "5  842029A1                    Преданная         IMPERVTOR  rusrap   \n",
              "6  4CB90AA5                         True      Roman Messer   dance   \n",
              "7  F03E1C1F             Feeling This Way   Polina Griffith   dance   \n",
              "8  8FA1D3BE     И вновь продолжается бой               NaN  ruspop   \n",
              "9  E772D5C0                    Pessimist               NaN   dance   \n",
              "\n",
              "             City        time        Day  \n",
              "0  Saint-Petersburg  20:28:33  Wednesday  \n",
              "1            Moscow  14:07:09     Friday  \n",
              "2  Saint-Petersburg  20:58:07  Wednesday  \n",
              "3  Saint-Petersburg  08:37:09     Monday  \n",
              "4            Moscow  08:34:34     Monday  \n",
              "5  Saint-Petersburg  13:09:41     Friday  \n",
              "6            Moscow  13:00:07  Wednesday  \n",
              "7            Moscow  20:47:49  Wednesday  \n",
              "8            Moscow  09:17:40     Friday  \n",
              "9  Saint-Petersburg  21:20:49  Wednesday  "
            ]
          },
          "execution_count": 108,
          "metadata": {},
          "output_type": "execute_result"
        }
      ],
      "source": [
        "df.head(10)"
      ]
    },
    {
      "cell_type": "code",
      "execution_count": null,
      "metadata": {
        "deletable": false,
        "id": "K7t8OdZsYN2y",
        "outputId": "a0b99b94-6629-4aed-aad4-3fe8f7de56ad"
      },
      "outputs": [
        {
          "name": "stdout",
          "output_type": "stream",
          "text": [
            "<class 'pandas.core.frame.DataFrame'>\n",
            "RangeIndex: 65079 entries, 0 to 65078\n",
            "Data columns (total 7 columns):\n",
            "  userID    65079 non-null object\n",
            "Track       63848 non-null object\n",
            "artist      57876 non-null object\n",
            "genre       63881 non-null object\n",
            "  City      65079 non-null object\n",
            "time        65079 non-null object\n",
            "Day         65079 non-null object\n",
            "dtypes: object(7)\n",
            "memory usage: 3.5+ MB\n"
          ]
        }
      ],
      "source": [
        "df.info()"
      ]
    },
    {
      "cell_type": "markdown",
      "metadata": {
        "deletable": false,
        "id": "CnHv9HZCc7LN"
      },
      "source": [
        "Всего в таблице 7 столбцов, тип данных у каждого столбца - object.\n",
        "\n",
        "Подробно разберу, какие в *df* столбцы и какую информацию они содержат:\n",
        "\n",
        "* userID — идентификатор пользователя;\n",
        "* Track — название трека;  \n",
        "* artist — имя исполнителя;\n",
        "* genre — название жанра;\n",
        "* City — город, в котором происходило прослушивание;\n",
        "* time — время, в которое пользователь слушал трек;\n",
        "* Day — день недели.\n",
        "\n",
        "Количество значений в столбцах различается. Это говорит о том, что в данных есть пропущенные значения.\n",
        "\n"
      ]
    },
    {
      "cell_type": "markdown",
      "metadata": {
        "deletable": false,
        "id": "PCEtjdmvezRm"
      },
      "source": [
        "Итак, каждая строка таблицы содержит информацию о композициях определённого жанра в определённом исполнении, которые пользователи слушали в одном из городов в определённое время и день недели. Две проблемы, которые нужно решать: пропуски и некачественные названия столбцов (присутствуют заглавные буквы и нужно проверить наличие пробелов). Для проверки рабочих гипотез особенно ценны столбцы *time*, *day* и *City*. Данные из столбца *genre* позволят узнать самые популярные жанры."
      ]
    },
    {
      "cell_type": "markdown",
      "metadata": {
        "deletable": false,
        "editable": false,
        "id": "ZYaC0bU-IZ0a",
        "tags": [
          "2c946931-9c91-4e15-baf8-43fb79bcb454"
        ]
      },
      "source": [
        "# Этап 2. Предобработка данных"
      ]
    },
    {
      "cell_type": "code",
      "execution_count": null,
      "metadata": {
        "deletable": false,
        "id": "Tag65F_Uitsx",
        "outputId": "1180cc95-e3a6-41d4-b673-2a84f9de3902"
      },
      "outputs": [
        {
          "data": {
            "text/plain": [
              "Index(['  userID', 'Track', 'artist', 'genre', '  City  ', 'time', 'Day'], dtype='object')"
            ]
          },
          "execution_count": 110,
          "metadata": {},
          "output_type": "execute_result"
        }
      ],
      "source": [
        "df.columns"
      ]
    },
    {
      "cell_type": "markdown",
      "metadata": {
        "deletable": false,
        "id": "x6iJC-cEhnRL"
      },
      "source": [
        "В названиях столбцов есть пробелы, которые могут затруднять доступ к данным.\n",
        "**Переименую столбцы** для удобства дальнейшей работы и проверю результат.\n"
      ]
    },
    {
      "cell_type": "code",
      "execution_count": null,
      "metadata": {
        "deletable": false,
        "id": "XintVfCniw2-"
      },
      "outputs": [],
      "source": [
        "new_names = ['user_id', 'track_name', 'artist_name', 'genre_name', 'city', 'time', 'weekday']\n",
        "df.set_axis(new_names, axis = 'columns', inplace = True)"
      ]
    },
    {
      "cell_type": "code",
      "execution_count": null,
      "metadata": {
        "deletable": false,
        "id": "ozQL91G4izdp",
        "outputId": "11cb2437-934e-4515-d86c-5b73ada4689c"
      },
      "outputs": [
        {
          "data": {
            "text/plain": [
              "Index(['user_id', 'track_name', 'artist_name', 'genre_name', 'city', 'time',\n",
              "       'weekday'],\n",
              "      dtype='object')"
            ]
          },
          "execution_count": 112,
          "metadata": {},
          "output_type": "execute_result"
        }
      ],
      "source": [
        "df.columns"
      ]
    },
    {
      "cell_type": "markdown",
      "metadata": {
        "deletable": false,
        "editable": false,
        "id": "oc2qS2UBIkQu",
        "tags": [
          "325fae3b-abce-4c7c-8c41-87ed8a26ff5d"
        ]
      },
      "source": [
        "**Проверю данные на наличие пропусков** вызовом набора методов для суммирования пропущенных значений."
      ]
    },
    {
      "cell_type": "code",
      "execution_count": null,
      "metadata": {
        "deletable": false,
        "id": "BZh9yLHhjy_R",
        "outputId": "3d7a1115-6d06-4c11-ae96-23dae29f9c73"
      },
      "outputs": [
        {
          "data": {
            "text/plain": [
              "user_id           0\n",
              "track_name     1231\n",
              "artist_name    7203\n",
              "genre_name     1198\n",
              "city              0\n",
              "time              0\n",
              "weekday           0\n",
              "dtype: int64"
            ]
          },
          "execution_count": 113,
          "metadata": {},
          "output_type": "execute_result"
        }
      ],
      "source": [
        "df.isnull().sum()"
      ]
    },
    {
      "cell_type": "markdown",
      "metadata": {
        "deletable": false,
        "id": "OJXGaa02tSJJ"
      },
      "source": [
        "Пустые значения свидетельствуют, что для некоторых треков доступна не вся информация. Причины могут быть разные: скажем,  не назван конкретный исполнитель народной песни. Хуже, если проблемы с записью данных."
      ]
    },
    {
      "cell_type": "markdown",
      "metadata": {
        "deletable": false,
        "id": "-fBDAWZUkAg-"
      },
      "source": [
        "Заменяю пропущенные значения в столбцах с названием трека и исполнителя на строку 'unknown'."
      ]
    },
    {
      "cell_type": "code",
      "execution_count": null,
      "metadata": {
        "deletable": false,
        "id": "EO8zFcJPlbvV"
      },
      "outputs": [],
      "source": [
        "df['track_name'] = df['track_name'].fillna('unknown')\n"
      ]
    },
    {
      "cell_type": "code",
      "execution_count": null,
      "metadata": {
        "deletable": false,
        "id": "3hsNZcLST0UW"
      },
      "outputs": [],
      "source": [
        "df['artist_name'] = df['artist_name'].fillna('unknown')"
      ]
    },
    {
      "cell_type": "code",
      "execution_count": null,
      "metadata": {
        "deletable": false,
        "id": "Ua-Z8TAblgzC",
        "outputId": "a9f63a22-7cf7-4043-c0dd-53d17a0d0790"
      },
      "outputs": [
        {
          "data": {
            "text/plain": [
              "user_id           0\n",
              "track_name        0\n",
              "artist_name       0\n",
              "genre_name     1198\n",
              "city              0\n",
              "time              0\n",
              "weekday           0\n",
              "dtype: int64"
            ]
          },
          "execution_count": 116,
          "metadata": {},
          "output_type": "execute_result"
        }
      ],
      "source": [
        "df.isnull().sum()"
      ]
    },
    {
      "cell_type": "markdown",
      "metadata": {
        "deletable": false,
        "editable": false,
        "id": "-cjfT0w2ln9C",
        "tags": [
          "9cb28dd4-e24e-4490-aebd-b37ba9e492c5"
        ]
      },
      "source": [
        "Удаляю в столбце с жанрами пустые значения; убеждаюсь, что их больше не осталось."
      ]
    },
    {
      "cell_type": "code",
      "execution_count": null,
      "metadata": {
        "deletable": false,
        "id": "TIpk7lwtnZkZ"
      },
      "outputs": [],
      "source": [
        "df.dropna(subset = ['genre_name'], inplace = True)"
      ]
    },
    {
      "cell_type": "code",
      "execution_count": null,
      "metadata": {
        "deletable": false,
        "id": "-1CT-CCZnzTA",
        "outputId": "fd3a0341-91c7-423a-a3a1-c74c5ed96d1f"
      },
      "outputs": [
        {
          "data": {
            "text/plain": [
              "user_id        0\n",
              "track_name     0\n",
              "artist_name    0\n",
              "genre_name     0\n",
              "city           0\n",
              "time           0\n",
              "weekday        0\n",
              "dtype: int64"
            ]
          },
          "execution_count": 118,
          "metadata": {},
          "output_type": "execute_result"
        }
      ],
      "source": [
        "df.isnull().sum()"
      ]
    },
    {
      "cell_type": "markdown",
      "metadata": {
        "deletable": false,
        "editable": false,
        "id": "QsBXpJFzpxA9",
        "tags": [
          "ea46db29-6746-4c02-a47b-75283dde9025"
        ]
      },
      "source": [
        "Теперь **необходимо установить наличие дубликатов**.  Если найдутся, удалю их, и проверю, все ли удалились."
      ]
    },
    {
      "cell_type": "code",
      "execution_count": null,
      "metadata": {
        "deletable": false,
        "id": "VRVI_B0RqIgT",
        "outputId": "3840c259-98a1-418c-edb9-57aae8a7e689"
      },
      "outputs": [
        {
          "data": {
            "text/plain": [
              "3755"
            ]
          },
          "execution_count": 119,
          "metadata": {},
          "output_type": "execute_result"
        }
      ],
      "source": [
        "df.duplicated().sum()"
      ]
    },
    {
      "cell_type": "code",
      "execution_count": null,
      "metadata": {
        "deletable": false,
        "id": "nSYF38OeqZn-"
      },
      "outputs": [],
      "source": [
        "df = df.drop_duplicates().reset_index(drop = True)"
      ]
    },
    {
      "cell_type": "code",
      "execution_count": null,
      "metadata": {
        "deletable": false,
        "id": "O-RfjmkCqIgV",
        "outputId": "0d00b352-d513-406d-87cb-4a2bc37712eb"
      },
      "outputs": [
        {
          "data": {
            "text/plain": [
              "0"
            ]
          },
          "execution_count": 121,
          "metadata": {},
          "output_type": "execute_result"
        }
      ],
      "source": [
        "df.duplicated().sum()"
      ]
    },
    {
      "cell_type": "markdown",
      "metadata": {
        "deletable": false,
        "id": "e6cyWPTwsLKw"
      },
      "source": [
        "Дубликаты могли появиться вследствие сбоя в записи данных. Стоит обратить внимание и разобраться с причинами появления такого «информационного мусора»."
      ]
    },
    {
      "cell_type": "markdown",
      "metadata": {
        "deletable": false,
        "editable": false,
        "id": "QH-HgrApInjO",
        "tags": [
          "46fb87e8-2d9c-497d-9c6e-746eaa2631ab"
        ]
      },
      "source": [
        "Сохраню список уникальных значений столбца с жанрами в переменной *genres_list*. \n",
        "\n",
        "Объявлю функцию *find_genre()* для поиска неявных дубликатов в столбце с жанрами. Например, когда название одного и того же жанра написано разными словами.\n",
        "\n",
        "\n",
        "\n"
      ]
    },
    {
      "cell_type": "code",
      "execution_count": null,
      "metadata": {
        "deletable": false,
        "id": "FfaTfKAN-PCx"
      },
      "outputs": [],
      "source": [
        "genres_list = df['genre_name'].unique()"
      ]
    },
    {
      "cell_type": "code",
      "execution_count": null,
      "metadata": {
        "deletable": false,
        "id": "TA_k-VLi-S0R"
      },
      "outputs": [],
      "source": [
        "def find_genre(genre_name):  \n",
        "    wrong_genre_name = 0\n",
        "    for element in genres_list:\n",
        "        if element == genre_name:\n",
        "            wrong_genre_name = wrong_genre_name +1\n",
        "    return wrong_genre_name"
      ]
    },
    {
      "cell_type": "markdown",
      "metadata": {
        "deletable": false,
        "editable": false,
        "id": "vb3CTOciIL27",
        "tags": [
          "b57e3325-29fc-4ade-83a3-91113c5dad32"
        ]
      },
      "source": [
        "Вызову функции *find_genre()* для поиска различных вариантов названия жанра хип-хоп в таблице. Правильное название — *hiphop*. Поищу другие варианты:\n",
        "\n",
        "* hip\n",
        "* hop\n",
        "* hip-hop\n"
      ]
    },
    {
      "cell_type": "code",
      "execution_count": null,
      "metadata": {
        "deletable": false,
        "id": "YrwqExZS-dyQ",
        "outputId": "64c6bd48-fa6c-4c79-e460-79ab3f932fce"
      },
      "outputs": [
        {
          "data": {
            "text/plain": [
              "1"
            ]
          },
          "execution_count": 124,
          "metadata": {},
          "output_type": "execute_result"
        }
      ],
      "source": [
        "find_genre('hip')"
      ]
    },
    {
      "cell_type": "code",
      "execution_count": null,
      "metadata": {
        "deletable": false,
        "id": "ZoL4EEcR-dyU",
        "outputId": "d179e244-e9ec-4b97-be09-28e74d7bf723"
      },
      "outputs": [
        {
          "data": {
            "text/plain": [
              "0"
            ]
          },
          "execution_count": 125,
          "metadata": {},
          "output_type": "execute_result"
        }
      ],
      "source": [
        "find_genre('hop')"
      ]
    },
    {
      "cell_type": "code",
      "execution_count": null,
      "metadata": {
        "deletable": false,
        "id": "MFowmiug-qZD",
        "outputId": "092185eb-d1b5-415f-9e3b-3546a1fbd5b9"
      },
      "outputs": [
        {
          "data": {
            "text/plain": [
              "0"
            ]
          },
          "execution_count": 126,
          "metadata": {},
          "output_type": "execute_result"
        }
      ],
      "source": [
        "find_genre('hip-hop')"
      ]
    },
    {
      "cell_type": "markdown",
      "metadata": {
        "deletable": false,
        "editable": false,
        "id": "a7BQY6ORLMSG",
        "tags": [
          "11f77aa1-5478-453d-b31e-f20041047bb7"
        ]
      },
      "source": [
        "Объявлю функцию *find_hip_hop()*, которая заменяет  неправильное название этого жанра в столбце *'genre_name'* на *'hiphop'* и проверяет успешность выполнения замены. Так я исправлю все варианты написания, которые выявила проверка."
      ]
    },
    {
      "cell_type": "code",
      "execution_count": null,
      "metadata": {
        "deletable": false,
        "id": "31xlzL_c_FgB"
      },
      "outputs": [],
      "source": [
        "def find_hip_hop(df, wrong):\n",
        "    df['genre_name'] = df['genre_name'].replace(wrong, 'hiphop')\n",
        "    count_wrong = df[df['genre_name'] == wrong]['genre_name'].count()\n",
        "    return count_wrong"
      ]
    },
    {
      "cell_type": "code",
      "execution_count": null,
      "metadata": {
        "deletable": false,
        "id": "ZFXMV2qW_FgE",
        "outputId": "639dbe54-0eae-4f97-c6e9-1e1714244ffa"
      },
      "outputs": [
        {
          "data": {
            "text/plain": [
              "0"
            ]
          },
          "execution_count": 128,
          "metadata": {},
          "output_type": "execute_result"
        }
      ],
      "source": [
        "find_hip_hop(df, 'hip')"
      ]
    },
    {
      "cell_type": "markdown",
      "metadata": {
        "deletable": false,
        "editable": false,
        "id": "i90BILA9JQpE",
        "tags": [
          "30535c8e-1643-4088-925b-2a32180e0333"
        ]
      },
      "source": [
        "Получаю общую информацию о данных и убеждаюсь, что чистка выполнена успешно."
      ]
    },
    {
      "cell_type": "code",
      "execution_count": null,
      "metadata": {
        "deletable": false,
        "id": "-yyvdzHA_uJm",
        "outputId": "28b49f68-9de1-402f-ad71-9422ad88a438"
      },
      "outputs": [
        {
          "name": "stdout",
          "output_type": "stream",
          "text": [
            "<class 'pandas.core.frame.DataFrame'>\n",
            "RangeIndex: 60126 entries, 0 to 60125\n",
            "Data columns (total 7 columns):\n",
            "user_id        60126 non-null object\n",
            "track_name     60126 non-null object\n",
            "artist_name    60126 non-null object\n",
            "genre_name     60126 non-null object\n",
            "city           60126 non-null object\n",
            "time           60126 non-null object\n",
            "weekday        60126 non-null object\n",
            "dtypes: object(7)\n",
            "memory usage: 3.2+ MB\n"
          ]
        }
      ],
      "source": [
        "df.info()"
      ]
    },
    {
      "cell_type": "markdown",
      "metadata": {
        "deletable": false,
        "id": "AReHO17cMRPM"
      },
      "source": [
        "**Вывод:**\n",
        "\n",
        "На этапе предобработки в данных обнаружились не только пропуски и проблемы с названиями столбцов, но и всяческие виды дубликатов. Их удаление позволит провести анализ точнее. Поскольку сведения о жанрах важно сохранить для анализа, не просто удаляем все пропущенные значения, но заполним пропущенные имена исполнителей и названия треков. Имена столбцов теперь корректны и удобны для дальнейшей работы."
      ]
    },
    {
      "cell_type": "markdown",
      "source": [
        "# Этап 3. Анализ"
      ],
      "metadata": {
        "id": "EqU2f_kAozyW"
      }
    },
    {
      "cell_type": "markdown",
      "metadata": {
        "deletable": false,
        "editable": false,
        "id": "MF4nnd1YJUrI",
        "tags": [
          "ac8df732-1797-479a-9c4c-a03745931a9d"
        ]
      },
      "source": [
        "## Действительно ли музыку в разных городах слушают по-разному?"
      ]
    },
    {
      "cell_type": "markdown",
      "metadata": {
        "deletable": false,
        "id": "AYSL1OvyM2pL"
      },
      "source": [
        "Была выдвинута гипотеза, что в Москве и Санкт-Петербурге пользователи слушают музыку по-разному. Проверю это предположение по данным о трёх днях недели — понедельнике, среде и пятнице. Для каждого города устанавлю количество прослушанных  в эти дни композиций с известным жанром и сравнивню результаты."
      ]
    },
    {
      "cell_type": "code",
      "execution_count": null,
      "metadata": {
        "deletable": false,
        "id": "AtH_pP1i_0m1",
        "outputId": "5bf886dc-c33c-47df-aaae-472b2bc94662"
      },
      "outputs": [
        {
          "data": {
            "text/plain": [
              "city\n",
              "Moscow              41892\n",
              "Saint-Petersburg    18234\n",
              "Name: genre_name, dtype: int64"
            ]
          },
          "execution_count": 130,
          "metadata": {},
          "output_type": "execute_result"
        }
      ],
      "source": [
        "df.groupby('city')['genre_name'].count()"
      ]
    },
    {
      "cell_type": "markdown",
      "metadata": {
        "deletable": false,
        "id": "XBR226DMpIDf"
      },
      "source": [
        "В Москве прослушиваний больше, чем в Питере, но это не значит, что Москва более активна. У Яндекс.Музыки в целом больше пользователей в Москве, поэтому величины сопоставимы."
      ]
    },
    {
      "cell_type": "code",
      "execution_count": null,
      "metadata": {
        "deletable": false,
        "id": "A8E_Tb2b_3un",
        "outputId": "7eb8245c-1f75-423e-f07d-38ab7f04b9a8"
      },
      "outputs": [
        {
          "data": {
            "text/plain": [
              "weekday\n",
              "Friday       21482\n",
              "Monday       20866\n",
              "Wednesday    17778\n",
              "Name: genre_name, dtype: int64"
            ]
          },
          "execution_count": 131,
          "metadata": {},
          "output_type": "execute_result"
        }
      ],
      "source": [
        "df.groupby('weekday')['genre_name'].count()\n"
      ]
    },
    {
      "cell_type": "markdown",
      "metadata": {
        "deletable": false,
        "id": "Zhh6hehCpq_U"
      },
      "source": [
        "Понедельник и пятница — время для музыки; по средам пользователи немного больше вовлечены в работу."
      ]
    },
    {
      "cell_type": "markdown",
      "metadata": {
        "deletable": false,
        "editable": false,
        "id": "bYab2U5BNdmZ",
        "tags": [
          "bae0a168-5e2b-40f9-9701-bfb32d016517"
        ]
      },
      "source": [
        "Создаю функцию *number_tracks()*, которая возвращает количество прослушанных композиций, для которых известен жанр,  в заданный день недели в заданном городе"
      ]
    },
    {
      "cell_type": "code",
      "execution_count": null,
      "metadata": {
        "deletable": false,
        "id": "4SqpGSi5_7hA"
      },
      "outputs": [],
      "source": [
        "def number_tracks(df, day, city):\n",
        "    track_list = df[(df['weekday'] == day) & (df['city'] == city)]\n",
        "    track_list_count = track_list['genre_name'].count()\n",
        "    return track_list_count"
      ]
    },
    {
      "cell_type": "code",
      "execution_count": null,
      "metadata": {
        "deletable": false,
        "id": "1L3eJjEI5nC4",
        "outputId": "6bea92f3-b1d2-4945-db77-883520d43d75"
      },
      "outputs": [
        {
          "data": {
            "text/plain": [
              "15347"
            ]
          },
          "execution_count": 133,
          "metadata": {},
          "output_type": "execute_result"
        }
      ],
      "source": [
        "number_tracks(df, 'Monday', 'Moscow')"
      ]
    },
    {
      "cell_type": "code",
      "execution_count": null,
      "metadata": {
        "deletable": false,
        "id": "lY2MEajQ5nC4",
        "outputId": "525c45be-a8fa-4067-90cc-5fe5f9f9e7f5"
      },
      "outputs": [
        {
          "data": {
            "text/plain": [
              "5519"
            ]
          },
          "execution_count": 134,
          "metadata": {},
          "output_type": "execute_result"
        }
      ],
      "source": [
        "number_tracks(df, 'Monday', 'Saint-Petersburg')"
      ]
    },
    {
      "cell_type": "code",
      "execution_count": null,
      "metadata": {
        "deletable": false,
        "id": "Uie2-O0N5nC5",
        "outputId": "b619287a-9156-4502-9f1f-db813c0bc6a0"
      },
      "outputs": [
        {
          "data": {
            "text/plain": [
              "10865"
            ]
          },
          "execution_count": 135,
          "metadata": {},
          "output_type": "execute_result"
        }
      ],
      "source": [
        "number_tracks(df, 'Wednesday', 'Moscow')"
      ]
    },
    {
      "cell_type": "code",
      "execution_count": null,
      "metadata": {
        "deletable": false,
        "id": "HOFSGR4Y5nC5",
        "outputId": "bc3343a2-d13d-4009-f449-36c160defe08"
      },
      "outputs": [
        {
          "data": {
            "text/plain": [
              "6913"
            ]
          },
          "execution_count": 136,
          "metadata": {},
          "output_type": "execute_result"
        }
      ],
      "source": [
        "number_tracks(df, 'Wednesday', 'Saint-Petersburg')"
      ]
    },
    {
      "cell_type": "code",
      "execution_count": null,
      "metadata": {
        "deletable": false,
        "id": "Ts2ZGJE55nC5",
        "outputId": "61bdc086-55a5-411b-bed6-95e6d2eb798a"
      },
      "outputs": [
        {
          "data": {
            "text/plain": [
              "15680"
            ]
          },
          "execution_count": 137,
          "metadata": {},
          "output_type": "execute_result"
        }
      ],
      "source": [
        "number_tracks(df, 'Friday', 'Moscow')"
      ]
    },
    {
      "cell_type": "code",
      "execution_count": null,
      "metadata": {
        "deletable": false,
        "id": "KZ0jL3i25nC5",
        "outputId": "4cb0d88e-6fc2-4419-9e70-09fbedad85c2"
      },
      "outputs": [
        {
          "data": {
            "text/plain": [
              "5802"
            ]
          },
          "execution_count": 138,
          "metadata": {},
          "output_type": "execute_result"
        }
      ],
      "source": [
        "number_tracks(df, 'Friday', 'Saint-Petersburg')"
      ]
    },
    {
      "cell_type": "markdown",
      "metadata": {
        "deletable": false,
        "editable": false,
        "id": "tCB9zwzzqZ8g",
        "tags": [
          "d73e12bf-3635-484b-8fb6-c7ccc2101671"
        ]
      },
      "source": [
        "Сведу полученную информацию в одну таблицу\n"
      ]
    },
    {
      "cell_type": "code",
      "execution_count": null,
      "metadata": {
        "deletable": false,
        "id": "WxpT3KOA5nC5",
        "colab": {
          "base_uri": "https://localhost:8080/",
          "height": 112
        },
        "outputId": "fc35865c-2b2c-411a-ac74-5bbd88d7d0b5"
      },
      "outputs": [
        {
          "output_type": "execute_result",
          "data": {
            "text/html": [
              "\n",
              "  <div id=\"df-ac7004c7-e21e-49ac-93d1-3b7a51f6495e\">\n",
              "    <div class=\"colab-df-container\">\n",
              "      <div>\n",
              "<style scoped>\n",
              "    .dataframe tbody tr th:only-of-type {\n",
              "        vertical-align: middle;\n",
              "    }\n",
              "\n",
              "    .dataframe tbody tr th {\n",
              "        vertical-align: top;\n",
              "    }\n",
              "\n",
              "    .dataframe thead th {\n",
              "        text-align: right;\n",
              "    }\n",
              "</style>\n",
              "<table border=\"1\" class=\"dataframe\">\n",
              "  <thead>\n",
              "    <tr style=\"text-align: right;\">\n",
              "      <th></th>\n",
              "      <th>city</th>\n",
              "      <th>monday</th>\n",
              "      <th>wednesday</th>\n",
              "      <th>friday</th>\n",
              "    </tr>\n",
              "  </thead>\n",
              "  <tbody>\n",
              "    <tr>\n",
              "      <th>0</th>\n",
              "      <td>Moscow</td>\n",
              "      <td>15347</td>\n",
              "      <td>10865</td>\n",
              "      <td>15680</td>\n",
              "    </tr>\n",
              "    <tr>\n",
              "      <th>1</th>\n",
              "      <td>Saint-Petersburg</td>\n",
              "      <td>5519</td>\n",
              "      <td>6913</td>\n",
              "      <td>5802</td>\n",
              "    </tr>\n",
              "  </tbody>\n",
              "</table>\n",
              "</div>\n",
              "      <button class=\"colab-df-convert\" onclick=\"convertToInteractive('df-ac7004c7-e21e-49ac-93d1-3b7a51f6495e')\"\n",
              "              title=\"Convert this dataframe to an interactive table.\"\n",
              "              style=\"display:none;\">\n",
              "        \n",
              "  <svg xmlns=\"http://www.w3.org/2000/svg\" height=\"24px\"viewBox=\"0 0 24 24\"\n",
              "       width=\"24px\">\n",
              "    <path d=\"M0 0h24v24H0V0z\" fill=\"none\"/>\n",
              "    <path d=\"M18.56 5.44l.94 2.06.94-2.06 2.06-.94-2.06-.94-.94-2.06-.94 2.06-2.06.94zm-11 1L8.5 8.5l.94-2.06 2.06-.94-2.06-.94L8.5 2.5l-.94 2.06-2.06.94zm10 10l.94 2.06.94-2.06 2.06-.94-2.06-.94-.94-2.06-.94 2.06-2.06.94z\"/><path d=\"M17.41 7.96l-1.37-1.37c-.4-.4-.92-.59-1.43-.59-.52 0-1.04.2-1.43.59L10.3 9.45l-7.72 7.72c-.78.78-.78 2.05 0 2.83L4 21.41c.39.39.9.59 1.41.59.51 0 1.02-.2 1.41-.59l7.78-7.78 2.81-2.81c.8-.78.8-2.07 0-2.86zM5.41 20L4 18.59l7.72-7.72 1.47 1.35L5.41 20z\"/>\n",
              "  </svg>\n",
              "      </button>\n",
              "      \n",
              "  <style>\n",
              "    .colab-df-container {\n",
              "      display:flex;\n",
              "      flex-wrap:wrap;\n",
              "      gap: 12px;\n",
              "    }\n",
              "\n",
              "    .colab-df-convert {\n",
              "      background-color: #E8F0FE;\n",
              "      border: none;\n",
              "      border-radius: 50%;\n",
              "      cursor: pointer;\n",
              "      display: none;\n",
              "      fill: #1967D2;\n",
              "      height: 32px;\n",
              "      padding: 0 0 0 0;\n",
              "      width: 32px;\n",
              "    }\n",
              "\n",
              "    .colab-df-convert:hover {\n",
              "      background-color: #E2EBFA;\n",
              "      box-shadow: 0px 1px 2px rgba(60, 64, 67, 0.3), 0px 1px 3px 1px rgba(60, 64, 67, 0.15);\n",
              "      fill: #174EA6;\n",
              "    }\n",
              "\n",
              "    [theme=dark] .colab-df-convert {\n",
              "      background-color: #3B4455;\n",
              "      fill: #D2E3FC;\n",
              "    }\n",
              "\n",
              "    [theme=dark] .colab-df-convert:hover {\n",
              "      background-color: #434B5C;\n",
              "      box-shadow: 0px 1px 3px 1px rgba(0, 0, 0, 0.15);\n",
              "      filter: drop-shadow(0px 1px 2px rgba(0, 0, 0, 0.3));\n",
              "      fill: #FFFFFF;\n",
              "    }\n",
              "  </style>\n",
              "\n",
              "      <script>\n",
              "        const buttonEl =\n",
              "          document.querySelector('#df-ac7004c7-e21e-49ac-93d1-3b7a51f6495e button.colab-df-convert');\n",
              "        buttonEl.style.display =\n",
              "          google.colab.kernel.accessAllowed ? 'block' : 'none';\n",
              "\n",
              "        async function convertToInteractive(key) {\n",
              "          const element = document.querySelector('#df-ac7004c7-e21e-49ac-93d1-3b7a51f6495e');\n",
              "          const dataTable =\n",
              "            await google.colab.kernel.invokeFunction('convertToInteractive',\n",
              "                                                     [key], {});\n",
              "          if (!dataTable) return;\n",
              "\n",
              "          const docLinkHtml = 'Like what you see? Visit the ' +\n",
              "            '<a target=\"_blank\" href=https://colab.research.google.com/notebooks/data_table.ipynb>data table notebook</a>'\n",
              "            + ' to learn more about interactive tables.';\n",
              "          element.innerHTML = '';\n",
              "          dataTable['output_type'] = 'display_data';\n",
              "          await google.colab.output.renderOutput(dataTable, element);\n",
              "          const docLink = document.createElement('div');\n",
              "          docLink.innerHTML = docLinkHtml;\n",
              "          element.appendChild(docLink);\n",
              "        }\n",
              "      </script>\n",
              "    </div>\n",
              "  </div>\n",
              "  "
            ],
            "text/plain": [
              "               city  monday  wednesday  friday\n",
              "0            Moscow   15347      10865   15680\n",
              "1  Saint-Petersburg    5519       6913    5802"
            ]
          },
          "metadata": {},
          "execution_count": 6
        }
      ],
      "source": [
        "columns = ['city', 'monday', 'wednesday', 'friday']\n",
        "data = [['Moscow', 15347, 10865, 15680], ['Saint-Petersburg', 5519, 6913, 5802]]\n",
        "table = pd.DataFrame(data = data, columns = columns)\n",
        "table"
      ]
    },
    {
      "cell_type": "markdown",
      "metadata": {
        "deletable": false,
        "id": "LKCYeMXgqPxD"
      },
      "source": [
        "**Вывод:**\n",
        "\n",
        "Результаты показывают, что относительно среды музыку в Петербурге и Москве слушают «зеркально»: в Москве пики приходятся на понедельник и пятницу, а в среду время прослушивания снижается. Тогда как в Санкт-Петербурге среда — день самого большого интереса к музыке, а в понедельник и пятницу он меньше, причём почти одинаково меньше."
      ]
    },
    {
      "cell_type": "markdown",
      "metadata": {
        "deletable": false,
        "editable": false,
        "id": "tLdpUGyewzGf",
        "tags": [
          "1eb8124a-f066-4c43-b1f4-bc672c5efd57"
        ]
      },
      "source": [
        "## Утро понедельника и вечер пятницы — разная музыка или одна и та же?"
      ]
    },
    {
      "cell_type": "markdown",
      "metadata": {
        "deletable": false,
        "id": "SaQlxcVntL3x"
      },
      "source": [
        "Теперь найду ответ на вопрос, какие жанры преобладают в разных городах в понедельник утром и в пятницу вечером. Есть предположение, что в понедельник утром пользователи слушают больше бодрящей музыки (например, жанра поп), а вечером пятницы — больше танцевальных (например, электронику)."
      ]
    },
    {
      "cell_type": "code",
      "execution_count": null,
      "metadata": {
        "deletable": false,
        "id": "Pyz1i56nA5IS"
      },
      "outputs": [],
      "source": [
        "moscow_general = df[df['city'] == 'Moscow']"
      ]
    },
    {
      "cell_type": "code",
      "execution_count": null,
      "metadata": {
        "deletable": false,
        "id": "w3NNN-2hA-al"
      },
      "outputs": [],
      "source": [
        "spb_general = df[df['city'] == 'Saint-Petersburg']"
      ]
    },
    {
      "cell_type": "markdown",
      "metadata": {
        "deletable": false,
        "editable": false,
        "id": "duDdH_WiPLky",
        "tags": [
          "7f7cae13-ec1c-45c4-9204-0a4354fe1766"
        ]
      },
      "source": [
        "Создам функцию *genre_weekday()*, которая возвращает список жанров по запрошенному дню недели и времени суток с такого-то часа по такой-то."
      ]
    },
    {
      "cell_type": "code",
      "execution_count": null,
      "metadata": {
        "deletable": false,
        "id": "JhUdQynHBEYw"
      },
      "outputs": [],
      "source": [
        "def genre_weekday(df, day, time1, time2):\n",
        "    genre_list = df[(df['weekday'] == day) & (df['time'] > time1) & (df['time'] < time2)]\n",
        "    genre_list_sorted = genre_list.groupby('genre_name')['genre_name'].count().sort_values(ascending = False).head(10)\n",
        "    return genre_list_sorted"
      ]
    },
    {
      "cell_type": "markdown",
      "metadata": {
        "deletable": false,
        "editable": false,
        "id": "bxGC8kXkP7B-",
        "tags": [
          "63e2c3f3-fa64-4376-8221-e8b753264535"
        ]
      },
      "source": [
        "Cравню полученные результаты по таблице для Москвы и Санкт-Петербурга в понедельник утром (с 7 до 11) и в пятницу вечером (с 17 до 23)."
      ]
    },
    {
      "cell_type": "code",
      "execution_count": null,
      "metadata": {
        "deletable": false,
        "id": "kbgeq-55BLEI",
        "outputId": "4f017713-3879-4c79-9a88-f54750d474d7"
      },
      "outputs": [
        {
          "data": {
            "text/plain": [
              "genre_name\n",
              "pop            781\n",
              "dance          549\n",
              "electronic     480\n",
              "rock           474\n",
              "hiphop         286\n",
              "ruspop         186\n",
              "world          181\n",
              "rusrap         175\n",
              "alternative    164\n",
              "classical      157\n",
              "Name: genre_name, dtype: int64"
            ]
          },
          "execution_count": 143,
          "metadata": {},
          "output_type": "execute_result"
        }
      ],
      "source": [
        "genre_weekday(moscow_general, 'Monday', '07:00:00', '11:00:00')"
      ]
    },
    {
      "cell_type": "code",
      "execution_count": null,
      "metadata": {
        "deletable": false,
        "id": "XHwa8N2EBRXO",
        "outputId": "0d2382c5-af5c-4a2b-a8c4-7ddc692b5591"
      },
      "outputs": [
        {
          "data": {
            "text/plain": [
              "genre_name\n",
              "pop            218\n",
              "dance          182\n",
              "rock           162\n",
              "electronic     147\n",
              "hiphop          80\n",
              "ruspop          64\n",
              "alternative     58\n",
              "rusrap          55\n",
              "jazz            44\n",
              "classical       40\n",
              "Name: genre_name, dtype: int64"
            ]
          },
          "execution_count": 144,
          "metadata": {},
          "output_type": "execute_result"
        }
      ],
      "source": [
        "genre_weekday(spb_general, 'Monday', '07:00:00', '11:00:00')"
      ]
    },
    {
      "cell_type": "code",
      "execution_count": null,
      "metadata": {
        "deletable": false,
        "id": "YvdSbg2jBUeq",
        "outputId": "ed99ba42-b793-40c1-b3b1-1c28a99d7270"
      },
      "outputs": [
        {
          "data": {
            "text/plain": [
              "genre_name\n",
              "pop            713\n",
              "rock           517\n",
              "dance          495\n",
              "electronic     482\n",
              "hiphop         273\n",
              "world          208\n",
              "ruspop         170\n",
              "alternative    163\n",
              "classical      163\n",
              "rusrap         142\n",
              "Name: genre_name, dtype: int64"
            ]
          },
          "execution_count": 145,
          "metadata": {},
          "output_type": "execute_result"
        }
      ],
      "source": [
        "genre_weekday(moscow_general, 'Friday', '17:00:00', '23:00:00')"
      ]
    },
    {
      "cell_type": "code",
      "execution_count": null,
      "metadata": {
        "deletable": false,
        "id": "Ew3ig4fPBUeu",
        "outputId": "0fe31f94-42bd-498a-adea-511b61d3eca7"
      },
      "outputs": [
        {
          "data": {
            "text/plain": [
              "genre_name\n",
              "pop            256\n",
              "rock           216\n",
              "electronic     216\n",
              "dance          210\n",
              "hiphop          97\n",
              "alternative     63\n",
              "jazz            61\n",
              "classical       60\n",
              "rusrap          59\n",
              "world           54\n",
              "Name: genre_name, dtype: int64"
            ]
          },
          "execution_count": 146,
          "metadata": {},
          "output_type": "execute_result"
        }
      ],
      "source": [
        "genre_weekday(spb_general, 'Friday', '17:00:00', '23:00:00')"
      ]
    },
    {
      "cell_type": "markdown",
      "metadata": {
        "deletable": false,
        "id": "UenYBZTIwYT-"
      },
      "source": [
        "Популярные жанры в понедельник утром в Питере и Москве оказались похожи: везде, как и предполагалось, популярен поп. Несмотря на это, концовка топ-10 для двух городов различается: в Питере в топ-10 входит джаз и русский рэп, а в Москве жанр *world*.\n",
        "\n",
        "В конце недели ситуация не меняется. Поп-музыка всё так же на первом месте. Опять разница заметна только в концовке топ-10, где в Питере пятничным вечером тоже присутствует жанр *world*."
      ]
    },
    {
      "cell_type": "markdown",
      "metadata": {
        "deletable": false,
        "id": "MBxfrKPAykp_"
      },
      "source": [
        "**Вывод:**\n",
        "\n",
        "Жанр поп безусловный лидер, а топ-5 в целом не различается в обеих столицах. При этом видно, что концовка списка более «живая»: для каждого города выделяются более характерные жанры, которые действительно меняют свои позиции в зависимости от дня недели и времени."
      ]
    },
    {
      "cell_type": "markdown",
      "metadata": {
        "deletable": false,
        "editable": false,
        "id": "D7YMmgKRw270",
        "tags": [
          "f363205e-76b1-4883-abf1-bf21c9572dc7"
        ]
      },
      "source": [
        "## Москва и Питер — две разные столицы, два разных направления в музыке. Правда?"
      ]
    },
    {
      "cell_type": "markdown",
      "metadata": {
        "deletable": false,
        "id": "Wc5srT13zb4Z"
      },
      "source": [
        "**Гипотеза:** Питер богат своей рэп-культурой, поэтому это направление там слушают чаще, а Москва — город контрастов, но основная масса пользователей слушает попсу.\n",
        "\n"
      ]
    },
    {
      "cell_type": "code",
      "execution_count": null,
      "metadata": {
        "deletable": false,
        "id": "OohoTcsYBheo"
      },
      "outputs": [],
      "source": [
        "moscow_genres = moscow_general.groupby('genre_name')['genre_name'].count().sort_values(ascending = False)"
      ]
    },
    {
      "cell_type": "code",
      "execution_count": null,
      "metadata": {
        "deletable": false,
        "id": "h7IhIKDrBher",
        "outputId": "71f2e4a7-420e-4cfe-a75b-87658d635d6d"
      },
      "outputs": [
        {
          "data": {
            "text/plain": [
              "genre_name\n",
              "pop            5892\n",
              "dance          4435\n",
              "rock           3965\n",
              "electronic     3786\n",
              "hiphop         2096\n",
              "classical      1616\n",
              "world          1432\n",
              "alternative    1379\n",
              "ruspop         1372\n",
              "rusrap         1161\n",
              "Name: genre_name, dtype: int64"
            ]
          },
          "execution_count": 148,
          "metadata": {},
          "output_type": "execute_result"
        }
      ],
      "source": [
        "moscow_genres.head(10)"
      ]
    },
    {
      "cell_type": "code",
      "execution_count": null,
      "metadata": {
        "deletable": false,
        "id": "eQrdA85dB1LO"
      },
      "outputs": [],
      "source": [
        "spb_genres = spb_general.groupby('genre_name')['genre_name'].count().sort_values(ascending = False)"
      ]
    },
    {
      "cell_type": "code",
      "execution_count": null,
      "metadata": {
        "deletable": false,
        "id": "AE-Z-1wCB1LS",
        "outputId": "dddf88a4-4e21-4632-b504-7b0c61413df9"
      },
      "outputs": [
        {
          "data": {
            "text/plain": [
              "genre_name\n",
              "pop            2431\n",
              "dance          1932\n",
              "rock           1879\n",
              "electronic     1736\n",
              "hiphop          960\n",
              "alternative     649\n",
              "classical       646\n",
              "rusrap          564\n",
              "ruspop          538\n",
              "world           515\n",
              "Name: genre_name, dtype: int64"
            ]
          },
          "execution_count": 152,
          "metadata": {},
          "output_type": "execute_result"
        }
      ],
      "source": [
        "spb_genres.head(10)"
      ]
    },
    {
      "cell_type": "markdown",
      "metadata": {
        "deletable": false,
        "id": "J5E-kLgK2piO"
      },
      "source": [
        "**Вывод:**\n",
        "\n",
        "В Москве кроме абсолютно популярного жанра поп есть направление русской популярной музыки. Это значит, что интерес к данному жанру шире. А рэп, вопреки предположению, занимает в обоих городах близкие позиции."
      ]
    },
    {
      "cell_type": "markdown",
      "metadata": {
        "deletable": false,
        "editable": false,
        "id": "gLlT9nKMQ3ky",
        "tags": [
          "0d44c8c0-390b-4c9e-b797-ddc3993f6e58"
        ]
      },
      "source": [
        "# Этап 4. Результаты исследования\n"
      ]
    },
    {
      "cell_type": "markdown",
      "metadata": {
        "deletable": false,
        "id": "GtvyRBbD7dv5"
      },
      "source": [
        "Рабочие гипотезы:\n",
        "\n",
        "* музыку в двух городах — Москве и Санкт-Петербурге — слушают в разном режиме;\n",
        "\n",
        "* списки десяти самых популярных жанров утром в понедельник и вечером в пятницу имеют характерные отличия;\n",
        "\n",
        "* население двух городов предпочитает разные музыкальные жанры.\n",
        "\n",
        "**Общие результаты:**\n",
        "\n",
        "Москва и Петербург сходятся во вкусах: везде преобладает популярная музыка. При этом зависимости предпочтений от дня недели в каждом отдельном городе нет — люди постоянно слушают то, что им нравится. Но между городами в разрезе дней недели наблюдается зеркальность относительно среды: Москва больше слушает в понедельник и пятницу, а Петербург наоборот - больше в среду, но меньше в понедельник и пятницу.\n",
        "\n",
        "В результате первая гипотеза подтверждена, вторая гипотеза не подтверждена и третья не подтверждена."
      ]
    }
  ],
  "metadata": {
    "ExecuteTimeLog": [
      {
        "duration": 615,
        "start_time": "2021-10-17T18:22:26.433Z"
      },
      {
        "duration": 142,
        "start_time": "2021-10-17T18:22:29.261Z"
      },
      {
        "duration": 17,
        "start_time": "2021-10-17T18:22:32.091Z"
      },
      {
        "duration": 25,
        "start_time": "2021-10-17T18:24:11.585Z"
      },
      {
        "duration": 4,
        "start_time": "2021-10-17T18:42:41.936Z"
      },
      {
        "duration": 3,
        "start_time": "2021-10-17T18:47:37.338Z"
      },
      {
        "duration": 4,
        "start_time": "2021-10-17T18:48:45.369Z"
      },
      {
        "duration": 5,
        "start_time": "2021-10-17T18:48:57.219Z"
      },
      {
        "duration": 4,
        "start_time": "2021-10-17T18:53:37.791Z"
      },
      {
        "duration": 5,
        "start_time": "2021-10-17T18:53:42.908Z"
      },
      {
        "duration": 417,
        "start_time": "2021-10-18T09:48:36.976Z"
      },
      {
        "duration": 675,
        "start_time": "2021-10-18T09:49:05.347Z"
      },
      {
        "duration": 131,
        "start_time": "2021-10-18T09:49:06.024Z"
      },
      {
        "duration": 15,
        "start_time": "2021-10-18T09:49:06.157Z"
      },
      {
        "duration": 25,
        "start_time": "2021-10-18T09:49:06.177Z"
      },
      {
        "duration": 3,
        "start_time": "2021-10-18T09:49:06.204Z"
      },
      {
        "duration": 4,
        "start_time": "2021-10-18T09:49:06.209Z"
      },
      {
        "duration": 6,
        "start_time": "2021-10-18T09:49:06.215Z"
      },
      {
        "duration": 22,
        "start_time": "2021-10-18T09:49:06.223Z"
      },
      {
        "duration": 30,
        "start_time": "2021-10-18T09:49:06.247Z"
      },
      {
        "duration": 4,
        "start_time": "2021-10-18T09:49:06.279Z"
      },
      {
        "duration": 6,
        "start_time": "2021-10-18T09:49:06.285Z"
      },
      {
        "duration": 6,
        "start_time": "2021-10-18T09:49:06.292Z"
      },
      {
        "duration": 4,
        "start_time": "2021-10-18T09:49:06.300Z"
      },
      {
        "duration": 5,
        "start_time": "2021-10-18T09:49:06.305Z"
      },
      {
        "duration": 3,
        "start_time": "2021-10-18T09:49:06.312Z"
      },
      {
        "duration": 6,
        "start_time": "2021-10-18T09:49:06.317Z"
      },
      {
        "duration": 4,
        "start_time": "2021-10-18T09:49:06.325Z"
      },
      {
        "duration": 14,
        "start_time": "2021-10-18T09:49:06.331Z"
      },
      {
        "duration": 4,
        "start_time": "2021-10-18T09:49:06.346Z"
      },
      {
        "duration": 5,
        "start_time": "2021-10-18T09:49:06.352Z"
      },
      {
        "duration": 9,
        "start_time": "2021-10-18T09:49:06.358Z"
      },
      {
        "duration": 2,
        "start_time": "2021-10-18T09:49:06.376Z"
      },
      {
        "duration": 5,
        "start_time": "2021-10-18T09:49:06.381Z"
      },
      {
        "duration": 4,
        "start_time": "2021-10-18T09:49:06.387Z"
      },
      {
        "duration": 4,
        "start_time": "2021-10-18T09:49:06.392Z"
      },
      {
        "duration": 5,
        "start_time": "2021-10-18T09:49:06.398Z"
      },
      {
        "duration": 4,
        "start_time": "2021-10-18T09:49:06.404Z"
      },
      {
        "duration": 7,
        "start_time": "2021-10-18T09:49:06.410Z"
      },
      {
        "duration": 4,
        "start_time": "2021-10-18T09:49:06.418Z"
      },
      {
        "duration": 10,
        "start_time": "2021-10-18T09:49:06.423Z"
      },
      {
        "duration": 5,
        "start_time": "2021-10-18T09:49:06.435Z"
      },
      {
        "duration": 5,
        "start_time": "2021-10-18T09:49:06.442Z"
      },
      {
        "duration": 6,
        "start_time": "2021-10-18T09:49:06.448Z"
      },
      {
        "duration": 4,
        "start_time": "2021-10-18T09:49:06.455Z"
      },
      {
        "duration": 16,
        "start_time": "2021-10-18T09:49:06.461Z"
      },
      {
        "duration": 8,
        "start_time": "2021-10-18T09:49:06.478Z"
      },
      {
        "duration": 4,
        "start_time": "2021-10-18T09:49:06.487Z"
      },
      {
        "duration": 6,
        "start_time": "2021-10-18T09:49:06.493Z"
      },
      {
        "duration": 5,
        "start_time": "2021-10-18T09:49:06.500Z"
      },
      {
        "duration": 5,
        "start_time": "2021-10-18T09:49:06.506Z"
      },
      {
        "duration": 4,
        "start_time": "2021-10-18T09:49:06.513Z"
      },
      {
        "duration": 5,
        "start_time": "2021-10-18T09:49:06.519Z"
      },
      {
        "duration": 7,
        "start_time": "2021-10-18T09:49:06.526Z"
      },
      {
        "duration": 5,
        "start_time": "2021-10-18T09:49:06.534Z"
      },
      {
        "duration": 6,
        "start_time": "2021-10-18T09:49:06.540Z"
      },
      {
        "duration": 11,
        "start_time": "2021-10-18T09:51:20.005Z"
      },
      {
        "duration": 8,
        "start_time": "2021-10-18T09:51:59.951Z"
      },
      {
        "duration": 341,
        "start_time": "2021-10-18T09:52:39.855Z"
      },
      {
        "duration": 21,
        "start_time": "2021-10-18T09:52:48.760Z"
      },
      {
        "duration": 16,
        "start_time": "2021-10-18T09:57:44.462Z"
      },
      {
        "duration": 20,
        "start_time": "2021-10-18T09:57:47.003Z"
      },
      {
        "duration": 288,
        "start_time": "2021-10-18T11:58:49.243Z"
      },
      {
        "duration": 663,
        "start_time": "2021-10-18T12:02:16.984Z"
      },
      {
        "duration": 138,
        "start_time": "2021-10-18T12:02:17.649Z"
      },
      {
        "duration": 21,
        "start_time": "2021-10-18T12:02:17.789Z"
      },
      {
        "duration": 35,
        "start_time": "2021-10-18T12:02:17.812Z"
      },
      {
        "duration": 4,
        "start_time": "2021-10-18T12:02:17.848Z"
      },
      {
        "duration": 5,
        "start_time": "2021-10-18T12:02:17.853Z"
      },
      {
        "duration": 8,
        "start_time": "2021-10-18T12:02:17.859Z"
      },
      {
        "duration": 24,
        "start_time": "2021-10-18T12:02:17.869Z"
      },
      {
        "duration": 15,
        "start_time": "2021-10-18T12:02:17.895Z"
      },
      {
        "duration": 15,
        "start_time": "2021-10-18T12:02:17.912Z"
      },
      {
        "duration": 32,
        "start_time": "2021-10-18T12:02:17.929Z"
      },
      {
        "duration": 16,
        "start_time": "2021-10-18T12:02:17.962Z"
      },
      {
        "duration": 21,
        "start_time": "2021-10-18T12:02:17.979Z"
      },
      {
        "duration": 84,
        "start_time": "2021-10-18T12:02:18.001Z"
      },
      {
        "duration": 2,
        "start_time": "2021-10-18T12:02:18.087Z"
      },
      {
        "duration": 6,
        "start_time": "2021-10-18T12:02:18.091Z"
      },
      {
        "duration": 5,
        "start_time": "2021-10-18T12:02:18.099Z"
      },
      {
        "duration": 11,
        "start_time": "2021-10-18T12:02:18.106Z"
      },
      {
        "duration": 9,
        "start_time": "2021-10-18T12:02:18.118Z"
      },
      {
        "duration": 6,
        "start_time": "2021-10-18T12:02:18.129Z"
      },
      {
        "duration": 7,
        "start_time": "2021-10-18T12:02:18.137Z"
      },
      {
        "duration": 7,
        "start_time": "2021-10-18T12:02:18.146Z"
      },
      {
        "duration": 4,
        "start_time": "2021-10-18T12:02:18.157Z"
      },
      {
        "duration": 4,
        "start_time": "2021-10-18T12:02:18.162Z"
      },
      {
        "duration": 12,
        "start_time": "2021-10-18T12:02:18.168Z"
      },
      {
        "duration": 8,
        "start_time": "2021-10-18T12:02:18.182Z"
      },
      {
        "duration": 8,
        "start_time": "2021-10-18T12:02:18.191Z"
      },
      {
        "duration": 4,
        "start_time": "2021-10-18T12:02:18.201Z"
      },
      {
        "duration": 4,
        "start_time": "2021-10-18T12:02:18.207Z"
      },
      {
        "duration": 5,
        "start_time": "2021-10-18T12:02:18.213Z"
      },
      {
        "duration": 5,
        "start_time": "2021-10-18T12:02:18.219Z"
      },
      {
        "duration": 19,
        "start_time": "2021-10-18T12:02:18.225Z"
      },
      {
        "duration": 7,
        "start_time": "2021-10-18T12:02:18.246Z"
      },
      {
        "duration": 5,
        "start_time": "2021-10-18T12:02:18.254Z"
      },
      {
        "duration": 5,
        "start_time": "2021-10-18T12:02:18.260Z"
      },
      {
        "duration": 6,
        "start_time": "2021-10-18T12:02:18.266Z"
      },
      {
        "duration": 9,
        "start_time": "2021-10-18T12:02:18.273Z"
      },
      {
        "duration": 10,
        "start_time": "2021-10-18T12:02:18.283Z"
      },
      {
        "duration": 12,
        "start_time": "2021-10-18T12:02:18.295Z"
      },
      {
        "duration": 6,
        "start_time": "2021-10-18T12:02:18.308Z"
      },
      {
        "duration": 5,
        "start_time": "2021-10-18T12:02:18.315Z"
      },
      {
        "duration": 6,
        "start_time": "2021-10-18T12:02:18.321Z"
      },
      {
        "duration": 4,
        "start_time": "2021-10-18T12:02:18.329Z"
      },
      {
        "duration": 11,
        "start_time": "2021-10-18T12:02:18.335Z"
      },
      {
        "duration": 16,
        "start_time": "2021-10-18T12:02:18.347Z"
      },
      {
        "duration": 76,
        "start_time": "2021-10-18T12:03:13.134Z"
      },
      {
        "duration": 56,
        "start_time": "2021-10-18T12:03:36.880Z"
      },
      {
        "duration": 2,
        "start_time": "2021-10-18T12:03:51.650Z"
      },
      {
        "duration": 158,
        "start_time": "2021-10-18T12:03:51.654Z"
      },
      {
        "duration": 10,
        "start_time": "2021-10-18T12:03:51.814Z"
      },
      {
        "duration": 40,
        "start_time": "2021-10-18T12:03:51.825Z"
      },
      {
        "duration": 4,
        "start_time": "2021-10-18T12:03:51.866Z"
      },
      {
        "duration": 5,
        "start_time": "2021-10-18T12:03:51.871Z"
      },
      {
        "duration": 5,
        "start_time": "2021-10-18T12:03:51.878Z"
      },
      {
        "duration": 26,
        "start_time": "2021-10-18T12:03:51.885Z"
      },
      {
        "duration": 32,
        "start_time": "2021-10-18T12:03:51.913Z"
      },
      {
        "duration": 60,
        "start_time": "2021-10-18T12:03:51.947Z"
      },
      {
        "duration": 31,
        "start_time": "2021-10-18T12:03:52.008Z"
      },
      {
        "duration": 23,
        "start_time": "2021-10-18T12:03:52.041Z"
      },
      {
        "duration": 43,
        "start_time": "2021-10-18T12:03:52.066Z"
      },
      {
        "duration": 63,
        "start_time": "2021-10-18T12:03:52.111Z"
      },
      {
        "duration": 72,
        "start_time": "2021-10-18T12:03:52.175Z"
      },
      {
        "duration": 53,
        "start_time": "2021-10-18T12:03:52.248Z"
      },
      {
        "duration": 2,
        "start_time": "2021-10-18T12:03:52.302Z"
      },
      {
        "duration": 17,
        "start_time": "2021-10-18T12:03:52.306Z"
      },
      {
        "duration": 12,
        "start_time": "2021-10-18T12:03:52.325Z"
      },
      {
        "duration": 11,
        "start_time": "2021-10-18T12:03:52.338Z"
      },
      {
        "duration": 23,
        "start_time": "2021-10-18T12:03:52.350Z"
      },
      {
        "duration": 21,
        "start_time": "2021-10-18T12:03:52.375Z"
      },
      {
        "duration": 14,
        "start_time": "2021-10-18T12:03:52.398Z"
      },
      {
        "duration": 10,
        "start_time": "2021-10-18T12:03:52.413Z"
      },
      {
        "duration": 21,
        "start_time": "2021-10-18T12:03:52.425Z"
      },
      {
        "duration": 13,
        "start_time": "2021-10-18T12:03:52.448Z"
      },
      {
        "duration": 7,
        "start_time": "2021-10-18T12:03:52.465Z"
      },
      {
        "duration": 23,
        "start_time": "2021-10-18T12:03:52.473Z"
      },
      {
        "duration": 33,
        "start_time": "2021-10-18T12:03:52.498Z"
      },
      {
        "duration": 16,
        "start_time": "2021-10-18T12:03:52.533Z"
      },
      {
        "duration": 14,
        "start_time": "2021-10-18T12:03:52.551Z"
      },
      {
        "duration": 7,
        "start_time": "2021-10-18T12:03:52.567Z"
      },
      {
        "duration": 19,
        "start_time": "2021-10-18T12:03:52.576Z"
      },
      {
        "duration": 26,
        "start_time": "2021-10-18T12:03:52.596Z"
      },
      {
        "duration": 5,
        "start_time": "2021-10-18T12:03:52.623Z"
      },
      {
        "duration": 6,
        "start_time": "2021-10-18T12:03:52.629Z"
      },
      {
        "duration": 4,
        "start_time": "2021-10-18T12:03:52.636Z"
      },
      {
        "duration": 6,
        "start_time": "2021-10-18T12:03:52.642Z"
      },
      {
        "duration": 6,
        "start_time": "2021-10-18T12:03:52.649Z"
      },
      {
        "duration": 9,
        "start_time": "2021-10-18T12:03:52.657Z"
      },
      {
        "duration": 8,
        "start_time": "2021-10-18T12:03:52.667Z"
      },
      {
        "duration": 8,
        "start_time": "2021-10-18T12:03:52.676Z"
      },
      {
        "duration": 5,
        "start_time": "2021-10-18T12:03:52.685Z"
      },
      {
        "duration": 11,
        "start_time": "2021-10-18T12:03:52.691Z"
      },
      {
        "duration": 8,
        "start_time": "2021-10-18T12:03:52.703Z"
      },
      {
        "duration": 63,
        "start_time": "2021-10-18T12:04:38.757Z"
      },
      {
        "duration": 60,
        "start_time": "2021-10-18T12:05:10.740Z"
      },
      {
        "duration": 50,
        "start_time": "2021-10-18T12:05:16.244Z"
      },
      {
        "duration": 6,
        "start_time": "2021-10-18T12:07:52.349Z"
      },
      {
        "duration": 335,
        "start_time": "2021-10-18T12:16:30.755Z"
      },
      {
        "duration": 84,
        "start_time": "2021-10-18T12:16:51.271Z"
      },
      {
        "duration": 85,
        "start_time": "2021-10-18T12:19:46.909Z"
      },
      {
        "duration": 120,
        "start_time": "2021-10-18T12:20:03.419Z"
      },
      {
        "duration": 3,
        "start_time": "2021-10-18T12:20:10.579Z"
      },
      {
        "duration": 3,
        "start_time": "2021-10-18T12:20:42.026Z"
      },
      {
        "duration": 3,
        "start_time": "2021-10-18T12:21:56.453Z"
      },
      {
        "duration": 3,
        "start_time": "2021-10-18T15:38:45.553Z"
      },
      {
        "duration": 2,
        "start_time": "2021-10-18T15:38:52.242Z"
      },
      {
        "duration": 152,
        "start_time": "2021-10-18T15:38:52.246Z"
      },
      {
        "duration": 10,
        "start_time": "2021-10-18T15:38:52.401Z"
      },
      {
        "duration": 66,
        "start_time": "2021-10-18T15:38:52.413Z"
      },
      {
        "duration": 29,
        "start_time": "2021-10-18T15:38:52.481Z"
      },
      {
        "duration": 17,
        "start_time": "2021-10-18T15:38:52.512Z"
      },
      {
        "duration": 51,
        "start_time": "2021-10-18T15:38:52.530Z"
      },
      {
        "duration": 46,
        "start_time": "2021-10-18T15:38:52.584Z"
      },
      {
        "duration": 27,
        "start_time": "2021-10-18T15:38:52.632Z"
      },
      {
        "duration": 30,
        "start_time": "2021-10-18T15:38:52.661Z"
      },
      {
        "duration": 39,
        "start_time": "2021-10-18T15:38:52.693Z"
      },
      {
        "duration": 33,
        "start_time": "2021-10-18T15:38:52.733Z"
      },
      {
        "duration": 41,
        "start_time": "2021-10-18T15:38:52.767Z"
      },
      {
        "duration": 76,
        "start_time": "2021-10-18T15:38:52.810Z"
      },
      {
        "duration": 60,
        "start_time": "2021-10-18T15:38:52.888Z"
      },
      {
        "duration": 45,
        "start_time": "2021-10-18T15:38:52.949Z"
      },
      {
        "duration": 4,
        "start_time": "2021-10-18T15:38:52.996Z"
      },
      {
        "duration": 32,
        "start_time": "2021-10-18T15:38:53.002Z"
      },
      {
        "duration": 22,
        "start_time": "2021-10-18T15:38:53.035Z"
      },
      {
        "duration": 24,
        "start_time": "2021-10-18T15:38:53.058Z"
      },
      {
        "duration": 15,
        "start_time": "2021-10-18T15:38:53.083Z"
      },
      {
        "duration": 17,
        "start_time": "2021-10-18T15:38:53.099Z"
      },
      {
        "duration": 30,
        "start_time": "2021-10-18T15:38:53.120Z"
      },
      {
        "duration": 16,
        "start_time": "2021-10-18T15:38:53.152Z"
      },
      {
        "duration": 5,
        "start_time": "2021-10-18T15:38:53.170Z"
      },
      {
        "duration": 47,
        "start_time": "2021-10-18T15:38:53.176Z"
      },
      {
        "duration": 17,
        "start_time": "2021-10-18T15:38:53.224Z"
      },
      {
        "duration": 41,
        "start_time": "2021-10-18T15:38:53.242Z"
      },
      {
        "duration": 37,
        "start_time": "2021-10-18T15:38:53.285Z"
      },
      {
        "duration": 14,
        "start_time": "2021-10-18T15:38:53.324Z"
      },
      {
        "duration": 38,
        "start_time": "2021-10-18T15:38:53.340Z"
      },
      {
        "duration": 33,
        "start_time": "2021-10-18T15:38:53.380Z"
      },
      {
        "duration": 28,
        "start_time": "2021-10-18T15:38:53.414Z"
      },
      {
        "duration": 39,
        "start_time": "2021-10-18T15:38:53.443Z"
      },
      {
        "duration": 31,
        "start_time": "2021-10-18T15:38:53.483Z"
      },
      {
        "duration": 30,
        "start_time": "2021-10-18T15:38:53.515Z"
      },
      {
        "duration": 22,
        "start_time": "2021-10-18T15:38:53.547Z"
      },
      {
        "duration": 27,
        "start_time": "2021-10-18T15:38:53.570Z"
      },
      {
        "duration": 24,
        "start_time": "2021-10-18T15:38:53.599Z"
      },
      {
        "duration": 25,
        "start_time": "2021-10-18T15:38:53.625Z"
      },
      {
        "duration": 43,
        "start_time": "2021-10-18T15:38:53.651Z"
      },
      {
        "duration": 40,
        "start_time": "2021-10-18T15:38:53.696Z"
      },
      {
        "duration": 27,
        "start_time": "2021-10-18T15:38:53.738Z"
      },
      {
        "duration": 32,
        "start_time": "2021-10-18T15:38:53.766Z"
      },
      {
        "duration": 29,
        "start_time": "2021-10-18T15:38:53.800Z"
      },
      {
        "duration": 3,
        "start_time": "2021-10-18T15:39:25.496Z"
      },
      {
        "duration": 3,
        "start_time": "2021-10-18T15:43:40.248Z"
      },
      {
        "duration": 328,
        "start_time": "2021-10-18T15:44:19.955Z"
      },
      {
        "duration": 4,
        "start_time": "2021-10-18T15:44:34.962Z"
      },
      {
        "duration": 4,
        "start_time": "2021-10-18T15:44:46.417Z"
      },
      {
        "duration": 4,
        "start_time": "2021-10-18T15:45:02.879Z"
      },
      {
        "duration": 2,
        "start_time": "2021-10-18T15:48:53.861Z"
      },
      {
        "duration": 3,
        "start_time": "2021-10-18T15:53:40.342Z"
      },
      {
        "duration": 3,
        "start_time": "2021-10-18T15:56:59.671Z"
      },
      {
        "duration": 3,
        "start_time": "2021-10-18T16:05:53.346Z"
      },
      {
        "duration": 4,
        "start_time": "2021-10-18T16:07:05.489Z"
      },
      {
        "duration": 3,
        "start_time": "2021-10-18T16:11:55.572Z"
      },
      {
        "duration": 85,
        "start_time": "2021-10-18T16:30:56.219Z"
      },
      {
        "duration": 20,
        "start_time": "2021-10-18T16:31:20.729Z"
      },
      {
        "duration": 13,
        "start_time": "2021-10-18T16:31:59.367Z"
      },
      {
        "duration": 3,
        "start_time": "2021-10-18T16:32:10.585Z"
      },
      {
        "duration": 136,
        "start_time": "2021-10-18T16:32:10.590Z"
      },
      {
        "duration": 18,
        "start_time": "2021-10-18T16:32:10.728Z"
      },
      {
        "duration": 33,
        "start_time": "2021-10-18T16:32:10.748Z"
      },
      {
        "duration": 5,
        "start_time": "2021-10-18T16:32:10.783Z"
      },
      {
        "duration": 9,
        "start_time": "2021-10-18T16:32:10.789Z"
      },
      {
        "duration": 7,
        "start_time": "2021-10-18T16:32:10.799Z"
      },
      {
        "duration": 24,
        "start_time": "2021-10-18T16:32:10.807Z"
      },
      {
        "duration": 18,
        "start_time": "2021-10-18T16:32:10.834Z"
      },
      {
        "duration": 10,
        "start_time": "2021-10-18T16:32:10.854Z"
      },
      {
        "duration": 24,
        "start_time": "2021-10-18T16:32:10.865Z"
      },
      {
        "duration": 15,
        "start_time": "2021-10-18T16:32:10.890Z"
      },
      {
        "duration": 38,
        "start_time": "2021-10-18T16:32:10.907Z"
      },
      {
        "duration": 52,
        "start_time": "2021-10-18T16:32:10.947Z"
      },
      {
        "duration": 81,
        "start_time": "2021-10-18T16:32:11.001Z"
      },
      {
        "duration": 47,
        "start_time": "2021-10-18T16:32:11.083Z"
      },
      {
        "duration": 14,
        "start_time": "2021-10-18T16:32:11.132Z"
      },
      {
        "duration": 3,
        "start_time": "2021-10-18T16:32:11.148Z"
      },
      {
        "duration": 17,
        "start_time": "2021-10-18T16:32:11.153Z"
      },
      {
        "duration": 15,
        "start_time": "2021-10-18T16:32:11.172Z"
      },
      {
        "duration": 19,
        "start_time": "2021-10-18T16:32:11.189Z"
      },
      {
        "duration": 12,
        "start_time": "2021-10-18T16:32:11.210Z"
      },
      {
        "duration": 11,
        "start_time": "2021-10-18T16:32:11.224Z"
      },
      {
        "duration": 28,
        "start_time": "2021-10-18T16:32:11.236Z"
      },
      {
        "duration": 5,
        "start_time": "2021-10-18T16:32:11.266Z"
      },
      {
        "duration": 14,
        "start_time": "2021-10-18T16:32:11.273Z"
      },
      {
        "duration": 14,
        "start_time": "2021-10-18T16:32:11.290Z"
      },
      {
        "duration": 11,
        "start_time": "2021-10-18T16:32:11.306Z"
      },
      {
        "duration": 8,
        "start_time": "2021-10-18T16:32:11.319Z"
      },
      {
        "duration": 14,
        "start_time": "2021-10-18T16:32:11.329Z"
      },
      {
        "duration": 15,
        "start_time": "2021-10-18T16:32:11.344Z"
      },
      {
        "duration": 14,
        "start_time": "2021-10-18T16:32:11.361Z"
      },
      {
        "duration": 8,
        "start_time": "2021-10-18T16:32:11.377Z"
      },
      {
        "duration": 12,
        "start_time": "2021-10-18T16:32:11.387Z"
      },
      {
        "duration": 7,
        "start_time": "2021-10-18T16:32:11.400Z"
      },
      {
        "duration": 10,
        "start_time": "2021-10-18T16:32:11.408Z"
      },
      {
        "duration": 14,
        "start_time": "2021-10-18T16:32:11.419Z"
      },
      {
        "duration": 16,
        "start_time": "2021-10-18T16:32:11.434Z"
      },
      {
        "duration": 22,
        "start_time": "2021-10-18T16:32:11.451Z"
      },
      {
        "duration": 25,
        "start_time": "2021-10-18T16:32:11.475Z"
      },
      {
        "duration": 13,
        "start_time": "2021-10-18T16:32:11.502Z"
      },
      {
        "duration": 13,
        "start_time": "2021-10-18T16:32:11.517Z"
      },
      {
        "duration": 19,
        "start_time": "2021-10-18T16:32:11.531Z"
      },
      {
        "duration": 13,
        "start_time": "2021-10-18T16:32:11.551Z"
      },
      {
        "duration": 10,
        "start_time": "2021-10-18T16:32:11.566Z"
      },
      {
        "duration": 11,
        "start_time": "2021-10-18T16:40:20.092Z"
      },
      {
        "duration": 90,
        "start_time": "2021-10-18T16:46:26.905Z"
      },
      {
        "duration": 95,
        "start_time": "2021-10-18T16:46:56.679Z"
      },
      {
        "duration": 10,
        "start_time": "2021-10-18T16:47:08.006Z"
      },
      {
        "duration": 3,
        "start_time": "2021-10-18T16:48:45.302Z"
      },
      {
        "duration": 3,
        "start_time": "2021-10-18T16:49:00.323Z"
      },
      {
        "duration": 3,
        "start_time": "2021-10-18T16:49:27.256Z"
      },
      {
        "duration": 3,
        "start_time": "2021-10-18T16:50:45.169Z"
      },
      {
        "duration": 4,
        "start_time": "2021-10-18T18:38:26.183Z"
      },
      {
        "duration": 10,
        "start_time": "2021-10-18T18:38:32.032Z"
      },
      {
        "duration": 7,
        "start_time": "2021-10-18T18:44:26.569Z"
      },
      {
        "duration": 13,
        "start_time": "2021-10-18T18:45:22.849Z"
      },
      {
        "duration": 257,
        "start_time": "2021-10-18T18:46:42.905Z"
      },
      {
        "duration": 264,
        "start_time": "2021-10-18T18:46:55.473Z"
      },
      {
        "duration": 12,
        "start_time": "2021-10-18T18:47:15.864Z"
      },
      {
        "duration": 14,
        "start_time": "2021-10-18T18:48:20.411Z"
      },
      {
        "duration": 11,
        "start_time": "2021-10-18T18:48:50.826Z"
      },
      {
        "duration": 21,
        "start_time": "2021-10-18T18:52:56.403Z"
      },
      {
        "duration": 23,
        "start_time": "2021-10-18T18:54:35.613Z"
      },
      {
        "duration": 9,
        "start_time": "2021-10-18T18:55:01.966Z"
      },
      {
        "duration": 10,
        "start_time": "2021-10-18T18:55:08.373Z"
      },
      {
        "duration": 9,
        "start_time": "2021-10-18T18:55:15.932Z"
      },
      {
        "duration": 9,
        "start_time": "2021-10-18T18:55:36.830Z"
      },
      {
        "duration": 3,
        "start_time": "2021-10-18T18:55:42.706Z"
      },
      {
        "duration": 156,
        "start_time": "2021-10-18T18:55:42.711Z"
      },
      {
        "duration": 11,
        "start_time": "2021-10-18T18:55:42.869Z"
      },
      {
        "duration": 45,
        "start_time": "2021-10-18T18:55:42.883Z"
      },
      {
        "duration": 18,
        "start_time": "2021-10-18T18:55:42.930Z"
      },
      {
        "duration": 11,
        "start_time": "2021-10-18T18:55:42.950Z"
      },
      {
        "duration": 8,
        "start_time": "2021-10-18T18:55:42.964Z"
      },
      {
        "duration": 25,
        "start_time": "2021-10-18T18:55:42.975Z"
      },
      {
        "duration": 13,
        "start_time": "2021-10-18T18:55:43.001Z"
      },
      {
        "duration": 29,
        "start_time": "2021-10-18T18:55:43.016Z"
      },
      {
        "duration": 30,
        "start_time": "2021-10-18T18:55:43.047Z"
      },
      {
        "duration": 16,
        "start_time": "2021-10-18T18:55:43.079Z"
      },
      {
        "duration": 25,
        "start_time": "2021-10-18T18:55:43.096Z"
      },
      {
        "duration": 69,
        "start_time": "2021-10-18T18:55:43.123Z"
      },
      {
        "duration": 73,
        "start_time": "2021-10-18T18:55:43.194Z"
      },
      {
        "duration": 49,
        "start_time": "2021-10-18T18:55:43.269Z"
      },
      {
        "duration": 5,
        "start_time": "2021-10-18T18:55:43.320Z"
      },
      {
        "duration": 19,
        "start_time": "2021-10-18T18:55:43.326Z"
      },
      {
        "duration": 11,
        "start_time": "2021-10-18T18:55:43.349Z"
      },
      {
        "duration": 7,
        "start_time": "2021-10-18T18:55:43.362Z"
      },
      {
        "duration": 9,
        "start_time": "2021-10-18T18:55:43.371Z"
      },
      {
        "duration": 17,
        "start_time": "2021-10-18T18:55:43.381Z"
      },
      {
        "duration": 4404,
        "start_time": "2021-10-18T18:55:43.400Z"
      },
      {
        "duration": -17,
        "start_time": "2021-10-18T18:55:47.823Z"
      },
      {
        "duration": -19,
        "start_time": "2021-10-18T18:55:47.826Z"
      },
      {
        "duration": -20,
        "start_time": "2021-10-18T18:55:47.828Z"
      },
      {
        "duration": -21,
        "start_time": "2021-10-18T18:55:47.830Z"
      },
      {
        "duration": -23,
        "start_time": "2021-10-18T18:55:47.832Z"
      },
      {
        "duration": -24,
        "start_time": "2021-10-18T18:55:47.834Z"
      },
      {
        "duration": -25,
        "start_time": "2021-10-18T18:55:47.837Z"
      },
      {
        "duration": -26,
        "start_time": "2021-10-18T18:55:47.839Z"
      },
      {
        "duration": -28,
        "start_time": "2021-10-18T18:55:47.842Z"
      },
      {
        "duration": -30,
        "start_time": "2021-10-18T18:55:47.845Z"
      },
      {
        "duration": -31,
        "start_time": "2021-10-18T18:55:47.847Z"
      },
      {
        "duration": -32,
        "start_time": "2021-10-18T18:55:47.849Z"
      },
      {
        "duration": -33,
        "start_time": "2021-10-18T18:55:47.851Z"
      },
      {
        "duration": -34,
        "start_time": "2021-10-18T18:55:47.853Z"
      },
      {
        "duration": -35,
        "start_time": "2021-10-18T18:55:47.855Z"
      },
      {
        "duration": -36,
        "start_time": "2021-10-18T18:55:47.857Z"
      },
      {
        "duration": -38,
        "start_time": "2021-10-18T18:55:47.860Z"
      },
      {
        "duration": -39,
        "start_time": "2021-10-18T18:55:47.862Z"
      },
      {
        "duration": -40,
        "start_time": "2021-10-18T18:55:47.864Z"
      },
      {
        "duration": -42,
        "start_time": "2021-10-18T18:55:47.867Z"
      },
      {
        "duration": -43,
        "start_time": "2021-10-18T18:55:47.869Z"
      },
      {
        "duration": -50,
        "start_time": "2021-10-18T18:55:47.877Z"
      },
      {
        "duration": 3,
        "start_time": "2021-10-18T18:57:07.982Z"
      },
      {
        "duration": 3852,
        "start_time": "2021-10-18T18:57:11.753Z"
      },
      {
        "duration": 4,
        "start_time": "2021-10-18T18:57:45.079Z"
      },
      {
        "duration": 10,
        "start_time": "2021-10-18T18:57:47.519Z"
      },
      {
        "duration": 4,
        "start_time": "2021-10-18T18:59:00.672Z"
      },
      {
        "duration": 10,
        "start_time": "2021-10-18T18:59:26.223Z"
      },
      {
        "duration": 22,
        "start_time": "2021-10-18T18:59:29.416Z"
      },
      {
        "duration": 9,
        "start_time": "2021-10-18T18:59:36.073Z"
      },
      {
        "duration": 4,
        "start_time": "2021-10-18T19:16:35.920Z"
      },
      {
        "duration": 3,
        "start_time": "2021-10-18T19:17:11.648Z"
      },
      {
        "duration": 156,
        "start_time": "2021-10-18T19:17:11.652Z"
      },
      {
        "duration": 11,
        "start_time": "2021-10-18T19:17:11.810Z"
      },
      {
        "duration": 43,
        "start_time": "2021-10-18T19:17:11.823Z"
      },
      {
        "duration": 24,
        "start_time": "2021-10-18T19:17:11.868Z"
      },
      {
        "duration": 30,
        "start_time": "2021-10-18T19:17:11.894Z"
      },
      {
        "duration": 18,
        "start_time": "2021-10-18T19:17:11.925Z"
      },
      {
        "duration": 33,
        "start_time": "2021-10-18T19:17:11.945Z"
      },
      {
        "duration": 15,
        "start_time": "2021-10-18T19:17:11.979Z"
      },
      {
        "duration": 21,
        "start_time": "2021-10-18T19:17:11.996Z"
      },
      {
        "duration": 50,
        "start_time": "2021-10-18T19:17:12.019Z"
      },
      {
        "duration": 31,
        "start_time": "2021-10-18T19:17:12.071Z"
      },
      {
        "duration": 35,
        "start_time": "2021-10-18T19:17:12.104Z"
      },
      {
        "duration": 67,
        "start_time": "2021-10-18T19:17:12.141Z"
      },
      {
        "duration": 59,
        "start_time": "2021-10-18T19:17:12.209Z"
      },
      {
        "duration": 48,
        "start_time": "2021-10-18T19:17:12.270Z"
      },
      {
        "duration": 5,
        "start_time": "2021-10-18T19:17:12.320Z"
      },
      {
        "duration": 19,
        "start_time": "2021-10-18T19:17:12.326Z"
      },
      {
        "duration": 533,
        "start_time": "2021-10-18T19:17:12.347Z"
      },
      {
        "duration": 29,
        "start_time": "2021-10-18T19:17:12.853Z"
      },
      {
        "duration": 28,
        "start_time": "2021-10-18T19:17:12.856Z"
      },
      {
        "duration": 27,
        "start_time": "2021-10-18T19:17:12.859Z"
      },
      {
        "duration": 26,
        "start_time": "2021-10-18T19:17:12.861Z"
      },
      {
        "duration": 25,
        "start_time": "2021-10-18T19:17:12.864Z"
      },
      {
        "duration": 24,
        "start_time": "2021-10-18T19:17:12.866Z"
      },
      {
        "duration": 24,
        "start_time": "2021-10-18T19:17:12.868Z"
      },
      {
        "duration": 23,
        "start_time": "2021-10-18T19:17:12.870Z"
      },
      {
        "duration": 23,
        "start_time": "2021-10-18T19:17:12.872Z"
      },
      {
        "duration": 18,
        "start_time": "2021-10-18T19:17:12.878Z"
      },
      {
        "duration": 18,
        "start_time": "2021-10-18T19:17:12.880Z"
      },
      {
        "duration": 16,
        "start_time": "2021-10-18T19:17:12.883Z"
      },
      {
        "duration": 16,
        "start_time": "2021-10-18T19:17:12.885Z"
      },
      {
        "duration": 15,
        "start_time": "2021-10-18T19:17:12.887Z"
      },
      {
        "duration": 15,
        "start_time": "2021-10-18T19:17:12.889Z"
      },
      {
        "duration": 14,
        "start_time": "2021-10-18T19:17:12.891Z"
      },
      {
        "duration": 14,
        "start_time": "2021-10-18T19:17:12.893Z"
      },
      {
        "duration": 13,
        "start_time": "2021-10-18T19:17:12.895Z"
      },
      {
        "duration": 13,
        "start_time": "2021-10-18T19:17:12.897Z"
      },
      {
        "duration": 12,
        "start_time": "2021-10-18T19:17:12.899Z"
      },
      {
        "duration": 12,
        "start_time": "2021-10-18T19:17:12.901Z"
      },
      {
        "duration": 10,
        "start_time": "2021-10-18T19:17:12.904Z"
      },
      {
        "duration": 10,
        "start_time": "2021-10-18T19:17:12.906Z"
      },
      {
        "duration": 8,
        "start_time": "2021-10-18T19:17:12.909Z"
      },
      {
        "duration": 7,
        "start_time": "2021-10-18T19:17:12.911Z"
      },
      {
        "duration": 1,
        "start_time": "2021-10-18T19:17:12.919Z"
      },
      {
        "duration": 4,
        "start_time": "2021-10-18T19:18:12.281Z"
      },
      {
        "duration": 3,
        "start_time": "2021-10-18T19:18:16.270Z"
      },
      {
        "duration": 139,
        "start_time": "2021-10-18T19:18:16.275Z"
      },
      {
        "duration": 10,
        "start_time": "2021-10-18T19:18:16.417Z"
      },
      {
        "duration": 34,
        "start_time": "2021-10-18T19:18:16.429Z"
      },
      {
        "duration": 6,
        "start_time": "2021-10-18T19:18:16.465Z"
      },
      {
        "duration": 7,
        "start_time": "2021-10-18T19:18:16.472Z"
      },
      {
        "duration": 11,
        "start_time": "2021-10-18T19:18:16.480Z"
      },
      {
        "duration": 63,
        "start_time": "2021-10-18T19:18:16.493Z"
      },
      {
        "duration": 12,
        "start_time": "2021-10-18T19:18:16.560Z"
      },
      {
        "duration": 17,
        "start_time": "2021-10-18T19:18:16.574Z"
      },
      {
        "duration": 52,
        "start_time": "2021-10-18T19:18:16.593Z"
      },
      {
        "duration": 19,
        "start_time": "2021-10-18T19:18:16.647Z"
      },
      {
        "duration": 40,
        "start_time": "2021-10-18T19:18:16.668Z"
      },
      {
        "duration": 78,
        "start_time": "2021-10-18T19:18:16.710Z"
      },
      {
        "duration": 67,
        "start_time": "2021-10-18T19:18:16.790Z"
      },
      {
        "duration": 49,
        "start_time": "2021-10-18T19:18:16.859Z"
      },
      {
        "duration": 7,
        "start_time": "2021-10-18T19:18:16.911Z"
      },
      {
        "duration": 4,
        "start_time": "2021-10-18T19:18:16.920Z"
      },
      {
        "duration": 513,
        "start_time": "2021-10-18T19:18:16.945Z"
      },
      {
        "duration": 43,
        "start_time": "2021-10-18T19:18:17.418Z"
      },
      {
        "duration": 42,
        "start_time": "2021-10-18T19:18:17.419Z"
      },
      {
        "duration": 41,
        "start_time": "2021-10-18T19:18:17.421Z"
      },
      {
        "duration": 40,
        "start_time": "2021-10-18T19:18:17.423Z"
      },
      {
        "duration": 22,
        "start_time": "2021-10-18T19:18:17.442Z"
      },
      {
        "duration": 20,
        "start_time": "2021-10-18T19:18:17.445Z"
      },
      {
        "duration": 19,
        "start_time": "2021-10-18T19:18:17.447Z"
      },
      {
        "duration": 16,
        "start_time": "2021-10-18T19:18:17.450Z"
      },
      {
        "duration": 15,
        "start_time": "2021-10-18T19:18:17.452Z"
      },
      {
        "duration": 14,
        "start_time": "2021-10-18T19:18:17.454Z"
      },
      {
        "duration": 13,
        "start_time": "2021-10-18T19:18:17.456Z"
      },
      {
        "duration": 11,
        "start_time": "2021-10-18T19:18:17.459Z"
      },
      {
        "duration": 11,
        "start_time": "2021-10-18T19:18:17.460Z"
      },
      {
        "duration": 10,
        "start_time": "2021-10-18T19:18:17.462Z"
      },
      {
        "duration": 9,
        "start_time": "2021-10-18T19:18:17.464Z"
      },
      {
        "duration": 4,
        "start_time": "2021-10-18T19:18:17.470Z"
      },
      {
        "duration": 2,
        "start_time": "2021-10-18T19:18:17.472Z"
      },
      {
        "duration": 0,
        "start_time": "2021-10-18T19:18:17.475Z"
      },
      {
        "duration": 0,
        "start_time": "2021-10-18T19:18:17.476Z"
      },
      {
        "duration": -1,
        "start_time": "2021-10-18T19:18:17.478Z"
      },
      {
        "duration": -3,
        "start_time": "2021-10-18T19:18:17.480Z"
      },
      {
        "duration": -5,
        "start_time": "2021-10-18T19:18:17.483Z"
      },
      {
        "duration": -6,
        "start_time": "2021-10-18T19:18:17.485Z"
      },
      {
        "duration": -7,
        "start_time": "2021-10-18T19:18:17.487Z"
      },
      {
        "duration": -9,
        "start_time": "2021-10-18T19:18:17.489Z"
      },
      {
        "duration": -11,
        "start_time": "2021-10-18T19:18:17.492Z"
      },
      {
        "duration": 3,
        "start_time": "2021-10-18T19:20:15.077Z"
      },
      {
        "duration": 5,
        "start_time": "2021-10-19T09:43:30.017Z"
      },
      {
        "duration": 3,
        "start_time": "2021-10-19T09:43:39.462Z"
      },
      {
        "duration": 317,
        "start_time": "2021-10-19T09:44:51.624Z"
      },
      {
        "duration": 257,
        "start_time": "2021-10-19T09:44:56.433Z"
      },
      {
        "duration": 553,
        "start_time": "2021-10-19T09:45:02.996Z"
      },
      {
        "duration": 147,
        "start_time": "2021-10-19T09:45:03.551Z"
      },
      {
        "duration": 16,
        "start_time": "2021-10-19T09:45:03.700Z"
      },
      {
        "duration": 36,
        "start_time": "2021-10-19T09:45:03.718Z"
      },
      {
        "duration": 4,
        "start_time": "2021-10-19T09:45:03.755Z"
      },
      {
        "duration": 8,
        "start_time": "2021-10-19T09:45:03.761Z"
      },
      {
        "duration": 11,
        "start_time": "2021-10-19T09:45:03.770Z"
      },
      {
        "duration": 33,
        "start_time": "2021-10-19T09:45:03.783Z"
      },
      {
        "duration": 9,
        "start_time": "2021-10-19T09:45:03.819Z"
      },
      {
        "duration": 9,
        "start_time": "2021-10-19T09:45:03.844Z"
      },
      {
        "duration": 28,
        "start_time": "2021-10-19T09:45:03.855Z"
      },
      {
        "duration": 17,
        "start_time": "2021-10-19T09:45:03.885Z"
      },
      {
        "duration": 23,
        "start_time": "2021-10-19T09:45:03.904Z"
      },
      {
        "duration": 73,
        "start_time": "2021-10-19T09:45:03.929Z"
      },
      {
        "duration": 87,
        "start_time": "2021-10-19T09:45:04.004Z"
      },
      {
        "duration": 61,
        "start_time": "2021-10-19T09:45:04.092Z"
      },
      {
        "duration": 5,
        "start_time": "2021-10-19T09:45:04.155Z"
      },
      {
        "duration": 21,
        "start_time": "2021-10-19T09:45:04.161Z"
      },
      {
        "duration": 12,
        "start_time": "2021-10-19T09:45:04.183Z"
      },
      {
        "duration": 18,
        "start_time": "2021-10-19T09:45:04.197Z"
      },
      {
        "duration": 24,
        "start_time": "2021-10-19T09:45:04.216Z"
      },
      {
        "duration": 20,
        "start_time": "2021-10-19T09:45:04.241Z"
      },
      {
        "duration": 32,
        "start_time": "2021-10-19T09:45:04.265Z"
      },
      {
        "duration": 36,
        "start_time": "2021-10-19T09:45:04.299Z"
      },
      {
        "duration": 22,
        "start_time": "2021-10-19T09:45:04.337Z"
      },
      {
        "duration": 16,
        "start_time": "2021-10-19T09:45:04.361Z"
      },
      {
        "duration": 15,
        "start_time": "2021-10-19T09:45:04.379Z"
      },
      {
        "duration": 317,
        "start_time": "2021-10-19T09:45:04.396Z"
      },
      {
        "duration": 97,
        "start_time": "2021-10-19T09:45:04.618Z"
      },
      {
        "duration": 96,
        "start_time": "2021-10-19T09:45:04.620Z"
      },
      {
        "duration": 93,
        "start_time": "2021-10-19T09:45:04.623Z"
      },
      {
        "duration": 88,
        "start_time": "2021-10-19T09:45:04.629Z"
      },
      {
        "duration": 87,
        "start_time": "2021-10-19T09:45:04.631Z"
      },
      {
        "duration": 86,
        "start_time": "2021-10-19T09:45:04.633Z"
      },
      {
        "duration": 85,
        "start_time": "2021-10-19T09:45:04.635Z"
      },
      {
        "duration": 84,
        "start_time": "2021-10-19T09:45:04.637Z"
      },
      {
        "duration": 81,
        "start_time": "2021-10-19T09:45:04.640Z"
      },
      {
        "duration": 80,
        "start_time": "2021-10-19T09:45:04.642Z"
      },
      {
        "duration": 78,
        "start_time": "2021-10-19T09:45:04.645Z"
      },
      {
        "duration": 77,
        "start_time": "2021-10-19T09:45:04.647Z"
      },
      {
        "duration": 75,
        "start_time": "2021-10-19T09:45:04.650Z"
      },
      {
        "duration": 70,
        "start_time": "2021-10-19T09:45:04.656Z"
      },
      {
        "duration": 69,
        "start_time": "2021-10-19T09:45:04.658Z"
      },
      {
        "duration": 68,
        "start_time": "2021-10-19T09:45:04.660Z"
      },
      {
        "duration": 66,
        "start_time": "2021-10-19T09:45:04.663Z"
      },
      {
        "duration": 262,
        "start_time": "2021-10-19T09:45:10.841Z"
      },
      {
        "duration": 17,
        "start_time": "2021-10-19T09:45:31.649Z"
      },
      {
        "duration": 12,
        "start_time": "2021-10-19T09:46:54.528Z"
      },
      {
        "duration": 14,
        "start_time": "2021-10-19T09:47:17.914Z"
      },
      {
        "duration": 15,
        "start_time": "2021-10-19T09:47:42.427Z"
      },
      {
        "duration": 14,
        "start_time": "2021-10-19T09:48:01.091Z"
      },
      {
        "duration": 16,
        "start_time": "2021-10-19T09:48:11.880Z"
      },
      {
        "duration": 14,
        "start_time": "2021-10-19T09:48:38.266Z"
      },
      {
        "duration": 3,
        "start_time": "2021-10-19T10:38:10.659Z"
      },
      {
        "duration": 137,
        "start_time": "2021-10-19T10:38:10.664Z"
      },
      {
        "duration": 10,
        "start_time": "2021-10-19T10:38:10.803Z"
      },
      {
        "duration": 38,
        "start_time": "2021-10-19T10:38:10.815Z"
      },
      {
        "duration": 7,
        "start_time": "2021-10-19T10:38:10.855Z"
      },
      {
        "duration": 12,
        "start_time": "2021-10-19T10:38:10.863Z"
      },
      {
        "duration": 5,
        "start_time": "2021-10-19T10:38:10.877Z"
      },
      {
        "duration": 25,
        "start_time": "2021-10-19T10:38:10.884Z"
      },
      {
        "duration": 12,
        "start_time": "2021-10-19T10:38:10.911Z"
      },
      {
        "duration": 23,
        "start_time": "2021-10-19T10:38:10.925Z"
      },
      {
        "duration": 23,
        "start_time": "2021-10-19T10:38:10.949Z"
      },
      {
        "duration": 15,
        "start_time": "2021-10-19T10:38:10.974Z"
      },
      {
        "duration": 22,
        "start_time": "2021-10-19T10:38:10.991Z"
      },
      {
        "duration": 79,
        "start_time": "2021-10-19T10:38:11.014Z"
      },
      {
        "duration": 64,
        "start_time": "2021-10-19T10:38:11.094Z"
      },
      {
        "duration": 47,
        "start_time": "2021-10-19T10:38:11.159Z"
      },
      {
        "duration": 5,
        "start_time": "2021-10-19T10:38:11.208Z"
      },
      {
        "duration": 4,
        "start_time": "2021-10-19T10:38:11.215Z"
      },
      {
        "duration": 23,
        "start_time": "2021-10-19T10:38:11.222Z"
      },
      {
        "duration": 13,
        "start_time": "2021-10-19T10:38:11.247Z"
      },
      {
        "duration": 5,
        "start_time": "2021-10-19T10:38:11.262Z"
      },
      {
        "duration": 3,
        "start_time": "2021-10-19T10:38:11.269Z"
      },
      {
        "duration": 12,
        "start_time": "2021-10-19T10:38:11.274Z"
      },
      {
        "duration": 21,
        "start_time": "2021-10-19T10:38:11.288Z"
      },
      {
        "duration": 12,
        "start_time": "2021-10-19T10:38:11.311Z"
      },
      {
        "duration": 10,
        "start_time": "2021-10-19T10:38:11.345Z"
      },
      {
        "duration": 3,
        "start_time": "2021-10-19T10:38:11.357Z"
      },
      {
        "duration": 17,
        "start_time": "2021-10-19T10:38:11.362Z"
      },
      {
        "duration": 15,
        "start_time": "2021-10-19T10:38:11.381Z"
      },
      {
        "duration": 18,
        "start_time": "2021-10-19T10:38:11.398Z"
      },
      {
        "duration": 15,
        "start_time": "2021-10-19T10:38:11.445Z"
      },
      {
        "duration": 23,
        "start_time": "2021-10-19T10:38:11.461Z"
      },
      {
        "duration": 13,
        "start_time": "2021-10-19T10:38:11.486Z"
      },
      {
        "duration": 7,
        "start_time": "2021-10-19T10:38:11.501Z"
      },
      {
        "duration": 18,
        "start_time": "2021-10-19T10:38:11.510Z"
      },
      {
        "duration": 25,
        "start_time": "2021-10-19T10:38:11.530Z"
      },
      {
        "duration": 18,
        "start_time": "2021-10-19T10:38:11.557Z"
      },
      {
        "duration": 11,
        "start_time": "2021-10-19T10:38:11.577Z"
      },
      {
        "duration": 17,
        "start_time": "2021-10-19T10:38:11.590Z"
      },
      {
        "duration": 8,
        "start_time": "2021-10-19T10:38:11.608Z"
      },
      {
        "duration": 16,
        "start_time": "2021-10-19T10:38:11.618Z"
      },
      {
        "duration": 19,
        "start_time": "2021-10-19T10:38:11.636Z"
      },
      {
        "duration": 14,
        "start_time": "2021-10-19T10:38:11.657Z"
      },
      {
        "duration": 7,
        "start_time": "2021-10-19T10:38:11.673Z"
      },
      {
        "duration": 6,
        "start_time": "2021-10-19T10:38:11.681Z"
      },
      {
        "duration": 5,
        "start_time": "2021-10-19T10:42:01.576Z"
      },
      {
        "duration": 10,
        "start_time": "2021-10-19T10:45:42.109Z"
      },
      {
        "duration": 247,
        "start_time": "2021-10-19T10:46:44.387Z"
      },
      {
        "duration": 9,
        "start_time": "2021-10-19T10:47:23.691Z"
      },
      {
        "duration": 3,
        "start_time": "2021-10-19T10:56:43.043Z"
      },
      {
        "duration": 3,
        "start_time": "2021-10-19T10:59:15.891Z"
      },
      {
        "duration": 835,
        "start_time": "2021-10-19T11:01:13.746Z"
      },
      {
        "duration": 5,
        "start_time": "2021-10-19T11:02:17.201Z"
      },
      {
        "duration": 680,
        "start_time": "2021-10-19T11:02:23.786Z"
      },
      {
        "duration": 5,
        "start_time": "2021-10-19T11:03:13.105Z"
      },
      {
        "duration": 549,
        "start_time": "2021-10-19T11:06:00.690Z"
      },
      {
        "duration": 586,
        "start_time": "2021-10-19T11:06:04.298Z"
      },
      {
        "duration": 527,
        "start_time": "2021-10-19T11:06:06.964Z"
      },
      {
        "duration": 3,
        "start_time": "2021-10-19T11:08:20.084Z"
      },
      {
        "duration": 19,
        "start_time": "2021-10-19T11:08:22.329Z"
      },
      {
        "duration": 14,
        "start_time": "2021-10-19T11:08:24.368Z"
      },
      {
        "duration": 19,
        "start_time": "2021-10-19T11:08:26.752Z"
      },
      {
        "duration": 12,
        "start_time": "2021-10-19T11:08:28.976Z"
      },
      {
        "duration": 7,
        "start_time": "2021-10-19T11:14:15.484Z"
      },
      {
        "duration": 5,
        "start_time": "2021-10-19T11:14:28.208Z"
      },
      {
        "duration": 3,
        "start_time": "2021-10-19T11:16:04.047Z"
      },
      {
        "duration": 170,
        "start_time": "2021-10-19T11:16:04.052Z"
      },
      {
        "duration": 10,
        "start_time": "2021-10-19T11:16:04.223Z"
      },
      {
        "duration": 55,
        "start_time": "2021-10-19T11:16:04.235Z"
      },
      {
        "duration": 16,
        "start_time": "2021-10-19T11:16:04.292Z"
      },
      {
        "duration": 12,
        "start_time": "2021-10-19T11:16:04.310Z"
      },
      {
        "duration": 7,
        "start_time": "2021-10-19T11:16:04.324Z"
      },
      {
        "duration": 44,
        "start_time": "2021-10-19T11:16:04.333Z"
      },
      {
        "duration": 11,
        "start_time": "2021-10-19T11:16:04.378Z"
      },
      {
        "duration": 27,
        "start_time": "2021-10-19T11:16:04.391Z"
      },
      {
        "duration": 54,
        "start_time": "2021-10-19T11:16:04.420Z"
      },
      {
        "duration": 31,
        "start_time": "2021-10-19T11:16:04.476Z"
      },
      {
        "duration": 40,
        "start_time": "2021-10-19T11:16:04.509Z"
      },
      {
        "duration": 84,
        "start_time": "2021-10-19T11:16:04.552Z"
      },
      {
        "duration": 73,
        "start_time": "2021-10-19T11:16:04.637Z"
      },
      {
        "duration": 54,
        "start_time": "2021-10-19T11:16:04.712Z"
      },
      {
        "duration": 5,
        "start_time": "2021-10-19T11:16:04.768Z"
      },
      {
        "duration": 16,
        "start_time": "2021-10-19T11:16:04.774Z"
      },
      {
        "duration": 19,
        "start_time": "2021-10-19T11:16:04.793Z"
      },
      {
        "duration": 14,
        "start_time": "2021-10-19T11:16:04.814Z"
      },
      {
        "duration": 17,
        "start_time": "2021-10-19T11:16:04.830Z"
      },
      {
        "duration": 14,
        "start_time": "2021-10-19T11:16:04.850Z"
      },
      {
        "duration": 21,
        "start_time": "2021-10-19T11:16:04.866Z"
      },
      {
        "duration": 21,
        "start_time": "2021-10-19T11:16:04.889Z"
      },
      {
        "duration": 10,
        "start_time": "2021-10-19T11:16:04.912Z"
      },
      {
        "duration": 11,
        "start_time": "2021-10-19T11:16:04.924Z"
      },
      {
        "duration": 5,
        "start_time": "2021-10-19T11:16:04.950Z"
      },
      {
        "duration": 26,
        "start_time": "2021-10-19T11:16:04.957Z"
      },
      {
        "duration": 16,
        "start_time": "2021-10-19T11:16:04.985Z"
      },
      {
        "duration": 17,
        "start_time": "2021-10-19T11:16:05.003Z"
      },
      {
        "duration": 46,
        "start_time": "2021-10-19T11:16:05.022Z"
      },
      {
        "duration": 19,
        "start_time": "2021-10-19T11:16:05.070Z"
      },
      {
        "duration": 17,
        "start_time": "2021-10-19T11:16:05.090Z"
      },
      {
        "duration": 13,
        "start_time": "2021-10-19T11:16:05.109Z"
      },
      {
        "duration": 28,
        "start_time": "2021-10-19T11:16:05.124Z"
      },
      {
        "duration": 13,
        "start_time": "2021-10-19T11:16:05.155Z"
      },
      {
        "duration": 14,
        "start_time": "2021-10-19T11:16:05.170Z"
      },
      {
        "duration": 28,
        "start_time": "2021-10-19T11:16:05.186Z"
      },
      {
        "duration": 20,
        "start_time": "2021-10-19T11:16:05.216Z"
      },
      {
        "duration": 35,
        "start_time": "2021-10-19T11:16:05.238Z"
      },
      {
        "duration": 20,
        "start_time": "2021-10-19T11:16:05.275Z"
      },
      {
        "duration": 15,
        "start_time": "2021-10-19T11:16:05.297Z"
      },
      {
        "duration": 11,
        "start_time": "2021-10-19T11:16:05.314Z"
      },
      {
        "duration": 16,
        "start_time": "2021-10-19T11:16:05.326Z"
      },
      {
        "duration": 21,
        "start_time": "2021-10-19T11:16:05.344Z"
      },
      {
        "duration": 8,
        "start_time": "2021-10-19T11:17:34.429Z"
      },
      {
        "duration": 6,
        "start_time": "2021-10-19T11:17:47.396Z"
      }
    ],
    "kernelspec": {
      "display_name": "Python 3 (ipykernel)",
      "language": "python",
      "name": "python3"
    },
    "language_info": {
      "codemirror_mode": {
        "name": "ipython",
        "version": 3
      },
      "file_extension": ".py",
      "mimetype": "text/x-python",
      "name": "python",
      "nbconvert_exporter": "python",
      "pygments_lexer": "ipython3",
      "version": "3.9.7"
    },
    "toc": {
      "base_numbering": 1,
      "nav_menu": {},
      "number_sections": true,
      "sideBar": true,
      "skip_h1_title": true,
      "title_cell": "Table of Contents",
      "title_sidebar": "Contents",
      "toc_cell": false,
      "toc_position": {},
      "toc_section_display": true,
      "toc_window_display": false
    },
    "colab": {
      "name": "Researching_music_preferences.ipynb",
      "provenance": [],
      "collapsed_sections": [],
      "toc_visible": true,
      "include_colab_link": true
    }
  },
  "nbformat": 4,
  "nbformat_minor": 0
}