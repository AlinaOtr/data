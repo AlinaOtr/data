{
 "cells": [
  {
   "cell_type": "markdown",
   "id": "761ffc44",
   "metadata": {},
   "source": [
    "## Исследование пользователей сервиса аренды самокатов GoFast"
   ]
  },
  {
   "cell_type": "markdown",
   "id": "6da89d07",
   "metadata": {},
   "source": [
    "Есть сервис аренды самокатов GoFast.Чтобы совершать поездки по городу, пользователи сервиса пользуются мобильным приложением. Сервисом можно пользоваться:\n",
    "* без подписки  \n",
    "абонентская плата отсутствует;  \n",
    "стоимость одной минуты поездки — 8 рублей;  \n",
    "стоимость старта (начала поездки) — 50 рублей;  \n",
    "* с подпиской Ultra  \n",
    "абонентская плата — 199 рублей в месяц;  \n",
    "стоимость одной минуты поездки — 6 рублей;  \n",
    "стоимость старта — бесплатно.  \n",
    "  \n",
    "Продакт-менеджеры сервиса хотят увеличить количество пользователей с подпиской. Для этого они будут проводить различные акции, но сначала нужно выяснить несколько важных моментов."
   ]
  },
  {
   "cell_type": "code",
   "execution_count": 1,
   "id": "72576667",
   "metadata": {},
   "outputs": [],
   "source": [
    "import pandas as pd\n",
    "import seaborn as sns\n",
    "import matplotlib.pyplot as plt\n",
    "import numpy as np\n",
    "from scipy import stats as st\n",
    "from IPython.display import display, HTML"
   ]
  },
  {
   "cell_type": "markdown",
   "id": "c42cbe00",
   "metadata": {},
   "source": [
    "### 1. Загрузка данных"
   ]
  },
  {
   "cell_type": "code",
   "execution_count": 2,
   "id": "eff9f206",
   "metadata": {},
   "outputs": [],
   "source": [
    "df_users_go = pd.read_csv(r'C:\\Users\\alina\\Python_my_files\\users_go.csv', sep=',')"
   ]
  },
  {
   "cell_type": "code",
   "execution_count": 3,
   "id": "80d95617",
   "metadata": {
    "scrolled": true
   },
   "outputs": [
    {
     "data": {
      "text/html": [
       "<div>\n",
       "<style scoped>\n",
       "    .dataframe tbody tr th:only-of-type {\n",
       "        vertical-align: middle;\n",
       "    }\n",
       "\n",
       "    .dataframe tbody tr th {\n",
       "        vertical-align: top;\n",
       "    }\n",
       "\n",
       "    .dataframe thead th {\n",
       "        text-align: right;\n",
       "    }\n",
       "</style>\n",
       "<table border=\"1\" class=\"dataframe\">\n",
       "  <thead>\n",
       "    <tr style=\"text-align: right;\">\n",
       "      <th></th>\n",
       "      <th>user_id</th>\n",
       "      <th>name</th>\n",
       "      <th>age</th>\n",
       "      <th>city</th>\n",
       "      <th>subscription_type</th>\n",
       "    </tr>\n",
       "  </thead>\n",
       "  <tbody>\n",
       "    <tr>\n",
       "      <th>0</th>\n",
       "      <td>1</td>\n",
       "      <td>Кира</td>\n",
       "      <td>22</td>\n",
       "      <td>Тюмень</td>\n",
       "      <td>ultra</td>\n",
       "    </tr>\n",
       "    <tr>\n",
       "      <th>1</th>\n",
       "      <td>2</td>\n",
       "      <td>Станислав</td>\n",
       "      <td>31</td>\n",
       "      <td>Омск</td>\n",
       "      <td>ultra</td>\n",
       "    </tr>\n",
       "    <tr>\n",
       "      <th>2</th>\n",
       "      <td>3</td>\n",
       "      <td>Алексей</td>\n",
       "      <td>20</td>\n",
       "      <td>Москва</td>\n",
       "      <td>ultra</td>\n",
       "    </tr>\n",
       "    <tr>\n",
       "      <th>3</th>\n",
       "      <td>4</td>\n",
       "      <td>Константин</td>\n",
       "      <td>26</td>\n",
       "      <td>Ростов-на-Дону</td>\n",
       "      <td>ultra</td>\n",
       "    </tr>\n",
       "    <tr>\n",
       "      <th>4</th>\n",
       "      <td>5</td>\n",
       "      <td>Адель</td>\n",
       "      <td>28</td>\n",
       "      <td>Омск</td>\n",
       "      <td>ultra</td>\n",
       "    </tr>\n",
       "  </tbody>\n",
       "</table>\n",
       "</div>"
      ],
      "text/plain": [
       "   user_id        name  age            city subscription_type\n",
       "0        1        Кира   22          Тюмень             ultra\n",
       "1        2   Станислав   31            Омск             ultra\n",
       "2        3     Алексей   20          Москва             ultra\n",
       "3        4  Константин   26  Ростов-на-Дону             ultra\n",
       "4        5       Адель   28            Омск             ultra"
      ]
     },
     "execution_count": 3,
     "metadata": {},
     "output_type": "execute_result"
    }
   ],
   "source": [
    "df_users_go.head()"
   ]
  },
  {
   "cell_type": "code",
   "execution_count": 4,
   "id": "39139a95",
   "metadata": {},
   "outputs": [
    {
     "name": "stdout",
     "output_type": "stream",
     "text": [
      "<class 'pandas.core.frame.DataFrame'>\n",
      "RangeIndex: 1565 entries, 0 to 1564\n",
      "Data columns (total 5 columns):\n",
      " #   Column             Non-Null Count  Dtype \n",
      "---  ------             --------------  ----- \n",
      " 0   user_id            1565 non-null   int64 \n",
      " 1   name               1565 non-null   object\n",
      " 2   age                1565 non-null   int64 \n",
      " 3   city               1565 non-null   object\n",
      " 4   subscription_type  1565 non-null   object\n",
      "dtypes: int64(2), object(3)\n",
      "memory usage: 61.3+ KB\n"
     ]
    }
   ],
   "source": [
    "df_users_go.info()"
   ]
  },
  {
   "cell_type": "code",
   "execution_count": 5,
   "id": "6c6f4f21",
   "metadata": {},
   "outputs": [],
   "source": [
    "df_rides_go = pd.read_csv(r'C:\\Users\\alina\\Python_my_files\\rides_go.csv', sep=',')"
   ]
  },
  {
   "cell_type": "code",
   "execution_count": 6,
   "id": "7cf299b6",
   "metadata": {},
   "outputs": [
    {
     "data": {
      "text/html": [
       "<div>\n",
       "<style scoped>\n",
       "    .dataframe tbody tr th:only-of-type {\n",
       "        vertical-align: middle;\n",
       "    }\n",
       "\n",
       "    .dataframe tbody tr th {\n",
       "        vertical-align: top;\n",
       "    }\n",
       "\n",
       "    .dataframe thead th {\n",
       "        text-align: right;\n",
       "    }\n",
       "</style>\n",
       "<table border=\"1\" class=\"dataframe\">\n",
       "  <thead>\n",
       "    <tr style=\"text-align: right;\">\n",
       "      <th></th>\n",
       "      <th>user_id</th>\n",
       "      <th>distance</th>\n",
       "      <th>duration</th>\n",
       "      <th>date</th>\n",
       "    </tr>\n",
       "  </thead>\n",
       "  <tbody>\n",
       "    <tr>\n",
       "      <th>0</th>\n",
       "      <td>1</td>\n",
       "      <td>4409.919140</td>\n",
       "      <td>25.599769</td>\n",
       "      <td>2021-01-01</td>\n",
       "    </tr>\n",
       "    <tr>\n",
       "      <th>1</th>\n",
       "      <td>1</td>\n",
       "      <td>2617.592153</td>\n",
       "      <td>15.816871</td>\n",
       "      <td>2021-01-18</td>\n",
       "    </tr>\n",
       "    <tr>\n",
       "      <th>2</th>\n",
       "      <td>1</td>\n",
       "      <td>754.159807</td>\n",
       "      <td>6.232113</td>\n",
       "      <td>2021-04-20</td>\n",
       "    </tr>\n",
       "    <tr>\n",
       "      <th>3</th>\n",
       "      <td>1</td>\n",
       "      <td>2694.783254</td>\n",
       "      <td>18.511000</td>\n",
       "      <td>2021-08-11</td>\n",
       "    </tr>\n",
       "    <tr>\n",
       "      <th>4</th>\n",
       "      <td>1</td>\n",
       "      <td>4028.687306</td>\n",
       "      <td>26.265803</td>\n",
       "      <td>2021-08-28</td>\n",
       "    </tr>\n",
       "  </tbody>\n",
       "</table>\n",
       "</div>"
      ],
      "text/plain": [
       "   user_id     distance   duration        date\n",
       "0        1  4409.919140  25.599769  2021-01-01\n",
       "1        1  2617.592153  15.816871  2021-01-18\n",
       "2        1   754.159807   6.232113  2021-04-20\n",
       "3        1  2694.783254  18.511000  2021-08-11\n",
       "4        1  4028.687306  26.265803  2021-08-28"
      ]
     },
     "execution_count": 6,
     "metadata": {},
     "output_type": "execute_result"
    }
   ],
   "source": [
    "df_rides_go.head()"
   ]
  },
  {
   "cell_type": "code",
   "execution_count": 7,
   "id": "6ac84df2",
   "metadata": {},
   "outputs": [
    {
     "name": "stdout",
     "output_type": "stream",
     "text": [
      "<class 'pandas.core.frame.DataFrame'>\n",
      "RangeIndex: 18068 entries, 0 to 18067\n",
      "Data columns (total 4 columns):\n",
      " #   Column    Non-Null Count  Dtype  \n",
      "---  ------    --------------  -----  \n",
      " 0   user_id   18068 non-null  int64  \n",
      " 1   distance  18068 non-null  float64\n",
      " 2   duration  18068 non-null  float64\n",
      " 3   date      18068 non-null  object \n",
      "dtypes: float64(2), int64(1), object(1)\n",
      "memory usage: 564.8+ KB\n"
     ]
    }
   ],
   "source": [
    "df_rides_go.info()"
   ]
  },
  {
   "cell_type": "code",
   "execution_count": 8,
   "id": "5e37d7c3",
   "metadata": {},
   "outputs": [],
   "source": [
    "df_subscriptions_go = pd.read_csv(r'C:\\Users\\alina\\Python_my_files\\subscriptions_go.csv', sep=',')"
   ]
  },
  {
   "cell_type": "code",
   "execution_count": 9,
   "id": "2eee82e9",
   "metadata": {},
   "outputs": [
    {
     "data": {
      "text/html": [
       "<div>\n",
       "<style scoped>\n",
       "    .dataframe tbody tr th:only-of-type {\n",
       "        vertical-align: middle;\n",
       "    }\n",
       "\n",
       "    .dataframe tbody tr th {\n",
       "        vertical-align: top;\n",
       "    }\n",
       "\n",
       "    .dataframe thead th {\n",
       "        text-align: right;\n",
       "    }\n",
       "</style>\n",
       "<table border=\"1\" class=\"dataframe\">\n",
       "  <thead>\n",
       "    <tr style=\"text-align: right;\">\n",
       "      <th></th>\n",
       "      <th>subscription_type</th>\n",
       "      <th>minute_price</th>\n",
       "      <th>start_ride_price</th>\n",
       "      <th>subscription_fee</th>\n",
       "    </tr>\n",
       "  </thead>\n",
       "  <tbody>\n",
       "    <tr>\n",
       "      <th>0</th>\n",
       "      <td>free</td>\n",
       "      <td>8</td>\n",
       "      <td>50</td>\n",
       "      <td>0</td>\n",
       "    </tr>\n",
       "    <tr>\n",
       "      <th>1</th>\n",
       "      <td>ultra</td>\n",
       "      <td>6</td>\n",
       "      <td>0</td>\n",
       "      <td>199</td>\n",
       "    </tr>\n",
       "  </tbody>\n",
       "</table>\n",
       "</div>"
      ],
      "text/plain": [
       "  subscription_type  minute_price  start_ride_price  subscription_fee\n",
       "0              free             8                50                 0\n",
       "1             ultra             6                 0               199"
      ]
     },
     "execution_count": 9,
     "metadata": {},
     "output_type": "execute_result"
    }
   ],
   "source": [
    "df_subscriptions_go.head()"
   ]
  },
  {
   "cell_type": "code",
   "execution_count": 10,
   "id": "17e09e16",
   "metadata": {},
   "outputs": [
    {
     "name": "stdout",
     "output_type": "stream",
     "text": [
      "<class 'pandas.core.frame.DataFrame'>\n",
      "RangeIndex: 2 entries, 0 to 1\n",
      "Data columns (total 4 columns):\n",
      " #   Column             Non-Null Count  Dtype \n",
      "---  ------             --------------  ----- \n",
      " 0   subscription_type  2 non-null      object\n",
      " 1   minute_price       2 non-null      int64 \n",
      " 2   start_ride_price   2 non-null      int64 \n",
      " 3   subscription_fee   2 non-null      int64 \n",
      "dtypes: int64(3), object(1)\n",
      "memory usage: 192.0+ bytes\n"
     ]
    }
   ],
   "source": [
    "df_subscriptions_go.info()"
   ]
  },
  {
   "cell_type": "markdown",
   "id": "e95ebca7",
   "metadata": {},
   "source": [
    "### 2. Предобработка данных"
   ]
  },
  {
   "cell_type": "markdown",
   "id": "e020f25e",
   "metadata": {},
   "source": [
    "#### Проверю наличие пропущенных значений и дубликатов в датафреймах"
   ]
  },
  {
   "cell_type": "code",
   "execution_count": 11,
   "id": "e51d9ef3",
   "metadata": {
    "scrolled": false
   },
   "outputs": [
    {
     "data": {
      "text/html": [
       "<style>.bold-text { font-weight: bold; }</style>"
      ],
      "text/plain": [
       "<IPython.core.display.HTML object>"
      ]
     },
     "metadata": {},
     "output_type": "display_data"
    },
    {
     "data": {
      "text/html": [
       "<b>Пользователи</b>"
      ],
      "text/plain": [
       "<IPython.core.display.HTML object>"
      ]
     },
     "metadata": {},
     "output_type": "display_data"
    },
    {
     "data": {
      "text/html": [
       "<div>\n",
       "<style scoped>\n",
       "    .dataframe tbody tr th:only-of-type {\n",
       "        vertical-align: middle;\n",
       "    }\n",
       "\n",
       "    .dataframe tbody tr th {\n",
       "        vertical-align: top;\n",
       "    }\n",
       "\n",
       "    .dataframe thead th {\n",
       "        text-align: right;\n",
       "    }\n",
       "</style>\n",
       "<table border=\"1\" class=\"dataframe\">\n",
       "  <thead>\n",
       "    <tr style=\"text-align: right;\">\n",
       "      <th></th>\n",
       "      <th>user_id</th>\n",
       "      <th>name</th>\n",
       "      <th>age</th>\n",
       "      <th>city</th>\n",
       "      <th>subscription_type</th>\n",
       "    </tr>\n",
       "  </thead>\n",
       "  <tbody>\n",
       "    <tr>\n",
       "      <th>0</th>\n",
       "      <td>1</td>\n",
       "      <td>Кира</td>\n",
       "      <td>22</td>\n",
       "      <td>Тюмень</td>\n",
       "      <td>ultra</td>\n",
       "    </tr>\n",
       "    <tr>\n",
       "      <th>1</th>\n",
       "      <td>2</td>\n",
       "      <td>Станислав</td>\n",
       "      <td>31</td>\n",
       "      <td>Омск</td>\n",
       "      <td>ultra</td>\n",
       "    </tr>\n",
       "    <tr>\n",
       "      <th>2</th>\n",
       "      <td>3</td>\n",
       "      <td>Алексей</td>\n",
       "      <td>20</td>\n",
       "      <td>Москва</td>\n",
       "      <td>ultra</td>\n",
       "    </tr>\n",
       "    <tr>\n",
       "      <th>3</th>\n",
       "      <td>4</td>\n",
       "      <td>Константин</td>\n",
       "      <td>26</td>\n",
       "      <td>Ростов-на-Дону</td>\n",
       "      <td>ultra</td>\n",
       "    </tr>\n",
       "    <tr>\n",
       "      <th>4</th>\n",
       "      <td>5</td>\n",
       "      <td>Адель</td>\n",
       "      <td>28</td>\n",
       "      <td>Омск</td>\n",
       "      <td>ultra</td>\n",
       "    </tr>\n",
       "  </tbody>\n",
       "</table>\n",
       "</div>"
      ],
      "text/plain": [
       "   user_id        name  age            city subscription_type\n",
       "0        1        Кира   22          Тюмень             ultra\n",
       "1        2   Станислав   31            Омск             ultra\n",
       "2        3     Алексей   20          Москва             ultra\n",
       "3        4  Константин   26  Ростов-на-Дону             ultra\n",
       "4        5       Адель   28            Омск             ultra"
      ]
     },
     "metadata": {},
     "output_type": "display_data"
    },
    {
     "name": "stdout",
     "output_type": "stream",
     "text": [
      "Пропуски\n"
     ]
    },
    {
     "data": {
      "text/plain": [
       "user_id              0\n",
       "name                 0\n",
       "age                  0\n",
       "city                 0\n",
       "subscription_type    0\n",
       "dtype: int64"
      ]
     },
     "metadata": {},
     "output_type": "display_data"
    },
    {
     "name": "stdout",
     "output_type": "stream",
     "text": [
      "Дубликаты\n"
     ]
    },
    {
     "data": {
      "text/plain": [
       "31"
      ]
     },
     "metadata": {},
     "output_type": "display_data"
    },
    {
     "name": "stdout",
     "output_type": "stream",
     "text": [
      "Дубликаты id пользователей\n"
     ]
    },
    {
     "data": {
      "text/plain": [
       "31"
      ]
     },
     "metadata": {},
     "output_type": "display_data"
    }
   ],
   "source": [
    "# Вставляю стиль для жирного шрифта\n",
    "display(HTML(\"<style>.bold-text { font-weight: bold; }</style>\"))\n",
    "\n",
    "display(HTML(\"<b>Пользователи</b>\"))\n",
    "display(df_users_go.head())\n",
    "print('Пропуски')\n",
    "display(df_users_go.isna().sum())\n",
    "print('Дубликаты')\n",
    "display(df_users_go.duplicated().sum())\n",
    "print('Дубликаты id пользователей')\n",
    "display(df_users_go['user_id'].duplicated().sum())"
   ]
  },
  {
   "cell_type": "markdown",
   "id": "0ca4e5ae",
   "metadata": {},
   "source": [
    "#### Удалю дубликаты из исходного датафрейма"
   ]
  },
  {
   "cell_type": "code",
   "execution_count": 12,
   "id": "ff584ac2",
   "metadata": {},
   "outputs": [],
   "source": [
    "df_users_go.drop_duplicates(inplace=True, ignore_index=True)"
   ]
  },
  {
   "cell_type": "code",
   "execution_count": 13,
   "id": "18791b3a",
   "metadata": {},
   "outputs": [
    {
     "data": {
      "text/plain": [
       "0"
      ]
     },
     "execution_count": 13,
     "metadata": {},
     "output_type": "execute_result"
    }
   ],
   "source": [
    "df_users_go.duplicated().sum()"
   ]
  },
  {
   "cell_type": "code",
   "execution_count": 14,
   "id": "44c1b76d",
   "metadata": {},
   "outputs": [
    {
     "data": {
      "text/html": [
       "<b>Поездки</b>"
      ],
      "text/plain": [
       "<IPython.core.display.HTML object>"
      ]
     },
     "metadata": {},
     "output_type": "display_data"
    },
    {
     "data": {
      "text/html": [
       "<div>\n",
       "<style scoped>\n",
       "    .dataframe tbody tr th:only-of-type {\n",
       "        vertical-align: middle;\n",
       "    }\n",
       "\n",
       "    .dataframe tbody tr th {\n",
       "        vertical-align: top;\n",
       "    }\n",
       "\n",
       "    .dataframe thead th {\n",
       "        text-align: right;\n",
       "    }\n",
       "</style>\n",
       "<table border=\"1\" class=\"dataframe\">\n",
       "  <thead>\n",
       "    <tr style=\"text-align: right;\">\n",
       "      <th></th>\n",
       "      <th>user_id</th>\n",
       "      <th>distance</th>\n",
       "      <th>duration</th>\n",
       "      <th>date</th>\n",
       "    </tr>\n",
       "  </thead>\n",
       "  <tbody>\n",
       "    <tr>\n",
       "      <th>0</th>\n",
       "      <td>1</td>\n",
       "      <td>4409.919140</td>\n",
       "      <td>25.599769</td>\n",
       "      <td>2021-01-01</td>\n",
       "    </tr>\n",
       "    <tr>\n",
       "      <th>1</th>\n",
       "      <td>1</td>\n",
       "      <td>2617.592153</td>\n",
       "      <td>15.816871</td>\n",
       "      <td>2021-01-18</td>\n",
       "    </tr>\n",
       "    <tr>\n",
       "      <th>2</th>\n",
       "      <td>1</td>\n",
       "      <td>754.159807</td>\n",
       "      <td>6.232113</td>\n",
       "      <td>2021-04-20</td>\n",
       "    </tr>\n",
       "    <tr>\n",
       "      <th>3</th>\n",
       "      <td>1</td>\n",
       "      <td>2694.783254</td>\n",
       "      <td>18.511000</td>\n",
       "      <td>2021-08-11</td>\n",
       "    </tr>\n",
       "    <tr>\n",
       "      <th>4</th>\n",
       "      <td>1</td>\n",
       "      <td>4028.687306</td>\n",
       "      <td>26.265803</td>\n",
       "      <td>2021-08-28</td>\n",
       "    </tr>\n",
       "  </tbody>\n",
       "</table>\n",
       "</div>"
      ],
      "text/plain": [
       "   user_id     distance   duration        date\n",
       "0        1  4409.919140  25.599769  2021-01-01\n",
       "1        1  2617.592153  15.816871  2021-01-18\n",
       "2        1   754.159807   6.232113  2021-04-20\n",
       "3        1  2694.783254  18.511000  2021-08-11\n",
       "4        1  4028.687306  26.265803  2021-08-28"
      ]
     },
     "metadata": {},
     "output_type": "display_data"
    },
    {
     "name": "stdout",
     "output_type": "stream",
     "text": [
      "Пропуски\n"
     ]
    },
    {
     "data": {
      "text/plain": [
       "user_id     0\n",
       "distance    0\n",
       "duration    0\n",
       "date        0\n",
       "dtype: int64"
      ]
     },
     "metadata": {},
     "output_type": "display_data"
    },
    {
     "name": "stdout",
     "output_type": "stream",
     "text": [
      "Дубликаты\n"
     ]
    },
    {
     "data": {
      "text/plain": [
       "0"
      ]
     },
     "metadata": {},
     "output_type": "display_data"
    }
   ],
   "source": [
    "display(HTML(\"<b>Поездки</b>\"))\n",
    "display(df_rides_go.head())\n",
    "print('Пропуски')\n",
    "display(df_rides_go.isna().sum())\n",
    "print('Дубликаты')\n",
    "display(df_rides_go.duplicated().sum())"
   ]
  },
  {
   "cell_type": "markdown",
   "id": "a0d55c5e",
   "metadata": {},
   "source": [
    "#### Изменю формат даты"
   ]
  },
  {
   "cell_type": "code",
   "execution_count": 15,
   "id": "51fd4667",
   "metadata": {},
   "outputs": [],
   "source": [
    "df_rides_go['date'] = pd.to_datetime(df_rides_go['date'])"
   ]
  },
  {
   "cell_type": "markdown",
   "id": "450257c7",
   "metadata": {},
   "source": [
    "#### Проверю, какие встречаются даты, а также значения расстояния и продолжительности поездок"
   ]
  },
  {
   "cell_type": "code",
   "execution_count": 16,
   "id": "4f08fd2b",
   "metadata": {},
   "outputs": [
    {
     "name": "stdout",
     "output_type": "stream",
     "text": [
      "Дата\n"
     ]
    },
    {
     "name": "stderr",
     "output_type": "stream",
     "text": [
      "C:\\Users\\alina\\AppData\\Local\\Temp/ipykernel_31248/3335799540.py:2: FutureWarning: Treating datetime data as categorical rather than numeric in `.describe` is deprecated and will be removed in a future version of pandas. Specify `datetime_is_numeric=True` to silence this warning and adopt the future behavior now.\n",
      "  display(df_rides_go['date'].describe())\n"
     ]
    },
    {
     "data": {
      "text/plain": [
       "count                   18068\n",
       "unique                    364\n",
       "top       2021-12-22 00:00:00\n",
       "freq                       72\n",
       "first     2021-01-01 00:00:00\n",
       "last      2021-12-30 00:00:00\n",
       "Name: date, dtype: object"
      ]
     },
     "metadata": {},
     "output_type": "display_data"
    }
   ],
   "source": [
    "print('Дата')\n",
    "display(df_rides_go['date'].describe())"
   ]
  },
  {
   "cell_type": "markdown",
   "id": "c8438bfa",
   "metadata": {},
   "source": [
    "Данные за 2021 год, с 1 января по 30 декабря"
   ]
  },
  {
   "cell_type": "code",
   "execution_count": 17,
   "id": "d9695554",
   "metadata": {},
   "outputs": [
    {
     "name": "stdout",
     "output_type": "stream",
     "text": [
      "Расстояние поездки, м\n"
     ]
    },
    {
     "data": {
      "text/plain": [
       "count    18068.000000\n",
       "mean      3070.659976\n",
       "std       1116.831209\n",
       "min          0.855683\n",
       "25%       2543.226360\n",
       "50%       3133.609994\n",
       "75%       3776.222735\n",
       "max       7211.007745\n",
       "Name: distance, dtype: float64"
      ]
     },
     "metadata": {},
     "output_type": "display_data"
    }
   ],
   "source": [
    "print('Расстояние поездки, м')\n",
    "display(df_rides_go['distance'].describe())"
   ]
  },
  {
   "cell_type": "code",
   "execution_count": 18,
   "id": "35b087f1",
   "metadata": {},
   "outputs": [
    {
     "data": {
      "text/html": [
       "<div>\n",
       "<style scoped>\n",
       "    .dataframe tbody tr th:only-of-type {\n",
       "        vertical-align: middle;\n",
       "    }\n",
       "\n",
       "    .dataframe tbody tr th {\n",
       "        vertical-align: top;\n",
       "    }\n",
       "\n",
       "    .dataframe thead th {\n",
       "        text-align: right;\n",
       "    }\n",
       "</style>\n",
       "<table border=\"1\" class=\"dataframe\">\n",
       "  <thead>\n",
       "    <tr style=\"text-align: right;\">\n",
       "      <th></th>\n",
       "      <th>distance</th>\n",
       "      <th>duration</th>\n",
       "    </tr>\n",
       "  </thead>\n",
       "  <tbody>\n",
       "    <tr>\n",
       "      <th>7841</th>\n",
       "      <td>7.097072</td>\n",
       "      <td>10.026614</td>\n",
       "    </tr>\n",
       "    <tr>\n",
       "      <th>8658</th>\n",
       "      <td>6.784447</td>\n",
       "      <td>6.015656</td>\n",
       "    </tr>\n",
       "    <tr>\n",
       "      <th>9541</th>\n",
       "      <td>2.570787</td>\n",
       "      <td>3.011018</td>\n",
       "    </tr>\n",
       "    <tr>\n",
       "      <th>11555</th>\n",
       "      <td>0.855683</td>\n",
       "      <td>10.001902</td>\n",
       "    </tr>\n",
       "    <tr>\n",
       "      <th>13690</th>\n",
       "      <td>4.329506</td>\n",
       "      <td>4.008958</td>\n",
       "    </tr>\n",
       "  </tbody>\n",
       "</table>\n",
       "</div>"
      ],
      "text/plain": [
       "       distance   duration\n",
       "7841   7.097072  10.026614\n",
       "8658   6.784447   6.015656\n",
       "9541   2.570787   3.011018\n",
       "11555  0.855683  10.001902\n",
       "13690  4.329506   4.008958"
      ]
     },
     "execution_count": 18,
     "metadata": {},
     "output_type": "execute_result"
    }
   ],
   "source": [
    "df_rides_go[['distance', 'duration']].query('distance < 10')"
   ]
  },
  {
   "cell_type": "code",
   "execution_count": 19,
   "id": "c87037a2",
   "metadata": {},
   "outputs": [
    {
     "name": "stdout",
     "output_type": "stream",
     "text": [
      "Продолжительность поездки, мин\n"
     ]
    },
    {
     "data": {
      "text/plain": [
       "count    18068.000000\n",
       "mean        17.805011\n",
       "std          6.091051\n",
       "min          0.500000\n",
       "25%         13.597563\n",
       "50%         17.678395\n",
       "75%         21.724800\n",
       "max         40.823963\n",
       "Name: duration, dtype: float64"
      ]
     },
     "metadata": {},
     "output_type": "display_data"
    }
   ],
   "source": [
    "print('Продолжительность поездки, мин')\n",
    "display(df_rides_go['duration'].describe())"
   ]
  },
  {
   "cell_type": "code",
   "execution_count": 20,
   "id": "00bae85c",
   "metadata": {},
   "outputs": [
    {
     "data": {
      "text/plain": [
       "array([0.5])"
      ]
     },
     "execution_count": 20,
     "metadata": {},
     "output_type": "execute_result"
    }
   ],
   "source": [
    "df_rides_go.query('duration < 2')['duration'].unique()"
   ]
  },
  {
   "cell_type": "code",
   "execution_count": 21,
   "id": "d5f13783",
   "metadata": {},
   "outputs": [
    {
     "data": {
      "text/plain": [
       "95"
      ]
     },
     "execution_count": 21,
     "metadata": {},
     "output_type": "execute_result"
    }
   ],
   "source": [
    "df_rides_go.query('duration < 2').shape[0]"
   ]
  },
  {
   "cell_type": "code",
   "execution_count": 22,
   "id": "5f50d603",
   "metadata": {},
   "outputs": [
    {
     "data": {
      "text/html": [
       "<div>\n",
       "<style scoped>\n",
       "    .dataframe tbody tr th:only-of-type {\n",
       "        vertical-align: middle;\n",
       "    }\n",
       "\n",
       "    .dataframe tbody tr th {\n",
       "        vertical-align: top;\n",
       "    }\n",
       "\n",
       "    .dataframe thead th {\n",
       "        text-align: right;\n",
       "    }\n",
       "</style>\n",
       "<table border=\"1\" class=\"dataframe\">\n",
       "  <thead>\n",
       "    <tr style=\"text-align: right;\">\n",
       "      <th></th>\n",
       "      <th>user_id</th>\n",
       "      <th>distance</th>\n",
       "      <th>duration</th>\n",
       "      <th>date</th>\n",
       "    </tr>\n",
       "  </thead>\n",
       "  <tbody>\n",
       "    <tr>\n",
       "      <th>6531</th>\n",
       "      <td>701</td>\n",
       "      <td>4196.445201</td>\n",
       "      <td>0.5</td>\n",
       "      <td>2021-08-31</td>\n",
       "    </tr>\n",
       "    <tr>\n",
       "      <th>6570</th>\n",
       "      <td>704</td>\n",
       "      <td>4830.824371</td>\n",
       "      <td>0.5</td>\n",
       "      <td>2021-10-14</td>\n",
       "    </tr>\n",
       "    <tr>\n",
       "      <th>6680</th>\n",
       "      <td>712</td>\n",
       "      <td>4684.004397</td>\n",
       "      <td>0.5</td>\n",
       "      <td>2021-03-04</td>\n",
       "    </tr>\n",
       "    <tr>\n",
       "      <th>6695</th>\n",
       "      <td>713</td>\n",
       "      <td>5215.642710</td>\n",
       "      <td>0.5</td>\n",
       "      <td>2021-02-25</td>\n",
       "    </tr>\n",
       "    <tr>\n",
       "      <th>6768</th>\n",
       "      <td>718</td>\n",
       "      <td>5197.436649</td>\n",
       "      <td>0.5</td>\n",
       "      <td>2021-02-11</td>\n",
       "    </tr>\n",
       "  </tbody>\n",
       "</table>\n",
       "</div>"
      ],
      "text/plain": [
       "      user_id     distance  duration       date\n",
       "6531      701  4196.445201       0.5 2021-08-31\n",
       "6570      704  4830.824371       0.5 2021-10-14\n",
       "6680      712  4684.004397       0.5 2021-03-04\n",
       "6695      713  5215.642710       0.5 2021-02-25\n",
       "6768      718  5197.436649       0.5 2021-02-11"
      ]
     },
     "execution_count": 22,
     "metadata": {},
     "output_type": "execute_result"
    }
   ],
   "source": [
    "df_rides_go.query('duration < 2').head()"
   ]
  },
  {
   "cell_type": "markdown",
   "id": "dcf87ac9",
   "metadata": {},
   "source": [
    "При достаточно больших дистанциях у 95 пользователей проставлено время 0,5 мин. Видимо, это техническая ошибка. Буду учитывать это в дальнейшем"
   ]
  },
  {
   "cell_type": "markdown",
   "id": "87ed6e43",
   "metadata": {},
   "source": [
    "#### Создам новый столбец с номером месяца на основе столбца date"
   ]
  },
  {
   "cell_type": "code",
   "execution_count": 23,
   "id": "6a6794ba",
   "metadata": {},
   "outputs": [
    {
     "data": {
      "text/html": [
       "<div>\n",
       "<style scoped>\n",
       "    .dataframe tbody tr th:only-of-type {\n",
       "        vertical-align: middle;\n",
       "    }\n",
       "\n",
       "    .dataframe tbody tr th {\n",
       "        vertical-align: top;\n",
       "    }\n",
       "\n",
       "    .dataframe thead th {\n",
       "        text-align: right;\n",
       "    }\n",
       "</style>\n",
       "<table border=\"1\" class=\"dataframe\">\n",
       "  <thead>\n",
       "    <tr style=\"text-align: right;\">\n",
       "      <th></th>\n",
       "      <th>user_id</th>\n",
       "      <th>distance</th>\n",
       "      <th>duration</th>\n",
       "      <th>date</th>\n",
       "      <th>month_number</th>\n",
       "    </tr>\n",
       "  </thead>\n",
       "  <tbody>\n",
       "    <tr>\n",
       "      <th>0</th>\n",
       "      <td>1</td>\n",
       "      <td>4409.919140</td>\n",
       "      <td>25.599769</td>\n",
       "      <td>2021-01-01</td>\n",
       "      <td>1</td>\n",
       "    </tr>\n",
       "    <tr>\n",
       "      <th>1</th>\n",
       "      <td>1</td>\n",
       "      <td>2617.592153</td>\n",
       "      <td>15.816871</td>\n",
       "      <td>2021-01-18</td>\n",
       "      <td>1</td>\n",
       "    </tr>\n",
       "    <tr>\n",
       "      <th>2</th>\n",
       "      <td>1</td>\n",
       "      <td>754.159807</td>\n",
       "      <td>6.232113</td>\n",
       "      <td>2021-04-20</td>\n",
       "      <td>4</td>\n",
       "    </tr>\n",
       "    <tr>\n",
       "      <th>3</th>\n",
       "      <td>1</td>\n",
       "      <td>2694.783254</td>\n",
       "      <td>18.511000</td>\n",
       "      <td>2021-08-11</td>\n",
       "      <td>8</td>\n",
       "    </tr>\n",
       "    <tr>\n",
       "      <th>4</th>\n",
       "      <td>1</td>\n",
       "      <td>4028.687306</td>\n",
       "      <td>26.265803</td>\n",
       "      <td>2021-08-28</td>\n",
       "      <td>8</td>\n",
       "    </tr>\n",
       "  </tbody>\n",
       "</table>\n",
       "</div>"
      ],
      "text/plain": [
       "   user_id     distance   duration       date  month_number\n",
       "0        1  4409.919140  25.599769 2021-01-01             1\n",
       "1        1  2617.592153  15.816871 2021-01-18             1\n",
       "2        1   754.159807   6.232113 2021-04-20             4\n",
       "3        1  2694.783254  18.511000 2021-08-11             8\n",
       "4        1  4028.687306  26.265803 2021-08-28             8"
      ]
     },
     "execution_count": 23,
     "metadata": {},
     "output_type": "execute_result"
    }
   ],
   "source": [
    "df_rides_go['month_number'] = df_rides_go['date'].dt.month\n",
    "df_rides_go.head()"
   ]
  },
  {
   "cell_type": "markdown",
   "id": "212593c7",
   "metadata": {},
   "source": [
    "### 3. Исследовательский анализ данных"
   ]
  },
  {
   "cell_type": "markdown",
   "id": "9fd827ed",
   "metadata": {},
   "source": [
    "#### Частота встречаемости городов"
   ]
  },
  {
   "cell_type": "code",
   "execution_count": 24,
   "id": "b595a029",
   "metadata": {},
   "outputs": [
    {
     "data": {
      "text/plain": [
       "Пятигорск         219\n",
       "Екатеринбург      204\n",
       "Ростов-на-Дону    198\n",
       "Краснодар         193\n",
       "Сочи              189\n",
       "Омск              183\n",
       "Тюмень            180\n",
       "Москва            168\n",
       "Name: city, dtype: int64"
      ]
     },
     "execution_count": 24,
     "metadata": {},
     "output_type": "execute_result"
    }
   ],
   "source": [
    "city_counts = df_users_go['city'].value_counts().sort_values(ascending=False)\n",
    "city_counts"
   ]
  },
  {
   "cell_type": "code",
   "execution_count": 25,
   "id": "452ad9a5",
   "metadata": {},
   "outputs": [
    {
     "data": {
      "image/png": "[encoded data removed]",
      "text/plain": [
       "<Figure size 720x360 with 1 Axes>"
      ]
     },
     "metadata": {
      "needs_background": "light"
     },
     "output_type": "display_data"
    }
   ],
   "source": [
    "plt.subplots(figsize=(10, 5))\n",
    "\n",
    "# Создание горизонтального барчарта\n",
    "ax = city_counts.plot.barh(color='skyblue')\n",
    "\n",
    "# Настройка осей и заголовков\n",
    "ax.invert_yaxis()  # Преобразую ось Y для удобства чтения\n",
    "ax.set_xlabel('Количество пользователей')\n",
    "ax.set_title('Частота встречаемости городов')\n",
    "\n",
    "# Добавляю метки значений на столбики\n",
    "for i, v in enumerate(city_counts.values):\n",
    "    ax.text(v, i, str(v), va='center', color='black')\n",
    "\n",
    "plt.show()"
   ]
  },
  {
   "cell_type": "markdown",
   "id": "c5846d15",
   "metadata": {},
   "source": [
    "#### Соотношение пользователей с подпиской и без подписки"
   ]
  },
  {
   "cell_type": "code",
   "execution_count": 26,
   "id": "142996da",
   "metadata": {},
   "outputs": [
    {
     "data": {
      "text/html": [
       "<div>\n",
       "<style scoped>\n",
       "    .dataframe tbody tr th:only-of-type {\n",
       "        vertical-align: middle;\n",
       "    }\n",
       "\n",
       "    .dataframe tbody tr th {\n",
       "        vertical-align: top;\n",
       "    }\n",
       "\n",
       "    .dataframe thead th {\n",
       "        text-align: right;\n",
       "    }\n",
       "</style>\n",
       "<table border=\"1\" class=\"dataframe\">\n",
       "  <thead>\n",
       "    <tr style=\"text-align: right;\">\n",
       "      <th></th>\n",
       "      <th>Count</th>\n",
       "      <th>Percentage</th>\n",
       "    </tr>\n",
       "  </thead>\n",
       "  <tbody>\n",
       "    <tr>\n",
       "      <th>free</th>\n",
       "      <td>835</td>\n",
       "      <td>54.4%</td>\n",
       "    </tr>\n",
       "    <tr>\n",
       "      <th>ultra</th>\n",
       "      <td>699</td>\n",
       "      <td>45.6%</td>\n",
       "    </tr>\n",
       "  </tbody>\n",
       "</table>\n",
       "</div>"
      ],
      "text/plain": [
       "       Count Percentage\n",
       "free     835      54.4%\n",
       "ultra    699      45.6%"
      ]
     },
     "execution_count": 26,
     "metadata": {},
     "output_type": "execute_result"
    }
   ],
   "source": [
    "percentages = (df_users_go['subscription_type'].value_counts(normalize=True) * 100).round(1).astype(str) + '%'\n",
    "pd.concat([df_users_go['subscription_type'].value_counts(), percentages], axis=1, keys=['Count', 'Percentage'])"
   ]
  },
  {
   "cell_type": "markdown",
   "id": "38fcec3d",
   "metadata": {},
   "source": [
    "На текущий момент доля подписчиков составляет 45,6%"
   ]
  },
  {
   "cell_type": "markdown",
   "id": "f5b81150",
   "metadata": {},
   "source": [
    "#### Возраст пользователей\n",
    "\n"
   ]
  },
  {
   "cell_type": "code",
   "execution_count": 27,
   "id": "9e1cc293",
   "metadata": {},
   "outputs": [
    {
     "data": {
      "image/png": "[encoded data removed]",
      "text/plain": [
       "<Figure size 720x288 with 1 Axes>"
      ]
     },
     "metadata": {
      "needs_background": "light"
     },
     "output_type": "display_data"
    }
   ],
   "source": [
    "plt.figure(figsize=(10, 4))\n",
    "sns.histplot(data=df_users_go, x='age', color='skyblue').set_title('Возраст пользователей')\n",
    "plt.xlabel('Возраст')\n",
    "plt.ylabel('Количество пользователей')\n",
    "plt.show()"
   ]
  },
  {
   "cell_type": "code",
   "execution_count": 28,
   "id": "f00d9f87",
   "metadata": {},
   "outputs": [
    {
     "name": "stdout",
     "output_type": "stream",
     "text": [
      "Средний возраст пользователей сервиса -  25\n"
     ]
    }
   ],
   "source": [
    "print('Средний возраст пользователей сервиса - ', round(df_users_go['age'].mean()))"
   ]
  },
  {
   "cell_type": "markdown",
   "id": "0b92a3db",
   "metadata": {},
   "source": [
    "#### Расстояние, которое пользователь преодолел за одну поездку\n",
    "\n"
   ]
  },
  {
   "cell_type": "code",
   "execution_count": 29,
   "id": "8eee6fed",
   "metadata": {},
   "outputs": [
    {
     "data": {
      "image/png": "[encoded data removed]",
      "text/plain": [
       "<Figure size 720x288 with 1 Axes>"
      ]
     },
     "metadata": {
      "needs_background": "light"
     },
     "output_type": "display_data"
    }
   ],
   "source": [
    "plt.figure(figsize=(10, 4))\n",
    "sns.histplot(data=df_rides_go, x='distance', color='skyblue').set_title('Расстояние поездки')\n",
    "plt.xlabel('Расстояние')\n",
    "plt.ylabel('Количество пользователей')\n",
    "plt.show()"
   ]
  },
  {
   "cell_type": "code",
   "execution_count": 30,
   "id": "c8490f29",
   "metadata": {},
   "outputs": [
    {
     "data": {
      "text/plain": [
       "3071"
      ]
     },
     "execution_count": 30,
     "metadata": {},
     "output_type": "execute_result"
    }
   ],
   "source": [
    "round(df_rides_go['distance'].mean())"
   ]
  },
  {
   "cell_type": "code",
   "execution_count": 31,
   "id": "829f2e4f",
   "metadata": {},
   "outputs": [
    {
     "data": {
      "text/plain": [
       "3134"
      ]
     },
     "execution_count": 31,
     "metadata": {},
     "output_type": "execute_result"
    }
   ],
   "source": [
    "round(df_rides_go['distance'].median())"
   ]
  },
  {
   "cell_type": "markdown",
   "id": "8ade0e1c",
   "metadata": {},
   "source": [
    "В среднем пользователи за раз проезжают около 3,1 км"
   ]
  },
  {
   "cell_type": "markdown",
   "id": "efaa56af",
   "metadata": {},
   "source": [
    "#### Продолжительность поездок"
   ]
  },
  {
   "cell_type": "code",
   "execution_count": 32,
   "id": "8a45ca81",
   "metadata": {},
   "outputs": [
    {
     "data": {
      "image/png": "[encoded data removed]",
      "text/plain": [
       "<Figure size 720x288 with 1 Axes>"
      ]
     },
     "metadata": {
      "needs_background": "light"
     },
     "output_type": "display_data"
    }
   ],
   "source": [
    "plt.figure(figsize=(10, 4))\n",
    "sns.histplot(data=df_rides_go, x='duration', color='skyblue').set_title('Продолжительность поездок')\n",
    "plt.xlabel('Продолжительность поездки')\n",
    "plt.ylabel('Количество пользователей')\n",
    "plt.show()"
   ]
  },
  {
   "cell_type": "code",
   "execution_count": 33,
   "id": "143af040",
   "metadata": {},
   "outputs": [
    {
     "name": "stdout",
     "output_type": "stream",
     "text": [
      "В среднем продолжительность одной поездки составляет  18 мин.\n"
     ]
    }
   ],
   "source": [
    "print('В среднем продолжительность одной поездки составляет ', round(df_rides_go.query('duration > 1')['duration'].mean()), 'мин.')"
   ]
  },
  {
   "cell_type": "markdown",
   "id": "4ef51331",
   "metadata": {},
   "source": [
    "### 4. Объединение данных"
   ]
  },
  {
   "cell_type": "code",
   "execution_count": 34,
   "id": "f461e308",
   "metadata": {},
   "outputs": [
    {
     "data": {
      "text/html": [
       "<div>\n",
       "<style scoped>\n",
       "    .dataframe tbody tr th:only-of-type {\n",
       "        vertical-align: middle;\n",
       "    }\n",
       "\n",
       "    .dataframe tbody tr th {\n",
       "        vertical-align: top;\n",
       "    }\n",
       "\n",
       "    .dataframe thead th {\n",
       "        text-align: right;\n",
       "    }\n",
       "</style>\n",
       "<table border=\"1\" class=\"dataframe\">\n",
       "  <thead>\n",
       "    <tr style=\"text-align: right;\">\n",
       "      <th></th>\n",
       "      <th>user_id</th>\n",
       "      <th>name</th>\n",
       "      <th>age</th>\n",
       "      <th>city</th>\n",
       "      <th>subscription_type</th>\n",
       "      <th>distance</th>\n",
       "      <th>duration</th>\n",
       "      <th>date</th>\n",
       "      <th>month_number</th>\n",
       "      <th>minute_price</th>\n",
       "      <th>start_ride_price</th>\n",
       "      <th>subscription_fee</th>\n",
       "    </tr>\n",
       "  </thead>\n",
       "  <tbody>\n",
       "    <tr>\n",
       "      <th>0</th>\n",
       "      <td>1</td>\n",
       "      <td>Кира</td>\n",
       "      <td>22</td>\n",
       "      <td>Тюмень</td>\n",
       "      <td>ultra</td>\n",
       "      <td>4409.919140</td>\n",
       "      <td>25.599769</td>\n",
       "      <td>2021-01-01</td>\n",
       "      <td>1</td>\n",
       "      <td>6</td>\n",
       "      <td>0</td>\n",
       "      <td>199</td>\n",
       "    </tr>\n",
       "    <tr>\n",
       "      <th>1</th>\n",
       "      <td>1</td>\n",
       "      <td>Кира</td>\n",
       "      <td>22</td>\n",
       "      <td>Тюмень</td>\n",
       "      <td>ultra</td>\n",
       "      <td>2617.592153</td>\n",
       "      <td>15.816871</td>\n",
       "      <td>2021-01-18</td>\n",
       "      <td>1</td>\n",
       "      <td>6</td>\n",
       "      <td>0</td>\n",
       "      <td>199</td>\n",
       "    </tr>\n",
       "    <tr>\n",
       "      <th>2</th>\n",
       "      <td>1</td>\n",
       "      <td>Кира</td>\n",
       "      <td>22</td>\n",
       "      <td>Тюмень</td>\n",
       "      <td>ultra</td>\n",
       "      <td>754.159807</td>\n",
       "      <td>6.232113</td>\n",
       "      <td>2021-04-20</td>\n",
       "      <td>4</td>\n",
       "      <td>6</td>\n",
       "      <td>0</td>\n",
       "      <td>199</td>\n",
       "    </tr>\n",
       "    <tr>\n",
       "      <th>3</th>\n",
       "      <td>1</td>\n",
       "      <td>Кира</td>\n",
       "      <td>22</td>\n",
       "      <td>Тюмень</td>\n",
       "      <td>ultra</td>\n",
       "      <td>2694.783254</td>\n",
       "      <td>18.511000</td>\n",
       "      <td>2021-08-11</td>\n",
       "      <td>8</td>\n",
       "      <td>6</td>\n",
       "      <td>0</td>\n",
       "      <td>199</td>\n",
       "    </tr>\n",
       "    <tr>\n",
       "      <th>4</th>\n",
       "      <td>1</td>\n",
       "      <td>Кира</td>\n",
       "      <td>22</td>\n",
       "      <td>Тюмень</td>\n",
       "      <td>ultra</td>\n",
       "      <td>4028.687306</td>\n",
       "      <td>26.265803</td>\n",
       "      <td>2021-08-28</td>\n",
       "      <td>8</td>\n",
       "      <td>6</td>\n",
       "      <td>0</td>\n",
       "      <td>199</td>\n",
       "    </tr>\n",
       "  </tbody>\n",
       "</table>\n",
       "</div>"
      ],
      "text/plain": [
       "   user_id  name  age    city subscription_type     distance   duration  \\\n",
       "0        1  Кира   22  Тюмень             ultra  4409.919140  25.599769   \n",
       "1        1  Кира   22  Тюмень             ultra  2617.592153  15.816871   \n",
       "2        1  Кира   22  Тюмень             ultra   754.159807   6.232113   \n",
       "3        1  Кира   22  Тюмень             ultra  2694.783254  18.511000   \n",
       "4        1  Кира   22  Тюмень             ultra  4028.687306  26.265803   \n",
       "\n",
       "        date  month_number  minute_price  start_ride_price  subscription_fee  \n",
       "0 2021-01-01             1             6                 0               199  \n",
       "1 2021-01-18             1             6                 0               199  \n",
       "2 2021-04-20             4             6                 0               199  \n",
       "3 2021-08-11             8             6                 0               199  \n",
       "4 2021-08-28             8             6                 0               199  "
      ]
     },
     "execution_count": 34,
     "metadata": {},
     "output_type": "execute_result"
    }
   ],
   "source": [
    "df = df_users_go.merge(df_rides_go, how='left', on ='user_id')\n",
    "df = df.merge(df_subscriptions_go, how='left', on ='subscription_type')\n",
    "df.head()"
   ]
  },
  {
   "cell_type": "markdown",
   "id": "93e5fa0c",
   "metadata": {},
   "source": [
    "#### Проверю, что количество записей до объединения такое же, как и после"
   ]
  },
  {
   "cell_type": "code",
   "execution_count": 35,
   "id": "eb4d775a",
   "metadata": {},
   "outputs": [
    {
     "data": {
      "text/plain": [
       "True"
      ]
     },
     "execution_count": 35,
     "metadata": {},
     "output_type": "execute_result"
    }
   ],
   "source": [
    "df_rides_go.shape[0] == df.shape[0]"
   ]
  },
  {
   "cell_type": "markdown",
   "id": "8c86cacc",
   "metadata": {},
   "source": [
    "#### Проверю, что по-прежнему нет пропусков"
   ]
  },
  {
   "cell_type": "code",
   "execution_count": 36,
   "id": "2f5e8c9f",
   "metadata": {},
   "outputs": [
    {
     "data": {
      "text/plain": [
       "user_id              0\n",
       "name                 0\n",
       "age                  0\n",
       "city                 0\n",
       "subscription_type    0\n",
       "distance             0\n",
       "duration             0\n",
       "date                 0\n",
       "month_number         0\n",
       "minute_price         0\n",
       "start_ride_price     0\n",
       "subscription_fee     0\n",
       "dtype: int64"
      ]
     },
     "execution_count": 36,
     "metadata": {},
     "output_type": "execute_result"
    }
   ],
   "source": [
    "df.isna().sum()"
   ]
  },
  {
   "cell_type": "markdown",
   "id": "332d0e0f",
   "metadata": {},
   "source": [
    "#### Создам ещё два датафрейма из датафрейма выше:\n",
    "* c данными о пользователях без подписки;\n",
    "* с данными о пользователях с подпиской."
   ]
  },
  {
   "cell_type": "code",
   "execution_count": 37,
   "id": "11736499",
   "metadata": {},
   "outputs": [
    {
     "data": {
      "text/html": [
       "<div>\n",
       "<style scoped>\n",
       "    .dataframe tbody tr th:only-of-type {\n",
       "        vertical-align: middle;\n",
       "    }\n",
       "\n",
       "    .dataframe tbody tr th {\n",
       "        vertical-align: top;\n",
       "    }\n",
       "\n",
       "    .dataframe thead th {\n",
       "        text-align: right;\n",
       "    }\n",
       "</style>\n",
       "<table border=\"1\" class=\"dataframe\">\n",
       "  <thead>\n",
       "    <tr style=\"text-align: right;\">\n",
       "      <th></th>\n",
       "      <th>user_id</th>\n",
       "      <th>name</th>\n",
       "      <th>age</th>\n",
       "      <th>city</th>\n",
       "      <th>subscription_type</th>\n",
       "      <th>distance</th>\n",
       "      <th>duration</th>\n",
       "      <th>date</th>\n",
       "      <th>month_number</th>\n",
       "      <th>minute_price</th>\n",
       "      <th>start_ride_price</th>\n",
       "      <th>subscription_fee</th>\n",
       "    </tr>\n",
       "  </thead>\n",
       "  <tbody>\n",
       "    <tr>\n",
       "      <th>6500</th>\n",
       "      <td>700</td>\n",
       "      <td>Айдар</td>\n",
       "      <td>22</td>\n",
       "      <td>Омск</td>\n",
       "      <td>free</td>\n",
       "      <td>2515.690719</td>\n",
       "      <td>14.944286</td>\n",
       "      <td>2021-01-02</td>\n",
       "      <td>1</td>\n",
       "      <td>8</td>\n",
       "      <td>50</td>\n",
       "      <td>0</td>\n",
       "    </tr>\n",
       "    <tr>\n",
       "      <th>6501</th>\n",
       "      <td>700</td>\n",
       "      <td>Айдар</td>\n",
       "      <td>22</td>\n",
       "      <td>Омск</td>\n",
       "      <td>free</td>\n",
       "      <td>846.932642</td>\n",
       "      <td>16.234663</td>\n",
       "      <td>2021-02-01</td>\n",
       "      <td>2</td>\n",
       "      <td>8</td>\n",
       "      <td>50</td>\n",
       "      <td>0</td>\n",
       "    </tr>\n",
       "    <tr>\n",
       "      <th>6502</th>\n",
       "      <td>700</td>\n",
       "      <td>Айдар</td>\n",
       "      <td>22</td>\n",
       "      <td>Омск</td>\n",
       "      <td>free</td>\n",
       "      <td>4004.434142</td>\n",
       "      <td>20.016628</td>\n",
       "      <td>2021-02-04</td>\n",
       "      <td>2</td>\n",
       "      <td>8</td>\n",
       "      <td>50</td>\n",
       "      <td>0</td>\n",
       "    </tr>\n",
       "    <tr>\n",
       "      <th>6503</th>\n",
       "      <td>700</td>\n",
       "      <td>Айдар</td>\n",
       "      <td>22</td>\n",
       "      <td>Омск</td>\n",
       "      <td>free</td>\n",
       "      <td>1205.911290</td>\n",
       "      <td>9.782872</td>\n",
       "      <td>2021-02-10</td>\n",
       "      <td>2</td>\n",
       "      <td>8</td>\n",
       "      <td>50</td>\n",
       "      <td>0</td>\n",
       "    </tr>\n",
       "    <tr>\n",
       "      <th>6504</th>\n",
       "      <td>700</td>\n",
       "      <td>Айдар</td>\n",
       "      <td>22</td>\n",
       "      <td>Омск</td>\n",
       "      <td>free</td>\n",
       "      <td>3047.379435</td>\n",
       "      <td>17.427673</td>\n",
       "      <td>2021-02-14</td>\n",
       "      <td>2</td>\n",
       "      <td>8</td>\n",
       "      <td>50</td>\n",
       "      <td>0</td>\n",
       "    </tr>\n",
       "  </tbody>\n",
       "</table>\n",
       "</div>"
      ],
      "text/plain": [
       "      user_id   name  age  city subscription_type     distance   duration  \\\n",
       "6500      700  Айдар   22  Омск              free  2515.690719  14.944286   \n",
       "6501      700  Айдар   22  Омск              free   846.932642  16.234663   \n",
       "6502      700  Айдар   22  Омск              free  4004.434142  20.016628   \n",
       "6503      700  Айдар   22  Омск              free  1205.911290   9.782872   \n",
       "6504      700  Айдар   22  Омск              free  3047.379435  17.427673   \n",
       "\n",
       "           date  month_number  minute_price  start_ride_price  \\\n",
       "6500 2021-01-02             1             8                50   \n",
       "6501 2021-02-01             2             8                50   \n",
       "6502 2021-02-04             2             8                50   \n",
       "6503 2021-02-10             2             8                50   \n",
       "6504 2021-02-14             2             8                50   \n",
       "\n",
       "      subscription_fee  \n",
       "6500                 0  \n",
       "6501                 0  \n",
       "6502                 0  \n",
       "6503                 0  \n",
       "6504                 0  "
      ]
     },
     "execution_count": 37,
     "metadata": {},
     "output_type": "execute_result"
    }
   ],
   "source": [
    "df_free = df.query('subscription_type == \"free\"')\n",
    "df_free.head()"
   ]
  },
  {
   "cell_type": "code",
   "execution_count": 38,
   "id": "83e369eb",
   "metadata": {},
   "outputs": [
    {
     "data": {
      "text/html": [
       "<div>\n",
       "<style scoped>\n",
       "    .dataframe tbody tr th:only-of-type {\n",
       "        vertical-align: middle;\n",
       "    }\n",
       "\n",
       "    .dataframe tbody tr th {\n",
       "        vertical-align: top;\n",
       "    }\n",
       "\n",
       "    .dataframe thead th {\n",
       "        text-align: right;\n",
       "    }\n",
       "</style>\n",
       "<table border=\"1\" class=\"dataframe\">\n",
       "  <thead>\n",
       "    <tr style=\"text-align: right;\">\n",
       "      <th></th>\n",
       "      <th>user_id</th>\n",
       "      <th>name</th>\n",
       "      <th>age</th>\n",
       "      <th>city</th>\n",
       "      <th>subscription_type</th>\n",
       "      <th>distance</th>\n",
       "      <th>duration</th>\n",
       "      <th>date</th>\n",
       "      <th>month_number</th>\n",
       "      <th>minute_price</th>\n",
       "      <th>start_ride_price</th>\n",
       "      <th>subscription_fee</th>\n",
       "    </tr>\n",
       "  </thead>\n",
       "  <tbody>\n",
       "    <tr>\n",
       "      <th>0</th>\n",
       "      <td>1</td>\n",
       "      <td>Кира</td>\n",
       "      <td>22</td>\n",
       "      <td>Тюмень</td>\n",
       "      <td>ultra</td>\n",
       "      <td>4409.919140</td>\n",
       "      <td>25.599769</td>\n",
       "      <td>2021-01-01</td>\n",
       "      <td>1</td>\n",
       "      <td>6</td>\n",
       "      <td>0</td>\n",
       "      <td>199</td>\n",
       "    </tr>\n",
       "    <tr>\n",
       "      <th>1</th>\n",
       "      <td>1</td>\n",
       "      <td>Кира</td>\n",
       "      <td>22</td>\n",
       "      <td>Тюмень</td>\n",
       "      <td>ultra</td>\n",
       "      <td>2617.592153</td>\n",
       "      <td>15.816871</td>\n",
       "      <td>2021-01-18</td>\n",
       "      <td>1</td>\n",
       "      <td>6</td>\n",
       "      <td>0</td>\n",
       "      <td>199</td>\n",
       "    </tr>\n",
       "    <tr>\n",
       "      <th>2</th>\n",
       "      <td>1</td>\n",
       "      <td>Кира</td>\n",
       "      <td>22</td>\n",
       "      <td>Тюмень</td>\n",
       "      <td>ultra</td>\n",
       "      <td>754.159807</td>\n",
       "      <td>6.232113</td>\n",
       "      <td>2021-04-20</td>\n",
       "      <td>4</td>\n",
       "      <td>6</td>\n",
       "      <td>0</td>\n",
       "      <td>199</td>\n",
       "    </tr>\n",
       "    <tr>\n",
       "      <th>3</th>\n",
       "      <td>1</td>\n",
       "      <td>Кира</td>\n",
       "      <td>22</td>\n",
       "      <td>Тюмень</td>\n",
       "      <td>ultra</td>\n",
       "      <td>2694.783254</td>\n",
       "      <td>18.511000</td>\n",
       "      <td>2021-08-11</td>\n",
       "      <td>8</td>\n",
       "      <td>6</td>\n",
       "      <td>0</td>\n",
       "      <td>199</td>\n",
       "    </tr>\n",
       "    <tr>\n",
       "      <th>4</th>\n",
       "      <td>1</td>\n",
       "      <td>Кира</td>\n",
       "      <td>22</td>\n",
       "      <td>Тюмень</td>\n",
       "      <td>ultra</td>\n",
       "      <td>4028.687306</td>\n",
       "      <td>26.265803</td>\n",
       "      <td>2021-08-28</td>\n",
       "      <td>8</td>\n",
       "      <td>6</td>\n",
       "      <td>0</td>\n",
       "      <td>199</td>\n",
       "    </tr>\n",
       "  </tbody>\n",
       "</table>\n",
       "</div>"
      ],
      "text/plain": [
       "   user_id  name  age    city subscription_type     distance   duration  \\\n",
       "0        1  Кира   22  Тюмень             ultra  4409.919140  25.599769   \n",
       "1        1  Кира   22  Тюмень             ultra  2617.592153  15.816871   \n",
       "2        1  Кира   22  Тюмень             ultra   754.159807   6.232113   \n",
       "3        1  Кира   22  Тюмень             ultra  2694.783254  18.511000   \n",
       "4        1  Кира   22  Тюмень             ultra  4028.687306  26.265803   \n",
       "\n",
       "        date  month_number  minute_price  start_ride_price  subscription_fee  \n",
       "0 2021-01-01             1             6                 0               199  \n",
       "1 2021-01-18             1             6                 0               199  \n",
       "2 2021-04-20             4             6                 0               199  \n",
       "3 2021-08-11             8             6                 0               199  \n",
       "4 2021-08-28             8             6                 0               199  "
      ]
     },
     "execution_count": 38,
     "metadata": {},
     "output_type": "execute_result"
    }
   ],
   "source": [
    "df_ultra = df.query('subscription_type == \"ultra\"')\n",
    "df_ultra.head()"
   ]
  },
  {
   "cell_type": "markdown",
   "id": "71aabb65",
   "metadata": {},
   "source": [
    "#### Визуализирую информацию о расстоянии и времени поездок для пользователей обеих категорий"
   ]
  },
  {
   "cell_type": "code",
   "execution_count": 39,
   "id": "172d40c3",
   "metadata": {},
   "outputs": [
    {
     "data": {
      "image/png": "[encoded data removed]",
      "text/plain": [
       "<Figure size 864x288 with 2 Axes>"
      ]
     },
     "metadata": {
      "needs_background": "light"
     },
     "output_type": "display_data"
    }
   ],
   "source": [
    "fig, (ax1, ax2) = plt.subplots(nrows=1, ncols=2, figsize=(12, 4))\n",
    "sns.histplot(data=df_free, x='distance', ax=ax1, color='skyblue').set_title('Расстояние поездки')\n",
    "sns.histplot(data=df_ultra, x='distance', ax=ax1, color = 'forestgreen').set_title('Расстояние поездки')\n",
    "sns.histplot(data=df_free, x='duration', ax=ax2, color='skyblue').set_title('Продолжительность поездок')\n",
    "sns.histplot(data=df_ultra, x='duration', ax=ax2, color = 'forestgreen').set_title('Продолжительность поездок')\n",
    "plt.legend(labels=['Неподписчики', 'Подписчики'])\n",
    "plt.tight_layout()\n",
    "plt.show()"
   ]
  },
  {
   "cell_type": "markdown",
   "id": "402d620f",
   "metadata": {},
   "source": [
    "### 5. Подсчёт выручки"
   ]
  },
  {
   "cell_type": "markdown",
   "id": "692c1deb",
   "metadata": {},
   "source": [
    "#### Посчитаю стоимость каждой поездки. Продолжительность каждой поездки при этом округляется вверх, до следующего целого числа"
   ]
  },
  {
   "cell_type": "code",
   "execution_count": 40,
   "id": "8ce091a7",
   "metadata": {},
   "outputs": [
    {
     "data": {
      "text/html": [
       "<div>\n",
       "<style scoped>\n",
       "    .dataframe tbody tr th:only-of-type {\n",
       "        vertical-align: middle;\n",
       "    }\n",
       "\n",
       "    .dataframe tbody tr th {\n",
       "        vertical-align: top;\n",
       "    }\n",
       "\n",
       "    .dataframe thead th {\n",
       "        text-align: right;\n",
       "    }\n",
       "</style>\n",
       "<table border=\"1\" class=\"dataframe\">\n",
       "  <thead>\n",
       "    <tr style=\"text-align: right;\">\n",
       "      <th></th>\n",
       "      <th>user_id</th>\n",
       "      <th>name</th>\n",
       "      <th>age</th>\n",
       "      <th>city</th>\n",
       "      <th>subscription_type</th>\n",
       "      <th>distance</th>\n",
       "      <th>duration</th>\n",
       "      <th>date</th>\n",
       "      <th>month_number</th>\n",
       "      <th>minute_price</th>\n",
       "      <th>start_ride_price</th>\n",
       "      <th>subscription_fee</th>\n",
       "      <th>price</th>\n",
       "    </tr>\n",
       "  </thead>\n",
       "  <tbody>\n",
       "    <tr>\n",
       "      <th>0</th>\n",
       "      <td>1</td>\n",
       "      <td>Кира</td>\n",
       "      <td>22</td>\n",
       "      <td>Тюмень</td>\n",
       "      <td>ultra</td>\n",
       "      <td>4409.919140</td>\n",
       "      <td>25.599769</td>\n",
       "      <td>2021-01-01</td>\n",
       "      <td>1</td>\n",
       "      <td>6</td>\n",
       "      <td>0</td>\n",
       "      <td>199</td>\n",
       "      <td>355.0</td>\n",
       "    </tr>\n",
       "    <tr>\n",
       "      <th>1</th>\n",
       "      <td>1</td>\n",
       "      <td>Кира</td>\n",
       "      <td>22</td>\n",
       "      <td>Тюмень</td>\n",
       "      <td>ultra</td>\n",
       "      <td>2617.592153</td>\n",
       "      <td>15.816871</td>\n",
       "      <td>2021-01-18</td>\n",
       "      <td>1</td>\n",
       "      <td>6</td>\n",
       "      <td>0</td>\n",
       "      <td>199</td>\n",
       "      <td>295.0</td>\n",
       "    </tr>\n",
       "    <tr>\n",
       "      <th>2</th>\n",
       "      <td>1</td>\n",
       "      <td>Кира</td>\n",
       "      <td>22</td>\n",
       "      <td>Тюмень</td>\n",
       "      <td>ultra</td>\n",
       "      <td>754.159807</td>\n",
       "      <td>6.232113</td>\n",
       "      <td>2021-04-20</td>\n",
       "      <td>4</td>\n",
       "      <td>6</td>\n",
       "      <td>0</td>\n",
       "      <td>199</td>\n",
       "      <td>241.0</td>\n",
       "    </tr>\n",
       "    <tr>\n",
       "      <th>3</th>\n",
       "      <td>1</td>\n",
       "      <td>Кира</td>\n",
       "      <td>22</td>\n",
       "      <td>Тюмень</td>\n",
       "      <td>ultra</td>\n",
       "      <td>2694.783254</td>\n",
       "      <td>18.511000</td>\n",
       "      <td>2021-08-11</td>\n",
       "      <td>8</td>\n",
       "      <td>6</td>\n",
       "      <td>0</td>\n",
       "      <td>199</td>\n",
       "      <td>313.0</td>\n",
       "    </tr>\n",
       "    <tr>\n",
       "      <th>4</th>\n",
       "      <td>1</td>\n",
       "      <td>Кира</td>\n",
       "      <td>22</td>\n",
       "      <td>Тюмень</td>\n",
       "      <td>ultra</td>\n",
       "      <td>4028.687306</td>\n",
       "      <td>26.265803</td>\n",
       "      <td>2021-08-28</td>\n",
       "      <td>8</td>\n",
       "      <td>6</td>\n",
       "      <td>0</td>\n",
       "      <td>199</td>\n",
       "      <td>361.0</td>\n",
       "    </tr>\n",
       "  </tbody>\n",
       "</table>\n",
       "</div>"
      ],
      "text/plain": [
       "   user_id  name  age    city subscription_type     distance   duration  \\\n",
       "0        1  Кира   22  Тюмень             ultra  4409.919140  25.599769   \n",
       "1        1  Кира   22  Тюмень             ultra  2617.592153  15.816871   \n",
       "2        1  Кира   22  Тюмень             ultra   754.159807   6.232113   \n",
       "3        1  Кира   22  Тюмень             ultra  2694.783254  18.511000   \n",
       "4        1  Кира   22  Тюмень             ultra  4028.687306  26.265803   \n",
       "\n",
       "        date  month_number  minute_price  start_ride_price  subscription_fee  \\\n",
       "0 2021-01-01             1             6                 0               199   \n",
       "1 2021-01-18             1             6                 0               199   \n",
       "2 2021-04-20             4             6                 0               199   \n",
       "3 2021-08-11             8             6                 0               199   \n",
       "4 2021-08-28             8             6                 0               199   \n",
       "\n",
       "   price  \n",
       "0  355.0  \n",
       "1  295.0  \n",
       "2  241.0  \n",
       "3  313.0  \n",
       "4  361.0  "
      ]
     },
     "execution_count": 40,
     "metadata": {},
     "output_type": "execute_result"
    }
   ],
   "source": [
    "df['price'] = df['subscription_fee'] + df['start_ride_price'] + df['minute_price'] * np.ceil(df['duration'])\n",
    "df.head()"
   ]
  },
  {
   "cell_type": "markdown",
   "id": "d28309f2",
   "metadata": {},
   "source": [
    "#### Создам датафрейм с агрегированными данными о поездках: найду суммарное расстояние, количество поездок и суммарное время для каждого пользователя за каждый месяц"
   ]
  },
  {
   "cell_type": "code",
   "execution_count": 41,
   "id": "378629c2",
   "metadata": {},
   "outputs": [
    {
     "data": {
      "text/html": [
       "<div>\n",
       "<style scoped>\n",
       "    .dataframe tbody tr th:only-of-type {\n",
       "        vertical-align: middle;\n",
       "    }\n",
       "\n",
       "    .dataframe tbody tr th {\n",
       "        vertical-align: top;\n",
       "    }\n",
       "\n",
       "    .dataframe thead th {\n",
       "        text-align: right;\n",
       "    }\n",
       "</style>\n",
       "<table border=\"1\" class=\"dataframe\">\n",
       "  <thead>\n",
       "    <tr style=\"text-align: right;\">\n",
       "      <th></th>\n",
       "      <th>user_id</th>\n",
       "      <th>subscription_type</th>\n",
       "      <th>month_number</th>\n",
       "      <th>distance_sum</th>\n",
       "      <th>rides_count</th>\n",
       "      <th>duration_sum</th>\n",
       "      <th>revenue</th>\n",
       "    </tr>\n",
       "  </thead>\n",
       "  <tbody>\n",
       "    <tr>\n",
       "      <th>0</th>\n",
       "      <td>1</td>\n",
       "      <td>ultra</td>\n",
       "      <td>1</td>\n",
       "      <td>7027.5</td>\n",
       "      <td>2</td>\n",
       "      <td>41.4</td>\n",
       "      <td>650.0</td>\n",
       "    </tr>\n",
       "    <tr>\n",
       "      <th>1</th>\n",
       "      <td>1</td>\n",
       "      <td>ultra</td>\n",
       "      <td>4</td>\n",
       "      <td>754.2</td>\n",
       "      <td>1</td>\n",
       "      <td>6.2</td>\n",
       "      <td>241.0</td>\n",
       "    </tr>\n",
       "    <tr>\n",
       "      <th>2</th>\n",
       "      <td>1</td>\n",
       "      <td>ultra</td>\n",
       "      <td>8</td>\n",
       "      <td>6723.5</td>\n",
       "      <td>2</td>\n",
       "      <td>44.8</td>\n",
       "      <td>674.0</td>\n",
       "    </tr>\n",
       "    <tr>\n",
       "      <th>3</th>\n",
       "      <td>1</td>\n",
       "      <td>ultra</td>\n",
       "      <td>10</td>\n",
       "      <td>5809.9</td>\n",
       "      <td>2</td>\n",
       "      <td>31.6</td>\n",
       "      <td>590.0</td>\n",
       "    </tr>\n",
       "    <tr>\n",
       "      <th>4</th>\n",
       "      <td>1</td>\n",
       "      <td>ultra</td>\n",
       "      <td>11</td>\n",
       "      <td>7003.5</td>\n",
       "      <td>3</td>\n",
       "      <td>53.4</td>\n",
       "      <td>933.0</td>\n",
       "    </tr>\n",
       "  </tbody>\n",
       "</table>\n",
       "</div>"
      ],
      "text/plain": [
       "   user_id subscription_type  month_number  distance_sum  rides_count  \\\n",
       "0        1             ultra             1        7027.5            2   \n",
       "1        1             ultra             4         754.2            1   \n",
       "2        1             ultra             8        6723.5            2   \n",
       "3        1             ultra            10        5809.9            2   \n",
       "4        1             ultra            11        7003.5            3   \n",
       "\n",
       "   duration_sum  revenue  \n",
       "0          41.4    650.0  \n",
       "1           6.2    241.0  \n",
       "2          44.8    674.0  \n",
       "3          31.6    590.0  \n",
       "4          53.4    933.0  "
      ]
     },
     "execution_count": 41,
     "metadata": {},
     "output_type": "execute_result"
    }
   ],
   "source": [
    "aggregated_df = df.query('duration > 1') \\\n",
    "                .groupby(['user_id', 'subscription_type', 'month_number'], as_index=False) \\\n",
    "                .agg({'distance': 'sum', 'date': 'count', 'duration': 'sum', 'price': 'sum'}) \\\n",
    "                .rename(columns={'distance': 'distance_sum',\n",
    "                                'date': 'rides_count',\n",
    "                                'duration': 'duration_sum',\n",
    "                                'price': 'revenue'}) \\\n",
    "                .sort_values(['user_id', 'month_number'], ascending = True)\n",
    "\n",
    "# Округление значений\n",
    "aggregated_df = aggregated_df.round({'distance_sum': 1, 'duration_sum': 1})\n",
    "\n",
    "aggregated_df.head()"
   ]
  },
  {
   "cell_type": "markdown",
   "id": "41545ac0",
   "metadata": {},
   "source": [
    "### 6. Проверка гипотез"
   ]
  },
  {
   "cell_type": "code",
   "execution_count": 42,
   "id": "1c8112a6",
   "metadata": {},
   "outputs": [],
   "source": [
    "alpha = 0.05"
   ]
  },
  {
   "cell_type": "markdown",
   "id": "0a06b490",
   "metadata": {},
   "source": [
    "#### 1) Тратят ли пользователи с подпиской больше времени на поездки? Если да, то пользователи с подпиской могут быть «выгоднее» для компании.\n"
   ]
  },
  {
   "cell_type": "markdown",
   "id": "d1ad2047",
   "metadata": {},
   "source": [
    "H0: Пользователи с подпиской тратят в среднем столько же времени на поездки, сколько и пользователи без подписки  \n",
    "H1:Пользователи с подпиской тратят в среднем больше времени на поездки, чем пользователи без подписки"
   ]
  },
  {
   "cell_type": "code",
   "execution_count": 43,
   "id": "ae595b04",
   "metadata": {},
   "outputs": [
    {
     "data": {
      "text/plain": [
       "11473"
      ]
     },
     "execution_count": 43,
     "metadata": {},
     "output_type": "execute_result"
    }
   ],
   "source": [
    "df_free.query('duration > 1').shape[0]"
   ]
  },
  {
   "cell_type": "code",
   "execution_count": 44,
   "id": "98fd6fb9",
   "metadata": {},
   "outputs": [
    {
     "data": {
      "text/plain": [
       "6500"
      ]
     },
     "execution_count": 44,
     "metadata": {},
     "output_type": "execute_result"
    }
   ],
   "source": [
    "df_ultra.query('duration > 1').shape[0]"
   ]
  },
  {
   "cell_type": "markdown",
   "id": "05650d89",
   "metadata": {},
   "source": [
    "Выборки пользователей не равны по размеру"
   ]
  },
  {
   "cell_type": "code",
   "execution_count": 55,
   "id": "7ff73a44",
   "metadata": {},
   "outputs": [
    {
     "name": "stdout",
     "output_type": "stream",
     "text": [
      "Среднее выборки пользователей без подписки:  17.530771268800223\n",
      "Среднее выборки пользователей с подпиской:  18.541985162805805\n",
      "p-value:  1.6162210195310587e-29\n",
      "Отвергаем нулевую гипотезу\n"
     ]
    }
   ],
   "source": [
    "print('Среднее выборки пользователей без подписки: ', df_free.query('duration > 1')['duration'].mean())\n",
    "print('Среднее выборки пользователей с подпиской: ', df_ultra.query('duration > 1')['duration'].mean())\n",
    "\n",
    "results = st.ttest_ind(df_free.query('duration > 1')['duration'],\n",
    "                       df_ultra.query('duration > 1')['duration'],\n",
    "                       equal_var = False,\n",
    "                       alternative ='less')\n",
    "print('p-value: ', results.pvalue)\n",
    "\n",
    "if results.pvalue < alpha:\n",
    "    print('Отвергаем нулевую гипотезу')\n",
    "else:\n",
    "    print('Не отвергаем нулевую гипотезу')"
   ]
  },
  {
   "cell_type": "markdown",
   "id": "07821349",
   "metadata": {},
   "source": [
    "**Вывод:** Пользователи с подпиской тратят больше времени на поездку."
   ]
  },
  {
   "cell_type": "markdown",
   "id": "cb778521",
   "metadata": {},
   "source": [
    "#### 2) Расстояние одной поездки в 3130 метров — оптимальное с точки зрения износа самоката. Можно ли сказать, что среднее расстояние, которое проезжают пользователи с подпиской за одну поездку, не превышает 3130 метров? \n",
    "\n"
   ]
  },
  {
   "cell_type": "markdown",
   "id": "f1dc8945",
   "metadata": {},
   "source": [
    "H0: Среднее расстояние, которое проезжают пользователи с подпиской за одну поездку = 3130  метров  \n",
    "H1: Среднее расстояние, которое проезжают пользователи с подпиской за одну поездку > 3130 метров"
   ]
  },
  {
   "cell_type": "code",
   "execution_count": 46,
   "id": "e55ed85a",
   "metadata": {},
   "outputs": [],
   "source": [
    "value = 3130"
   ]
  },
  {
   "cell_type": "code",
   "execution_count": 47,
   "id": "15d043b2",
   "metadata": {},
   "outputs": [
    {
     "name": "stdout",
     "output_type": "stream",
     "text": [
      "Среднее выборки:  3115.445388037025\n",
      "p-value:  0.9195368847849785\n",
      "Не отвергаем нулевую гипотезу\n"
     ]
    }
   ],
   "source": [
    "print('Среднее выборки: ', df_ultra['distance'].mean())\n",
    "\n",
    "results = st.ttest_1samp(df_ultra['distance'], value, alternative='greater')\n",
    "print('p-value: ', results.pvalue)\n",
    "\n",
    "if results.pvalue < alpha:\n",
    "    print('Отвергаем нулевую гипотезу')\n",
    "else:\n",
    "    print('Не отвергаем нулевую гипотезу')"
   ]
  },
  {
   "cell_type": "markdown",
   "id": "55eff47b",
   "metadata": {},
   "source": [
    "**Вывод:** Пользователи с подпиской в среднем проезжают за одну поездку расстояние, не превышающее 3 130 метров."
   ]
  },
  {
   "cell_type": "markdown",
   "id": "8027bee1",
   "metadata": {},
   "source": [
    "#### 3) Будет ли помесячная выручка от пользователей с подпиской по месяцам выше, чем выручка от пользователей без подписки?\n",
    "\n"
   ]
  },
  {
   "cell_type": "markdown",
   "id": "8450432e",
   "metadata": {},
   "source": [
    "H0: Средняя помесячная выручка от пользователей с подпиской равна средней помесячной выручке от пользователей без подписки  \n",
    "H1:Средняя помесячная выручка от пользователей с подпиской выше, чем средняя помесячная выручка от пользователей без подписки"
   ]
  },
  {
   "cell_type": "code",
   "execution_count": 48,
   "id": "58d4a80e",
   "metadata": {},
   "outputs": [
    {
     "data": {
      "text/plain": [
       "6767"
      ]
     },
     "execution_count": 48,
     "metadata": {},
     "output_type": "execute_result"
    }
   ],
   "source": [
    "aggregated_df.query('subscription_type == \"free\"').shape[0]"
   ]
  },
  {
   "cell_type": "code",
   "execution_count": 49,
   "id": "6b8ed1c3",
   "metadata": {},
   "outputs": [
    {
     "data": {
      "text/plain": [
       "4533"
      ]
     },
     "execution_count": 49,
     "metadata": {},
     "output_type": "execute_result"
    }
   ],
   "source": [
    "aggregated_df.query('subscription_type == \"ultra\"').shape[0]"
   ]
  },
  {
   "cell_type": "markdown",
   "id": "396ed994",
   "metadata": {},
   "source": [
    "Выборки пользователей не равны по размеру"
   ]
  },
  {
   "cell_type": "code",
   "execution_count": 54,
   "id": "ff505c99",
   "metadata": {},
   "outputs": [
    {
     "name": "stdout",
     "output_type": "stream",
     "text": [
      "Среднее выборки пользователей без подписки:  329.3326437121324\n",
      "Среднее выборки пользователей с подпиской:  449.14405470990516\n",
      "p-value:  9.793854017241494e-191\n",
      "Отвергаем нулевую гипотезу\n"
     ]
    }
   ],
   "source": [
    "print('Среднее выборки пользователей без подписки: ', aggregated_df.query('subscription_type == \"free\"')['revenue'].mean())\n",
    "print('Среднее выборки пользователей с подпиской: ', aggregated_df.query('subscription_type == \"ultra\"')['revenue'].mean())\n",
    "\n",
    "results = st.ttest_ind(aggregated_df.query('subscription_type == \"free\"')['revenue'],\n",
    "                       aggregated_df.query('subscription_type == \"ultra\"')['revenue'],\n",
    "                       equal_var = False,\n",
    "                       alternative ='less')\n",
    "print('p-value: ', results.pvalue)\n",
    "\n",
    "if results.pvalue < alpha:\n",
    "    print('Отвергаем нулевую гипотезу')\n",
    "else:\n",
    "    print('Не отвергаем нулевую гипотезу')"
   ]
  },
  {
   "cell_type": "markdown",
   "id": "38989af2",
   "metadata": {},
   "source": [
    "**Вывод:** Помесячная выручка от пользователей с подпиской выше, чем выручка от пользователей без подписки."
   ]
  },
  {
   "cell_type": "markdown",
   "id": "bc25abda",
   "metadata": {},
   "source": [
    "#### 4) Tехническая команда сервиса обновила сервера, с которыми взаимодействует мобильное приложение. Она надеется, что из-за этого количество обращений в техподдержку значимо снизилось. Некоторый файл содержит для каждого пользователя данные о количестве обращений до обновления и после него. Какой тест понадобился бы для проверки этой гипотезы?"
   ]
  },
  {
   "cell_type": "markdown",
   "id": "8cc33e4b",
   "metadata": {},
   "source": [
    "Двухвыборочный t-тест для зависимых выборок:  \n",
    "result = st.ttest_rel(sample_before, sample_after, alternative = 'greater'"
   ]
  },
  {
   "cell_type": "markdown",
   "id": "61213c5e",
   "metadata": {},
   "source": [
    "### 7. Распределения"
   ]
  },
  {
   "cell_type": "markdown",
   "id": "7b901a67",
   "metadata": {},
   "source": [
    "#### 1) Отделу маркетинга GoFast поставили задачу: нужно провести акцию с раздачей промокодов на один бесплатный месяц подписки, в рамках которой как минимум 100 существующих клиентов должны продлить эту подписку. То есть по завершении периода действия подписки пользователь может либо отказаться от неё, либо продлить, совершив соответствующий платёж.  Эта акция уже проводилась ранее и по итогу выяснилось, что после бесплатного пробного периода подписку продлевают 10 % пользователей. Какое минимальное количество промокодов нужно разослать, чтобы вероятность не выполнить план была примерно 5 %?"
   ]
  },
  {
   "cell_type": "code",
   "execution_count": 51,
   "id": "a0b7c020",
   "metadata": {},
   "outputs": [
    {
     "name": "stdout",
     "output_type": "stream",
     "text": [
      "Минимальное количество промокодов: 1161\n"
     ]
    }
   ],
   "source": [
    "# Целевое количество продлений\n",
    "k = 100\n",
    "\n",
    "# Вероятность успеха (продления подписки)\n",
    "p = 0.1\n",
    "\n",
    "# Функция для вычисления вероятности неудачи (не достигнуть цели)\n",
    "def prob_failure(n):\n",
    "    return st.binom.cdf(k-1, n, p)\n",
    "\n",
    "# Поиск минимального n, при котором вероятность неудачи меньше 0.05\n",
    "n_min = 1\n",
    "while prob_failure(n_min) > 0.05:\n",
    "    n_min += 1\n",
    "\n",
    "print(f\"Минимальное количество промокодов: {n_min}\")"
   ]
  },
  {
   "cell_type": "code",
   "execution_count": 56,
   "id": "ea10ec05",
   "metadata": {},
   "outputs": [
    {
     "data": {
      "image/png": "[encoded data removed]",
      "text/plain": [
       "<Figure size 432x288 with 1 Axes>"
      ]
     },
     "metadata": {
      "needs_background": "light"
     },
     "output_type": "display_data"
    }
   ],
   "source": [
    "n_range = np.arange(n_min - 100, n_min + 100)  # Диапазон n\n",
    "\n",
    "# Вычисление вероятности неудачи (менее k успехов)\n",
    "prob_failure = list(map(lambda n: st.binom.cdf(k-1, n, p), n_range))\n",
    "\n",
    "plt.plot(n_range, prob_failure, label='Вероятность неудачи')\n",
    "plt.axhline(y=0.05, color='orange', label='Пороговое значение (0.05)')\n",
    "plt.axvline(x=n_min, color='red', label='Минимальное n')\n",
    "plt.xlabel('Количество промокодов')\n",
    "plt.ylabel('Вероятность')\n",
    "plt.title('Биномиальное распределение количества промокодов')\n",
    "plt.legend()\n",
    "plt.grid()\n",
    "plt.show()"
   ]
  },
  {
   "cell_type": "markdown",
   "id": "8633af53",
   "metadata": {},
   "source": [
    "#### 2) Отдел маркетинга рассылает клиентам push-уведомления в мобильном приложении. Клиенты могут открыть его или не открывать. Известно, что уведомления открывают около 40 % получивших клиентов. Отдел планирует разослать 1 млн уведомлений. Какая вероятность того, что уведомление откроют не более 399,5 тыс. пользователей?"
   ]
  },
  {
   "cell_type": "code",
   "execution_count": null,
   "id": "a65b9156",
   "metadata": {},
   "outputs": [],
   "source": [
    "n = 1_000_000  # Количество уведомлений\n",
    "p = 0.4        # Вероятность открытия уведомления\n",
    "k = 399_500    # Целевое количество пользователей\n",
    "mu = n * p      # Среднее значение\n",
    "sigma2 = n * p * (1 - p)  # Дисперсия\n",
    "sigma = np.sqrt(sigma2)  # Стандартное отклонение\n",
    "\n",
    "left_tail_probability = round(st.norm.cdf(k, mu, sigma), 3)\n",
    "print(f\"Вероятность того, что уведомление откроют не более 399,5 тыс. пользователей: {left_tail_probability}\")"
   ]
  },
  {
   "cell_type": "markdown",
   "id": "52750de1",
   "metadata": {},
   "source": [
    "### Выводы"
   ]
  },
  {
   "cell_type": "markdown",
   "id": "3023f40d",
   "metadata": {},
   "source": [
    "* Больше всего пользователей сервиса в Пятигорске. Средний возраст пользователей - 25 лет. Одна поездка в среднем занимает 18 минут, а ее расстояние 3,1 км.\n",
    "* Пользователи с подпиской тратят больше времени на поездку, чем пользователи без подписки. Помесячная выручка от пользователей с подпиской также выше, чем выручка от пользователей без подписки. При этом в среднем они проезжают за одну поездку расстояние, не превышающее оптимальное с точки зрения износа самоката (3 130 метров). Значит пользователи с подпиской выгоднее.  \n",
    "* Сейчас пользователей с подпиской меньше, чем без неё (46% против 54%). Чтобы с 95% вероятностью выполнить план по увеличению количества подписок на 100 штук, нужно разослать как минимум 1 161 промокод на бесплатную месячную подписку (около 10% пользователей после бесплатного пробного периода продлевают подписку)."
   ]
  },
  {
   "cell_type": "code",
   "execution_count": null,
   "id": "1952823f",
   "metadata": {},
   "outputs": [],
   "source": []
  }
 ],
 "metadata": {
  "ExecuteTimeLog": [
   {
    "duration": 46,
    "start_time": "2025-02-08T13:29:10.971Z"
   },
   {
    "duration": 6,
    "start_time": "2025-02-08T13:29:11.279Z"
   },
   {
    "duration": 412,
    "start_time": "2025-02-08T13:29:14.043Z"
   },
   {
    "duration": 19,
    "start_time": "2025-02-08T13:29:16.809Z"
   },
   {
    "duration": 33,
    "start_time": "2025-02-08T13:29:17.578Z"
   },
   {
    "duration": 68,
    "start_time": "2025-02-08T13:29:18.350Z"
   },
   {
    "duration": 26,
    "start_time": "2025-02-08T13:29:55.365Z"
   },
   {
    "duration": 12,
    "start_time": "2025-02-08T13:30:34.531Z"
   },
   {
    "duration": 37,
    "start_time": "2025-02-08T13:30:46.051Z"
   },
   {
    "duration": 4,
    "start_time": "2025-02-08T13:30:50.506Z"
   },
   {
    "duration": 4,
    "start_time": "2025-02-08T13:30:58.801Z"
   },
   {
    "duration": 7,
    "start_time": "2025-02-08T13:48:30.207Z"
   },
   {
    "duration": 6,
    "start_time": "2025-02-08T13:48:37.887Z"
   },
   {
    "duration": 7,
    "start_time": "2025-02-08T13:48:41.111Z"
   },
   {
    "duration": 17,
    "start_time": "2025-02-08T13:48:48.331Z"
   },
   {
    "duration": 7,
    "start_time": "2025-02-08T13:48:48.646Z"
   },
   {
    "duration": 29,
    "start_time": "2025-02-08T13:48:58.469Z"
   },
   {
    "duration": 8,
    "start_time": "2025-02-08T13:48:58.778Z"
   },
   {
    "duration": 16,
    "start_time": "2025-02-08T13:48:59.699Z"
   },
   {
    "duration": 7,
    "start_time": "2025-02-08T13:48:59.852Z"
   },
   {
    "duration": 7,
    "start_time": "2025-02-08T14:03:28.960Z"
   },
   {
    "duration": 15,
    "start_time": "2025-02-08T14:13:20.511Z"
   },
   {
    "duration": 9,
    "start_time": "2025-02-08T14:33:41.643Z"
   },
   {
    "duration": 25,
    "start_time": "2025-02-08T14:34:04.074Z"
   },
   {
    "duration": 28,
    "start_time": "2025-02-08T14:36:13.658Z"
   },
   {
    "duration": 66,
    "start_time": "2025-02-08T14:36:48.832Z"
   },
   {
    "duration": 25,
    "start_time": "2025-02-08T14:36:55.906Z"
   },
   {
    "duration": 11,
    "start_time": "2025-02-08T14:42:56.198Z"
   },
   {
    "duration": 10,
    "start_time": "2025-02-08T14:43:05.574Z"
   },
   {
    "duration": 11,
    "start_time": "2025-02-08T14:43:07.410Z"
   },
   {
    "duration": 4,
    "start_time": "2025-02-08T14:48:01.302Z"
   },
   {
    "duration": 11,
    "start_time": "2025-02-08T14:48:12.516Z"
   },
   {
    "duration": 65,
    "start_time": "2025-02-08T14:50:29.328Z"
   },
   {
    "duration": 3,
    "start_time": "2025-02-08T14:52:54.125Z"
   },
   {
    "duration": 10,
    "start_time": "2025-02-08T14:54:56.692Z"
   },
   {
    "duration": 6,
    "start_time": "2025-02-08T14:55:01.760Z"
   },
   {
    "duration": 6,
    "start_time": "2025-02-08T15:00:16.594Z"
   },
   {
    "duration": 4,
    "start_time": "2025-02-08T15:00:34.258Z"
   },
   {
    "duration": 6,
    "start_time": "2025-02-08T15:00:51.768Z"
   },
   {
    "duration": 3,
    "start_time": "2025-02-08T15:00:56.377Z"
   },
   {
    "duration": 7,
    "start_time": "2025-02-08T15:01:08.205Z"
   },
   {
    "duration": 18,
    "start_time": "2025-02-08T15:01:21.417Z"
   },
   {
    "duration": 8,
    "start_time": "2025-02-08T15:01:24.179Z"
   },
   {
    "duration": 11,
    "start_time": "2025-02-08T15:01:32.012Z"
   },
   {
    "duration": 4,
    "start_time": "2025-02-08T15:01:34.626Z"
   },
   {
    "duration": 6,
    "start_time": "2025-02-08T15:01:36.006Z"
   },
   {
    "duration": 4,
    "start_time": "2025-02-08T15:01:38.618Z"
   },
   {
    "duration": 11,
    "start_time": "2025-02-08T15:01:39.540Z"
   },
   {
    "duration": 17,
    "start_time": "2025-02-08T15:02:29.410Z"
   },
   {
    "duration": 9,
    "start_time": "2025-02-08T15:02:32.020Z"
   },
   {
    "duration": 10,
    "start_time": "2025-02-08T15:02:43.387Z"
   },
   {
    "duration": 11,
    "start_time": "2025-02-08T15:02:55.058Z"
   },
   {
    "duration": 5,
    "start_time": "2025-02-08T15:03:11.657Z"
   },
   {
    "duration": 12,
    "start_time": "2025-02-08T15:03:12.877Z"
   },
   {
    "duration": 3,
    "start_time": "2025-02-08T15:05:09.615Z"
   },
   {
    "duration": 5,
    "start_time": "2025-02-08T15:05:10.692Z"
   },
   {
    "duration": 11,
    "start_time": "2025-02-08T15:05:12.379Z"
   },
   {
    "duration": 12,
    "start_time": "2025-02-08T15:05:35.932Z"
   },
   {
    "duration": 3,
    "start_time": "2025-02-08T15:05:37.622Z"
   },
   {
    "duration": 6,
    "start_time": "2025-02-08T15:05:39.003Z"
   },
   {
    "duration": 12,
    "start_time": "2025-02-08T15:05:39.465Z"
   },
   {
    "duration": 17,
    "start_time": "2025-02-08T15:05:44.533Z"
   },
   {
    "duration": 29,
    "start_time": "2025-02-08T15:05:44.842Z"
   },
   {
    "duration": 16,
    "start_time": "2025-02-08T15:05:44.996Z"
   },
   {
    "duration": 7,
    "start_time": "2025-02-08T15:05:47.146Z"
   },
   {
    "duration": 8,
    "start_time": "2025-02-08T15:05:48.070Z"
   },
   {
    "duration": 6,
    "start_time": "2025-02-08T15:05:48.528Z"
   },
   {
    "duration": 6,
    "start_time": "2025-02-08T15:05:51.446Z"
   },
   {
    "duration": 15,
    "start_time": "2025-02-08T15:05:52.522Z"
   },
   {
    "duration": 11,
    "start_time": "2025-02-08T15:05:56.362Z"
   },
   {
    "duration": 3,
    "start_time": "2025-02-08T15:05:57.282Z"
   },
   {
    "duration": 6,
    "start_time": "2025-02-08T15:06:00.508Z"
   },
   {
    "duration": 12,
    "start_time": "2025-02-08T15:06:01.276Z"
   },
   {
    "duration": 5,
    "start_time": "2025-02-08T15:06:18.019Z"
   },
   {
    "duration": 10,
    "start_time": "2025-02-08T15:06:19.249Z"
   },
   {
    "duration": 12,
    "start_time": "2025-02-08T15:06:28.618Z"
   },
   {
    "duration": 4,
    "start_time": "2025-02-08T15:06:44.745Z"
   },
   {
    "duration": 11,
    "start_time": "2025-02-08T15:06:46.435Z"
   },
   {
    "duration": 6,
    "start_time": "2025-02-08T15:07:44.190Z"
   },
   {
    "duration": 4,
    "start_time": "2025-02-08T15:08:47.013Z"
   },
   {
    "duration": 7,
    "start_time": "2025-02-08T15:08:52.186Z"
   },
   {
    "duration": 4,
    "start_time": "2025-02-08T15:10:58.752Z"
   },
   {
    "duration": 11,
    "start_time": "2025-02-08T15:11:31.776Z"
   },
   {
    "duration": 10,
    "start_time": "2025-02-08T15:31:48.767Z"
   },
   {
    "duration": 3,
    "start_time": "2025-02-08T15:32:57.069Z"
   },
   {
    "duration": 4,
    "start_time": "2025-02-08T15:32:57.681Z"
   },
   {
    "duration": 11,
    "start_time": "2025-02-08T15:33:14.731Z"
   },
   {
    "duration": 12,
    "start_time": "2025-02-08T15:34:02.965Z"
   },
   {
    "duration": 5,
    "start_time": "2025-02-08T15:37:19.424Z"
   },
   {
    "duration": 6,
    "start_time": "2025-02-08T15:37:48.143Z"
   },
   {
    "duration": 5,
    "start_time": "2025-02-08T15:41:52.016Z"
   },
   {
    "duration": 4,
    "start_time": "2025-02-08T15:45:44.770Z"
   },
   {
    "duration": 5,
    "start_time": "2025-02-08T15:46:00.131Z"
   },
   {
    "duration": 7,
    "start_time": "2025-02-08T15:47:29.834Z"
   },
   {
    "duration": 5,
    "start_time": "2025-02-08T15:47:59.581Z"
   },
   {
    "duration": 6,
    "start_time": "2025-02-08T15:48:28.612Z"
   },
   {
    "duration": 6,
    "start_time": "2025-02-08T15:53:03.150Z"
   },
   {
    "duration": 8,
    "start_time": "2025-02-08T15:53:20.968Z"
   },
   {
    "duration": 5,
    "start_time": "2025-02-08T15:53:23.118Z"
   },
   {
    "duration": 4,
    "start_time": "2025-02-08T15:53:28.340Z"
   },
   {
    "duration": 4,
    "start_time": "2025-02-08T15:53:29.878Z"
   },
   {
    "duration": 6,
    "start_time": "2025-02-08T15:54:26.555Z"
   },
   {
    "duration": 5,
    "start_time": "2025-02-08T15:54:27.171Z"
   },
   {
    "duration": 4,
    "start_time": "2025-02-08T15:55:54.416Z"
   },
   {
    "duration": 4,
    "start_time": "2025-02-08T15:57:21.056Z"
   }
  ],
  "kernelspec": {
   "display_name": "Python 3 (ipykernel)",
   "language": "python",
   "name": "python3"
  },
  "language_info": {
   "codemirror_mode": {
    "name": "ipython",
    "version": 3
   },
   "file_extension": ".py",
   "mimetype": "text/x-python",
   "name": "python",
   "nbconvert_exporter": "python",
   "pygments_lexer": "ipython3",
   "version": "3.9.7"
  },
  "toc": {
   "base_numbering": 1,
   "nav_menu": {},
   "number_sections": true,
   "sideBar": true,
   "skip_h1_title": true,
   "title_cell": "Table of Contents",
   "title_sidebar": "Contents",
   "toc_cell": false,
   "toc_position": {},
   "toc_section_display": true,
   "toc_window_display": false
  }
 },
 "nbformat": 4,
 "nbformat_minor": 5
}
