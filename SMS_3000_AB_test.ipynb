{
  "nbformat": 4,
  "nbformat_minor": 0,
  "metadata": {
    "colab": {
      "provenance": [],
      "authorship_tag": "ABX9TyOfrERgHk/jDX2YfogTOY95",
      "include_colab_link": true
    },
    "kernelspec": {
      "name": "python3",
      "display_name": "Python 3"
    },
    "language_info": {
      "name": "python"
    }
  },
  "cells": [
    {
      "cell_type": "markdown",
      "metadata": {
        "id": "view-in-github",
        "colab_type": "text"
      },
      "source": [
        "<a href=\"https://colab.research.google.com/github/AlinaTyub/Colab-projects/blob/master/SMS_3000_AB_test.ipynb\" target=\"_parent\"><img src=\"https://colab.research.google.com/assets/colab-badge.svg\" alt=\"Open In Colab\"/></a>"
      ]
    },
    {
      "cell_type": "markdown",
      "source": [
        "**Описание:**  \n",
        "21.11.23 Клиентам были отправлены смс по rfm сегментам с напоминанием про 3 000 бонусов. По каждому сегменту были отправлены по два вида смс в зависимости от того, анкетированный клиент или нет. То есть содержание смс немного отличались и ссылки тоже отличались. Задача — провести оценку результатов A/B-теста и сделать выводы об эффективности отправленных смс.\n",
        "\n",
        "**Гипотеза:** Смс с напоминанием про 3000 бонусов приведет к увеличению кол-ва покупок за 7 дней (проверяется для каждого сегмента rfm, анкетированных и неакнкетированных клиентов отдельно).\n",
        "\n",
        "H0: доля покупок за период 7 дней после СМС в тестовой и контрольной выборках равны.  \n",
        "H1: доля покупок за период 7 дней после СМС в тестовой выборке значимо больше, чем в контрольной.\n",
        "\n",
        "Для проверки гипотезы буду использовать критерий Хи-квадрат.\n",
        "\n",
        "Группы: 0 — контрольная, 1 — отправили смс.  \n",
        "Старт теста – 21.11.2023, конец – 27.11.2023."
      ],
      "metadata": {
        "id": "yYOvRfERDK29"
      }
    },
    {
      "cell_type": "code",
      "execution_count": 5,
      "metadata": {
        "id": "YTmEgskABYME"
      },
      "outputs": [],
      "source": [
        "import pandas as pd\n",
        "import numpy as np\n",
        "import matplotlib.pyplot as plt\n",
        "from scipy import stats as stats\n",
        "import pyodbc\n",
        "# from statsmodels.stats.power import zt_ind_solve_power\n",
        "import statsmodels.stats.power as smp\n",
        "import statsmodels.stats.proportion as proportion"
      ]
    },
    {
      "cell_type": "code",
      "source": [
        "pd.set_option('display.max_columns', None)"
      ],
      "metadata": {
        "id": "Oq4_rl8RCtnN"
      },
      "execution_count": 6,
      "outputs": []
    },
    {
      "cell_type": "code",
      "source": [
        "anketir_133_test = pd.read_csv('133_anketir_test.csv', sep=';')['CustomerIdsMindboxId'].to_frame (name='customer_mindbox_id')\n",
        "anketir_133_test['group'] = 'anketir_133_1'"
      ],
      "metadata": {
        "colab": {
          "base_uri": "https://localhost:8080/"
        },
        "id": "7CQ-Cm8iC5ud",
        "outputId": "b0629023-ff54-4bc9-c833-0e75a5ea29ca"
      },
      "execution_count": 7,
      "outputs": [
        {
          "output_type": "stream",
          "name": "stderr",
          "text": [
            "<ipython-input-7-82bbb0e889df>:1: DtypeWarning: Columns (42,43,44,45,63,81,82,83,84,90,91,94,95,96) have mixed types. Specify dtype option on import or set low_memory=False.\n",
            "  anketir_133_test = pd.read_csv('133_anketir_test.csv', sep=';')['CustomerIdsMindboxId'].to_frame (name='customer_mindbox_id')\n"
          ]
        }
      ]
    },
    {
      "cell_type": "code",
      "source": [
        "anketir_133_test.head()"
      ],
      "metadata": {
        "colab": {
          "base_uri": "https://localhost:8080/",
          "height": 206
        },
        "id": "rs9-51ZBEcOc",
        "outputId": "b6b6736b-3fa7-47b9-fd65-f44b787c7f83"
      },
      "execution_count": 8,
      "outputs": [
        {
          "output_type": "execute_result",
          "data": {
            "text/plain": [
              "   customer_mindbox_id          group\n",
              "0                 7812  anketir_133_1\n",
              "1                13413  anketir_133_1\n",
              "2                30847  anketir_133_1\n",
              "3                32925  anketir_133_1\n",
              "4                38816  anketir_133_1"
            ],
            "text/html": [
              "\n",
              "  <div id=\"df-5a5747d0-123e-47a6-a2df-d6c160d36999\" class=\"colab-df-container\">\n",
              "    <div>\n",
              "<style scoped>\n",
              "    .dataframe tbody tr th:only-of-type {\n",
              "        vertical-align: middle;\n",
              "    }\n",
              "\n",
              "    .dataframe tbody tr th {\n",
              "        vertical-align: top;\n",
              "    }\n",
              "\n",
              "    .dataframe thead th {\n",
              "        text-align: right;\n",
              "    }\n",
              "</style>\n",
              "<table border=\"1\" class=\"dataframe\">\n",
              "  <thead>\n",
              "    <tr style=\"text-align: right;\">\n",
              "      <th></th>\n",
              "      <th>customer_mindbox_id</th>\n",
              "      <th>group</th>\n",
              "    </tr>\n",
              "  </thead>\n",
              "  <tbody>\n",
              "    <tr>\n",
              "      <th>0</th>\n",
              "      <td>7812</td>\n",
              "      <td>anketir_133_1</td>\n",
              "    </tr>\n",
              "    <tr>\n",
              "      <th>1</th>\n",
              "      <td>13413</td>\n",
              "      <td>anketir_133_1</td>\n",
              "    </tr>\n",
              "    <tr>\n",
              "      <th>2</th>\n",
              "      <td>30847</td>\n",
              "      <td>anketir_133_1</td>\n",
              "    </tr>\n",
              "    <tr>\n",
              "      <th>3</th>\n",
              "      <td>32925</td>\n",
              "      <td>anketir_133_1</td>\n",
              "    </tr>\n",
              "    <tr>\n",
              "      <th>4</th>\n",
              "      <td>38816</td>\n",
              "      <td>anketir_133_1</td>\n",
              "    </tr>\n",
              "  </tbody>\n",
              "</table>\n",
              "</div>\n",
              "    <div class=\"colab-df-buttons\">\n",
              "\n",
              "  <div class=\"colab-df-container\">\n",
              "    <button class=\"colab-df-convert\" onclick=\"convertToInteractive('df-5a5747d0-123e-47a6-a2df-d6c160d36999')\"\n",
              "            title=\"Convert this dataframe to an interactive table.\"\n",
              "            style=\"display:none;\">\n",
              "\n",
              "  <svg xmlns=\"http://www.w3.org/2000/svg\" height=\"24px\" viewBox=\"0 -960 960 960\">\n",
              "    <path d=\"M120-120v-720h720v720H120Zm60-500h600v-160H180v160Zm220 220h160v-160H400v160Zm0 220h160v-160H400v160ZM180-400h160v-160H180v160Zm440 0h160v-160H620v160ZM180-180h160v-160H180v160Zm440 0h160v-160H620v160Z\"/>\n",
              "  </svg>\n",
              "    </button>\n",
              "\n",
              "  <style>\n",
              "    .colab-df-container {\n",
              "      display:flex;\n",
              "      gap: 12px;\n",
              "    }\n",
              "\n",
              "    .colab-df-convert {\n",
              "      background-color: #E8F0FE;\n",
              "      border: none;\n",
              "      border-radius: 50%;\n",
              "      cursor: pointer;\n",
              "      display: none;\n",
              "      fill: #1967D2;\n",
              "      height: 32px;\n",
              "      padding: 0 0 0 0;\n",
              "      width: 32px;\n",
              "    }\n",
              "\n",
              "    .colab-df-convert:hover {\n",
              "      background-color: #E2EBFA;\n",
              "      box-shadow: 0px 1px 2px rgba(60, 64, 67, 0.3), 0px 1px 3px 1px rgba(60, 64, 67, 0.15);\n",
              "      fill: #174EA6;\n",
              "    }\n",
              "\n",
              "    .colab-df-buttons div {\n",
              "      margin-bottom: 4px;\n",
              "    }\n",
              "\n",
              "    [theme=dark] .colab-df-convert {\n",
              "      background-color: #3B4455;\n",
              "      fill: #D2E3FC;\n",
              "    }\n",
              "\n",
              "    [theme=dark] .colab-df-convert:hover {\n",
              "      background-color: #434B5C;\n",
              "      box-shadow: 0px 1px 3px 1px rgba(0, 0, 0, 0.15);\n",
              "      filter: drop-shadow(0px 1px 2px rgba(0, 0, 0, 0.3));\n",
              "      fill: #FFFFFF;\n",
              "    }\n",
              "  </style>\n",
              "\n",
              "    <script>\n",
              "      const buttonEl =\n",
              "        document.querySelector('#df-5a5747d0-123e-47a6-a2df-d6c160d36999 button.colab-df-convert');\n",
              "      buttonEl.style.display =\n",
              "        google.colab.kernel.accessAllowed ? 'block' : 'none';\n",
              "\n",
              "      async function convertToInteractive(key) {\n",
              "        const element = document.querySelector('#df-5a5747d0-123e-47a6-a2df-d6c160d36999');\n",
              "        const dataTable =\n",
              "          await google.colab.kernel.invokeFunction('convertToInteractive',\n",
              "                                                    [key], {});\n",
              "        if (!dataTable) return;\n",
              "\n",
              "        const docLinkHtml = 'Like what you see? Visit the ' +\n",
              "          '<a target=\"_blank\" href=https://colab.research.google.com/notebooks/data_table.ipynb>data table notebook</a>'\n",
              "          + ' to learn more about interactive tables.';\n",
              "        element.innerHTML = '';\n",
              "        dataTable['output_type'] = 'display_data';\n",
              "        await google.colab.output.renderOutput(dataTable, element);\n",
              "        const docLink = document.createElement('div');\n",
              "        docLink.innerHTML = docLinkHtml;\n",
              "        element.appendChild(docLink);\n",
              "      }\n",
              "    </script>\n",
              "  </div>\n",
              "\n",
              "\n",
              "<div id=\"df-e8680c4c-f002-43b9-96b9-79ecaaf28dfa\">\n",
              "  <button class=\"colab-df-quickchart\" onclick=\"quickchart('df-e8680c4c-f002-43b9-96b9-79ecaaf28dfa')\"\n",
              "            title=\"Suggest charts\"\n",
              "            style=\"display:none;\">\n",
              "\n",
              "<svg xmlns=\"http://www.w3.org/2000/svg\" height=\"24px\"viewBox=\"0 0 24 24\"\n",
              "     width=\"24px\">\n",
              "    <g>\n",
              "        <path d=\"M19 3H5c-1.1 0-2 .9-2 2v14c0 1.1.9 2 2 2h14c1.1 0 2-.9 2-2V5c0-1.1-.9-2-2-2zM9 17H7v-7h2v7zm4 0h-2V7h2v10zm4 0h-2v-4h2v4z\"/>\n",
              "    </g>\n",
              "</svg>\n",
              "  </button>\n",
              "\n",
              "<style>\n",
              "  .colab-df-quickchart {\n",
              "      --bg-color: #E8F0FE;\n",
              "      --fill-color: #1967D2;\n",
              "      --hover-bg-color: #E2EBFA;\n",
              "      --hover-fill-color: #174EA6;\n",
              "      --disabled-fill-color: #AAA;\n",
              "      --disabled-bg-color: #DDD;\n",
              "  }\n",
              "\n",
              "  [theme=dark] .colab-df-quickchart {\n",
              "      --bg-color: #3B4455;\n",
              "      --fill-color: #D2E3FC;\n",
              "      --hover-bg-color: #434B5C;\n",
              "      --hover-fill-color: #FFFFFF;\n",
              "      --disabled-bg-color: #3B4455;\n",
              "      --disabled-fill-color: #666;\n",
              "  }\n",
              "\n",
              "  .colab-df-quickchart {\n",
              "    background-color: var(--bg-color);\n",
              "    border: none;\n",
              "    border-radius: 50%;\n",
              "    cursor: pointer;\n",
              "    display: none;\n",
              "    fill: var(--fill-color);\n",
              "    height: 32px;\n",
              "    padding: 0;\n",
              "    width: 32px;\n",
              "  }\n",
              "\n",
              "  .colab-df-quickchart:hover {\n",
              "    background-color: var(--hover-bg-color);\n",
              "    box-shadow: 0 1px 2px rgba(60, 64, 67, 0.3), 0 1px 3px 1px rgba(60, 64, 67, 0.15);\n",
              "    fill: var(--button-hover-fill-color);\n",
              "  }\n",
              "\n",
              "  .colab-df-quickchart-complete:disabled,\n",
              "  .colab-df-quickchart-complete:disabled:hover {\n",
              "    background-color: var(--disabled-bg-color);\n",
              "    fill: var(--disabled-fill-color);\n",
              "    box-shadow: none;\n",
              "  }\n",
              "\n",
              "  .colab-df-spinner {\n",
              "    border: 2px solid var(--fill-color);\n",
              "    border-color: transparent;\n",
              "    border-bottom-color: var(--fill-color);\n",
              "    animation:\n",
              "      spin 1s steps(1) infinite;\n",
              "  }\n",
              "\n",
              "  @keyframes spin {\n",
              "    0% {\n",
              "      border-color: transparent;\n",
              "      border-bottom-color: var(--fill-color);\n",
              "      border-left-color: var(--fill-color);\n",
              "    }\n",
              "    20% {\n",
              "      border-color: transparent;\n",
              "      border-left-color: var(--fill-color);\n",
              "      border-top-color: var(--fill-color);\n",
              "    }\n",
              "    30% {\n",
              "      border-color: transparent;\n",
              "      border-left-color: var(--fill-color);\n",
              "      border-top-color: var(--fill-color);\n",
              "      border-right-color: var(--fill-color);\n",
              "    }\n",
              "    40% {\n",
              "      border-color: transparent;\n",
              "      border-right-color: var(--fill-color);\n",
              "      border-top-color: var(--fill-color);\n",
              "    }\n",
              "    60% {\n",
              "      border-color: transparent;\n",
              "      border-right-color: var(--fill-color);\n",
              "    }\n",
              "    80% {\n",
              "      border-color: transparent;\n",
              "      border-right-color: var(--fill-color);\n",
              "      border-bottom-color: var(--fill-color);\n",
              "    }\n",
              "    90% {\n",
              "      border-color: transparent;\n",
              "      border-bottom-color: var(--fill-color);\n",
              "    }\n",
              "  }\n",
              "</style>\n",
              "\n",
              "  <script>\n",
              "    async function quickchart(key) {\n",
              "      const quickchartButtonEl =\n",
              "        document.querySelector('#' + key + ' button');\n",
              "      quickchartButtonEl.disabled = true;  // To prevent multiple clicks.\n",
              "      quickchartButtonEl.classList.add('colab-df-spinner');\n",
              "      try {\n",
              "        const charts = await google.colab.kernel.invokeFunction(\n",
              "            'suggestCharts', [key], {});\n",
              "      } catch (error) {\n",
              "        console.error('Error during call to suggestCharts:', error);\n",
              "      }\n",
              "      quickchartButtonEl.classList.remove('colab-df-spinner');\n",
              "      quickchartButtonEl.classList.add('colab-df-quickchart-complete');\n",
              "    }\n",
              "    (() => {\n",
              "      let quickchartButtonEl =\n",
              "        document.querySelector('#df-e8680c4c-f002-43b9-96b9-79ecaaf28dfa button');\n",
              "      quickchartButtonEl.style.display =\n",
              "        google.colab.kernel.accessAllowed ? 'block' : 'none';\n",
              "    })();\n",
              "  </script>\n",
              "</div>\n",
              "    </div>\n",
              "  </div>\n"
            ]
          },
          "metadata": {},
          "execution_count": 8
        }
      ]
    },
    {
      "cell_type": "code",
      "source": [
        "anketir_133_nedostavleno = pd.read_csv('133_anketir_nedostavleno.csv', sep=';')['CustomerIdsMindboxId'].to_frame (name='customer_mindbox_id')\n",
        "anketir_133_nedostavleno['group'] = 'anketir_133_0'"
      ],
      "metadata": {
        "id": "MmmfHvYlEez6"
      },
      "execution_count": 9,
      "outputs": []
    },
    {
      "cell_type": "code",
      "source": [
        "anketir_133_nedostavleno.head()"
      ],
      "metadata": {
        "colab": {
          "base_uri": "https://localhost:8080/",
          "height": 206
        },
        "id": "AoKQBG8QEjjp",
        "outputId": "3e2d4494-d270-4a66-8bb6-6fd77d2b8d8d"
      },
      "execution_count": 10,
      "outputs": [
        {
          "output_type": "execute_result",
          "data": {
            "text/plain": [
              "   customer_mindbox_id          group\n",
              "0                86263  anketir_133_0\n",
              "1               120553  anketir_133_0\n",
              "2               141682  anketir_133_0\n",
              "3               170815  anketir_133_0\n",
              "4               181794  anketir_133_0"
            ],
            "text/html": [
              "\n",
              "  <div id=\"df-fc2f50f8-4a96-4273-8b11-a679a02d7d31\" class=\"colab-df-container\">\n",
              "    <div>\n",
              "<style scoped>\n",
              "    .dataframe tbody tr th:only-of-type {\n",
              "        vertical-align: middle;\n",
              "    }\n",
              "\n",
              "    .dataframe tbody tr th {\n",
              "        vertical-align: top;\n",
              "    }\n",
              "\n",
              "    .dataframe thead th {\n",
              "        text-align: right;\n",
              "    }\n",
              "</style>\n",
              "<table border=\"1\" class=\"dataframe\">\n",
              "  <thead>\n",
              "    <tr style=\"text-align: right;\">\n",
              "      <th></th>\n",
              "      <th>customer_mindbox_id</th>\n",
              "      <th>group</th>\n",
              "    </tr>\n",
              "  </thead>\n",
              "  <tbody>\n",
              "    <tr>\n",
              "      <th>0</th>\n",
              "      <td>86263</td>\n",
              "      <td>anketir_133_0</td>\n",
              "    </tr>\n",
              "    <tr>\n",
              "      <th>1</th>\n",
              "      <td>120553</td>\n",
              "      <td>anketir_133_0</td>\n",
              "    </tr>\n",
              "    <tr>\n",
              "      <th>2</th>\n",
              "      <td>141682</td>\n",
              "      <td>anketir_133_0</td>\n",
              "    </tr>\n",
              "    <tr>\n",
              "      <th>3</th>\n",
              "      <td>170815</td>\n",
              "      <td>anketir_133_0</td>\n",
              "    </tr>\n",
              "    <tr>\n",
              "      <th>4</th>\n",
              "      <td>181794</td>\n",
              "      <td>anketir_133_0</td>\n",
              "    </tr>\n",
              "  </tbody>\n",
              "</table>\n",
              "</div>\n",
              "    <div class=\"colab-df-buttons\">\n",
              "\n",
              "  <div class=\"colab-df-container\">\n",
              "    <button class=\"colab-df-convert\" onclick=\"convertToInteractive('df-fc2f50f8-4a96-4273-8b11-a679a02d7d31')\"\n",
              "            title=\"Convert this dataframe to an interactive table.\"\n",
              "            style=\"display:none;\">\n",
              "\n",
              "  <svg xmlns=\"http://www.w3.org/2000/svg\" height=\"24px\" viewBox=\"0 -960 960 960\">\n",
              "    <path d=\"M120-120v-720h720v720H120Zm60-500h600v-160H180v160Zm220 220h160v-160H400v160Zm0 220h160v-160H400v160ZM180-400h160v-160H180v160Zm440 0h160v-160H620v160ZM180-180h160v-160H180v160Zm440 0h160v-160H620v160Z\"/>\n",
              "  </svg>\n",
              "    </button>\n",
              "\n",
              "  <style>\n",
              "    .colab-df-container {\n",
              "      display:flex;\n",
              "      gap: 12px;\n",
              "    }\n",
              "\n",
              "    .colab-df-convert {\n",
              "      background-color: #E8F0FE;\n",
              "      border: none;\n",
              "      border-radius: 50%;\n",
              "      cursor: pointer;\n",
              "      display: none;\n",
              "      fill: #1967D2;\n",
              "      height: 32px;\n",
              "      padding: 0 0 0 0;\n",
              "      width: 32px;\n",
              "    }\n",
              "\n",
              "    .colab-df-convert:hover {\n",
              "      background-color: #E2EBFA;\n",
              "      box-shadow: 0px 1px 2px rgba(60, 64, 67, 0.3), 0px 1px 3px 1px rgba(60, 64, 67, 0.15);\n",
              "      fill: #174EA6;\n",
              "    }\n",
              "\n",
              "    .colab-df-buttons div {\n",
              "      margin-bottom: 4px;\n",
              "    }\n",
              "\n",
              "    [theme=dark] .colab-df-convert {\n",
              "      background-color: #3B4455;\n",
              "      fill: #D2E3FC;\n",
              "    }\n",
              "\n",
              "    [theme=dark] .colab-df-convert:hover {\n",
              "      background-color: #434B5C;\n",
              "      box-shadow: 0px 1px 3px 1px rgba(0, 0, 0, 0.15);\n",
              "      filter: drop-shadow(0px 1px 2px rgba(0, 0, 0, 0.3));\n",
              "      fill: #FFFFFF;\n",
              "    }\n",
              "  </style>\n",
              "\n",
              "    <script>\n",
              "      const buttonEl =\n",
              "        document.querySelector('#df-fc2f50f8-4a96-4273-8b11-a679a02d7d31 button.colab-df-convert');\n",
              "      buttonEl.style.display =\n",
              "        google.colab.kernel.accessAllowed ? 'block' : 'none';\n",
              "\n",
              "      async function convertToInteractive(key) {\n",
              "        const element = document.querySelector('#df-fc2f50f8-4a96-4273-8b11-a679a02d7d31');\n",
              "        const dataTable =\n",
              "          await google.colab.kernel.invokeFunction('convertToInteractive',\n",
              "                                                    [key], {});\n",
              "        if (!dataTable) return;\n",
              "\n",
              "        const docLinkHtml = 'Like what you see? Visit the ' +\n",
              "          '<a target=\"_blank\" href=https://colab.research.google.com/notebooks/data_table.ipynb>data table notebook</a>'\n",
              "          + ' to learn more about interactive tables.';\n",
              "        element.innerHTML = '';\n",
              "        dataTable['output_type'] = 'display_data';\n",
              "        await google.colab.output.renderOutput(dataTable, element);\n",
              "        const docLink = document.createElement('div');\n",
              "        docLink.innerHTML = docLinkHtml;\n",
              "        element.appendChild(docLink);\n",
              "      }\n",
              "    </script>\n",
              "  </div>\n",
              "\n",
              "\n",
              "<div id=\"df-c7a21b25-e171-488a-91a0-8a6b1764f0da\">\n",
              "  <button class=\"colab-df-quickchart\" onclick=\"quickchart('df-c7a21b25-e171-488a-91a0-8a6b1764f0da')\"\n",
              "            title=\"Suggest charts\"\n",
              "            style=\"display:none;\">\n",
              "\n",
              "<svg xmlns=\"http://www.w3.org/2000/svg\" height=\"24px\"viewBox=\"0 0 24 24\"\n",
              "     width=\"24px\">\n",
              "    <g>\n",
              "        <path d=\"M19 3H5c-1.1 0-2 .9-2 2v14c0 1.1.9 2 2 2h14c1.1 0 2-.9 2-2V5c0-1.1-.9-2-2-2zM9 17H7v-7h2v7zm4 0h-2V7h2v10zm4 0h-2v-4h2v4z\"/>\n",
              "    </g>\n",
              "</svg>\n",
              "  </button>\n",
              "\n",
              "<style>\n",
              "  .colab-df-quickchart {\n",
              "      --bg-color: #E8F0FE;\n",
              "      --fill-color: #1967D2;\n",
              "      --hover-bg-color: #E2EBFA;\n",
              "      --hover-fill-color: #174EA6;\n",
              "      --disabled-fill-color: #AAA;\n",
              "      --disabled-bg-color: #DDD;\n",
              "  }\n",
              "\n",
              "  [theme=dark] .colab-df-quickchart {\n",
              "      --bg-color: #3B4455;\n",
              "      --fill-color: #D2E3FC;\n",
              "      --hover-bg-color: #434B5C;\n",
              "      --hover-fill-color: #FFFFFF;\n",
              "      --disabled-bg-color: #3B4455;\n",
              "      --disabled-fill-color: #666;\n",
              "  }\n",
              "\n",
              "  .colab-df-quickchart {\n",
              "    background-color: var(--bg-color);\n",
              "    border: none;\n",
              "    border-radius: 50%;\n",
              "    cursor: pointer;\n",
              "    display: none;\n",
              "    fill: var(--fill-color);\n",
              "    height: 32px;\n",
              "    padding: 0;\n",
              "    width: 32px;\n",
              "  }\n",
              "\n",
              "  .colab-df-quickchart:hover {\n",
              "    background-color: var(--hover-bg-color);\n",
              "    box-shadow: 0 1px 2px rgba(60, 64, 67, 0.3), 0 1px 3px 1px rgba(60, 64, 67, 0.15);\n",
              "    fill: var(--button-hover-fill-color);\n",
              "  }\n",
              "\n",
              "  .colab-df-quickchart-complete:disabled,\n",
              "  .colab-df-quickchart-complete:disabled:hover {\n",
              "    background-color: var(--disabled-bg-color);\n",
              "    fill: var(--disabled-fill-color);\n",
              "    box-shadow: none;\n",
              "  }\n",
              "\n",
              "  .colab-df-spinner {\n",
              "    border: 2px solid var(--fill-color);\n",
              "    border-color: transparent;\n",
              "    border-bottom-color: var(--fill-color);\n",
              "    animation:\n",
              "      spin 1s steps(1) infinite;\n",
              "  }\n",
              "\n",
              "  @keyframes spin {\n",
              "    0% {\n",
              "      border-color: transparent;\n",
              "      border-bottom-color: var(--fill-color);\n",
              "      border-left-color: var(--fill-color);\n",
              "    }\n",
              "    20% {\n",
              "      border-color: transparent;\n",
              "      border-left-color: var(--fill-color);\n",
              "      border-top-color: var(--fill-color);\n",
              "    }\n",
              "    30% {\n",
              "      border-color: transparent;\n",
              "      border-left-color: var(--fill-color);\n",
              "      border-top-color: var(--fill-color);\n",
              "      border-right-color: var(--fill-color);\n",
              "    }\n",
              "    40% {\n",
              "      border-color: transparent;\n",
              "      border-right-color: var(--fill-color);\n",
              "      border-top-color: var(--fill-color);\n",
              "    }\n",
              "    60% {\n",
              "      border-color: transparent;\n",
              "      border-right-color: var(--fill-color);\n",
              "    }\n",
              "    80% {\n",
              "      border-color: transparent;\n",
              "      border-right-color: var(--fill-color);\n",
              "      border-bottom-color: var(--fill-color);\n",
              "    }\n",
              "    90% {\n",
              "      border-color: transparent;\n",
              "      border-bottom-color: var(--fill-color);\n",
              "    }\n",
              "  }\n",
              "</style>\n",
              "\n",
              "  <script>\n",
              "    async function quickchart(key) {\n",
              "      const quickchartButtonEl =\n",
              "        document.querySelector('#' + key + ' button');\n",
              "      quickchartButtonEl.disabled = true;  // To prevent multiple clicks.\n",
              "      quickchartButtonEl.classList.add('colab-df-spinner');\n",
              "      try {\n",
              "        const charts = await google.colab.kernel.invokeFunction(\n",
              "            'suggestCharts', [key], {});\n",
              "      } catch (error) {\n",
              "        console.error('Error during call to suggestCharts:', error);\n",
              "      }\n",
              "      quickchartButtonEl.classList.remove('colab-df-spinner');\n",
              "      quickchartButtonEl.classList.add('colab-df-quickchart-complete');\n",
              "    }\n",
              "    (() => {\n",
              "      let quickchartButtonEl =\n",
              "        document.querySelector('#df-c7a21b25-e171-488a-91a0-8a6b1764f0da button');\n",
              "      quickchartButtonEl.style.display =\n",
              "        google.colab.kernel.accessAllowed ? 'block' : 'none';\n",
              "    })();\n",
              "  </script>\n",
              "</div>\n",
              "    </div>\n",
              "  </div>\n"
            ]
          },
          "metadata": {},
          "execution_count": 10
        }
      ]
    },
    {
      "cell_type": "code",
      "source": [
        "anketir_133_test = anketir_133_test.merge(anketir_133_nedostavleno, on='customer_mindbox_id', how='left')\n",
        "anketir_133_test = anketir_133_test[anketir_133_test['group_y'].isnull()]\n",
        "anketir_133_test = anketir_133_test[['customer_mindbox_id', 'group_x']]"
      ],
      "metadata": {
        "id": "wJUp5seUElJy"
      },
      "execution_count": 11,
      "outputs": []
    },
    {
      "cell_type": "code",
      "source": [
        "anketir_133_test.head()"
      ],
      "metadata": {
        "colab": {
          "base_uri": "https://localhost:8080/",
          "height": 206
        },
        "id": "ucbBJlw5EnWR",
        "outputId": "3dc8bb35-6ac5-4154-993d-9f360d163587"
      },
      "execution_count": 12,
      "outputs": [
        {
          "output_type": "execute_result",
          "data": {
            "text/plain": [
              "   customer_mindbox_id        group_x\n",
              "0                 7812  anketir_133_1\n",
              "1                13413  anketir_133_1\n",
              "2                30847  anketir_133_1\n",
              "3                32925  anketir_133_1\n",
              "4                38816  anketir_133_1"
            ],
            "text/html": [
              "\n",
              "  <div id=\"df-e1c373c4-c8eb-49a3-a8d2-a08ef1a8eea4\" class=\"colab-df-container\">\n",
              "    <div>\n",
              "<style scoped>\n",
              "    .dataframe tbody tr th:only-of-type {\n",
              "        vertical-align: middle;\n",
              "    }\n",
              "\n",
              "    .dataframe tbody tr th {\n",
              "        vertical-align: top;\n",
              "    }\n",
              "\n",
              "    .dataframe thead th {\n",
              "        text-align: right;\n",
              "    }\n",
              "</style>\n",
              "<table border=\"1\" class=\"dataframe\">\n",
              "  <thead>\n",
              "    <tr style=\"text-align: right;\">\n",
              "      <th></th>\n",
              "      <th>customer_mindbox_id</th>\n",
              "      <th>group_x</th>\n",
              "    </tr>\n",
              "  </thead>\n",
              "  <tbody>\n",
              "    <tr>\n",
              "      <th>0</th>\n",
              "      <td>7812</td>\n",
              "      <td>anketir_133_1</td>\n",
              "    </tr>\n",
              "    <tr>\n",
              "      <th>1</th>\n",
              "      <td>13413</td>\n",
              "      <td>anketir_133_1</td>\n",
              "    </tr>\n",
              "    <tr>\n",
              "      <th>2</th>\n",
              "      <td>30847</td>\n",
              "      <td>anketir_133_1</td>\n",
              "    </tr>\n",
              "    <tr>\n",
              "      <th>3</th>\n",
              "      <td>32925</td>\n",
              "      <td>anketir_133_1</td>\n",
              "    </tr>\n",
              "    <tr>\n",
              "      <th>4</th>\n",
              "      <td>38816</td>\n",
              "      <td>anketir_133_1</td>\n",
              "    </tr>\n",
              "  </tbody>\n",
              "</table>\n",
              "</div>\n",
              "    <div class=\"colab-df-buttons\">\n",
              "\n",
              "  <div class=\"colab-df-container\">\n",
              "    <button class=\"colab-df-convert\" onclick=\"convertToInteractive('df-e1c373c4-c8eb-49a3-a8d2-a08ef1a8eea4')\"\n",
              "            title=\"Convert this dataframe to an interactive table.\"\n",
              "            style=\"display:none;\">\n",
              "\n",
              "  <svg xmlns=\"http://www.w3.org/2000/svg\" height=\"24px\" viewBox=\"0 -960 960 960\">\n",
              "    <path d=\"M120-120v-720h720v720H120Zm60-500h600v-160H180v160Zm220 220h160v-160H400v160Zm0 220h160v-160H400v160ZM180-400h160v-160H180v160Zm440 0h160v-160H620v160ZM180-180h160v-160H180v160Zm440 0h160v-160H620v160Z\"/>\n",
              "  </svg>\n",
              "    </button>\n",
              "\n",
              "  <style>\n",
              "    .colab-df-container {\n",
              "      display:flex;\n",
              "      gap: 12px;\n",
              "    }\n",
              "\n",
              "    .colab-df-convert {\n",
              "      background-color: #E8F0FE;\n",
              "      border: none;\n",
              "      border-radius: 50%;\n",
              "      cursor: pointer;\n",
              "      display: none;\n",
              "      fill: #1967D2;\n",
              "      height: 32px;\n",
              "      padding: 0 0 0 0;\n",
              "      width: 32px;\n",
              "    }\n",
              "\n",
              "    .colab-df-convert:hover {\n",
              "      background-color: #E2EBFA;\n",
              "      box-shadow: 0px 1px 2px rgba(60, 64, 67, 0.3), 0px 1px 3px 1px rgba(60, 64, 67, 0.15);\n",
              "      fill: #174EA6;\n",
              "    }\n",
              "\n",
              "    .colab-df-buttons div {\n",
              "      margin-bottom: 4px;\n",
              "    }\n",
              "\n",
              "    [theme=dark] .colab-df-convert {\n",
              "      background-color: #3B4455;\n",
              "      fill: #D2E3FC;\n",
              "    }\n",
              "\n",
              "    [theme=dark] .colab-df-convert:hover {\n",
              "      background-color: #434B5C;\n",
              "      box-shadow: 0px 1px 3px 1px rgba(0, 0, 0, 0.15);\n",
              "      filter: drop-shadow(0px 1px 2px rgba(0, 0, 0, 0.3));\n",
              "      fill: #FFFFFF;\n",
              "    }\n",
              "  </style>\n",
              "\n",
              "    <script>\n",
              "      const buttonEl =\n",
              "        document.querySelector('#df-e1c373c4-c8eb-49a3-a8d2-a08ef1a8eea4 button.colab-df-convert');\n",
              "      buttonEl.style.display =\n",
              "        google.colab.kernel.accessAllowed ? 'block' : 'none';\n",
              "\n",
              "      async function convertToInteractive(key) {\n",
              "        const element = document.querySelector('#df-e1c373c4-c8eb-49a3-a8d2-a08ef1a8eea4');\n",
              "        const dataTable =\n",
              "          await google.colab.kernel.invokeFunction('convertToInteractive',\n",
              "                                                    [key], {});\n",
              "        if (!dataTable) return;\n",
              "\n",
              "        const docLinkHtml = 'Like what you see? Visit the ' +\n",
              "          '<a target=\"_blank\" href=https://colab.research.google.com/notebooks/data_table.ipynb>data table notebook</a>'\n",
              "          + ' to learn more about interactive tables.';\n",
              "        element.innerHTML = '';\n",
              "        dataTable['output_type'] = 'display_data';\n",
              "        await google.colab.output.renderOutput(dataTable, element);\n",
              "        const docLink = document.createElement('div');\n",
              "        docLink.innerHTML = docLinkHtml;\n",
              "        element.appendChild(docLink);\n",
              "      }\n",
              "    </script>\n",
              "  </div>\n",
              "\n",
              "\n",
              "<div id=\"df-87eb2621-828e-4a55-acab-afda84a3191f\">\n",
              "  <button class=\"colab-df-quickchart\" onclick=\"quickchart('df-87eb2621-828e-4a55-acab-afda84a3191f')\"\n",
              "            title=\"Suggest charts\"\n",
              "            style=\"display:none;\">\n",
              "\n",
              "<svg xmlns=\"http://www.w3.org/2000/svg\" height=\"24px\"viewBox=\"0 0 24 24\"\n",
              "     width=\"24px\">\n",
              "    <g>\n",
              "        <path d=\"M19 3H5c-1.1 0-2 .9-2 2v14c0 1.1.9 2 2 2h14c1.1 0 2-.9 2-2V5c0-1.1-.9-2-2-2zM9 17H7v-7h2v7zm4 0h-2V7h2v10zm4 0h-2v-4h2v4z\"/>\n",
              "    </g>\n",
              "</svg>\n",
              "  </button>\n",
              "\n",
              "<style>\n",
              "  .colab-df-quickchart {\n",
              "      --bg-color: #E8F0FE;\n",
              "      --fill-color: #1967D2;\n",
              "      --hover-bg-color: #E2EBFA;\n",
              "      --hover-fill-color: #174EA6;\n",
              "      --disabled-fill-color: #AAA;\n",
              "      --disabled-bg-color: #DDD;\n",
              "  }\n",
              "\n",
              "  [theme=dark] .colab-df-quickchart {\n",
              "      --bg-color: #3B4455;\n",
              "      --fill-color: #D2E3FC;\n",
              "      --hover-bg-color: #434B5C;\n",
              "      --hover-fill-color: #FFFFFF;\n",
              "      --disabled-bg-color: #3B4455;\n",
              "      --disabled-fill-color: #666;\n",
              "  }\n",
              "\n",
              "  .colab-df-quickchart {\n",
              "    background-color: var(--bg-color);\n",
              "    border: none;\n",
              "    border-radius: 50%;\n",
              "    cursor: pointer;\n",
              "    display: none;\n",
              "    fill: var(--fill-color);\n",
              "    height: 32px;\n",
              "    padding: 0;\n",
              "    width: 32px;\n",
              "  }\n",
              "\n",
              "  .colab-df-quickchart:hover {\n",
              "    background-color: var(--hover-bg-color);\n",
              "    box-shadow: 0 1px 2px rgba(60, 64, 67, 0.3), 0 1px 3px 1px rgba(60, 64, 67, 0.15);\n",
              "    fill: var(--button-hover-fill-color);\n",
              "  }\n",
              "\n",
              "  .colab-df-quickchart-complete:disabled,\n",
              "  .colab-df-quickchart-complete:disabled:hover {\n",
              "    background-color: var(--disabled-bg-color);\n",
              "    fill: var(--disabled-fill-color);\n",
              "    box-shadow: none;\n",
              "  }\n",
              "\n",
              "  .colab-df-spinner {\n",
              "    border: 2px solid var(--fill-color);\n",
              "    border-color: transparent;\n",
              "    border-bottom-color: var(--fill-color);\n",
              "    animation:\n",
              "      spin 1s steps(1) infinite;\n",
              "  }\n",
              "\n",
              "  @keyframes spin {\n",
              "    0% {\n",
              "      border-color: transparent;\n",
              "      border-bottom-color: var(--fill-color);\n",
              "      border-left-color: var(--fill-color);\n",
              "    }\n",
              "    20% {\n",
              "      border-color: transparent;\n",
              "      border-left-color: var(--fill-color);\n",
              "      border-top-color: var(--fill-color);\n",
              "    }\n",
              "    30% {\n",
              "      border-color: transparent;\n",
              "      border-left-color: var(--fill-color);\n",
              "      border-top-color: var(--fill-color);\n",
              "      border-right-color: var(--fill-color);\n",
              "    }\n",
              "    40% {\n",
              "      border-color: transparent;\n",
              "      border-right-color: var(--fill-color);\n",
              "      border-top-color: var(--fill-color);\n",
              "    }\n",
              "    60% {\n",
              "      border-color: transparent;\n",
              "      border-right-color: var(--fill-color);\n",
              "    }\n",
              "    80% {\n",
              "      border-color: transparent;\n",
              "      border-right-color: var(--fill-color);\n",
              "      border-bottom-color: var(--fill-color);\n",
              "    }\n",
              "    90% {\n",
              "      border-color: transparent;\n",
              "      border-bottom-color: var(--fill-color);\n",
              "    }\n",
              "  }\n",
              "</style>\n",
              "\n",
              "  <script>\n",
              "    async function quickchart(key) {\n",
              "      const quickchartButtonEl =\n",
              "        document.querySelector('#' + key + ' button');\n",
              "      quickchartButtonEl.disabled = true;  // To prevent multiple clicks.\n",
              "      quickchartButtonEl.classList.add('colab-df-spinner');\n",
              "      try {\n",
              "        const charts = await google.colab.kernel.invokeFunction(\n",
              "            'suggestCharts', [key], {});\n",
              "      } catch (error) {\n",
              "        console.error('Error during call to suggestCharts:', error);\n",
              "      }\n",
              "      quickchartButtonEl.classList.remove('colab-df-spinner');\n",
              "      quickchartButtonEl.classList.add('colab-df-quickchart-complete');\n",
              "    }\n",
              "    (() => {\n",
              "      let quickchartButtonEl =\n",
              "        document.querySelector('#df-87eb2621-828e-4a55-acab-afda84a3191f button');\n",
              "      quickchartButtonEl.style.display =\n",
              "        google.colab.kernel.accessAllowed ? 'block' : 'none';\n",
              "    })();\n",
              "  </script>\n",
              "</div>\n",
              "    </div>\n",
              "  </div>\n"
            ]
          },
          "metadata": {},
          "execution_count": 12
        }
      ]
    },
    {
      "cell_type": "code",
      "source": [
        "anketir_133_test.dtypes"
      ],
      "metadata": {
        "colab": {
          "base_uri": "https://localhost:8080/"
        },
        "id": "GLx66WBeEpBz",
        "outputId": "f1c6f24c-b72e-4eaf-955c-dbb2f2022be7"
      },
      "execution_count": 13,
      "outputs": [
        {
          "output_type": "execute_result",
          "data": {
            "text/plain": [
              "customer_mindbox_id     int64\n",
              "group_x                object\n",
              "dtype: object"
            ]
          },
          "metadata": {},
          "execution_count": 13
        }
      ]
    },
    {
      "cell_type": "code",
      "source": [
        "len(anketir_133_test)"
      ],
      "metadata": {
        "colab": {
          "base_uri": "https://localhost:8080/"
        },
        "id": "Mg6NsnkzEsdc",
        "outputId": "64a60688-d392-4bb9-8756-d3bee7a356b6"
      },
      "execution_count": 15,
      "outputs": [
        {
          "output_type": "execute_result",
          "data": {
            "text/plain": [
              "13331"
            ]
          },
          "metadata": {},
          "execution_count": 15
        }
      ]
    },
    {
      "cell_type": "code",
      "source": [
        "anketir_133_control = pd.read_csv('133_anketir_control.csv', sep=';')['CustomerIdsMindboxId'].to_frame (name='customer_mindbox_id')\n",
        "anketir_133_control['group'] = 'anketir_133_0'"
      ],
      "metadata": {
        "id": "mC5877R2EuV8"
      },
      "execution_count": 16,
      "outputs": []
    },
    {
      "cell_type": "code",
      "source": [
        "anketir_133_control = pd.concat([anketir_133_nedostavleno, anketir_133_control], ignore_index=True)"
      ],
      "metadata": {
        "id": "IVPNNdCdExw7"
      },
      "execution_count": 17,
      "outputs": []
    },
    {
      "cell_type": "code",
      "source": [
        "len(anketir_133_control)"
      ],
      "metadata": {
        "colab": {
          "base_uri": "https://localhost:8080/"
        },
        "id": "Mytp-cTQEzVc",
        "outputId": "baaf9555-b8fd-4832-ad05-520d111cf484"
      },
      "execution_count": 18,
      "outputs": [
        {
          "output_type": "execute_result",
          "data": {
            "text/plain": [
              "3779"
            ]
          },
          "metadata": {},
          "execution_count": 18
        }
      ]
    },
    {
      "cell_type": "code",
      "source": [
        "neanketir_133_test = pd.read_csv('133_neanketir_test.csv', sep=';')['CustomerIdsMindboxId'].to_frame (name='customer_mindbox_id')\n",
        "neanketir_133_test['group'] = 'neanketir_133_1'"
      ],
      "metadata": {
        "colab": {
          "base_uri": "https://localhost:8080/"
        },
        "id": "DUUuaKGmE0yU",
        "outputId": "5de3fde8-22fb-449b-92ba-c1d61e18adae"
      },
      "execution_count": 19,
      "outputs": [
        {
          "output_type": "stream",
          "name": "stderr",
          "text": [
            "<ipython-input-19-16de97fae2ef>:1: DtypeWarning: Columns (29,42,43,44,45,54,55,56,57,63,77,78,79,80,90,91,92,93,94,95,96,102,105) have mixed types. Specify dtype option on import or set low_memory=False.\n",
            "  neanketir_133_test = pd.read_csv('133_neanketir_test.csv', sep=';')['CustomerIdsMindboxId'].to_frame (name='customer_mindbox_id')\n"
          ]
        }
      ]
    },
    {
      "cell_type": "code",
      "source": [
        "neanketir_133_nedostavleno = pd.read_csv('133_neanketir_nedostavleno.csv', sep=';')['CustomerIdsMindboxId'].to_frame (name='customer_mindbox_id')\n",
        "neanketir_133_nedostavleno['group'] = 'neanketir_133_0'"
      ],
      "metadata": {
        "id": "izv7zhGGE2RE"
      },
      "execution_count": 20,
      "outputs": []
    },
    {
      "cell_type": "code",
      "source": [
        "neanketir_133_test = neanketir_133_test.merge(neanketir_133_nedostavleno, on='customer_mindbox_id', how='left')\n",
        "neanketir_133_test = neanketir_133_test[neanketir_133_test['group_y'].isnull()]\n",
        "neanketir_133_test = neanketir_133_test[['customer_mindbox_id', 'group_x']]"
      ],
      "metadata": {
        "id": "X5YxjvkWE36F"
      },
      "execution_count": 21,
      "outputs": []
    },
    {
      "cell_type": "code",
      "source": [
        "len(neanketir_133_test)"
      ],
      "metadata": {
        "colab": {
          "base_uri": "https://localhost:8080/"
        },
        "id": "zPR1r_66E59M",
        "outputId": "71dfbbed-1ea2-415b-af79-9fa6e0b6ca1d"
      },
      "execution_count": 22,
      "outputs": [
        {
          "output_type": "execute_result",
          "data": {
            "text/plain": [
              "17345"
            ]
          },
          "metadata": {},
          "execution_count": 22
        }
      ]
    },
    {
      "cell_type": "code",
      "source": [
        "neanketir_133_control = pd.read_csv('133_neanketir_control.csv', sep=';')['CustomerIdsMindboxId'].to_frame (name='customer_mindbox_id')\n",
        "neanketir_133_control['group'] = 'neanketir_133_0'"
      ],
      "metadata": {
        "id": "Ij2F5JiWE7EW"
      },
      "execution_count": 23,
      "outputs": []
    },
    {
      "cell_type": "code",
      "source": [
        "neanketir_133_control = pd.concat([neanketir_133_nedostavleno, neanketir_133_control], ignore_index=True)"
      ],
      "metadata": {
        "id": "6xRNquCaE8rV"
      },
      "execution_count": 24,
      "outputs": []
    },
    {
      "cell_type": "code",
      "source": [
        "len(neanketir_133_control)"
      ],
      "metadata": {
        "colab": {
          "base_uri": "https://localhost:8080/"
        },
        "id": "ORBh2fQBE-SV",
        "outputId": "f2375663-e552-489c-a63e-6990eb4da192"
      },
      "execution_count": 25,
      "outputs": [
        {
          "output_type": "execute_result",
          "data": {
            "text/plain": [
              "5800"
            ]
          },
          "metadata": {},
          "execution_count": 25
        }
      ]
    },
    {
      "cell_type": "code",
      "source": [
        "anketir_233_test = pd.read_csv('233_anketir_test.csv', sep=';')['CustomerIdsMindboxId'].to_frame (name='customer_mindbox_id')\n",
        "anketir_233_test['group'] = 'anketir_233_1'"
      ],
      "metadata": {
        "colab": {
          "base_uri": "https://localhost:8080/"
        },
        "id": "9GFLm8ghE_be",
        "outputId": "073c5a66-5c00-41ea-bb8e-728aba59ef1b"
      },
      "execution_count": 26,
      "outputs": [
        {
          "output_type": "stream",
          "name": "stderr",
          "text": [
            "<ipython-input-26-380ae74515e3>:1: DtypeWarning: Columns (37,42,43,44,45,46,47,48,49,50,51,52,53,63,81,82,83,84,90,91,94,95,96,102) have mixed types. Specify dtype option on import or set low_memory=False.\n",
            "  anketir_233_test = pd.read_csv('233_anketir_test.csv', sep=';')['CustomerIdsMindboxId'].to_frame (name='customer_mindbox_id')\n"
          ]
        }
      ]
    },
    {
      "cell_type": "code",
      "source": [
        "anketir_233_nedostavleno = pd.read_csv('233_anketir_nedostavleno.csv', sep=';')['CustomerIdsMindboxId'].to_frame (name='customer_mindbox_id')\n",
        "anketir_233_nedostavleno['group'] = 'anketir_233_0'"
      ],
      "metadata": {
        "id": "iuM03o4ZFA6l"
      },
      "execution_count": 27,
      "outputs": []
    },
    {
      "cell_type": "code",
      "source": [
        "anketir_233_test = anketir_233_test.merge(anketir_233_nedostavleno, on='customer_mindbox_id', how='left')\n",
        "anketir_233_test = anketir_233_test[anketir_233_test['group_y'].isnull()]\n",
        "anketir_233_test = anketir_233_test[['customer_mindbox_id', 'group_x']]"
      ],
      "metadata": {
        "id": "kRnCGna7FCd2"
      },
      "execution_count": 28,
      "outputs": []
    },
    {
      "cell_type": "code",
      "source": [
        "len(anketir_233_test)"
      ],
      "metadata": {
        "colab": {
          "base_uri": "https://localhost:8080/"
        },
        "id": "6VF2n5jAFEJG",
        "outputId": "6f984199-a8db-4394-9842-538ac7f4905d"
      },
      "execution_count": 29,
      "outputs": [
        {
          "output_type": "execute_result",
          "data": {
            "text/plain": [
              "31283"
            ]
          },
          "metadata": {},
          "execution_count": 29
        }
      ]
    },
    {
      "cell_type": "code",
      "source": [
        "anketir_233_control = pd.read_csv('233_anketir_control.csv', sep=';')['CustomerIdsMindboxId'].to_frame (name='customer_mindbox_id')\n",
        "anketir_233_control ['group'] = 'anketir_233_0'"
      ],
      "metadata": {
        "colab": {
          "base_uri": "https://localhost:8080/"
        },
        "id": "5yd0qklEFFp2",
        "outputId": "bdaea103-7ccc-4a47-845d-8e0db862c8f4"
      },
      "execution_count": 30,
      "outputs": [
        {
          "output_type": "stream",
          "name": "stderr",
          "text": [
            "<ipython-input-30-71e83483ea8d>:1: DtypeWarning: Columns (42,43,44,45,63,90,91,94,95,96) have mixed types. Specify dtype option on import or set low_memory=False.\n",
            "  anketir_233_control = pd.read_csv('233_anketir_control.csv', sep=';')['CustomerIdsMindboxId'].to_frame (name='customer_mindbox_id')\n"
          ]
        }
      ]
    },
    {
      "cell_type": "code",
      "source": [
        "anketir_233_control = pd.concat([anketir_233_nedostavleno, anketir_233_control], ignore_index=True)"
      ],
      "metadata": {
        "id": "RFf8n5wBFHPG"
      },
      "execution_count": 31,
      "outputs": []
    },
    {
      "cell_type": "code",
      "source": [
        "len(anketir_233_control)"
      ],
      "metadata": {
        "colab": {
          "base_uri": "https://localhost:8080/"
        },
        "id": "pUaYnGARFI-W",
        "outputId": "dde9d0e5-282a-42e6-c54e-fad050c2b642"
      },
      "execution_count": 32,
      "outputs": [
        {
          "output_type": "execute_result",
          "data": {
            "text/plain": [
              "6898"
            ]
          },
          "metadata": {},
          "execution_count": 32
        }
      ]
    },
    {
      "cell_type": "code",
      "source": [
        "neanketir_233_test = pd.read_csv('233_neanketir_test.csv', sep=';')['CustomerIdsMindboxId'].to_frame (name='customer_mindbox_id')\n",
        "neanketir_233_test['group'] = 'neanketir_233_1'"
      ],
      "metadata": {
        "colab": {
          "base_uri": "https://localhost:8080/"
        },
        "id": "nywonlaGFKTv",
        "outputId": "221249bd-762c-46db-8482-5985ddc18dab"
      },
      "execution_count": 33,
      "outputs": [
        {
          "output_type": "stream",
          "name": "stderr",
          "text": [
            "<ipython-input-33-90450c8b9e7d>:1: DtypeWarning: Columns (1,42,43,44,45,63,81,82,83,84,91,93,94,95,96,102,105) have mixed types. Specify dtype option on import or set low_memory=False.\n",
            "  neanketir_233_test = pd.read_csv('233_neanketir_test.csv', sep=';')['CustomerIdsMindboxId'].to_frame (name='customer_mindbox_id')\n"
          ]
        }
      ]
    },
    {
      "cell_type": "code",
      "source": [
        "neanketir_233_nedostavleno = pd.read_csv('233_neanketir_nedostavleno.csv', sep=';')['CustomerIdsMindboxId'].to_frame (name='customer_mindbox_id')\n",
        "neanketir_233_nedostavleno['group'] = 'neanketir_233_0'"
      ],
      "metadata": {
        "id": "P7oqOD4BFL8_"
      },
      "execution_count": 34,
      "outputs": []
    },
    {
      "cell_type": "code",
      "source": [
        "neanketir_233_test = neanketir_233_test.merge(neanketir_233_nedostavleno, on='customer_mindbox_id', how='left')\n",
        "neanketir_233_test = neanketir_233_test[neanketir_233_test['group_y'].isnull()]\n",
        "neanketir_233_test = neanketir_233_test[['customer_mindbox_id', 'group_x']]"
      ],
      "metadata": {
        "id": "px3RMQ8EFNyX"
      },
      "execution_count": 35,
      "outputs": []
    },
    {
      "cell_type": "code",
      "source": [
        "len(neanketir_233_test)"
      ],
      "metadata": {
        "colab": {
          "base_uri": "https://localhost:8080/"
        },
        "id": "8U_yohXwFPYX",
        "outputId": "db49a338-c08f-45a1-97ec-60412b8c93d9"
      },
      "execution_count": 36,
      "outputs": [
        {
          "output_type": "execute_result",
          "data": {
            "text/plain": [
              "13730"
            ]
          },
          "metadata": {},
          "execution_count": 36
        }
      ]
    },
    {
      "cell_type": "code",
      "source": [
        "neanketir_233_control = pd.read_csv('233_neanketir_control.csv', sep=';')['CustomerIdsMindboxId'].to_frame (name='customer_mindbox_id')\n",
        "neanketir_233_control['group'] = 'neanketir_233_0'"
      ],
      "metadata": {
        "id": "jms-YxTEFQxf"
      },
      "execution_count": 37,
      "outputs": []
    },
    {
      "cell_type": "code",
      "source": [
        "neanketir_233_control = pd.concat([neanketir_233_nedostavleno, neanketir_233_control], ignore_index=True)"
      ],
      "metadata": {
        "id": "2UiJupl8FSh3"
      },
      "execution_count": 38,
      "outputs": []
    },
    {
      "cell_type": "code",
      "source": [
        "len(neanketir_233_control)"
      ],
      "metadata": {
        "colab": {
          "base_uri": "https://localhost:8080/"
        },
        "id": "e1_65D4KFT6f",
        "outputId": "f06a782c-1bea-4c5b-ba89-208c07427ed3"
      },
      "execution_count": 39,
      "outputs": [
        {
          "output_type": "execute_result",
          "data": {
            "text/plain": [
              "3861"
            ]
          },
          "metadata": {},
          "execution_count": 39
        }
      ]
    },
    {
      "cell_type": "code",
      "source": [
        "anketir_333_test = pd.read_csv('333_anketir_test.csv', sep=';')['CustomerIdsMindboxId'].to_frame (name='customer_mindbox_id')\n",
        "anketir_333_test['group'] = 'anketir_333_1'"
      ],
      "metadata": {
        "colab": {
          "base_uri": "https://localhost:8080/"
        },
        "id": "hb4NvB-nFVL3",
        "outputId": "ffa43909-b865-4d9e-da9c-8563e94b3e37"
      },
      "execution_count": 40,
      "outputs": [
        {
          "output_type": "stream",
          "name": "stderr",
          "text": [
            "<ipython-input-40-ca7099950944>:1: DtypeWarning: Columns (25,29,37,42,43,44,45,46,47,48,49,50,51,52,53,63,64,73,74,75,76,81,82,83,84,90,91,94,95,96,102) have mixed types. Specify dtype option on import or set low_memory=False.\n",
            "  anketir_333_test = pd.read_csv('333_anketir_test.csv', sep=';')['CustomerIdsMindboxId'].to_frame (name='customer_mindbox_id')\n"
          ]
        }
      ]
    },
    {
      "cell_type": "code",
      "source": [
        "anketir_333_nedostavleno = pd.read_csv('333_anketir_nedostavleno.csv', sep=';')['CustomerIdsMindboxId'].to_frame (name='customer_mindbox_id')\n",
        "anketir_333_nedostavleno['group'] = 'anketir_333_0'"
      ],
      "metadata": {
        "id": "4-pKD2VYFW5w"
      },
      "execution_count": 41,
      "outputs": []
    },
    {
      "cell_type": "code",
      "source": [
        "anketir_333_test = anketir_333_test.merge(anketir_333_nedostavleno, on='customer_mindbox_id', how='left')\n",
        "anketir_333_test = anketir_333_test[anketir_333_test['group_y'].isnull()]\n",
        "anketir_333_test = anketir_333_test[['customer_mindbox_id', 'group_x']]\n"
      ],
      "metadata": {
        "id": "x85mVi2CFYaI"
      },
      "execution_count": 42,
      "outputs": []
    },
    {
      "cell_type": "code",
      "source": [
        "len(anketir_333_test)"
      ],
      "metadata": {
        "colab": {
          "base_uri": "https://localhost:8080/"
        },
        "id": "yniN32TmFar4",
        "outputId": "2f78b44a-7e76-4a20-994e-937d795c3a75"
      },
      "execution_count": 43,
      "outputs": [
        {
          "output_type": "execute_result",
          "data": {
            "text/plain": [
              "35488"
            ]
          },
          "metadata": {},
          "execution_count": 43
        }
      ]
    },
    {
      "cell_type": "code",
      "source": [
        "anketir_333_control = pd.read_csv('333_anketir_control.csv', sep=';')['CustomerIdsMindboxId'].to_frame (name='customer_mindbox_id')\n",
        "anketir_333_control['group'] = 'anketir_333_0'"
      ],
      "metadata": {
        "colab": {
          "base_uri": "https://localhost:8080/"
        },
        "id": "LTtCIaiAFcEQ",
        "outputId": "decd5e6a-a0ff-49b4-ecb8-6169cc9dc668"
      },
      "execution_count": 44,
      "outputs": [
        {
          "output_type": "stream",
          "name": "stderr",
          "text": [
            "<ipython-input-44-9617f31c2a44>:1: DtypeWarning: Columns (27,42,43,44,45,81,82,83,84,102) have mixed types. Specify dtype option on import or set low_memory=False.\n",
            "  anketir_333_control = pd.read_csv('333_anketir_control.csv', sep=';')['CustomerIdsMindboxId'].to_frame (name='customer_mindbox_id')\n"
          ]
        }
      ]
    },
    {
      "cell_type": "code",
      "source": [
        "anketir_333_control = pd.concat([anketir_333_nedostavleno, anketir_333_control], ignore_index=True)"
      ],
      "metadata": {
        "id": "8Gn71beSFdf5"
      },
      "execution_count": 45,
      "outputs": []
    },
    {
      "cell_type": "code",
      "source": [
        "len(anketir_333_control)"
      ],
      "metadata": {
        "colab": {
          "base_uri": "https://localhost:8080/"
        },
        "id": "JZyP1MtKFfSQ",
        "outputId": "5e9486ee-faf8-4d7c-f21a-86bf716e81e8"
      },
      "execution_count": 46,
      "outputs": [
        {
          "output_type": "execute_result",
          "data": {
            "text/plain": [
              "7007"
            ]
          },
          "metadata": {},
          "execution_count": 46
        }
      ]
    },
    {
      "cell_type": "code",
      "source": [
        "neanketir_333_test = pd.read_csv('333_neanketir_test.csv', sep=';')['CustomerIdsMindboxId'].to_frame (name='customer_mindbox_id')\n",
        "neanketir_333_test['group'] = 'neanketir_333_1'"
      ],
      "metadata": {
        "id": "4JoF7zNxFgmx"
      },
      "execution_count": 47,
      "outputs": []
    },
    {
      "cell_type": "code",
      "source": [
        "neanketir_333_nedostavleno = pd.read_csv('333_neanketir_nedostavleno.csv', sep=';')['CustomerIdsMindboxId'].to_frame (name='customer_mindbox_id')\n",
        "neanketir_333_nedostavleno['group'] = 'neanketir_333_0'"
      ],
      "metadata": {
        "id": "566ndDuzFiCZ"
      },
      "execution_count": 48,
      "outputs": []
    },
    {
      "cell_type": "code",
      "source": [
        "neanketir_333_test = neanketir_333_test.merge(neanketir_333_nedostavleno, on='customer_mindbox_id', how='left')\n",
        "neanketir_333_test = neanketir_333_test[neanketir_333_test['group_y'].isnull()]\n",
        "neanketir_333_test = neanketir_333_test[['customer_mindbox_id', 'group_x']]"
      ],
      "metadata": {
        "id": "F5eB05YRFjZ4"
      },
      "execution_count": 49,
      "outputs": []
    },
    {
      "cell_type": "code",
      "source": [
        "len(neanketir_333_test)"
      ],
      "metadata": {
        "colab": {
          "base_uri": "https://localhost:8080/"
        },
        "id": "3vKJ4WnrFlHT",
        "outputId": "e36e06ce-ce79-4b55-c14e-85cf525c9cde"
      },
      "execution_count": 50,
      "outputs": [
        {
          "output_type": "execute_result",
          "data": {
            "text/plain": [
              "2291"
            ]
          },
          "metadata": {},
          "execution_count": 50
        }
      ]
    },
    {
      "cell_type": "code",
      "source": [
        "neanketir_333_control = pd.read_csv('333_neanketir_control.csv', sep=';')['CustomerIdsMindboxId'].to_frame (name='customer_mindbox_id')\n",
        "neanketir_333_control['group'] = 'neanketir_333_0'"
      ],
      "metadata": {
        "id": "IA_4HtDEFmPZ"
      },
      "execution_count": 51,
      "outputs": []
    },
    {
      "cell_type": "code",
      "source": [
        "neanketir_333_control = pd.concat([neanketir_333_nedostavleno, neanketir_333_control], ignore_index=True)"
      ],
      "metadata": {
        "id": "CZEk4AN4FnsC"
      },
      "execution_count": 52,
      "outputs": []
    },
    {
      "cell_type": "code",
      "source": [
        "len(neanketir_333_control)"
      ],
      "metadata": {
        "colab": {
          "base_uri": "https://localhost:8080/"
        },
        "id": "hA9uXfjOFpcy",
        "outputId": "a84b6195-4141-40f7-a25a-4f1b45a309b9"
      },
      "execution_count": 53,
      "outputs": [
        {
          "output_type": "execute_result",
          "data": {
            "text/plain": [
              "534"
            ]
          },
          "metadata": {},
          "execution_count": 53
        }
      ]
    },
    {
      "cell_type": "code",
      "source": [
        "def select(sql):\n",
        "  return pd.read_sql(sql, con)"
      ],
      "metadata": {
        "id": "5C-FqJW6Fqlj"
      },
      "execution_count": 54,
      "outputs": []
    },
    {
      "cell_type": "code",
      "source": [
        "with open('sql_user.txt', 'r', encoding='utf-8-sig') as fp:\n",
        "    sql_user = fp.read().rstrip()\n",
        "\n",
        "with open('sql_password.txt', 'r', encoding='utf-8-sig') as fp:\n",
        "    sql_password = fp.read().rstrip()"
      ],
      "metadata": {
        "id": "8TkjolWSFsMb"
      },
      "execution_count": 55,
      "outputs": []
    },
    {
      "cell_type": "code",
      "source": [
        "sql_password"
      ],
      "metadata": {
        "colab": {
          "base_uri": "https://localhost:8080/",
          "height": 35
        },
        "id": "PMJoacFMFuE0",
        "outputId": "5e2edffd-42c7-4a8e-b2d3-453cf7fd5a6b"
      },
      "execution_count": 57,
      "outputs": [
        {
          "output_type": "execute_result",
          "data": {
            "text/plain": [
              "'k@DKXyY2jeAY'"
            ],
            "application/vnd.google.colaboratory.intrinsic+json": {
              "type": "string"
            }
          },
          "metadata": {},
          "execution_count": 57
        }
      ]
    },
    {
      "cell_type": "code",
      "source": [
        "con = pyodbc.connect('DRIVER={SQL Server}; SERVER=DWH01; DATABASE=norbit_spl; UID=sql_user; PWD=sql_password')"
      ],
      "metadata": {
        "colab": {
          "base_uri": "https://localhost:8080/",
          "height": 175
        },
        "id": "jieP8j2pFvb7",
        "outputId": "b03cd313-4816-4474-fde4-2fe7680d7135"
      },
      "execution_count": 59,
      "outputs": [
        {
          "output_type": "error",
          "ename": "Error",
          "evalue": "ignored",
          "traceback": [
            "\u001b[0;31m---------------------------------------------------------------------------\u001b[0m",
            "\u001b[0;31mError\u001b[0m                                     Traceback (most recent call last)",
            "\u001b[0;32m<ipython-input-59-eed0f1879130>\u001b[0m in \u001b[0;36m<cell line: 1>\u001b[0;34m()\u001b[0m\n\u001b[0;32m----> 1\u001b[0;31m \u001b[0mcon\u001b[0m \u001b[0;34m=\u001b[0m \u001b[0mpyodbc\u001b[0m\u001b[0;34m.\u001b[0m\u001b[0mconnect\u001b[0m\u001b[0;34m(\u001b[0m\u001b[0;34m'DRIVER={SQL Server}; SERVER=DWH01; DATABASE=norbit_spl; UID=sql_user; PWD=sql_password'\u001b[0m\u001b[0;34m)\u001b[0m\u001b[0;34m\u001b[0m\u001b[0;34m\u001b[0m\u001b[0m\n\u001b[0m",
            "\u001b[0;31mError\u001b[0m: ('01000', \"[01000] [unixODBC][Driver Manager]Can't open lib 'SQL Server' : file not found (0) (SQLDriverConnect)\")"
          ]
        }
      ]
    },
    {
      "cell_type": "code",
      "source": [
        "sql = '''\n",
        "with  orders_and_max_datetime as(\n",
        "    select o.customer_mindbox_id,\n",
        "            o.order_mindbox_id,\n",
        "            o.first_action_datetime,\n",
        "            cast(o.first_action_datetime as date) as first_action_date,\n",
        "            o.action_datetime,\n",
        "            o.total_price,\n",
        "            max(o.action_datetime) over (partition by o.order_mindbox_id) as max_action_datetime\n",
        "    from dbo_mb.orders o\n",
        "    where cast(first_action_datetime as date) >= '2023-11-21'\n",
        "    and cast(first_action_datetime as date) <= '2023-11-27'\n",
        "    and brand = 'reStore'\n",
        "    )\n",
        "select distinct o.customer_mindbox_id,\n",
        "        o.order_mindbox_id,\n",
        "        o.first_action_datetime,\n",
        "        first_action_date,\n",
        "        o.total_price\n",
        "from orders_and_max_datetime o\n",
        "where o.action_datetime = o.max_action_datetime\n",
        "and o.total_price > 0\n",
        "'''"
      ],
      "metadata": {
        "id": "QeDPSdEwF0QV"
      },
      "execution_count": 60,
      "outputs": []
    },
    {
      "cell_type": "code",
      "source": [
        "orders = select (sql)"
      ],
      "metadata": {
        "id": "WckYxtQ9GGUu"
      },
      "execution_count": null,
      "outputs": []
    },
    {
      "cell_type": "code",
      "source": [
        "orders.head()"
      ],
      "metadata": {
        "id": "k0PeKGDUGCDl"
      },
      "execution_count": null,
      "outputs": []
    },
    {
      "cell_type": "markdown",
      "source": [
        "#Анкетированные 133\n",
        "Размер тестовой выборки (смс отправлены и доставлены): 13 331  \n",
        "Потратили на смс: 46 341,438  \n",
        "Размер контрольной выборки: 3 779"
      ],
      "metadata": {
        "id": "TkCt6sAfGLOu"
      }
    },
    {
      "cell_type": "code",
      "source": [
        "nobs = 3779 #кол-во наблюдений\n",
        "alpha = 0.01"
      ],
      "metadata": {
        "id": "maBuXYQLGIPO"
      },
      "execution_count": 65,
      "outputs": []
    },
    {
      "cell_type": "code",
      "source": [
        "anketir_133_test = anketir_133_test.merge(orders, on='customer_mindbox_id', how='left')\n",
        "anketir_133_test.head()"
      ],
      "metadata": {
        "id": "VBOPMZfzGnw7"
      },
      "execution_count": null,
      "outputs": []
    },
    {
      "cell_type": "code",
      "source": [
        "def buy_or_not(orders_cnt):\n",
        "  if orders_cnt == 0:\n",
        "    buy = 0\n",
        "  else:\n",
        "    buy = 1\n",
        "  return buy"
      ],
      "metadata": {
        "id": "Nuc_JYvYGpZS"
      },
      "execution_count": 63,
      "outputs": []
    },
    {
      "cell_type": "code",
      "source": [
        "# Определяем наличие или отсутствие покупки для каждого клиента\n",
        "anketir_133_test_group = anketir_133_test.groupby('customer_mindbox_id').agg({'order_mindbox_id': 'count'})\n",
        "anketir_133_test_group = anketir_133_test_group.reset_index().rename(columns ={'order_mindbox_id': 'orders_cnt'})\n",
        "anketir_133_test_group['buy'] = anketir_133_test_group['orders_cnt'].apply(buy_or_not)\n",
        "anketir_133_test_group['group'] = 'anketir_133_1'\n",
        "anketir_133_test_group.head()"
      ],
      "metadata": {
        "id": "VkqsTs1YGsut"
      },
      "execution_count": null,
      "outputs": []
    },
    {
      "cell_type": "code",
      "source": [
        "anketir_133_test['order_mindbox_id'].count()"
      ],
      "metadata": {
        "id": "LPevE-6IGuad"
      },
      "execution_count": null,
      "outputs": []
    },
    {
      "cell_type": "code",
      "source": [
        "# Кол-во покупок на клиента\n",
        "round(anketir_133_test['order_mindbox_id'].count() / anketir_133_test['customer_mindbox_id'].nunique () , 3)"
      ],
      "metadata": {
        "id": "5u5N-Ws9GxGI"
      },
      "execution_count": null,
      "outputs": []
    },
    {
      "cell_type": "code",
      "source": [
        "# Выручка с одного клиента (считаются все клиенты, которые получили смс, не обязательно сделавшие заказ):\n",
        "ARPU1 = round(anketir_133_test['total_price'].sum() / anketir_133_test['customer_mindbox_id'].nunique () , 1)\n",
        "ARPU1"
      ],
      "metadata": {
        "id": "aElptjMrGzii"
      },
      "execution_count": null,
      "outputs": []
    },
    {
      "cell_type": "code",
      "source": [
        "# Доля купивших\n",
        "p1 = round(anketir_133_test_group['buy'].sum() / anketir_133_test_group['customer_mindbox_id'].nunique () , 3)\n",
        "p1"
      ],
      "metadata": {
        "id": "b4YvAdggG1NT"
      },
      "execution_count": null,
      "outputs": []
    },
    {
      "cell_type": "code",
      "source": [
        "anketir_133_control = anketir_133_control.merge(orders, on='customer_mindbox_id', how='left')\n",
        "anketir_133_control.head()"
      ],
      "metadata": {
        "id": "OENtVELgG2vw"
      },
      "execution_count": null,
      "outputs": []
    },
    {
      "cell_type": "code",
      "source": [
        "anketir_133_control_group = anketir_133_control.groupby('customer_mindbox_id').agg({'order_mindbox_id': 'count'})\n",
        "anketir_133_control_group = anketir_133_control_group.reset_index().rename(columns ={'order_mindbox_id': 'orders_cnt'})\n",
        "anketir_133_control_group['buy'] = anketir_133_control_group['orders_cnt'].apply(buy_or_not)\n",
        "anketir_133_control_group['group'] = 'anketir_133_0'\n",
        "anketir_133_control_group.head()"
      ],
      "metadata": {
        "id": "CHVnsRETG4ib"
      },
      "execution_count": null,
      "outputs": []
    },
    {
      "cell_type": "code",
      "source": [
        "# Кол-во покупок на клиента\n",
        "round(anketir_133_control['total_price'].count() / anketir_133_control['customer_mindbox_id'].nunique () , 3)"
      ],
      "metadata": {
        "id": "xnPxmp8UG6hH"
      },
      "execution_count": null,
      "outputs": []
    },
    {
      "cell_type": "code",
      "source": [
        "ARPU0 = round(anketir_133_control['total_price'].sum() / anketir_133_control['customer_mindbox_id'].nunique () , 1)\n",
        "ARPU0"
      ],
      "metadata": {
        "id": "mECXzf-EG8Nm"
      },
      "execution_count": null,
      "outputs": []
    },
    {
      "cell_type": "code",
      "source": [
        "p0 = round(anketir_133_control_group['buy'].sum() / anketir_133_control_group['customer_mindbox_id'].nunique () , 3)\n",
        "p0"
      ],
      "metadata": {
        "id": "3e3QSXrcG9zg"
      },
      "execution_count": null,
      "outputs": []
    },
    {
      "cell_type": "code",
      "source": [
        "effect_size = ((p0- p1)**2 / p0) ** 0.5\n",
        "effect_size"
      ],
      "metadata": {
        "id": "AArRAivfG_wh"
      },
      "execution_count": null,
      "outputs": []
    },
    {
      "cell_type": "code",
      "source": [
        "chipower = smp.GofChisquarePower()"
      ],
      "metadata": {
        "id": "ovYRCh1fHDGp"
      },
      "execution_count": 64,
      "outputs": []
    },
    {
      "cell_type": "code",
      "source": [
        "# Вычислим мощность теста\n",
        "power = chipower.solve_power(effect_size = ((p0- p1)**2 / p0) ** 0.5,\n",
        "                    nobs = nobs,\n",
        "                    alpha = alpha,\n",
        "                    power = None)\n",
        "power"
      ],
      "metadata": {
        "id": "Gj0V6cEzHNmn"
      },
      "execution_count": null,
      "outputs": []
    },
    {
      "cell_type": "code",
      "source": [
        "anketir_133 = pd.concat([anketir_133_test_group, anketir_133_control_group], ignore_index=True)\n",
        "anketir_133 = anketir_133.groupby('group').agg({'customer_mindbox_id': 'count', 'buy': 'sum'}).reset_index() \\\n",
        "                .rename(columns ={'customer_mindbox_id': 'clients_count', 'buy': 'buyers_count'})\n",
        "anketir_133.head()"
      ],
      "metadata": {
        "id": "GZiSufU7HagG"
      },
      "execution_count": null,
      "outputs": []
    },
    {
      "cell_type": "code",
      "source": [
        "chi2stat, pval, table = proportion.proportions_chisquare(anketir_133['buyers_count'], anketir_133['clients_count'])"
      ],
      "metadata": {
        "id": "XxJ1DFKtHcLJ"
      },
      "execution_count": null,
      "outputs": []
    },
    {
      "cell_type": "code",
      "source": [
        "pval"
      ],
      "metadata": {
        "id": "KhIis0nAHd_v"
      },
      "execution_count": null,
      "outputs": []
    },
    {
      "cell_type": "code",
      "source": [
        "pval < alpha"
      ],
      "metadata": {
        "id": "1e-VRNqUHfTN"
      },
      "execution_count": null,
      "outputs": []
    },
    {
      "cell_type": "markdown",
      "source": [
        "Доля покупок за период 7 дней после СМС в тестовой выборке среди анкетированных 133 сегмента значимо больше, чем в контрольной, при достоверности 99% и мощности 79%."
      ],
      "metadata": {
        "id": "P0szyr9THjIb"
      }
    },
    {
      "cell_type": "markdown",
      "source": [
        "# Неанкетированные 133\n",
        "Размер тестовой выборки (смс отправлены и доставлены): 17 345  \n",
        "Потратили на смс: 62 730,312  \n",
        "Размер контрольной выборки: 5 800"
      ],
      "metadata": {
        "id": "ugRMcjsiHl6c"
      }
    },
    {
      "cell_type": "code",
      "source": [
        "nobs = 5800 #кол-во наблюдений\n",
        "alpha = 0.01"
      ],
      "metadata": {
        "id": "4TUXzpavHjlq"
      },
      "execution_count": 66,
      "outputs": []
    },
    {
      "cell_type": "code",
      "source": [
        "neanketir_133_test = neanketir_133_test.merge(orders, on='customer_mindbox_id', how='left')\n",
        "neanketir_133_test.head()"
      ],
      "metadata": {
        "id": "BLpwxiEwHq4t"
      },
      "execution_count": null,
      "outputs": []
    },
    {
      "cell_type": "code",
      "source": [
        "neanketir_133_test_group = neanketir_133_test.groupby('customer_mindbox_id').agg({'order_mindbox_id': 'count'})\n",
        "neanketir_133_test_group = neanketir_133_test_group.reset_index().rename(columns ={'order_mindbox_id': 'orders_cnt'})\n",
        "neanketir_133_test_group['buy'] = neanketir_133_test_group['orders_cnt'].apply(buy_or_not)\n",
        "neanketir_133_test_group['group'] = 'neanketir_133_1'"
      ],
      "metadata": {
        "id": "TJOHqgN3Htfl"
      },
      "execution_count": null,
      "outputs": []
    },
    {
      "cell_type": "code",
      "source": [
        "# Кол-во покупок на клиента\n",
        "round(neanketir_133_test['order_mindbox_id'].count() / neanketir_133_test['customer_mindbox_id'].nunique () , 3)"
      ],
      "metadata": {
        "id": "HfKoyWHMHvS9"
      },
      "execution_count": null,
      "outputs": []
    },
    {
      "cell_type": "code",
      "source": [
        "ARPU1 = round(neanketir_133_test['total_price'].sum() / neanketir_133_test['customer_mindbox_id'].nunique () , 1)\n",
        "ARPU1"
      ],
      "metadata": {
        "id": "40R9_EAPHxHD"
      },
      "execution_count": null,
      "outputs": []
    },
    {
      "cell_type": "code",
      "source": [
        "# Доля купивших\n",
        "p1 = round(neanketir_133_test_group['buy'].sum() / neanketir_133_test_group['customer_mindbox_id'].nunique () , 3)\n",
        "p1"
      ],
      "metadata": {
        "id": "IRgFt5fGHxPs"
      },
      "execution_count": null,
      "outputs": []
    },
    {
      "cell_type": "code",
      "source": [
        "neanketir_133_control = neanketir_133_control.merge(orders, on='customer_mindbox_id', how='left')\n",
        "neanketir_133_control.head()"
      ],
      "metadata": {
        "id": "UGTGtD9UHxSs"
      },
      "execution_count": null,
      "outputs": []
    },
    {
      "cell_type": "code",
      "source": [
        "neanketir_133_control_group = neanketir_133_control.groupby('customer_mindbox_id').agg({'order_mindbox_id': 'count'})\n",
        "neanketir_133_control_group = neanketir_133_control_group.reset_index().rename(columns ={'order_mindbox_id': 'orders_cnt'})\n",
        "neanketir_133_control_group['buy'] = neanketir_133_control_group['orders_cnt'].apply(buy_or_not)\n",
        "neanketir_133_control_group['group'] = 'neanketir_133_0'"
      ],
      "metadata": {
        "id": "eZAV364hHxVs"
      },
      "execution_count": null,
      "outputs": []
    },
    {
      "cell_type": "code",
      "source": [
        "# Кол-во покупок на клиента\n",
        "round(neanketir_133_control['total_price'].count() / neanketir_133_control['customer_mindbox_id'].nunique () , 3)"
      ],
      "metadata": {
        "id": "SPjBE02kH4Nf"
      },
      "execution_count": null,
      "outputs": []
    },
    {
      "cell_type": "code",
      "source": [
        "ARPU0 = round(neanketir_133_control['total_price'].sum() / neanketir_133_control['customer_mindbox_id'].nunique () , 1)\n",
        "ARPU0"
      ],
      "metadata": {
        "id": "KGw7n4jMH4Qc"
      },
      "execution_count": null,
      "outputs": []
    },
    {
      "cell_type": "code",
      "source": [
        "p0 = round(neanketir_133_control_group['buy'].sum() / neanketir_133_control_group['customer_mindbox_id'].nunique () , 3)\n",
        "p0"
      ],
      "metadata": {
        "id": "iXFyAghrH4TG"
      },
      "execution_count": null,
      "outputs": []
    },
    {
      "cell_type": "code",
      "source": [
        "effect_size = ((p0- p1)**2 / p0) ** 0.5\n",
        "effect_size"
      ],
      "metadata": {
        "id": "jTnY2gv4H4V1"
      },
      "execution_count": null,
      "outputs": []
    },
    {
      "cell_type": "code",
      "source": [
        "# Вычислим мощность теста\n",
        "power = chipower.solve_power(effect_size = ((p0- p1)**2 / p0) ** 0.5,\n",
        "                    nobs = nobs,\n",
        "                    alpha = alpha,\n",
        "                    power = None)\n",
        "power"
      ],
      "metadata": {
        "id": "OdzPkf2CH4Yd"
      },
      "execution_count": null,
      "outputs": []
    },
    {
      "cell_type": "code",
      "source": [
        "neanketir_133 = pd.concat([neanketir_133_test_group, neanketir_133_control_group], ignore_index=True)\n",
        "neanketir_133 = neanketir_133.groupby('group').agg({'customer_mindbox_id': 'count', 'buy': 'sum'}).reset_index() \\\n",
        "                .rename(columns ={'customer_mindbox_id': 'clients_count', 'buy': 'buyers_count'})\n",
        "neanketir_133.head()"
      ],
      "metadata": {
        "id": "VhNQqVG0H4az"
      },
      "execution_count": null,
      "outputs": []
    },
    {
      "cell_type": "code",
      "source": [
        "chi2stat, pval, table = proportion.proportions_chisquare(neanketir_133['buyers_count'], neanketir_133['clients_count'])"
      ],
      "metadata": {
        "id": "4a7q29W9IEWk"
      },
      "execution_count": null,
      "outputs": []
    },
    {
      "cell_type": "code",
      "source": [
        "pval"
      ],
      "metadata": {
        "id": "-jSPnytvIEdu"
      },
      "execution_count": null,
      "outputs": []
    },
    {
      "cell_type": "code",
      "source": [
        "pval < alpha"
      ],
      "metadata": {
        "id": "LE-NUauNIEjt"
      },
      "execution_count": null,
      "outputs": []
    },
    {
      "cell_type": "markdown",
      "source": [
        "Статистически значимой разницы в доле продаж среди неанкетированных 133 сегмента не обнаружено, так как p-value выше выбранного порога ошибки первого рода при мощности теста 80%."
      ],
      "metadata": {
        "id": "dekE0LzfIIYa"
      }
    },
    {
      "cell_type": "markdown",
      "source": [
        "# Анкетированные 233\n",
        "Размер тестовой выборки (смс отправлены и доставлены): 31 283  \n",
        "Потратили на смс: 103 031,329  \n",
        "Размер контрольной выборки: 6 898"
      ],
      "metadata": {
        "id": "nNgqNC3pIIeo"
      }
    },
    {
      "cell_type": "code",
      "source": [
        "nobs = 6898 #кол-во наблюдений\n",
        "alpha = 0.01"
      ],
      "metadata": {
        "id": "2YPEAEgRIN7f"
      },
      "execution_count": 67,
      "outputs": []
    },
    {
      "cell_type": "code",
      "source": [
        "anketir_233_test = anketir_233_test.merge(orders, on='customer_mindbox_id', how='left')\n",
        "anketir_233_test.head()"
      ],
      "metadata": {
        "id": "GSQfjUkvIQ6R"
      },
      "execution_count": null,
      "outputs": []
    },
    {
      "cell_type": "code",
      "source": [
        "anketir_233_test_group = anketir_233_test.groupby('customer_mindbox_id').agg({'order_mindbox_id': 'count'})\n",
        "anketir_233_test_group = anketir_233_test_group.reset_index().rename(columns ={'order_mindbox_id': 'orders_cnt'})\n",
        "anketir_233_test_group['buy'] = anketir_233_test_group['orders_cnt'].apply(buy_or_not)\n",
        "anketir_233_test_group['group'] = 'anketir_233_1'"
      ],
      "metadata": {
        "id": "QoXWnnkiISa8"
      },
      "execution_count": null,
      "outputs": []
    },
    {
      "cell_type": "code",
      "source": [
        "# Кол-во покупок на клиента\n",
        "round(anketir_233_test['order_mindbox_id'].count() / anketir_233_test['customer_mindbox_id'].nunique () , 3)"
      ],
      "metadata": {
        "id": "Gxdd_ohtISd4"
      },
      "execution_count": null,
      "outputs": []
    },
    {
      "cell_type": "code",
      "source": [
        "ARPU1 = round(anketir_233_test['total_price'].sum() / anketir_233_test['customer_mindbox_id'].nunique () , 1)\n",
        "ARPU1"
      ],
      "metadata": {
        "id": "sBYlyEQiISfz"
      },
      "execution_count": null,
      "outputs": []
    },
    {
      "cell_type": "code",
      "source": [
        "# Доля купивших\n",
        "p1 = round(anketir_233_test_group['buy'].sum() / anketir_233_test_group['customer_mindbox_id'].nunique () , 3)\n",
        "p1"
      ],
      "metadata": {
        "id": "NSFdSd2ZISiF"
      },
      "execution_count": null,
      "outputs": []
    },
    {
      "cell_type": "code",
      "source": [
        "anketir_233_control = anketir_233_control.merge(orders, on='customer_mindbox_id', how='left')\n",
        "anketir_233_control.head()"
      ],
      "metadata": {
        "id": "LUid3a4BISkq"
      },
      "execution_count": null,
      "outputs": []
    },
    {
      "cell_type": "code",
      "source": [
        "anketir_233_control_group = anketir_233_control.groupby('customer_mindbox_id').agg({'order_mindbox_id': 'count'})\n",
        "anketir_233_control_group = anketir_233_control_group.reset_index().rename(columns ={'order_mindbox_id': 'orders_cnt'})\n",
        "anketir_233_control_group['buy'] = anketir_233_control_group['orders_cnt'].apply(buy_or_not)\n",
        "anketir_233_control_group['group'] = 'anketir_233_0'"
      ],
      "metadata": {
        "id": "DnVkH2ogISnA"
      },
      "execution_count": null,
      "outputs": []
    },
    {
      "cell_type": "code",
      "source": [
        "# Кол-во покупок на клиента\n",
        "round(anketir_233_control['total_price'].count() / anketir_233_control['customer_mindbox_id'].nunique () , 3)"
      ],
      "metadata": {
        "id": "XdyXEWGsISp6"
      },
      "execution_count": null,
      "outputs": []
    },
    {
      "cell_type": "code",
      "source": [
        "ARPU0 = round(anketir_233_control['total_price'].sum() / anketir_233_control['customer_mindbox_id'].nunique () , 1)\n",
        "ARPU0"
      ],
      "metadata": {
        "id": "TAcch3-0Icrp"
      },
      "execution_count": null,
      "outputs": []
    },
    {
      "cell_type": "code",
      "source": [
        "p0 = round(anketir_233_control_group['buy'].sum() / anketir_233_control_group['customer_mindbox_id'].nunique () , 3)\n",
        "p0"
      ],
      "metadata": {
        "id": "OMBXBxC-IcuQ"
      },
      "execution_count": null,
      "outputs": []
    },
    {
      "cell_type": "code",
      "source": [
        "effect_size = ((p0- p1)**2 / p0) ** 0.5\n",
        "effect_size"
      ],
      "metadata": {
        "id": "UnpIY9UAIcxI"
      },
      "execution_count": null,
      "outputs": []
    },
    {
      "cell_type": "code",
      "source": [
        "# Вычислим мощность теста\n",
        "power = chipower.solve_power(effect_size = ((p0- p1)**2 / p0) ** 0.5,\n",
        "                    nobs = nobs,\n",
        "                    alpha = alpha,\n",
        "                    power = None)\n",
        "power"
      ],
      "metadata": {
        "id": "YVnaT_LZIcz_"
      },
      "execution_count": null,
      "outputs": []
    },
    {
      "cell_type": "code",
      "source": [
        "anketir_233 = pd.concat([anketir_233_test_group, anketir_233_control_group], ignore_index=True)\n",
        "anketir_233 = anketir_233.groupby('group').agg({'customer_mindbox_id': 'count', 'buy': 'sum'}).reset_index() \\\n",
        "                .rename(columns ={'customer_mindbox_id': 'clients_count', 'buy': 'buyers_count'})\n",
        "anketir_233.head()"
      ],
      "metadata": {
        "id": "TFdWvAhZIj__"
      },
      "execution_count": null,
      "outputs": []
    },
    {
      "cell_type": "code",
      "source": [
        "chi2stat, pval, table = proportion.proportions_chisquare(anketir_233['buyers_count'], anketir_233['clients_count'])"
      ],
      "metadata": {
        "id": "PUvje4feIkD_"
      },
      "execution_count": null,
      "outputs": []
    },
    {
      "cell_type": "code",
      "source": [
        "pval"
      ],
      "metadata": {
        "id": "fda_nzcCIkJs"
      },
      "execution_count": null,
      "outputs": []
    },
    {
      "cell_type": "code",
      "source": [
        "pval < alpha"
      ],
      "metadata": {
        "id": "Jg7USdyQIkNH"
      },
      "execution_count": null,
      "outputs": []
    },
    {
      "cell_type": "markdown",
      "source": [
        "Доля покупок за период 7 дней после СМС в тестовой выборке среди анкетиорованных 233 сегмента значимо больше, чем в контрольной, при достоверности 99%."
      ],
      "metadata": {
        "id": "8GGpF3hhIpsg"
      }
    },
    {
      "cell_type": "markdown",
      "source": [
        "# Неанкетированные 233\n",
        "Размер тестовой выборки (смс отправлены и доставлены): 13 730  \n",
        "Потратили на смс: 47 424,538  \n",
        "Размер контрольной выборки: 3 861"
      ],
      "metadata": {
        "id": "Duxec_v1IpvZ"
      }
    },
    {
      "cell_type": "code",
      "source": [
        "nobs = 3861 #кол-во наблюдений\n",
        "alpha = 0.01"
      ],
      "metadata": {
        "id": "aSrh1K8yIvhl"
      },
      "execution_count": 68,
      "outputs": []
    },
    {
      "cell_type": "code",
      "source": [
        "neanketir_233_test = neanketir_233_test.merge(orders, on='customer_mindbox_id', how='left')\n",
        "neanketir_233_test.head()"
      ],
      "metadata": {
        "id": "XoC1gu_0IxOL"
      },
      "execution_count": null,
      "outputs": []
    },
    {
      "cell_type": "code",
      "source": [
        "neanketir_233_test_group = neanketir_233_test.groupby('customer_mindbox_id').agg({'order_mindbox_id': 'count'})\n",
        "neanketir_233_test_group = neanketir_233_test_group.reset_index().rename(columns ={'order_mindbox_id': 'orders_cnt'})\n",
        "neanketir_233_test_group['buy'] = neanketir_233_test_group['orders_cnt'].apply(buy_or_not)\n",
        "neanketir_233_test_group['group'] = 'neanketir_233_1'"
      ],
      "metadata": {
        "id": "qUcZBlqHIzeR"
      },
      "execution_count": null,
      "outputs": []
    },
    {
      "cell_type": "code",
      "source": [
        "# Кол-во покупок на клиента\n",
        "round(neanketir_233_test['order_mindbox_id'].count() / neanketir_233_test['customer_mindbox_id'].nunique () , 3)"
      ],
      "metadata": {
        "id": "550OvNPJIzh0"
      },
      "execution_count": null,
      "outputs": []
    },
    {
      "cell_type": "code",
      "source": [
        "ARPU1 = round(neanketir_233_test['total_price'].sum() / neanketir_233_test['customer_mindbox_id'].nunique () , 1)\n",
        "ARPU1"
      ],
      "metadata": {
        "id": "UlHDRR_TIzk5"
      },
      "execution_count": null,
      "outputs": []
    },
    {
      "cell_type": "code",
      "source": [
        "# Доля купивших\n",
        "p1 = round(neanketir_233_test_group['buy'].sum() / neanketir_233_test_group['customer_mindbox_id'].nunique () , 3)\n",
        "p1"
      ],
      "metadata": {
        "id": "FgRphKhfIzno"
      },
      "execution_count": null,
      "outputs": []
    },
    {
      "cell_type": "code",
      "source": [
        "neanketir_233_control = neanketir_233_control.merge(orders, on='customer_mindbox_id', how='left')\n",
        "neanketir_233_control.head()"
      ],
      "metadata": {
        "id": "yH52Et3kIzqQ"
      },
      "execution_count": null,
      "outputs": []
    },
    {
      "cell_type": "code",
      "source": [
        "neanketir_233_control_group = neanketir_233_control.groupby('customer_mindbox_id').agg({'order_mindbox_id': 'count'})\n",
        "neanketir_233_control_group = neanketir_233_control_group.reset_index().rename(columns ={'order_mindbox_id': 'orders_cnt'})\n",
        "neanketir_233_control_group['buy'] = neanketir_233_control_group['orders_cnt'].apply(buy_or_not)\n",
        "neanketir_233_control_group['group'] = 'neanketir_233_0'"
      ],
      "metadata": {
        "id": "I1i8UsldIzs5"
      },
      "execution_count": null,
      "outputs": []
    },
    {
      "cell_type": "code",
      "source": [
        "# Кол-во покупок на клиента\n",
        "round(neanketir_233_control['total_price'].count() / neanketir_233_control['customer_mindbox_id'].nunique () , 3)"
      ],
      "metadata": {
        "id": "f7nFeyQ8Izvi"
      },
      "execution_count": null,
      "outputs": []
    },
    {
      "cell_type": "code",
      "source": [
        "ARPU0 = round(neanketir_233_control['total_price'].sum() / neanketir_233_control['customer_mindbox_id'].nunique () , 1)\n",
        "ARPU0"
      ],
      "metadata": {
        "id": "3U91pLRKIzyA"
      },
      "execution_count": null,
      "outputs": []
    },
    {
      "cell_type": "code",
      "source": [
        "p0 = round(neanketir_233_control_group['buy'].sum() / neanketir_233_control_group['customer_mindbox_id'].nunique () , 3)\n",
        "p0"
      ],
      "metadata": {
        "id": "ZrzmMSxGIz0m"
      },
      "execution_count": null,
      "outputs": []
    },
    {
      "cell_type": "code",
      "source": [
        "effect_size = ((p0- p1)**2 / p0) ** 0.5\n",
        "effect_size"
      ],
      "metadata": {
        "id": "lNnj2OqIIz3R"
      },
      "execution_count": null,
      "outputs": []
    },
    {
      "cell_type": "code",
      "source": [
        "# Вычислим мощность теста\n",
        "power = chipower.solve_power(effect_size = ((p0- p1)**2 / p0) ** 0.5,\n",
        "                    nobs = nobs,\n",
        "                    alpha = alpha,\n",
        "                    power = None)\n",
        "power"
      ],
      "metadata": {
        "id": "HbZ_eXokIz51"
      },
      "execution_count": null,
      "outputs": []
    },
    {
      "cell_type": "code",
      "source": [
        "neanketir_233 = pd.concat([neanketir_233_test_group, neanketir_233_control_group], ignore_index=True)\n",
        "neanketir_233 = neanketir_233.groupby('group').agg({'customer_mindbox_id': 'count', 'buy': 'sum'}).reset_index() \\\n",
        "                .rename(columns ={'customer_mindbox_id': 'clients_count', 'buy': 'buyers_count'})\n",
        "neanketir_233.head()"
      ],
      "metadata": {
        "id": "wcZgSgnsIz8l"
      },
      "execution_count": null,
      "outputs": []
    },
    {
      "cell_type": "code",
      "source": [
        "chi2stat, pval, table = proportion.proportions_chisquare(neanketir_233['buyers_count'], neanketir_233['clients_count'])"
      ],
      "metadata": {
        "id": "V8BQvFRNIz_R"
      },
      "execution_count": null,
      "outputs": []
    },
    {
      "cell_type": "code",
      "source": [
        "pval"
      ],
      "metadata": {
        "id": "2GdsdJZ7I0E5"
      },
      "execution_count": null,
      "outputs": []
    },
    {
      "cell_type": "code",
      "source": [
        "pval < alpha"
      ],
      "metadata": {
        "id": "PrB4qpd8JLoB"
      },
      "execution_count": null,
      "outputs": []
    },
    {
      "cell_type": "markdown",
      "source": [
        "Доля покупок за период 7 дней после СМС в тестовой выборке среди неанкетированных 233 сегмента значимо больше, чем в контрольной, при достоверности 99%."
      ],
      "metadata": {
        "id": "52JoRewvJL1D"
      }
    },
    {
      "cell_type": "markdown",
      "source": [
        "# Анкетированные 333\n",
        "Размер тестовой выборки (смс отправлены и доставлены): 35 488  \n",
        "Потратили на смс 114 280,483  \n",
        "Размер контрольной выборки 7 007"
      ],
      "metadata": {
        "id": "pqq3omewJL38"
      }
    },
    {
      "cell_type": "code",
      "source": [
        "nobs = 7007 #кол-во наблюдений\n",
        "alpha = 0.01"
      ],
      "metadata": {
        "id": "okoRlrrMJWGo"
      },
      "execution_count": null,
      "outputs": []
    },
    {
      "cell_type": "code",
      "source": [
        "anketir_333_test = anketir_333_test.merge(orders, on='customer_mindbox_id', how='left')\n",
        "anketir_333_test.head()"
      ],
      "metadata": {
        "id": "nK1JAnJBJX8n"
      },
      "execution_count": null,
      "outputs": []
    },
    {
      "cell_type": "code",
      "source": [
        "anketir_333_test_group = anketir_333_test.groupby('customer_mindbox_id').agg({'order_mindbox_id': 'count'})\n",
        "anketir_333_test_group = anketir_333_test_group.reset_index().rename(columns ={'order_mindbox_id': 'orders_cnt'})\n",
        "anketir_333_test_group['buy'] = anketir_333_test_group['orders_cnt'].apply(buy_or_not)\n",
        "anketir_333_test_group['group'] = 'anketir_333_1'"
      ],
      "metadata": {
        "id": "AvTFr5akJYB7"
      },
      "execution_count": null,
      "outputs": []
    },
    {
      "cell_type": "code",
      "source": [
        "# Кол-во покупок на клиента\n",
        "round(anketir_333_test['order_mindbox_id'].count() / anketir_333_test['customer_mindbox_id'].nunique () , 3)"
      ],
      "metadata": {
        "id": "5A6xqvaZJYE7"
      },
      "execution_count": null,
      "outputs": []
    },
    {
      "cell_type": "code",
      "source": [
        "ARPU1 = round(anketir_333_test['total_price'].sum() / anketir_333_test['customer_mindbox_id'].nunique () , 1)\n",
        "ARPU1"
      ],
      "metadata": {
        "id": "tXVSjfliJYH8"
      },
      "execution_count": null,
      "outputs": []
    },
    {
      "cell_type": "code",
      "source": [
        "# Доля купивших\n",
        "p1 = round(anketir_333_test_group['buy'].sum() / anketir_333_test_group['customer_mindbox_id'].nunique () , 3)\n",
        "p1"
      ],
      "metadata": {
        "id": "JWwY6mqoJYKe"
      },
      "execution_count": null,
      "outputs": []
    },
    {
      "cell_type": "code",
      "source": [
        "anketir_333_control = anketir_333_control.merge(orders, on='customer_mindbox_id', how='left')\n",
        "anketir_333_control.head()"
      ],
      "metadata": {
        "id": "Ff-MW9HRJYNW"
      },
      "execution_count": null,
      "outputs": []
    },
    {
      "cell_type": "code",
      "source": [
        "anketir_333_control_group = anketir_333_control.groupby('customer_mindbox_id').agg({'order_mindbox_id': 'count'})\n",
        "anketir_333_control_group = anketir_333_control_group.reset_index().rename(columns ={'order_mindbox_id': 'orders_cnt'})\n",
        "anketir_333_control_group['buy'] = anketir_333_control_group['orders_cnt'].apply(buy_or_not)\n",
        "anketir_333_control_group['group'] = 'anketir_333_0'"
      ],
      "metadata": {
        "id": "K3mSULCEJYQA"
      },
      "execution_count": null,
      "outputs": []
    },
    {
      "cell_type": "code",
      "source": [
        "# Кол-во покупок на клиента\n",
        "round(anketir_333_control['total_price'].count() / anketir_333_control['customer_mindbox_id'].nunique () , 3)"
      ],
      "metadata": {
        "id": "9Qs1x-ULJYSd"
      },
      "execution_count": null,
      "outputs": []
    },
    {
      "cell_type": "code",
      "source": [
        "ARPU0 = round(anketir_333_control['total_price'].sum() / anketir_333_control['customer_mindbox_id'].nunique () , 1)\n",
        "ARPU0"
      ],
      "metadata": {
        "id": "IB5zPje2JYVL"
      },
      "execution_count": null,
      "outputs": []
    },
    {
      "cell_type": "code",
      "source": [
        "p0 = round(anketir_333_control_group['buy'].sum() / anketir_333_control_group['customer_mindbox_id'].nunique () , 3)\n",
        "p0"
      ],
      "metadata": {
        "id": "Uh1Ti4IcJYYB"
      },
      "execution_count": null,
      "outputs": []
    },
    {
      "cell_type": "code",
      "source": [
        "effect_size = ((p0- p1)**2 / p0) ** 0.5\n",
        "effect_size"
      ],
      "metadata": {
        "id": "yLF2-NHZJYae"
      },
      "execution_count": null,
      "outputs": []
    },
    {
      "cell_type": "code",
      "source": [
        "# Вычислим мощность теста\n",
        "power = chipower.solve_power(effect_size = ((p0- p1)**2 / p0) ** 0.5,\n",
        "                    nobs = nobs,\n",
        "                    alpha = alpha,\n",
        "                    power = None)\n",
        "power"
      ],
      "metadata": {
        "id": "CDI1pUf5JYdw"
      },
      "execution_count": null,
      "outputs": []
    },
    {
      "cell_type": "code",
      "source": [
        "anketir_333 = pd.concat([anketir_333_test_group, anketir_333_control_group], ignore_index=True)\n",
        "anketir_333 = anketir_333.groupby('group').agg({'customer_mindbox_id': 'count', 'buy': 'sum'}).reset_index() \\\n",
        "                .rename(columns ={'customer_mindbox_id': 'clients_count', 'buy': 'buyers_count'})\n",
        "anketir_333.head()"
      ],
      "metadata": {
        "id": "LAaWljQaJYhw"
      },
      "execution_count": null,
      "outputs": []
    },
    {
      "cell_type": "code",
      "source": [
        "chi2stat, pval, table = proportion.proportions_chisquare(anketir_333['buyers_count'], anketir_333['clients_count'])"
      ],
      "metadata": {
        "id": "UzHREDU5JsyR"
      },
      "execution_count": null,
      "outputs": []
    },
    {
      "cell_type": "code",
      "source": [
        "pval"
      ],
      "metadata": {
        "id": "nCg6geEtJs1L"
      },
      "execution_count": null,
      "outputs": []
    },
    {
      "cell_type": "code",
      "source": [
        "pval < alpha"
      ],
      "metadata": {
        "id": "OP_4ZH0EJs32"
      },
      "execution_count": null,
      "outputs": []
    },
    {
      "cell_type": "markdown",
      "source": [
        "Доля покупок за период 7 дней после СМС в тестовой выборке среди анкетированных 333 сегмента значимо больше, чем в контрольной, при достоверности 99%."
      ],
      "metadata": {
        "id": "pugjI_1gJy67"
      }
    },
    {
      "cell_type": "markdown",
      "source": [
        "# Неанкетированные 333\n",
        "Отправлено смс 2 291  \n",
        "Потратили на смс 7 683,983  \n",
        "Размер контрольной выборки 534"
      ],
      "metadata": {
        "id": "JDMvJUMQJy-Q"
      }
    },
    {
      "cell_type": "code",
      "source": [
        "nobs = 534 #кол-во наблюдений\n",
        "alpha = 0.01"
      ],
      "metadata": {
        "id": "aLAl5oQOJyBu"
      },
      "execution_count": 69,
      "outputs": []
    },
    {
      "cell_type": "code",
      "source": [
        "neanketir_333_test = neanketir_333_test.merge(orders, on='customer_mindbox_id', how='left')\n",
        "neanketir_333_test.head()"
      ],
      "metadata": {
        "id": "WFLqdsDnJ8Kk"
      },
      "execution_count": null,
      "outputs": []
    },
    {
      "cell_type": "code",
      "source": [
        "neanketir_333_test_group = neanketir_333_test.groupby('customer_mindbox_id').agg({'order_mindbox_id': 'count'})\n",
        "neanketir_333_test_group = neanketir_333_test_group.reset_index().rename(columns ={'order_mindbox_id': 'orders_cnt'})\n",
        "neanketir_333_test_group['buy'] = neanketir_333_test_group['orders_cnt'].apply(buy_or_not)\n",
        "neanketir_333_test_group['group'] = 'neanketir_333_1'"
      ],
      "metadata": {
        "id": "51LaFfz7J8kq"
      },
      "execution_count": null,
      "outputs": []
    },
    {
      "cell_type": "code",
      "source": [
        "# Кол-во покупок на клиента\n",
        "round(neanketir_333_test['order_mindbox_id'].count() / neanketir_333_test['customer_mindbox_id'].nunique () , 3)"
      ],
      "metadata": {
        "id": "Grfmh8hZJ8nR"
      },
      "execution_count": null,
      "outputs": []
    },
    {
      "cell_type": "code",
      "source": [
        "ARPU1 = round(neanketir_333_test['total_price'].sum() / neanketir_333_test['customer_mindbox_id'].nunique () , 1)\n",
        "ARPU1"
      ],
      "metadata": {
        "id": "LRlAus-fJ8qL"
      },
      "execution_count": null,
      "outputs": []
    },
    {
      "cell_type": "code",
      "source": [
        "# Доля купивших\n",
        "p1 = round(neanketir_333_test_group['buy'].sum() / neanketir_333_test_group['customer_mindbox_id'].nunique () , 3)\n",
        "p1"
      ],
      "metadata": {
        "id": "BQaGowFJJ8s2"
      },
      "execution_count": null,
      "outputs": []
    },
    {
      "cell_type": "code",
      "source": [
        "neanketir_333_control = neanketir_333_control.merge(orders, on='customer_mindbox_id', how='left')\n",
        "neanketir_333_control.head()"
      ],
      "metadata": {
        "id": "JtipifO_J8vU"
      },
      "execution_count": null,
      "outputs": []
    },
    {
      "cell_type": "code",
      "source": [
        "neanketir_333_control_group = neanketir_333_control.groupby('customer_mindbox_id').agg({'order_mindbox_id': 'count'})\n",
        "neanketir_333_control_group = neanketir_333_control_group.reset_index().rename(columns ={'order_mindbox_id': 'orders_cnt'})\n",
        "neanketir_333_control_group['buy'] = neanketir_333_control_group['orders_cnt'].apply(buy_or_not)\n",
        "neanketir_333_control_group['group'] = 'neanketir_333_0'"
      ],
      "metadata": {
        "id": "Jw7DTBMWJ8yC"
      },
      "execution_count": null,
      "outputs": []
    },
    {
      "cell_type": "code",
      "source": [
        "# Кол-во покупок на клиента\n",
        "round(neanketir_333_control['total_price'].count() / neanketir_333_control['customer_mindbox_id'].nunique () , 3)"
      ],
      "metadata": {
        "id": "2ZTE7h4bJ80u"
      },
      "execution_count": null,
      "outputs": []
    },
    {
      "cell_type": "code",
      "source": [
        "ARPU0 = round(neanketir_333_control['total_price'].sum() / neanketir_333_control['customer_mindbox_id'].nunique () , 1)\n",
        "ARPU0"
      ],
      "metadata": {
        "id": "C_QxkukAJ827"
      },
      "execution_count": null,
      "outputs": []
    },
    {
      "cell_type": "code",
      "source": [
        "p0 = round(neanketir_333_control_group['buy'].sum() / neanketir_333_control_group['customer_mindbox_id'].nunique () , 3)\n",
        "p0"
      ],
      "metadata": {
        "id": "l1VB-_3-J85a"
      },
      "execution_count": null,
      "outputs": []
    },
    {
      "cell_type": "code",
      "source": [
        "effect_size = ((p0- p1)**2 / p0) ** 0.5\n",
        "effect_size"
      ],
      "metadata": {
        "id": "vJBEgv8BJ89P"
      },
      "execution_count": null,
      "outputs": []
    },
    {
      "cell_type": "code",
      "source": [
        "# Вычислим мощность теста\n",
        "power = chipower.solve_power(effect_size = ((p0- p1)**2 / p0) ** 0.5,\n",
        "                    nobs = nobs,\n",
        "                    alpha = alpha,\n",
        "                    power = None)\n",
        "power"
      ],
      "metadata": {
        "id": "YxlSGE26KPuI"
      },
      "execution_count": null,
      "outputs": []
    },
    {
      "cell_type": "code",
      "source": [
        "neanketir_333 = pd.concat([neanketir_333_test_group, neanketir_333_control_group], ignore_index=True)\n",
        "neanketir_333 = neanketir_333.groupby('group').agg({'customer_mindbox_id': 'count', 'buy': 'sum'}).reset_index() \\\n",
        "                .rename(columns ={'customer_mindbox_id': 'clients_count', 'buy': 'buyers_count'})\n",
        "neanketir_333.head()"
      ],
      "metadata": {
        "id": "AiVQZKaKKPwy"
      },
      "execution_count": null,
      "outputs": []
    },
    {
      "cell_type": "code",
      "source": [
        "chi2stat, pval, table = proportion.proportions_chisquare(neanketir_333['buyers_count'], neanketir_333['clients_count'])"
      ],
      "metadata": {
        "id": "quBAMUinKPze"
      },
      "execution_count": null,
      "outputs": []
    },
    {
      "cell_type": "code",
      "source": [
        "pval"
      ],
      "metadata": {
        "id": "mLoHXqTNKP2A"
      },
      "execution_count": null,
      "outputs": []
    },
    {
      "cell_type": "code",
      "source": [
        "pval < alpha"
      ],
      "metadata": {
        "id": "rD6st_YSKP4o"
      },
      "execution_count": null,
      "outputs": []
    },
    {
      "cell_type": "markdown",
      "source": [
        "Статистически значимой разницы в доле продаж среди неанкетированных 333 сегмента не обнаружено, так как p-value выше выбранного порога ошибки первого рода при мощности теста 80%."
      ],
      "metadata": {
        "id": "Ua2vs-YvKXAx"
      }
    },
    {
      "cell_type": "markdown",
      "source": [
        "**Вывод:** смс с напоминанием про 3000 бонусов была эффективна по доле продаж для всех сегментов кроме неанкетированных 133 и неанкетированных 333."
      ],
      "metadata": {
        "id": "55xtJd18KbKJ"
      }
    }
  ]
}